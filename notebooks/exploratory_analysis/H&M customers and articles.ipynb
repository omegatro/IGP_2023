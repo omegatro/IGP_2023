{
 "cells": [
  {
   "cell_type": "code",
   "execution_count": 17,
   "id": "aaf1d051",
   "metadata": {},
   "outputs": [],
   "source": [
    "import implicit\n",
    "import pandas as pd\n",
    "import scipy.sparse as sparse"
   ]
  },
  {
   "cell_type": "markdown",
   "id": "b6951870",
   "metadata": {},
   "source": [
    "#### Analyze the customers"
   ]
  },
  {
   "cell_type": "code",
   "execution_count": 67,
   "id": "0b711fda",
   "metadata": {},
   "outputs": [],
   "source": [
    "desktop_path = \"/Users/erikagromule/Desktop\"\n",
    "file_path = desktop_path + \"/customers.csv\"\n",
    "\n",
    "data = pd.read_csv(file_path)"
   ]
  },
  {
   "cell_type": "code",
   "execution_count": 14,
   "id": "f7000f4d",
   "metadata": {},
   "outputs": [
    {
     "data": {
      "text/html": [
       "<div>\n",
       "<style scoped>\n",
       "    .dataframe tbody tr th:only-of-type {\n",
       "        vertical-align: middle;\n",
       "    }\n",
       "\n",
       "    .dataframe tbody tr th {\n",
       "        vertical-align: top;\n",
       "    }\n",
       "\n",
       "    .dataframe thead th {\n",
       "        text-align: right;\n",
       "    }\n",
       "</style>\n",
       "<table border=\"1\" class=\"dataframe\">\n",
       "  <thead>\n",
       "    <tr style=\"text-align: right;\">\n",
       "      <th></th>\n",
       "      <th>customer_id</th>\n",
       "      <th>FN</th>\n",
       "      <th>Active</th>\n",
       "      <th>club_member_status</th>\n",
       "      <th>fashion_news_frequency</th>\n",
       "      <th>age</th>\n",
       "      <th>postal_code</th>\n",
       "    </tr>\n",
       "  </thead>\n",
       "  <tbody>\n",
       "    <tr>\n",
       "      <th>0</th>\n",
       "      <td>00000dbacae5abe5e23885899a1fa44253a17956c6d1c3...</td>\n",
       "      <td>NaN</td>\n",
       "      <td>NaN</td>\n",
       "      <td>ACTIVE</td>\n",
       "      <td>NONE</td>\n",
       "      <td>49.0</td>\n",
       "      <td>52043ee2162cf5aa7ee79974281641c6f11a68d276429a...</td>\n",
       "    </tr>\n",
       "    <tr>\n",
       "      <th>1</th>\n",
       "      <td>0000423b00ade91418cceaf3b26c6af3dd342b51fd051e...</td>\n",
       "      <td>NaN</td>\n",
       "      <td>NaN</td>\n",
       "      <td>ACTIVE</td>\n",
       "      <td>NONE</td>\n",
       "      <td>25.0</td>\n",
       "      <td>2973abc54daa8a5f8ccfe9362140c63247c5eee03f1d93...</td>\n",
       "    </tr>\n",
       "    <tr>\n",
       "      <th>2</th>\n",
       "      <td>000058a12d5b43e67d225668fa1f8d618c13dc232df0ca...</td>\n",
       "      <td>NaN</td>\n",
       "      <td>NaN</td>\n",
       "      <td>ACTIVE</td>\n",
       "      <td>NONE</td>\n",
       "      <td>24.0</td>\n",
       "      <td>64f17e6a330a85798e4998f62d0930d14db8db1c054af6...</td>\n",
       "    </tr>\n",
       "    <tr>\n",
       "      <th>3</th>\n",
       "      <td>00005ca1c9ed5f5146b52ac8639a40ca9d57aeff4d1bd2...</td>\n",
       "      <td>NaN</td>\n",
       "      <td>NaN</td>\n",
       "      <td>ACTIVE</td>\n",
       "      <td>NONE</td>\n",
       "      <td>54.0</td>\n",
       "      <td>5d36574f52495e81f019b680c843c443bd343d5ca5b1c2...</td>\n",
       "    </tr>\n",
       "    <tr>\n",
       "      <th>4</th>\n",
       "      <td>00006413d8573cd20ed7128e53b7b13819fe5cfc2d801f...</td>\n",
       "      <td>1.0</td>\n",
       "      <td>1.0</td>\n",
       "      <td>ACTIVE</td>\n",
       "      <td>Regularly</td>\n",
       "      <td>52.0</td>\n",
       "      <td>25fa5ddee9aac01b35208d01736e57942317d756b32ddd...</td>\n",
       "    </tr>\n",
       "  </tbody>\n",
       "</table>\n",
       "</div>"
      ],
      "text/plain": [
       "                                         customer_id   FN  Active  \\\n",
       "0  00000dbacae5abe5e23885899a1fa44253a17956c6d1c3...  NaN     NaN   \n",
       "1  0000423b00ade91418cceaf3b26c6af3dd342b51fd051e...  NaN     NaN   \n",
       "2  000058a12d5b43e67d225668fa1f8d618c13dc232df0ca...  NaN     NaN   \n",
       "3  00005ca1c9ed5f5146b52ac8639a40ca9d57aeff4d1bd2...  NaN     NaN   \n",
       "4  00006413d8573cd20ed7128e53b7b13819fe5cfc2d801f...  1.0     1.0   \n",
       "\n",
       "  club_member_status fashion_news_frequency   age  \\\n",
       "0             ACTIVE                   NONE  49.0   \n",
       "1             ACTIVE                   NONE  25.0   \n",
       "2             ACTIVE                   NONE  24.0   \n",
       "3             ACTIVE                   NONE  54.0   \n",
       "4             ACTIVE              Regularly  52.0   \n",
       "\n",
       "                                         postal_code  \n",
       "0  52043ee2162cf5aa7ee79974281641c6f11a68d276429a...  \n",
       "1  2973abc54daa8a5f8ccfe9362140c63247c5eee03f1d93...  \n",
       "2  64f17e6a330a85798e4998f62d0930d14db8db1c054af6...  \n",
       "3  5d36574f52495e81f019b680c843c443bd343d5ca5b1c2...  \n",
       "4  25fa5ddee9aac01b35208d01736e57942317d756b32ddd...  "
      ]
     },
     "execution_count": 14,
     "metadata": {},
     "output_type": "execute_result"
    }
   ],
   "source": [
    "data.head(5)"
   ]
  },
  {
   "cell_type": "code",
   "execution_count": 69,
   "id": "8ffcf020",
   "metadata": {},
   "outputs": [
    {
     "data": {
      "text/plain": [
       "customer_id                object\n",
       "FN                        float64\n",
       "Active                    float64\n",
       "club_member_status         object\n",
       "fashion_news_frequency     object\n",
       "age                       float64\n",
       "postal_code                object\n",
       "dtype: object"
      ]
     },
     "execution_count": 69,
     "metadata": {},
     "output_type": "execute_result"
    }
   ],
   "source": [
    "data.dtypes"
   ]
  },
  {
   "cell_type": "code",
   "execution_count": 26,
   "id": "722225d7",
   "metadata": {},
   "outputs": [
    {
     "name": "stdout",
     "output_type": "stream",
     "text": [
      "Total Rows: 1371980\n"
     ]
    }
   ],
   "source": [
    "total_rows = data.shape[0]\n",
    "print(f\"Total Rows: {total_rows}\")"
   ]
  },
  {
   "cell_type": "code",
   "execution_count": 15,
   "id": "24af5b3c",
   "metadata": {},
   "outputs": [
    {
     "name": "stdout",
     "output_type": "stream",
     "text": [
      "Youngest age: 16.0\n",
      "Oldest age: 99.0\n"
     ]
    }
   ],
   "source": [
    "youngest_age = data['age'].min()\n",
    "oldest_age = data['age'].max()\n",
    "\n",
    "print(f\"Youngest age: {youngest_age}\")\n",
    "print(f\"Oldest age: {oldest_age}\")"
   ]
  },
  {
   "cell_type": "code",
   "execution_count": 17,
   "id": "767294a0",
   "metadata": {},
   "outputs": [
    {
     "name": "stdout",
     "output_type": "stream",
     "text": [
      "Unique Ages:\n",
      "[49. 25. 24. 54. 52. nan 20. 32. 29. 31. 56. 75. 41. 27. 30. 48. 35. 22.\n",
      " 40. 38. 45. 68. 55. 19. 60. 44. 21. 26. 28. 53. 33. 17. 23. 51. 18. 34.\n",
      " 57. 47. 70. 50. 63. 58. 43. 67. 72. 42. 39. 79. 71. 59. 36. 62. 37. 46.\n",
      " 73. 64. 74. 61. 85. 69. 76. 66. 65. 82. 16. 90. 80. 78. 81. 84. 77. 97.\n",
      " 89. 83. 98. 88. 86. 87. 93. 91. 99. 96. 94. 92. 95.]\n"
     ]
    }
   ],
   "source": [
    "unique_ages = data['age'].unique()\n",
    "print(\"Unique Ages:\")\n",
    "print(unique_ages)"
   ]
  },
  {
   "cell_type": "code",
   "execution_count": 19,
   "id": "2806b951",
   "metadata": {},
   "outputs": [
    {
     "name": "stdout",
     "output_type": "stream",
     "text": [
      "Unique Ages and Counts:\n",
      "     Age  Count\n",
      "0   21.0  67530\n",
      "1   24.0  56124\n",
      "2   20.0  55196\n",
      "3   25.0  54989\n",
      "4   23.0  54867\n",
      "5   26.0  53658\n",
      "6   22.0  51869\n",
      "7   27.0  49134\n",
      "8   28.0  44294\n",
      "9   29.0  40697\n",
      "10  30.0  39235\n",
      "11  19.0  37707\n",
      "12  31.0  36354\n",
      "13  51.0  29720\n",
      "14  50.0  28920\n",
      "15  32.0  28354\n",
      "16  52.0  27956\n",
      "17  49.0  27895\n",
      "18  48.0  25715\n",
      "19  53.0  25191\n",
      "20  33.0  24814\n",
      "21  18.0  24323\n",
      "22  54.0  23539\n",
      "23  47.0  23403\n",
      "24  55.0  22275\n",
      "25  46.0  21908\n",
      "26  34.0  21763\n",
      "27  56.0  20393\n",
      "28  35.0  19887\n",
      "29  45.0  19704\n",
      "30  44.0  18602\n",
      "31  57.0  18475\n",
      "32  36.0  17465\n",
      "33  43.0  17442\n",
      "34  41.0  16994\n",
      "35  42.0  16297\n",
      "36  40.0  16158\n",
      "37  37.0  16044\n",
      "38  58.0  16005\n",
      "39  38.0  15242\n",
      "40  39.0  14910\n",
      "41  59.0  13768\n",
      "42  60.0  12534\n",
      "43  61.0  10948\n",
      "44  62.0   9436\n",
      "45  17.0   9392\n",
      "46  63.0   8141\n",
      "47  64.0   7089\n",
      "48  65.0   6035\n",
      "49  66.0   5468\n",
      "50  67.0   4742\n",
      "51  68.0   4394\n",
      "52  69.0   3836\n",
      "53  70.0   3274\n",
      "54  71.0   3010\n",
      "55  72.0   2602\n",
      "56  73.0   2214\n",
      "57  74.0   2043\n",
      "58  75.0   1527\n",
      "59  76.0   1048\n",
      "60  77.0    804\n",
      "61  78.0    580\n",
      "62  79.0    509\n",
      "63  80.0    404\n",
      "64  81.0    298\n",
      "65  82.0    218\n",
      "66  16.0    161\n",
      "67  83.0    124\n",
      "68  84.0    113\n",
      "69  85.0     95\n",
      "70  86.0     50\n",
      "71  88.0     49\n",
      "72  87.0     41\n",
      "73  90.0     24\n",
      "74  89.0     23\n",
      "75  92.0     17\n",
      "76  91.0     16\n",
      "77  99.0     13\n",
      "78  95.0     10\n",
      "79  98.0      7\n",
      "80  97.0      4\n",
      "81  93.0      4\n",
      "82  96.0      3\n",
      "83  94.0      3\n"
     ]
    }
   ],
   "source": [
    "pd.set_option('display.max_rows', None)\n",
    "\n",
    "#the occurrences of all unique ages\n",
    "age_counts = data['age'].value_counts().reset_index()\n",
    "age_counts.columns = ['Age', 'Count']\n",
    "\n",
    "print(\"Unique Ages and Counts:\")\n",
    "print(age_counts)"
   ]
  },
  {
   "cell_type": "code",
   "execution_count": 44,
   "id": "c368006c",
   "metadata": {},
   "outputs": [
    {
     "data": {
      "image/png": "[encoded data removed]",
      "text/plain": [
       "<Figure size 864x432 with 1 Axes>"
      ]
     },
     "metadata": {},
     "output_type": "display_data"
    }
   ],
   "source": [
    "import pandas as pd\n",
    "import matplotlib.pyplot as plt\n",
    "\n",
    "pd.set_option('display.max_rows', None)\n",
    "age_counts = data['age'].value_counts().reset_index()\n",
    "age_counts.columns = ['Age', 'Count']\n",
    "\n",
    "#the plot\n",
    "plt.figure(figsize=(12, 6))\n",
    "plt.bar(age_counts['Age'], age_counts['Count'], color='skyblue')\n",
    "plt.title('Distribution of Customers by Age')\n",
    "plt.xlabel('Age')\n",
    "plt.ylabel('Count')\n",
    "plt.show()"
   ]
  },
  {
   "cell_type": "code",
   "execution_count": 47,
   "id": "8cffe6c2",
   "metadata": {},
   "outputs": [
    {
     "data": {
      "image/png": "[encoded data removed]",
      "text/plain": [
       "<Figure size 864x432 with 1 Axes>"
      ]
     },
     "metadata": {},
     "output_type": "display_data"
    }
   ],
   "source": [
    "import pandas as pd\n",
    "import matplotlib.pyplot as plt\n",
    "import numpy as np\n",
    "\n",
    "pd.set_option('display.max_rows', None)\n",
    "age_counts = data['age'].value_counts().reset_index()\n",
    "age_counts.columns = ['Age', 'Count']\n",
    "\n",
    "#the plot\n",
    "plt.figure(figsize=(12, 6))\n",
    "plt.bar(age_counts['Age'], age_counts['Count'], color='skyblue')\n",
    "plt.title('Distribution of Customers by Age')\n",
    "plt.xlabel('Age')\n",
    "plt.ylabel('Count')\n",
    "\n",
    "#set ticks at intervals of 10\n",
    "tick_interval = 10\n",
    "age_ticks = np.arange(0, max(age_counts['Age']) + tick_interval, tick_interval)\n",
    "plt.xticks(age_ticks)\n",
    "\n",
    "plt.show()"
   ]
  },
  {
   "cell_type": "code",
   "execution_count": 20,
   "id": "7c7c3383",
   "metadata": {},
   "outputs": [
    {
     "name": "stdout",
     "output_type": "stream",
     "text": [
      "Measures or Frequencies of 'fashion_news_frequency':\n",
      "NONE         877711\n",
      "Regularly    477416\n",
      "Monthly         842\n",
      "None              2\n",
      "Name: fashion_news_frequency, dtype: int64\n"
     ]
    }
   ],
   "source": [
    "frequency_counts = data['fashion_news_frequency'].value_counts()\n",
    "\n",
    "print(\"Measures or Frequencies of 'fashion_news_frequency':\")\n",
    "print(frequency_counts)"
   ]
  },
  {
   "cell_type": "code",
   "execution_count": 21,
   "id": "9b632940",
   "metadata": {},
   "outputs": [
    {
     "name": "stdout",
     "output_type": "stream",
     "text": [
      "Age groups with regular customers:\n",
      "21.0    26623\n",
      "20.0    21894\n",
      "22.0    19948\n",
      "23.0    19523\n",
      "24.0    18358\n",
      "25.0    17180\n",
      "26.0    16328\n",
      "19.0    15055\n",
      "27.0    14655\n",
      "28.0    13277\n",
      "29.0    12430\n",
      "30.0    12018\n",
      "31.0    11004\n",
      "51.0    10700\n",
      "50.0    10389\n",
      "52.0    10228\n",
      "49.0     9913\n",
      "53.0     9141\n",
      "48.0     9140\n",
      "54.0     8803\n",
      "32.0     8790\n",
      "55.0     8485\n",
      "47.0     8301\n",
      "18.0     8107\n",
      "46.0     7877\n",
      "33.0     7776\n",
      "56.0     7683\n",
      "45.0     7152\n",
      "57.0     7065\n",
      "34.0     6798\n",
      "44.0     6600\n",
      "35.0     6393\n",
      "43.0     6231\n",
      "58.0     6165\n",
      "42.0     5933\n",
      "41.0     5930\n",
      "36.0     5746\n",
      "40.0     5667\n",
      "59.0     5437\n",
      "37.0     5366\n",
      "39.0     5358\n",
      "38.0     5266\n",
      "60.0     4987\n",
      "61.0     4372\n",
      "62.0     3858\n",
      "63.0     3401\n",
      "64.0     3004\n",
      "17.0     2987\n",
      "65.0     2562\n",
      "66.0     2338\n",
      "67.0     2015\n",
      "68.0     1899\n",
      "69.0     1724\n",
      "70.0     1423\n",
      "71.0     1330\n",
      "72.0     1099\n",
      "73.0      978\n",
      "74.0      891\n",
      "75.0      692\n",
      "76.0      478\n",
      "77.0      345\n",
      "78.0      236\n",
      "79.0      206\n",
      "80.0      169\n",
      "81.0      129\n",
      "82.0       86\n",
      "16.0       75\n",
      "83.0       50\n",
      "84.0       41\n",
      "85.0       27\n",
      "88.0       16\n",
      "87.0       14\n",
      "86.0       14\n",
      "92.0        7\n",
      "90.0        5\n",
      "89.0        5\n",
      "99.0        5\n",
      "91.0        4\n",
      "95.0        2\n",
      "98.0        2\n",
      "97.0        1\n",
      "94.0        1\n",
      "Name: age, dtype: int64\n"
     ]
    }
   ],
   "source": [
    "regular_customers = data[data['fashion_news_frequency'] == 'Regularly']\n",
    "\n",
    "#the regular customers by age and count the occurrences\n",
    "age_group_counts = regular_customers['age'].value_counts()\n",
    "\n",
    "print(\"Age groups with regular customers:\")\n",
    "print(age_group_counts)"
   ]
  },
  {
   "cell_type": "code",
   "execution_count": 48,
   "id": "00dfa4a8",
   "metadata": {},
   "outputs": [
    {
     "data": {
      "image/png": "[encoded data removed]",
      "text/plain": [
       "<Figure size 864x432 with 1 Axes>"
      ]
     },
     "metadata": {},
     "output_type": "display_data"
    }
   ],
   "source": [
    "import pandas as pd\n",
    "import matplotlib.pyplot as plt\n",
    "\n",
    "#regular customers\n",
    "regular_customers = data[data['fashion_news_frequency'] == 'Regularly']\n",
    "age_group_counts = regular_customers['age'].value_counts().reset_index()\n",
    "age_group_counts.columns = ['Age', 'Count']\n",
    "\n",
    "#plot\n",
    "plt.figure(figsize=(12, 6))\n",
    "plt.bar(age_group_counts['Age'], age_group_counts['Count'], color='skyblue')\n",
    "plt.title('Age Distribution of Regular Customers')\n",
    "plt.xlabel('Age')\n",
    "plt.ylabel('Count')\n",
    "plt.show()"
   ]
  },
  {
   "cell_type": "code",
   "execution_count": 63,
   "id": "98cafa0a",
   "metadata": {},
   "outputs": [
    {
     "data": {
      "image/png": "[encoded data removed]",
      "text/plain": [
       "<Figure size 864x432 with 1 Axes>"
      ]
     },
     "metadata": {},
     "output_type": "display_data"
    }
   ],
   "source": [
    "import pandas as pd\n",
    "import matplotlib.pyplot as plt\n",
    "\n",
    "#all customers\n",
    "all_age_counts = data['age'].value_counts().reset_index()\n",
    "all_age_counts.columns = ['Age', 'All_Customers_Count']\n",
    "\n",
    "#regular customers\n",
    "regular_customers = data[data['fashion_news_frequency'] == 'Regularly']\n",
    "regular_age_counts = regular_customers['age'].value_counts().reset_index()\n",
    "regular_age_counts.columns = ['Age', 'Regular_Customers_Count']\n",
    "\n",
    "#merge the two DataFrames on the 'Age' column\n",
    "merged_age_counts = pd.merge(all_age_counts, regular_age_counts, on='Age', how='outer').fillna(0)\n",
    "\n",
    "#plot\n",
    "plt.figure(figsize=(12, 6))\n",
    "plt.bar(merged_age_counts['Age'], merged_age_counts['All_Customers_Count'], color='skyblue', label='All Customers')\n",
    "plt.bar(merged_age_counts['Age'], merged_age_counts['Regular_Customers_Count'], color='orange', label='Regular Customers')\n",
    "\n",
    "plt.title('Age Distribution of Customers and Regular Customers')\n",
    "plt.xlabel('Age')\n",
    "plt.ylabel('Count')\n",
    "\n",
    "plt.legend()\n",
    "plt.show()"
   ]
  },
  {
   "cell_type": "code",
   "execution_count": 22,
   "id": "4fa432db",
   "metadata": {},
   "outputs": [
    {
     "name": "stdout",
     "output_type": "stream",
     "text": [
      "Active and Not Active Customer Counts:\n",
      "ACTIVE        1272491\n",
      "PRE-CREATE      92960\n",
      "LEFT CLUB         467\n",
      "Name: club_member_status, dtype: int64\n"
     ]
    }
   ],
   "source": [
    "status_counts = data['club_member_status'].value_counts()\n",
    "\n",
    "print(\"Active and Not Active Customer Counts:\")\n",
    "print(status_counts)"
   ]
  },
  {
   "cell_type": "code",
   "execution_count": 24,
   "id": "54b45f7c",
   "metadata": {},
   "outputs": [
    {
     "name": "stdout",
     "output_type": "stream",
     "text": [
      "Active Customer Counts:\n",
      "1.0    464404\n",
      "Name: Active, dtype: int64\n"
     ]
    }
   ],
   "source": [
    "status_counts = data['Active'].value_counts()\n",
    "\n",
    "print(\"Active Customer Counts:\")\n",
    "print(status_counts)"
   ]
  },
  {
   "cell_type": "markdown",
   "id": "7065e429",
   "metadata": {},
   "source": [
    "#### Analyze the articles"
   ]
  },
  {
   "cell_type": "code",
   "execution_count": 75,
   "id": "659130d6",
   "metadata": {},
   "outputs": [],
   "source": [
    "desktop_path = \"/Users/erikagromule/Desktop\"\n",
    "file_path1 = desktop_path + \"/articles.csv\"\n",
    "\n",
    "data_art = pd.read_csv(file_path1)"
   ]
  },
  {
   "cell_type": "code",
   "execution_count": 5,
   "id": "0386a7f8",
   "metadata": {},
   "outputs": [
    {
     "data": {
      "text/html": [
       "<div>\n",
       "<style scoped>\n",
       "    .dataframe tbody tr th:only-of-type {\n",
       "        vertical-align: middle;\n",
       "    }\n",
       "\n",
       "    .dataframe tbody tr th {\n",
       "        vertical-align: top;\n",
       "    }\n",
       "\n",
       "    .dataframe thead th {\n",
       "        text-align: right;\n",
       "    }\n",
       "</style>\n",
       "<table border=\"1\" class=\"dataframe\">\n",
       "  <thead>\n",
       "    <tr style=\"text-align: right;\">\n",
       "      <th></th>\n",
       "      <th>article_id</th>\n",
       "      <th>product_code</th>\n",
       "      <th>prod_name</th>\n",
       "      <th>product_type_no</th>\n",
       "      <th>product_type_name</th>\n",
       "      <th>product_group_name</th>\n",
       "      <th>graphical_appearance_no</th>\n",
       "      <th>graphical_appearance_name</th>\n",
       "      <th>colour_group_code</th>\n",
       "      <th>colour_group_name</th>\n",
       "      <th>...</th>\n",
       "      <th>department_name</th>\n",
       "      <th>index_code</th>\n",
       "      <th>index_name</th>\n",
       "      <th>index_group_no</th>\n",
       "      <th>index_group_name</th>\n",
       "      <th>section_no</th>\n",
       "      <th>section_name</th>\n",
       "      <th>garment_group_no</th>\n",
       "      <th>garment_group_name</th>\n",
       "      <th>detail_desc</th>\n",
       "    </tr>\n",
       "  </thead>\n",
       "  <tbody>\n",
       "    <tr>\n",
       "      <th>0</th>\n",
       "      <td>108775015</td>\n",
       "      <td>108775</td>\n",
       "      <td>Strap top</td>\n",
       "      <td>253</td>\n",
       "      <td>Vest top</td>\n",
       "      <td>Garment Upper body</td>\n",
       "      <td>1010016</td>\n",
       "      <td>Solid</td>\n",
       "      <td>9</td>\n",
       "      <td>Black</td>\n",
       "      <td>...</td>\n",
       "      <td>Jersey Basic</td>\n",
       "      <td>A</td>\n",
       "      <td>Ladieswear</td>\n",
       "      <td>1</td>\n",
       "      <td>Ladieswear</td>\n",
       "      <td>16</td>\n",
       "      <td>Womens Everyday Basics</td>\n",
       "      <td>1002</td>\n",
       "      <td>Jersey Basic</td>\n",
       "      <td>Jersey top with narrow shoulder straps.</td>\n",
       "    </tr>\n",
       "    <tr>\n",
       "      <th>1</th>\n",
       "      <td>108775044</td>\n",
       "      <td>108775</td>\n",
       "      <td>Strap top</td>\n",
       "      <td>253</td>\n",
       "      <td>Vest top</td>\n",
       "      <td>Garment Upper body</td>\n",
       "      <td>1010016</td>\n",
       "      <td>Solid</td>\n",
       "      <td>10</td>\n",
       "      <td>White</td>\n",
       "      <td>...</td>\n",
       "      <td>Jersey Basic</td>\n",
       "      <td>A</td>\n",
       "      <td>Ladieswear</td>\n",
       "      <td>1</td>\n",
       "      <td>Ladieswear</td>\n",
       "      <td>16</td>\n",
       "      <td>Womens Everyday Basics</td>\n",
       "      <td>1002</td>\n",
       "      <td>Jersey Basic</td>\n",
       "      <td>Jersey top with narrow shoulder straps.</td>\n",
       "    </tr>\n",
       "    <tr>\n",
       "      <th>2</th>\n",
       "      <td>108775051</td>\n",
       "      <td>108775</td>\n",
       "      <td>Strap top (1)</td>\n",
       "      <td>253</td>\n",
       "      <td>Vest top</td>\n",
       "      <td>Garment Upper body</td>\n",
       "      <td>1010017</td>\n",
       "      <td>Stripe</td>\n",
       "      <td>11</td>\n",
       "      <td>Off White</td>\n",
       "      <td>...</td>\n",
       "      <td>Jersey Basic</td>\n",
       "      <td>A</td>\n",
       "      <td>Ladieswear</td>\n",
       "      <td>1</td>\n",
       "      <td>Ladieswear</td>\n",
       "      <td>16</td>\n",
       "      <td>Womens Everyday Basics</td>\n",
       "      <td>1002</td>\n",
       "      <td>Jersey Basic</td>\n",
       "      <td>Jersey top with narrow shoulder straps.</td>\n",
       "    </tr>\n",
       "    <tr>\n",
       "      <th>3</th>\n",
       "      <td>110065001</td>\n",
       "      <td>110065</td>\n",
       "      <td>OP T-shirt (Idro)</td>\n",
       "      <td>306</td>\n",
       "      <td>Bra</td>\n",
       "      <td>Underwear</td>\n",
       "      <td>1010016</td>\n",
       "      <td>Solid</td>\n",
       "      <td>9</td>\n",
       "      <td>Black</td>\n",
       "      <td>...</td>\n",
       "      <td>Clean Lingerie</td>\n",
       "      <td>B</td>\n",
       "      <td>Lingeries/Tights</td>\n",
       "      <td>1</td>\n",
       "      <td>Ladieswear</td>\n",
       "      <td>61</td>\n",
       "      <td>Womens Lingerie</td>\n",
       "      <td>1017</td>\n",
       "      <td>Under-, Nightwear</td>\n",
       "      <td>Microfibre T-shirt bra with underwired, moulde...</td>\n",
       "    </tr>\n",
       "    <tr>\n",
       "      <th>4</th>\n",
       "      <td>110065002</td>\n",
       "      <td>110065</td>\n",
       "      <td>OP T-shirt (Idro)</td>\n",
       "      <td>306</td>\n",
       "      <td>Bra</td>\n",
       "      <td>Underwear</td>\n",
       "      <td>1010016</td>\n",
       "      <td>Solid</td>\n",
       "      <td>10</td>\n",
       "      <td>White</td>\n",
       "      <td>...</td>\n",
       "      <td>Clean Lingerie</td>\n",
       "      <td>B</td>\n",
       "      <td>Lingeries/Tights</td>\n",
       "      <td>1</td>\n",
       "      <td>Ladieswear</td>\n",
       "      <td>61</td>\n",
       "      <td>Womens Lingerie</td>\n",
       "      <td>1017</td>\n",
       "      <td>Under-, Nightwear</td>\n",
       "      <td>Microfibre T-shirt bra with underwired, moulde...</td>\n",
       "    </tr>\n",
       "  </tbody>\n",
       "</table>\n",
       "<p>5 rows × 25 columns</p>\n",
       "</div>"
      ],
      "text/plain": [
       "   article_id  product_code          prod_name  product_type_no  \\\n",
       "0   108775015        108775          Strap top              253   \n",
       "1   108775044        108775          Strap top              253   \n",
       "2   108775051        108775      Strap top (1)              253   \n",
       "3   110065001        110065  OP T-shirt (Idro)              306   \n",
       "4   110065002        110065  OP T-shirt (Idro)              306   \n",
       "\n",
       "  product_type_name  product_group_name  graphical_appearance_no  \\\n",
       "0          Vest top  Garment Upper body                  1010016   \n",
       "1          Vest top  Garment Upper body                  1010016   \n",
       "2          Vest top  Garment Upper body                  1010017   \n",
       "3               Bra           Underwear                  1010016   \n",
       "4               Bra           Underwear                  1010016   \n",
       "\n",
       "  graphical_appearance_name  colour_group_code colour_group_name  ...  \\\n",
       "0                     Solid                  9             Black  ...   \n",
       "1                     Solid                 10             White  ...   \n",
       "2                    Stripe                 11         Off White  ...   \n",
       "3                     Solid                  9             Black  ...   \n",
       "4                     Solid                 10             White  ...   \n",
       "\n",
       "   department_name index_code        index_name index_group_no  \\\n",
       "0     Jersey Basic          A        Ladieswear              1   \n",
       "1     Jersey Basic          A        Ladieswear              1   \n",
       "2     Jersey Basic          A        Ladieswear              1   \n",
       "3   Clean Lingerie          B  Lingeries/Tights              1   \n",
       "4   Clean Lingerie          B  Lingeries/Tights              1   \n",
       "\n",
       "   index_group_name section_no            section_name garment_group_no  \\\n",
       "0        Ladieswear         16  Womens Everyday Basics             1002   \n",
       "1        Ladieswear         16  Womens Everyday Basics             1002   \n",
       "2        Ladieswear         16  Womens Everyday Basics             1002   \n",
       "3        Ladieswear         61         Womens Lingerie             1017   \n",
       "4        Ladieswear         61         Womens Lingerie             1017   \n",
       "\n",
       "   garment_group_name                                        detail_desc  \n",
       "0        Jersey Basic            Jersey top with narrow shoulder straps.  \n",
       "1        Jersey Basic            Jersey top with narrow shoulder straps.  \n",
       "2        Jersey Basic            Jersey top with narrow shoulder straps.  \n",
       "3   Under-, Nightwear  Microfibre T-shirt bra with underwired, moulde...  \n",
       "4   Under-, Nightwear  Microfibre T-shirt bra with underwired, moulde...  \n",
       "\n",
       "[5 rows x 25 columns]"
      ]
     },
     "execution_count": 5,
     "metadata": {},
     "output_type": "execute_result"
    }
   ],
   "source": [
    "data_art.head(5)"
   ]
  },
  {
   "cell_type": "code",
   "execution_count": 6,
   "id": "2b014e51",
   "metadata": {},
   "outputs": [
    {
     "data": {
      "text/plain": [
       "article_id                       int64\n",
       "product_code                     int64\n",
       "prod_name                       object\n",
       "product_type_no                  int64\n",
       "product_type_name               object\n",
       "product_group_name              object\n",
       "graphical_appearance_no          int64\n",
       "graphical_appearance_name       object\n",
       "colour_group_code                int64\n",
       "colour_group_name               object\n",
       "perceived_colour_value_id        int64\n",
       "perceived_colour_value_name     object\n",
       "perceived_colour_master_id       int64\n",
       "perceived_colour_master_name    object\n",
       "department_no                    int64\n",
       "department_name                 object\n",
       "index_code                      object\n",
       "index_name                      object\n",
       "index_group_no                   int64\n",
       "index_group_name                object\n",
       "section_no                       int64\n",
       "section_name                    object\n",
       "garment_group_no                 int64\n",
       "garment_group_name              object\n",
       "detail_desc                     object\n",
       "dtype: object"
      ]
     },
     "execution_count": 6,
     "metadata": {},
     "output_type": "execute_result"
    }
   ],
   "source": [
    "data_art.dtypes"
   ]
  },
  {
   "cell_type": "code",
   "execution_count": 7,
   "id": "f44fb467",
   "metadata": {},
   "outputs": [
    {
     "name": "stdout",
     "output_type": "stream",
     "text": [
      "Total Rows: 105542\n"
     ]
    }
   ],
   "source": [
    "total_rows = data_art.shape[0]\n",
    "print(f\"Total Rows: {total_rows}\")"
   ]
  },
  {
   "cell_type": "code",
   "execution_count": 9,
   "id": "2ce44033",
   "metadata": {},
   "outputs": [
    {
     "name": "stdout",
     "output_type": "stream",
     "text": [
      "Number of unique products: 47224\n",
      "Number of unique product types: 132\n",
      "Number of unique product groups: 19\n",
      "\n",
      "Product distribution across departments:\n",
      "department_name\n",
      "AK Bottoms                 90\n",
      "AK Dresses & Outdoor       87\n",
      "AK Other                   33\n",
      "AK Tops Jersey & Woven     42\n",
      "AK Tops Knitwear           28\n",
      "                         ... \n",
      "Young Girl Shoes          287\n",
      "Young Girl Swimwear       175\n",
      "Young Girl Trouser        408\n",
      "Young Girl UW/NW          499\n",
      "Young boy Swimwear        114\n",
      "Name: product_code, Length: 250, dtype: int64\n",
      "\n",
      "Product distribution across sections:\n",
      "section_name\n",
      "Baby Boy                          1717\n",
      "Baby Essentials & Complements     4932\n",
      "Baby Girl                         1760\n",
      "Boys Underwear & Basics           2034\n",
      "Collaborations                     559\n",
      "Contemporary Casual               1560\n",
      "Contemporary Smart                1778\n",
      "Contemporary Street               1490\n",
      "Denim Men                          521\n",
      "Divided Accessories               1732\n",
      "Divided Asia keys                  280\n",
      "Divided Basics                    1723\n",
      "Divided Collection                7124\n",
      "Divided Complements Other           35\n",
      "Divided Projects                  2364\n",
      "Divided Selected                   991\n",
      "EQ Divided                          26\n",
      "Girls Underwear & Basics          3490\n",
      "H&M+                              2337\n",
      "Kids & Baby Shoes                 2142\n",
      "Kids Accessories, Swimwear & D    1731\n",
      "Kids Boy                          3328\n",
      "Kids Girl                         4469\n",
      "Kids Local Relevance               192\n",
      "Kids Outerwear                    2665\n",
      "Kids Sports                        626\n",
      "Ladies Denim                      1101\n",
      "Ladies H&M Sport                  1894\n",
      "Ladies Other                         4\n",
      "Mama                              2266\n",
      "Men Accessories                   1337\n",
      "Men Edition                        330\n",
      "Men H&M Sport                      872\n",
      "Men Other                           25\n",
      "Men Other 2                        190\n",
      "Men Project                        298\n",
      "Men Shoes                          645\n",
      "Men Suits & Tailoring             1428\n",
      "Men Underwear                     2322\n",
      "Mens Outerwear                     629\n",
      "Special Collections                682\n",
      "Womens Big accessories            1665\n",
      "Womens Casual                     2725\n",
      "Womens Everyday Basics            1581\n",
      "Womens Everyday Collection        7295\n",
      "Womens Jackets                     829\n",
      "Womens Lingerie                   3598\n",
      "Womens Nightwear, Socks & Tigh    1566\n",
      "Womens Premium                    1270\n",
      "Womens Shoes                      2026\n",
      "Womens Small accessories          3270\n",
      "Womens Swimwear, beachwear        1839\n",
      "Womens Tailoring                  3376\n",
      "Womens Trend                      2622\n",
      "Young Boy                         2352\n",
      "Young Girl                        3899\n",
      "Name: product_code, dtype: int64\n",
      "\n",
      "Product distribution across garment groups:\n",
      "garment_group_name\n",
      "Accessories                      11519\n",
      "Blouses                           5838\n",
      "Dressed                            908\n",
      "Dresses Ladies                    4874\n",
      "Dresses/Skirts girls              1541\n",
      "Jersey Basic                      8126\n",
      "Jersey Fancy                     21445\n",
      "Knitwear                          7490\n",
      "Outdoor                           4501\n",
      "Shirts                            2116\n",
      "Shoes                             5145\n",
      "Shorts                            1559\n",
      "Skirts                            1254\n",
      "Socks and Tights                  2272\n",
      "Special Offers                    1061\n",
      "Swimwear                          2787\n",
      "Trousers                          6727\n",
      "Trousers Denim                    3100\n",
      "Under-, Nightwear                 7441\n",
      "Unknown                           3873\n",
      "Woven/Jersey/Knitted mix Baby     1965\n",
      "Name: product_code, dtype: int64\n"
     ]
    }
   ],
   "source": [
    "import pandas as pd\n",
    "\n",
    "#the number of unique products, product types, and product groups\n",
    "unique_products = data_art['product_code'].nunique()\n",
    "unique_product_types = data_art['product_type_no'].nunique()\n",
    "unique_product_groups = data_art['product_group_name'].nunique()\n",
    "\n",
    "print(f\"Number of unique products: {unique_products}\")\n",
    "print(f\"Number of unique product types: {unique_product_types}\")\n",
    "print(f\"Number of unique product groups: {unique_product_groups}\")\n",
    "\n",
    "#the distribution of products across different departments\n",
    "product_distribution_by_department = data_art.groupby('department_name')['product_code'].count()\n",
    "print(\"\\nProduct distribution across departments:\")\n",
    "print(product_distribution_by_department)\n",
    "\n",
    "#the distribution of products across different sections\n",
    "product_distribution_by_section = data_art.groupby('section_name')['product_code'].count()\n",
    "print(\"\\nProduct distribution across sections:\")\n",
    "print(product_distribution_by_section)\n",
    "\n",
    "#the distribution of products across different garment groups\n",
    "product_distribution_by_garment_group = data_art.groupby('garment_group_name')['product_code'].count()\n",
    "print(\"\\nProduct distribution across garment groups:\")\n",
    "print(product_distribution_by_garment_group)"
   ]
  },
  {
   "cell_type": "code",
   "execution_count": 10,
   "id": "22b942f1",
   "metadata": {},
   "outputs": [
    {
     "name": "stdout",
     "output_type": "stream",
     "text": [
      "\n",
      "Popular products in each department:\n",
      "department_name         department_name         product_code\n",
      "AK Bottoms              AK Bottoms              858692           5\n",
      "AK Dresses & Outdoor    AK Dresses & Outdoor    735724           5\n",
      "AK Other                AK Other                572155           2\n",
      "AK Tops Jersey & Woven  AK Tops Jersey & Woven  863538           6\n",
      "AK Tops Knitwear        AK Tops Knitwear        812799           5\n",
      "                                                                ..\n",
      "Young Girl Shoes        Young Girl Shoes        658763           4\n",
      "Young Girl Swimwear     Young Girl Swimwear     700012           7\n",
      "Young Girl Trouser      Young Girl Trouser      693575           9\n",
      "Young Girl UW/NW        Young Girl UW/NW        608069          24\n",
      "Young boy Swimwear      Young boy Swimwear      453445          18\n",
      "Name: product_code, Length: 250, dtype: int64\n",
      "\n",
      "Popular products in each section:\n",
      "section_name                    section_name                    product_code\n",
      "Baby Boy                        Baby Boy                        743907          17\n",
      "Baby Essentials & Complements   Baby Essentials & Complements   769102          30\n",
      "Baby Girl                       Baby Girl                       808801          13\n",
      "Boys Underwear & Basics         Boys Underwear & Basics         730454          33\n",
      "Collaborations                  Collaborations                  692002           5\n",
      "Contemporary Casual             Contemporary Casual             699923          52\n",
      "Contemporary Smart              Contemporary Smart              564358          33\n",
      "Contemporary Street             Contemporary Street             684021          70\n",
      "Denim Men                       Denim Men                       730863          20\n",
      "Divided Accessories             Divided Accessories             732409          22\n",
      "Divided Asia keys               Divided Asia keys               863538           6\n",
      "Divided Basics                  Divided Basics                  624486          34\n",
      "Divided Collection              Divided Collection              674606          38\n",
      "Divided Complements Other       Divided Complements Other       477507           3\n",
      "Divided Projects                Divided Projects                719523          12\n",
      "Divided Selected                Divided Selected                401044          12\n",
      "EQ Divided                      EQ Divided                      681913           6\n",
      "Girls Underwear & Basics        Girls Underwear & Basics        619739          40\n",
      "H&M+                            H&M+                            506166          16\n",
      "Kids & Baby Shoes               Kids & Baby Shoes               697082           9\n",
      "Kids Accessories, Swimwear & D  Kids Accessories, Swimwear & D  453272          27\n",
      "Kids Boy                        Kids Boy                        696991          38\n",
      "Kids Girl                       Kids Girl                       739659          44\n",
      "Kids Local Relevance            Kids Local Relevance            650790           7\n",
      "Kids Outerwear                  Kids Outerwear                  694739          25\n",
      "Kids Sports                     Kids Sports                     498738          12\n",
      "Ladies Denim                    Ladies Denim                    399087          16\n",
      "Ladies H&M Sport                Ladies H&M Sport                730683          23\n",
      "Ladies Other                    Ladies Other                    659573           2\n",
      "Mama                            Mama                            534164          21\n",
      "Men Accessories                 Men Accessories                 406724          15\n",
      "Men Edition                     Men Edition                     552743          16\n",
      "Men H&M Sport                   Men H&M Sport                   449570          30\n",
      "Men Other                       Men Other                       900854           4\n",
      "Men Other 2                     Men Other 2                     691724          11\n",
      "Men Project                     Men Project                     796275           6\n",
      "Men Shoes                       Men Shoes                       488697          15\n",
      "Men Suits & Tailoring           Men Suits & Tailoring           781758          32\n",
      "Men Underwear                   Men Underwear                   783707          75\n",
      "Mens Outerwear                  Mens Outerwear                  599945          12\n",
      "Special Collections             Special Collections             621359           3\n",
      "Womens Big accessories          Womens Big accessories          680391          18\n",
      "Womens Casual                   Womens Casual                   572797          25\n",
      "Womens Everyday Basics          Womens Everyday Basics          610776          39\n",
      "Womens Everyday Collection      Womens Everyday Collection      562245          41\n",
      "Womens Jackets                  Womens Jackets                  399061          11\n",
      "Womens Lingerie                 Womens Lingerie                 611415          23\n",
      "Womens Nightwear, Socks & Tigh  Womens Nightwear, Socks & Tigh  807241          38\n",
      "Womens Premium                  Womens Premium                  513373          12\n",
      "Womens Shoes                    Womens Shoes                    727880          15\n",
      "Womens Small accessories        Womens Small accessories        713997          36\n",
      "Womens Swimwear, beachwear      Womens Swimwear, beachwear      599580          30\n",
      "Womens Tailoring                Womens Tailoring                664074          41\n",
      "Womens Trend                    Womens Trend                    630316           9\n",
      "Young Boy                       Young Boy                       554541          27\n",
      "Young Girl                      Young Girl                      626263          25\n",
      "Name: product_code, dtype: int64\n",
      "\n",
      "Popular products in each garment group:\n",
      "garment_group_name             garment_group_name             product_code\n",
      "Accessories                    Accessories                    713997          36\n",
      "Blouses                        Blouses                        695632          40\n",
      "Dressed                        Dressed                        568601          23\n",
      "Dresses Ladies                 Dresses Ladies                 651558          17\n",
      "Dresses/Skirts girls           Dresses/Skirts girls           641008          12\n",
      "Jersey Basic                   Jersey Basic                   570002          41\n",
      "Jersey Fancy                   Jersey Fancy                   684021          70\n",
      "Knitwear                       Knitwear                       696991          38\n",
      "Outdoor                        Outdoor                        533404          18\n",
      "Shirts                         Shirts                         781758          32\n",
      "Shoes                          Shoes                          349301          19\n",
      "Shorts                         Shorts                         599719          24\n",
      "Skirts                         Skirts                         674606          38\n",
      "Socks and Tights               Socks and Tights               783707          75\n",
      "Special Offers                 Special Offers                 721929          15\n",
      "Swimwear                       Swimwear                       685604          46\n",
      "Trousers                       Trousers                       562245          41\n",
      "Trousers Denim                 Trousers Denim                 554541          27\n",
      "Under-, Nightwear              Under-, Nightwear              688916          39\n",
      "Unknown                        Unknown                        498738          12\n",
      "Woven/Jersey/Knitted mix Baby  Woven/Jersey/Knitted mix Baby  695662          11\n",
      "Name: product_code, dtype: int64\n"
     ]
    }
   ],
   "source": [
    "import pandas as pd\n",
    "\n",
    "# Popular products in each department\n",
    "popular_products_by_department =data_art.groupby('department_name')['product_code'].value_counts().groupby('department_name').nlargest(1)\n",
    "print(\"\\nPopular products in each department:\")\n",
    "print(popular_products_by_department)\n",
    "\n",
    "# Popular products in each section\n",
    "popular_products_by_section = data_art.groupby('section_name')['product_code'].value_counts().groupby('section_name').nlargest(1)\n",
    "print(\"\\nPopular products in each section:\")\n",
    "print(popular_products_by_section)\n",
    "\n",
    "# Popular products in each garment group\n",
    "popular_products_by_garment_group = data_art.groupby('garment_group_name')['product_code'].value_counts().groupby('garment_group_name').nlargest(1)\n",
    "print(\"\\nPopular products in each garment group:\")\n",
    "print(popular_products_by_garment_group)"
   ]
  },
  {
   "cell_type": "code",
   "execution_count": 11,
   "id": "511f3242",
   "metadata": {},
   "outputs": [
    {
     "name": "stdout",
     "output_type": "stream",
     "text": [
      "\n",
      "Top 5 popular products in each department:\n",
      "department_name     department_name     product_code\n",
      "AK Bottoms          AK Bottoms          858692           5\n",
      "                                        834069           4\n",
      "                                        863502           4\n",
      "                                        885922           4\n",
      "                                        664871           3\n",
      "                                                        ..\n",
      "Young boy Swimwear  Young boy Swimwear  453445          18\n",
      "                                        497284          15\n",
      "                                        453453          14\n",
      "                                        497664          13\n",
      "                                        768406          13\n",
      "Name: product_code, Length: 1206, dtype: int64\n",
      "\n",
      "Top 5 popular products in each section:\n",
      "section_name  section_name  product_code\n",
      "Baby Boy      Baby Boy      743907          17\n",
      "                            743904          15\n",
      "                            743909          13\n",
      "                            841544          13\n",
      "                            791589          11\n",
      "                                            ..\n",
      "Young Girl    Young Girl    626263          25\n",
      "                            694131          21\n",
      "                            552346          19\n",
      "                            804759          19\n",
      "                            567992          18\n",
      "Name: product_code, Length: 278, dtype: int64\n",
      "\n",
      "Top 5 popular products in each garment group:\n",
      "garment_group_name             garment_group_name             product_code\n",
      "Accessories                    Accessories                    713997          36\n",
      "                                                              713993          32\n",
      "                                                              517729          30\n",
      "                                                              500435          27\n",
      "                                                              694739          25\n",
      "                                                                              ..\n",
      "Woven/Jersey/Knitted mix Baby  Woven/Jersey/Knitted mix Baby  695662          11\n",
      "                                                              646015          10\n",
      "                                                              746260          10\n",
      "                                                              633917           9\n",
      "                                                              633918           9\n",
      "Name: product_code, Length: 105, dtype: int64\n"
     ]
    }
   ],
   "source": [
    "import pandas as pd\n",
    "\n",
    "# Define a function to get the top N products for each category\n",
    "def get_top_n_products_by_category(data_art, category_column, n=5):\n",
    "    return data_art.groupby(category_column)['product_code'].value_counts().groupby(category_column).nlargest(n)\n",
    "\n",
    "# Top 5 popular products in each department\n",
    "top5_products_by_department = get_top_n_products_by_category(data_art, 'department_name', n=5)\n",
    "print(\"\\nTop 5 popular products in each department:\")\n",
    "print(top5_products_by_department)\n",
    "\n",
    "# Top 5 popular products in each section\n",
    "top5_products_by_section = get_top_n_products_by_category(data_art, 'section_name', n=5)\n",
    "print(\"\\nTop 5 popular products in each section:\")\n",
    "print(top5_products_by_section)\n",
    "\n",
    "# Top 5 popular products in each garment group\n",
    "top5_products_by_garment_group = get_top_n_products_by_category(data_art, 'garment_group_name', n=5)\n",
    "print(\"\\nTop 5 popular products in each garment group:\")\n",
    "print(top5_products_by_garment_group)"
   ]
  },
  {
   "cell_type": "code",
   "execution_count": 19,
   "id": "cdba8e63",
   "metadata": {},
   "outputs": [
    {
     "name": "stdout",
     "output_type": "stream",
     "text": [
      "\n",
      "Top 5 most popular products overall:\n",
      "783707    75\n",
      "684021    70\n",
      "699923    52\n",
      "699755    49\n",
      "685604    46\n",
      "Name: product_code, dtype: int64\n"
     ]
    }
   ],
   "source": [
    "import pandas as pd\n",
    "\n",
    "#the top 5 most popular products overall\n",
    "top5_popular_products = data_art['product_code'].value_counts().nlargest(5)\n",
    "print(\"\\nTop 5 most popular products overall:\")\n",
    "print(top5_popular_products)"
   ]
  },
  {
   "cell_type": "code",
   "execution_count": 23,
   "id": "5d0da611",
   "metadata": {},
   "outputs": [
    {
     "name": "stdout",
     "output_type": "stream",
     "text": [
      "\n",
      "Top 5 most popular products overall with names and types:\n",
      "     product_code product_type_name\n",
      "0          783707             Socks\n",
      "1          783707             Socks\n",
      "2          783707             Socks\n",
      "3          783707             Socks\n",
      "4          783707             Socks\n",
      "..            ...               ...\n",
      "287        685604   Swimwear bottom\n",
      "288        685604   Swimwear bottom\n",
      "289        685604   Swimwear bottom\n",
      "290        685604   Swimwear bottom\n",
      "291        685604   Swimwear bottom\n",
      "\n",
      "[292 rows x 2 columns]\n"
     ]
    }
   ],
   "source": [
    "import pandas as pd\n",
    "\n",
    "#the top 5 most popular products overall\n",
    "top5_popular_products = data_art['product_code'].value_counts().nlargest(5)\n",
    "\n",
    "#merge with the original data to get product names and types\n",
    "top5_popular_products_with_names_and_types = pd.DataFrame({'product_code': top5_popular_products.index})\n",
    "top5_popular_products_with_names_and_types = pd.merge(top5_popular_products_with_names_and_types, data_art[['product_code', 'product_type_name']], on='product_code', how='left')\n",
    "\n",
    "print(\"\\nTop 5 most popular products overall with names and types:\")\n",
    "print(top5_popular_products_with_names_and_types)"
   ]
  },
  {
   "cell_type": "code",
   "execution_count": 35,
   "id": "cf7cb036",
   "metadata": {},
   "outputs": [
    {
     "name": "stdout",
     "output_type": "stream",
     "text": [
      "\n",
      "Top 10 most popular products overall with total counts and unique product types:\n",
      " product_code  total_count unique_product_types\n",
      "       783707           75                Socks\n",
      "       684021           70              T-shirt\n",
      "       699923           52              T-shirt\n",
      "       699755           49      Hoodie, Sweater\n",
      "       685604           46      Swimwear bottom\n",
      "       739659           44                Dress\n",
      "       562245           41             Trousers\n",
      "       570002           41              T-shirt\n",
      "       664074           41                  Top\n",
      "       685816           41              T-shirt\n"
     ]
    }
   ],
   "source": [
    "import pandas as pd\n",
    "\n",
    "#the count for each product code and product type\n",
    "product_counts = data_art.groupby(['product_code', 'product_type_name']).size().reset_index(name='count')\n",
    "\n",
    "#sum the counts for each product code\n",
    "sum_product_counts = product_counts.groupby('product_code')['count'].sum().reset_index(name='total_count')\n",
    "\n",
    "#the top 10 most popular products overall\n",
    "top10_popular_products = sum_product_counts.nlargest(10, 'total_count')\n",
    "\n",
    "#concatenate unique product types into a single column\n",
    "top10_popular_products['unique_product_types'] = top10_popular_products['product_code'].apply(\n",
    "    lambda code: ', '.join(product_counts[product_counts['product_code'] == code]['product_type_name'].unique())\n",
    ")\n",
    "\n",
    "#the result\n",
    "print(\"\\nTop 10 most popular products overall with total counts and unique product types:\")\n",
    "print(top10_popular_products[['product_code', 'total_count', 'unique_product_types']].to_string(index=False))"
   ]
  },
  {
   "cell_type": "code",
   "execution_count": 36,
   "id": "a2034bbc",
   "metadata": {},
   "outputs": [
    {
     "name": "stdout",
     "output_type": "stream",
     "text": [
      "\n",
      "Top 10 most popular products overall with total counts, unique product types, and unique colors:\n",
      " product_code  total_count unique_product_types                                                                                                                                                                                                                                                                        unique_colors\n",
      "       783707           75                Socks                                  Beige, Black, Blue, Dark Blue, Dark Green, Dark Grey, Dark Orange, Dark Purple, Dark Turquoise, Greenish Khaki, Grey, Light Blue, Light Green, Light Grey, Light Purple, Light Turquoise, Light Yellow, Orange, Pink, Purple, Red, Turquoise, White\n",
      "       684021           70              T-shirt                                                             Black, Blue, Dark Beige, Dark Blue, Dark Green, Dark Red, Dark Turquoise, Greenish Khaki, Grey, Light Beige, Light Blue, Light Green, Light Grey, Light Orange, Light Pink, Light Purple, Light Yellow, Off White, White\n",
      "       699923           52              T-shirt                                                        Beige, Black, Dark Beige, Dark Blue, Dark Green, Dark Grey, Dark Orange, Dark Pink, Dark Turquoise, Green, Greenish Khaki, Grey, Light Green, Light Grey, Light Orange, Light Pink, Light Purple, Light Yellow, White, Yellow\n",
      "       699755           49      Hoodie, Sweater                                                                              Beige, Black, Dark Blue, Dark Green, Dark Yellow, Grey, Light Blue, Light Green, Light Grey, Orange, White, Yellowish Brown, Dark Beige, Dark Grey, Greenish Khaki, Light Beige, Red, Turquoise, Yellow\n",
      "       685604           46      Swimwear bottom                                                             Black, Dark Blue, Dark Green, Dark Orange, Dark Purple, Dark Red, Green, Light Blue, Light Green, Light Grey, Light Orange, Light Pink, Light Purple, Light Yellow, Orange, Other Pink, Other Turquoise, Pink, Turquoise\n",
      "       739659           44                Dress                                                                                 Black, Dark Beige, Dark Blue, Dark Pink, Dark Red, Grey, Light Beige, Light Green, Light Grey, Light Pink, Light Red, Light Turquoise, Light Yellow, Off White, Other Pink, Pink, Red, White, Yellow\n",
      "       562245           41             Trousers                                                                                                                                                                                    Black, Blue, Dark Blue, Dark Grey, Greenish Khaki, Grey, Light Blue, Light Pink, Off White, White\n",
      "       570002           41              T-shirt                                                       Beige, Black, Blue, Dark Beige, Dark Blue, Dark Green, Dark Grey, Dark Orange, Dark Pink, Dark Red, Dark Turquoise, Green, Greenish Khaki, Grey, Light Grey, Light Orange, Light Pink, Off White, Pink, White, Yellowish Brown\n",
      "       664074           41                  Top                                                                                                                           Beige, Black, Dark Blue, Dark Green, Dark Grey, Dark Red, Dark Turquoise, Green, Greenish Khaki, Light Beige, Off White, Pink, Red, White, Yellowish Brown\n",
      "       685816           41              T-shirt Beige, Black, Blue, Dark Beige, Dark Blue, Dark Green, Dark Grey, Dark Purple, Dark Red, Greenish Khaki, Grey, Light Blue, Light Green, Light Grey, Light Orange, Light Pink, Light Red, Light Turquoise, Light Yellow, Orange, Pink, Red, Turquoise, White, Yellow, Yellowish Brown\n"
     ]
    }
   ],
   "source": [
    "import pandas as pd\n",
    "\n",
    "#the count for each product code, product type, and color\n",
    "product_counts = data_art.groupby(['product_code', 'product_type_name', 'colour_group_name']).size().reset_index(name='count')\n",
    "\n",
    "#sum the counts for each product code\n",
    "sum_product_counts = product_counts.groupby('product_code')['count'].sum().reset_index(name='total_count')\n",
    "\n",
    "#the top 10 most popular products overall\n",
    "top10_popular_products = sum_product_counts.nlargest(10, 'total_count')\n",
    "\n",
    "#concatenate unique product types and colors into single columns\n",
    "top10_popular_products['unique_product_types'] = top10_popular_products['product_code'].apply(\n",
    "    lambda code: ', '.join(product_counts[(product_counts['product_code'] == code) & (product_counts['product_type_name'].notna())]['product_type_name'].unique())\n",
    ")\n",
    "\n",
    "top10_popular_products['unique_colors'] = top10_popular_products['product_code'].apply(\n",
    "    lambda code: ', '.join(product_counts[(product_counts['product_code'] == code) & (product_counts['colour_group_name'].notna())]['colour_group_name'].unique())\n",
    ")\n",
    "\n",
    "print(\"\\nTop 10 most popular products overall with total counts, unique product types, and unique colors:\")\n",
    "print(top10_popular_products[['product_code', 'total_count', 'unique_product_types', 'unique_colors']].to_string(index=False))"
   ]
  },
  {
   "cell_type": "code",
   "execution_count": 37,
   "id": "59647813",
   "metadata": {},
   "outputs": [
    {
     "name": "stdout",
     "output_type": "stream",
     "text": [
      "\n",
      "Top 10 most popular products overall with total counts, unique product types, and unique product names:\n",
      " product_code  total_count unique_product_types                             unique_product_names\n",
      "       783707           75                Socks                 1pk Fun, 1pk Fun 1, 1pk fun sock\n",
      "       684021           70              T-shirt                             Wow printed tee 6.99\n",
      "       699923           52              T-shirt                                         Mike tee\n",
      "       699755           49      Hoodie, Sweater                                  YATE hood, Yate\n",
      "       685604           46      Swimwear bottom                             TOM FANCY, TOM PRINT\n",
      "       739659           44                Dress                                  Dragonfly dress\n",
      "       562245           41             Trousers                Luna skinny 5 pkt, Luna skinny RW\n",
      "       570002           41              T-shirt          R-NECK SS SLIM FIT, ROY SLIM RN T-SHIRT\n",
      "       664074           41                  Top                                      Charlie Top\n",
      "       685816           41              T-shirt RONNY R-NECK, RONNY REG RN T-SHIRT, Ronny R-Neck\n"
     ]
    }
   ],
   "source": [
    "# Get the count for each product code, product type, and product name\n",
    "product_counts = data_art.groupby(['product_code', 'product_type_name', 'prod_name']).size().reset_index(name='count')\n",
    "\n",
    "# Sum the counts for each product code\n",
    "sum_product_counts = product_counts.groupby('product_code')['count'].sum().reset_index(name='total_count')\n",
    "\n",
    "# Get the top 10 most popular products overall\n",
    "top10_popular_products = sum_product_counts.nlargest(10, 'total_count')\n",
    "\n",
    "# Concatenate unique product types and product names into single columns\n",
    "top10_popular_products['unique_product_types'] = top10_popular_products['product_code'].apply(\n",
    "    lambda code: ', '.join(product_counts[(product_counts['product_code'] == code) & (product_counts['product_type_name'].notna())]['product_type_name'].unique())\n",
    ")\n",
    "\n",
    "top10_popular_products['unique_product_names'] = top10_popular_products['product_code'].apply(\n",
    "    lambda code: ', '.join(product_counts[(product_counts['product_code'] == code) & (product_counts['prod_name'].notna())]['prod_name'].unique())\n",
    ")\n",
    "\n",
    "print(\"\\nTop 10 most popular products overall with total counts, unique product types, and unique product names:\")\n",
    "print(top10_popular_products[['product_code', 'total_count', 'unique_product_types', 'unique_product_names']].to_string(index=False))"
   ]
  },
  {
   "cell_type": "markdown",
   "id": "eb84eb6b",
   "metadata": {},
   "source": [
    "##### Colors"
   ]
  },
  {
   "cell_type": "code",
   "execution_count": 77,
   "id": "ead6495f",
   "metadata": {},
   "outputs": [
    {
     "name": "stdout",
     "output_type": "stream",
     "text": [
      "Number of Unique Color Groups: 50\n"
     ]
    }
   ],
   "source": [
    "unique_color_groups = data_art['colour_group_name'].nunique()\n",
    "print(f\"Number of Unique Color Groups: {unique_color_groups}\")"
   ]
  },
  {
   "cell_type": "code",
   "execution_count": 78,
   "id": "068be2ca",
   "metadata": {},
   "outputs": [
    {
     "name": "stdout",
     "output_type": "stream",
     "text": [
      "Top 5 Most Common Color Groups:\n",
      "Black         22670\n",
      "Dark Blue     12171\n",
      "White          9542\n",
      "Light Pink     5811\n",
      "Grey           4487\n",
      "Name: colour_group_name, dtype: int64\n"
     ]
    }
   ],
   "source": [
    "most_common_color_groups = data_art['colour_group_name'].value_counts().nlargest(5)\n",
    "print(\"Top 5 Most Common Color Groups:\")\n",
    "print(most_common_color_groups)"
   ]
  },
  {
   "cell_type": "code",
   "execution_count": 79,
   "id": "c9171483",
   "metadata": {},
   "outputs": [
    {
     "name": "stdout",
     "output_type": "stream",
     "text": [
      "Distribution of Perceived Color Values:\n",
      "Dark            42706\n",
      "Dusty Light     22152\n",
      "Light           15739\n",
      "Medium Dusty    12630\n",
      "Bright           6471\n",
      "Medium           5711\n",
      "Undefined         105\n",
      "Unknown            28\n",
      "Name: perceived_colour_value_name, dtype: int64\n"
     ]
    }
   ],
   "source": [
    "perceived_color_distribution = data_art['perceived_colour_value_name'].value_counts()\n",
    "print(\"Distribution of Perceived Color Values:\")\n",
    "print(perceived_color_distribution)"
   ]
  },
  {
   "cell_type": "code",
   "execution_count": 80,
   "id": "5887995e",
   "metadata": {},
   "outputs": [
    {
     "name": "stdout",
     "output_type": "stream",
     "text": [
      "Distribution of Perceived Color Masters:\n",
      "Black              22585\n",
      "Blue               18469\n",
      "White              12665\n",
      "Pink                9403\n",
      "Grey                8924\n",
      "Red                 5878\n",
      "Beige               5657\n",
      "Green               3526\n",
      "Khaki green         3181\n",
      "Yellow              3121\n",
      "Orange              2734\n",
      "Brown               2269\n",
      "Metal               2180\n",
      "Turquoise           1829\n",
      "Mole                1223\n",
      "Lilac Purple        1100\n",
      "Unknown              685\n",
      "undefined            105\n",
      "Yellowish Green        5\n",
      "Bluish Green           3\n",
      "Name: perceived_colour_master_name, dtype: int64\n"
     ]
    }
   ],
   "source": [
    "perceived_color_master_distribution = data_art['perceived_colour_master_name'].value_counts()\n",
    "print(\"Distribution of Perceived Color Masters:\")\n",
    "print(perceived_color_master_distribution)"
   ]
  },
  {
   "cell_type": "code",
   "execution_count": 82,
   "id": "d8af22b0",
   "metadata": {},
   "outputs": [
    {
     "data": {
      "image/png": "[encoded data removed]",
      "text/plain": [
       "<Figure size 864x432 with 1 Axes>"
      ]
     },
     "metadata": {},
     "output_type": "display_data"
    }
   ],
   "source": [
    "import matplotlib.pyplot as plt\n",
    "\n",
    "color_group_counts = data_art['colour_group_name'].value_counts()\n",
    "plt.figure(figsize=(12, 6))\n",
    "color_group_counts.plot(kind='bar', color='skyblue')\n",
    "plt.title('Distribution of Color Groups')\n",
    "plt.xlabel('Color Group')\n",
    "plt.ylabel('Count')\n",
    "plt.show()"
   ]
  },
  {
   "cell_type": "code",
   "execution_count": 85,
   "id": "4e483aee",
   "metadata": {},
   "outputs": [
    {
     "name": "stdout",
     "output_type": "stream",
     "text": [
      "Top 5 Most Popular Black Products:\n",
      "684021    18\n",
      "807241    16\n",
      "674606    15\n",
      "627554    15\n",
      "783707    14\n",
      "Name: product_code, dtype: int64\n"
     ]
    }
   ],
   "source": [
    "import pandas as pd\n",
    "\n",
    "black_color_data = data_art[data_art['colour_group_name'] == 'Black']\n",
    "\n",
    "most_popular_black_products = black_color_data['product_code'].value_counts().nlargest(5)\n",
    "print(\"Top 5 Most Popular Black Products:\")\n",
    "print(most_popular_black_products)"
   ]
  },
  {
   "cell_type": "code",
   "execution_count": 90,
   "id": "6862d6e8",
   "metadata": {},
   "outputs": [
    {
     "name": "stdout",
     "output_type": "stream",
     "text": [
      "Top 5 Most Popular Black Products with Types:\n",
      " product_code product_type_name  product_code_y\n",
      "       684021           T-shirt          684021\n",
      "       684021           T-shirt          684021\n",
      "       684021           T-shirt          684021\n",
      "       684021           T-shirt          684021\n",
      "       684021           T-shirt          684021\n",
      "       684021           T-shirt          684021\n",
      "       684021           T-shirt          684021\n",
      "       684021           T-shirt          684021\n",
      "       684021           T-shirt          684021\n",
      "       684021           T-shirt          684021\n",
      "       684021           T-shirt          684021\n",
      "       684021           T-shirt          684021\n",
      "       684021           T-shirt          684021\n",
      "       684021           T-shirt          684021\n",
      "       684021           T-shirt          684021\n",
      "       684021           T-shirt          684021\n",
      "       684021           T-shirt          684021\n",
      "       684021           T-shirt          684021\n",
      "       684021           T-shirt          684021\n",
      "       684021           T-shirt          684021\n",
      "       684021           T-shirt          684021\n",
      "       684021           T-shirt          684021\n",
      "       684021           T-shirt          684021\n",
      "       684021           T-shirt          684021\n",
      "       684021           T-shirt          684021\n",
      "       684021           T-shirt          684021\n",
      "       684021           T-shirt          684021\n",
      "       684021           T-shirt          684021\n",
      "       684021           T-shirt          684021\n",
      "       684021           T-shirt          684021\n",
      "       684021           T-shirt          684021\n",
      "       684021           T-shirt          684021\n",
      "       684021           T-shirt          684021\n",
      "       684021           T-shirt          684021\n",
      "       684021           T-shirt          684021\n",
      "       684021           T-shirt          684021\n",
      "       684021           T-shirt          684021\n",
      "       684021           T-shirt          684021\n",
      "       684021           T-shirt          684021\n",
      "       684021           T-shirt          684021\n",
      "       684021           T-shirt          684021\n",
      "       684021           T-shirt          684021\n",
      "       684021           T-shirt          684021\n",
      "       684021           T-shirt          684021\n",
      "       684021           T-shirt          684021\n",
      "       684021           T-shirt          684021\n",
      "       684021           T-shirt          684021\n",
      "       684021           T-shirt          684021\n",
      "       684021           T-shirt          684021\n",
      "       684021           T-shirt          684021\n",
      "       684021           T-shirt          684021\n",
      "       684021           T-shirt          684021\n",
      "       684021           T-shirt          684021\n",
      "       684021           T-shirt          684021\n",
      "       684021           T-shirt          684021\n",
      "       684021           T-shirt          684021\n",
      "       684021           T-shirt          684021\n",
      "       684021           T-shirt          684021\n",
      "       684021           T-shirt          684021\n",
      "       684021           T-shirt          684021\n",
      "       684021           T-shirt          684021\n",
      "       684021           T-shirt          684021\n",
      "       684021           T-shirt          684021\n",
      "       684021           T-shirt          684021\n",
      "       684021           T-shirt          684021\n",
      "       684021           T-shirt          684021\n",
      "       684021           T-shirt          684021\n",
      "       684021           T-shirt          684021\n",
      "       684021           T-shirt          684021\n",
      "       684021           T-shirt          684021\n",
      "       807241             Socks          807241\n",
      "       807241             Socks          807241\n",
      "       807241             Socks          807241\n",
      "       807241             Socks          807241\n",
      "       807241             Socks          807241\n",
      "       807241             Socks          807241\n",
      "       807241             Socks          807241\n",
      "       807241             Socks          807241\n",
      "       807241             Socks          807241\n",
      "       807241             Socks          807241\n",
      "       807241             Socks          807241\n",
      "       807241             Socks          807241\n",
      "       807241             Socks          807241\n",
      "       807241             Socks          807241\n",
      "       807241             Socks          807241\n",
      "       807241             Socks          807241\n",
      "       807241             Socks          807241\n",
      "       807241             Socks          807241\n",
      "       807241             Socks          807241\n",
      "       807241             Socks          807241\n",
      "       807241             Socks          807241\n",
      "       807241             Socks          807241\n",
      "       807241             Socks          807241\n",
      "       807241             Socks          807241\n",
      "       807241             Socks          807241\n",
      "       807241             Socks          807241\n",
      "       807241             Socks          807241\n",
      "       807241             Socks          807241\n",
      "       807241             Socks          807241\n",
      "       807241             Socks          807241\n",
      "       807241             Socks          807241\n",
      "       807241             Socks          807241\n",
      "       807241             Socks          807241\n",
      "       807241             Socks          807241\n",
      "       807241             Socks          807241\n",
      "       807241             Socks          807241\n",
      "       807241             Socks          807241\n",
      "       807241             Socks          807241\n",
      "       674606             Skirt          674606\n",
      "       674606             Skirt          674606\n",
      "       674606             Skirt          674606\n",
      "       674606             Skirt          674606\n",
      "       674606             Skirt          674606\n",
      "       674606             Skirt          674606\n",
      "       674606             Skirt          674606\n",
      "       674606             Skirt          674606\n",
      "       674606             Skirt          674606\n",
      "       674606             Skirt          674606\n",
      "       674606             Skirt          674606\n",
      "       674606             Skirt          674606\n",
      "       674606             Skirt          674606\n",
      "       674606             Skirt          674606\n",
      "       674606             Skirt          674606\n",
      "       674606             Skirt          674606\n",
      "       674606             Skirt          674606\n",
      "       674606             Skirt          674606\n",
      "       674606             Skirt          674606\n",
      "       674606             Skirt          674606\n",
      "       674606             Skirt          674606\n",
      "       674606             Skirt          674606\n",
      "       674606             Skirt          674606\n",
      "       674606             Skirt          674606\n",
      "       674606             Skirt          674606\n",
      "       674606             Skirt          674606\n",
      "       674606             Skirt          674606\n",
      "       674606             Skirt          674606\n",
      "       674606             Skirt          674606\n",
      "       674606             Skirt          674606\n",
      "       674606             Skirt          674606\n",
      "       674606             Skirt          674606\n",
      "       674606             Skirt          674606\n",
      "       674606             Skirt          674606\n",
      "       674606             Skirt          674606\n",
      "       674606             Skirt          674606\n",
      "       674606             Skirt          674606\n",
      "       674606             Skirt          674606\n",
      "       627554   Leggings/Tights          627554\n",
      "       627554   Leggings/Tights          627554\n",
      "       627554   Leggings/Tights          627554\n",
      "       627554   Leggings/Tights          627554\n",
      "       627554   Leggings/Tights          627554\n",
      "       627554   Leggings/Tights          627554\n",
      "       627554   Leggings/Tights          627554\n",
      "       627554   Leggings/Tights          627554\n",
      "       627554   Leggings/Tights          627554\n",
      "       627554   Leggings/Tights          627554\n",
      "       627554   Leggings/Tights          627554\n",
      "       627554   Leggings/Tights          627554\n",
      "       627554   Leggings/Tights          627554\n",
      "       627554   Leggings/Tights          627554\n",
      "       627554   Leggings/Tights          627554\n",
      "       627554   Leggings/Tights          627554\n",
      "       627554   Leggings/Tights          627554\n",
      "       627554   Leggings/Tights          627554\n",
      "       627554   Leggings/Tights          627554\n",
      "       627554   Leggings/Tights          627554\n",
      "       627554   Leggings/Tights          627554\n",
      "       783707             Socks          783707\n",
      "       783707             Socks          783707\n",
      "       783707             Socks          783707\n",
      "       783707             Socks          783707\n",
      "       783707             Socks          783707\n",
      "       783707             Socks          783707\n",
      "       783707             Socks          783707\n",
      "       783707             Socks          783707\n",
      "       783707             Socks          783707\n",
      "       783707             Socks          783707\n",
      "       783707             Socks          783707\n",
      "       783707             Socks          783707\n",
      "       783707             Socks          783707\n",
      "       783707             Socks          783707\n",
      "       783707             Socks          783707\n",
      "       783707             Socks          783707\n",
      "       783707             Socks          783707\n",
      "       783707             Socks          783707\n",
      "       783707             Socks          783707\n",
      "       783707             Socks          783707\n",
      "       783707             Socks          783707\n",
      "       783707             Socks          783707\n",
      "       783707             Socks          783707\n",
      "       783707             Socks          783707\n",
      "       783707             Socks          783707\n",
      "       783707             Socks          783707\n",
      "       783707             Socks          783707\n",
      "       783707             Socks          783707\n",
      "       783707             Socks          783707\n",
      "       783707             Socks          783707\n",
      "       783707             Socks          783707\n",
      "       783707             Socks          783707\n",
      "       783707             Socks          783707\n",
      "       783707             Socks          783707\n",
      "       783707             Socks          783707\n",
      "       783707             Socks          783707\n",
      "       783707             Socks          783707\n",
      "       783707             Socks          783707\n",
      "       783707             Socks          783707\n",
      "       783707             Socks          783707\n",
      "       783707             Socks          783707\n",
      "       783707             Socks          783707\n",
      "       783707             Socks          783707\n",
      "       783707             Socks          783707\n",
      "       783707             Socks          783707\n",
      "       783707             Socks          783707\n",
      "       783707             Socks          783707\n",
      "       783707             Socks          783707\n",
      "       783707             Socks          783707\n",
      "       783707             Socks          783707\n",
      "       783707             Socks          783707\n",
      "       783707             Socks          783707\n",
      "       783707             Socks          783707\n",
      "       783707             Socks          783707\n",
      "       783707             Socks          783707\n",
      "       783707             Socks          783707\n",
      "       783707             Socks          783707\n",
      "       783707             Socks          783707\n",
      "       783707             Socks          783707\n",
      "       783707             Socks          783707\n",
      "       783707             Socks          783707\n",
      "       783707             Socks          783707\n",
      "       783707             Socks          783707\n",
      "       783707             Socks          783707\n",
      "       783707             Socks          783707\n",
      "       783707             Socks          783707\n",
      "       783707             Socks          783707\n",
      "       783707             Socks          783707\n",
      "       783707             Socks          783707\n",
      "       783707             Socks          783707\n",
      "       783707             Socks          783707\n",
      "       783707             Socks          783707\n",
      "       783707             Socks          783707\n",
      "       783707             Socks          783707\n",
      "       783707             Socks          783707\n"
     ]
    }
   ],
   "source": [
    "import pandas as pd\n",
    "\n",
    "black_color_data = data_art[data_art['colour_group_name'] == 'Black']\n",
    "\n",
    "#analyze the distribution of products within the subset of black colors\n",
    "most_popular_black_products = black_color_data['product_code'].value_counts().nlargest(5)\n",
    "\n",
    "#merge with the original data to get additional information\n",
    "merged_data = pd.merge(most_popular_black_products, data_art[['product_code', 'product_type_name']], left_index=True, right_on='product_code', how='left')\n",
    "\n",
    "print(\"Top 5 Most Popular Black Products with Types:\")\n",
    "print(merged_data[['product_code', 'product_type_name', 'product_code_y']].to_string(index=False))"
   ]
  },
  {
   "cell_type": "code",
   "execution_count": 96,
   "id": "204e8e94",
   "metadata": {},
   "outputs": [
    {
     "name": "stdout",
     "output_type": "stream",
     "text": [
      "\n",
      "Top 5 most popular black products with types, summed counts, and unique product types:\n",
      " index product_type_name  total_count unique_product_types\n",
      "684021               NaN           18              T-shirt\n",
      "807241               NaN           16                Socks\n",
      "674606               NaN           15                Skirt\n",
      "627554               NaN           15      Leggings/Tights\n",
      "783707               NaN           14                Socks\n"
     ]
    }
   ],
   "source": [
    "black_color_data = data_art[data_art['colour_group_name'] == 'Black']\n",
    "product_code_counts = black_color_data['product_code'].value_counts().reset_index(name='total_count')\n",
    "\n",
    "#the top 5 most popular black products\n",
    "top5_popular_black_products = product_code_counts.nlargest(5, 'total_count')\n",
    "\n",
    "#merge with the original data to get additional information\n",
    "merged_data = pd.merge(top5_popular_black_products, product_counts[['product_code', 'product_type_name']], left_on='index', right_index=True, how='left')\n",
    "\n",
    "#display only the product code, product type, summed count, and unique product types in 5 rows\n",
    "print(\"\\nTop 5 most popular black products with types, summed counts, and unique product types:\")\n",
    "merged_data['unique_product_types'] = merged_data['index'].apply(\n",
    "    lambda code: ', '.join(product_counts[product_counts['product_code'] == code]['product_type_name'].unique())\n",
    ")\n",
    "print(merged_data[['index', 'product_type_name', 'total_count', 'unique_product_types']].to_string(index=False))"
   ]
  },
  {
   "cell_type": "markdown",
   "id": "10072655",
   "metadata": {},
   "source": [
    "#### index"
   ]
  },
  {
   "cell_type": "code",
   "execution_count": 98,
   "id": "08aa02ee",
   "metadata": {},
   "outputs": [
    {
     "name": "stdout",
     "output_type": "stream",
     "text": [
      "Number of unique indices: 10\n",
      "Number of unique index groups: 5\n"
     ]
    }
   ],
   "source": [
    "#count unique index codes\n",
    "unique_indices = data_art['index_code'].nunique()\n",
    "\n",
    "#count unique index groups\n",
    "unique_index_groups = data_art['index_group_name'].nunique()\n",
    "\n",
    "print(f\"Number of unique indices: {unique_indices}\")\n",
    "print(f\"Number of unique index groups: {unique_index_groups}\")"
   ]
  },
  {
   "cell_type": "code",
   "execution_count": 99,
   "id": "dcf40c7d",
   "metadata": {},
   "outputs": [
    {
     "name": "stdout",
     "output_type": "stream",
     "text": [
      "\n",
      "Statistics on index codes and index groups:\n",
      "  index_code index_group_name  product_code  product_type_name  \\\n",
      "0          A       Ladieswear         26001                 71   \n",
      "1          B       Ladieswear          6775                 27   \n",
      "2          C       Ladieswear          6961                 46   \n",
      "3          D          Divided         15149                 74   \n",
      "4          F         Menswear         12553                 65   \n",
      "5          G    Baby/Children          8875                 69   \n",
      "6          H    Baby/Children         12007                 44   \n",
      "7          I    Baby/Children          9214                 35   \n",
      "8          J    Baby/Children          4615                 59   \n",
      "9          S            Sport          3392                 33   \n",
      "\n",
      "           department_name  \n",
      "0                   Jersey  \n",
      "1      Expressive Lingerie  \n",
      "2                Jewellery  \n",
      "3        Tops Fancy Jersey  \n",
      "4             Jersey Fancy  \n",
      "5              Baby basics  \n",
      "6   Kids Girl Jersey Fancy  \n",
      "7  Young Girl Jersey Fancy  \n",
      "8     Girls Small Acc/Bags  \n",
      "9        Ladies Sport Bras  \n"
     ]
    }
   ],
   "source": [
    "#group by index code and index group to explore relationships\n",
    "index_group_stats = data_art.groupby(['index_code', 'index_group_name']).agg({\n",
    "    'product_code': 'count',\n",
    "    'product_type_name': pd.Series.nunique,  # Number of unique product types\n",
    "    'department_name': pd.Series.mode  # Most frequent department name\n",
    "}).reset_index()\n",
    "\n",
    "#the result\n",
    "print(\"\\nStatistics on index codes and index groups:\")\n",
    "print(index_group_stats)"
   ]
  },
  {
   "cell_type": "code",
   "execution_count": 104,
   "id": "b298bb69",
   "metadata": {},
   "outputs": [
    {
     "name": "stdout",
     "output_type": "stream",
     "text": [
      "\n",
      "Top 5 most popular index groups:\n",
      "Ladieswear       39737\n",
      "Baby/Children    34711\n",
      "Divided          15149\n",
      "Menswear         12553\n",
      "Sport             3392\n",
      "Name: index_group_name, dtype: int64\n"
     ]
    }
   ],
   "source": [
    "most_popular_index_groups = data_art['index_group_name'].value_counts().nlargest(5)\n",
    "\n",
    "print(\"\\nTop 5 most popular index groups:\")\n",
    "print(most_popular_index_groups)"
   ]
  },
  {
   "cell_type": "markdown",
   "id": "f04ef8fa",
   "metadata": {},
   "source": [
    "##### Products"
   ]
  },
  {
   "cell_type": "code",
   "execution_count": 106,
   "id": "cb272fac",
   "metadata": {},
   "outputs": [
    {
     "data": {
      "image/png": "[encoded data removed]",
      "text/plain": [
       "<Figure size 864x432 with 1 Axes>"
      ]
     },
     "metadata": {},
     "output_type": "display_data"
    }
   ],
   "source": [
    "import pandas as pd\n",
    "import matplotlib.pyplot as plt\n",
    "\n",
    "#how many times each product type appears?\n",
    "product_counts = data_art['product_type_name'].value_counts().nlargest(20)\n",
    "\n",
    "plt.figure(figsize=(12, 6))\n",
    "product_counts.plot(kind='bar', color='skyblue')\n",
    "plt.title('Distribution of the Top 20 Most Popular Products')\n",
    "plt.xlabel('Product Type')\n",
    "plt.ylabel('Count')\n",
    "plt.show()"
   ]
  },
  {
   "cell_type": "code",
   "execution_count": 108,
   "id": "d331f3bd",
   "metadata": {},
   "outputs": [
    {
     "data": {
      "image/png": "[encoded data removed]",
      "text/plain": [
       "<Figure size 864x432 with 1 Axes>"
      ]
     },
     "metadata": {},
     "output_type": "display_data"
    }
   ],
   "source": [
    "product_group_counts = data_art['product_group_name'].value_counts().nlargest(20)\n",
    "\n",
    "#how many times each product group appears?\n",
    "plt.figure(figsize=(12, 6))\n",
    "product_group_counts.plot(kind='bar', color='skyblue')\n",
    "plt.title('Distribution of the Top 20 Most Popular Product groups')\n",
    "plt.xlabel('Product Group')\n",
    "plt.ylabel('Count')\n",
    "plt.show()"
   ]
  },
  {
   "cell_type": "code",
   "execution_count": null,
   "id": "8295d7d3",
   "metadata": {},
   "outputs": [],
   "source": []
  },
  {
   "cell_type": "code",
   "execution_count": 109,
   "id": "48cafdc0",
   "metadata": {},
   "outputs": [
    {
     "data": {
      "image/png": "[encoded data removed]",
      "text/plain": [
       "<Figure size 864x432 with 1 Axes>"
      ]
     },
     "metadata": {},
     "output_type": "display_data"
    }
   ],
   "source": [
    "import pandas as pd\n",
    "import matplotlib.pyplot as plt\n",
    "\n",
    "graphical_appearance_counts = data_art['graphical_appearance_name'].value_counts()\n",
    "\n",
    "plt.figure(figsize=(12, 6))\n",
    "graphical_appearance_counts.plot(kind='bar', color='skyblue')\n",
    "plt.title('Distribution of Graphical Appearances')\n",
    "plt.xlabel('Graphical Appearance')\n",
    "plt.ylabel('Count')\n",
    "plt.show()"
   ]
  },
  {
   "cell_type": "code",
   "execution_count": 110,
   "id": "b146a276",
   "metadata": {},
   "outputs": [
    {
     "name": "stdout",
     "output_type": "stream",
     "text": [
      "\n",
      "Statistics on Graphical Appearances:\n",
      "   graphical_appearance_name  product_type_name           department_name\n",
      "0           All over pattern                 87    Kids Girl Jersey Fancy\n",
      "1             Application/3D                 58    Kids Girl Jersey Fancy\n",
      "2                     Argyle                  9  [Jersey Fancy, Knitwear]\n",
      "3                   Chambray                 28        Young Girl Dresses\n",
      "4                      Check                 50                   Trouser\n",
      "5            Colour blocking                 52              Jersey Fancy\n",
      "6                   Contrast                 42       Expressive Lingerie\n",
      "7                      Denim                 22            Denim Trousers\n",
      "8                        Dot                 51                    Jersey\n",
      "9                 Embroidery                 44          Projects Dresses\n",
      "10               Front print                 46   Young Girl Jersey Fancy\n",
      "11       Glittering/Metallic                 63           Kids Girl Shoes\n",
      "12                  Hologram                  5         Other Accessories\n",
      "13                  Jacquard                 36                  Knitwear\n",
      "14                      Lace                 44       Expressive Lingerie\n",
      "15                   Melange                 61                  Knitwear\n",
      "16                      Mesh                 18      Ladies Sport Bottoms\n",
      "17                  Metallic                 54         Small Accessories\n",
      "18       Mixed solid/pattern                 61           Kids Girl UW/NW\n",
      "19                      Neps                 15                  Knitwear\n",
      "20             Other pattern                 49             Kids Girl S&T\n",
      "21           Other structure                 67                  Swimwear\n",
      "22           Placement print                 62              Jersey Fancy\n",
      "23                    Sequin                 29    Kids Girl Jersey Fancy\n",
      "24                      Slub                 19   Young Girl Jersey Basic\n",
      "25                     Solid                126                    Jersey\n",
      "26                    Stripe                 68                    Jersey\n",
      "27               Transparent                 23          Hair Accessories\n",
      "28                 Treatment                 25           Jersey Fancy DS\n",
      "29                   Unknown                 18     Equatorial Assortment\n"
     ]
    }
   ],
   "source": [
    "#group by graphical appearance and analyze statistics\n",
    "graphical_appearance_stats = data_art.groupby('graphical_appearance_name').agg({\n",
    "    'product_type_name': pd.Series.nunique,  # Number of unique product types\n",
    "    'department_name': pd.Series.mode  # Most frequent department name\n",
    "}).reset_index()\n",
    "\n",
    "print(\"\\nStatistics on Graphical Appearances:\")\n",
    "print(graphical_appearance_stats)"
   ]
  },
  {
   "cell_type": "code",
   "execution_count": 111,
   "id": "99cf8a9e",
   "metadata": {},
   "outputs": [
    {
     "name": "stdout",
     "output_type": "stream",
     "text": [
      "\n",
      "Top 10 Most Common Graphical Appearances:\n",
      "Solid               49747\n",
      "All over pattern    17165\n",
      "Melange              5938\n",
      "Stripe               4990\n",
      "Denim                4842\n",
      "Front print          3215\n",
      "Placement print      3098\n",
      "Check                2178\n",
      "Colour blocking      1830\n",
      "Lace                 1513\n",
      "Name: graphical_appearance_name, dtype: int64\n"
     ]
    }
   ],
   "source": [
    "#the most common graphical appearances\n",
    "top_n_appearances = data_art['graphical_appearance_name'].value_counts().nlargest(10)\n",
    "\n",
    "print(\"\\nTop 10 Most Common Graphical Appearances:\")\n",
    "print(top_n_appearances)"
   ]
  }
 ],
 "metadata": {
  "kernelspec": {
   "display_name": "Python 3 (ipykernel)",
   "language": "python",
   "name": "python3"
  },
  "language_info": {
   "codemirror_mode": {
    "name": "ipython",
    "version": 3
   },
   "file_extension": ".py",
   "mimetype": "text/x-python",
   "name": "python",
   "nbconvert_exporter": "python",
   "pygments_lexer": "ipython3",
   "version": "3.9.12"
  }
 },
 "nbformat": 4,
 "nbformat_minor": 5
}
