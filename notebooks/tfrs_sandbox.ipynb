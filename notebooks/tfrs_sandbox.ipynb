{
  "nbformat": 4,
  "nbformat_minor": 0,
  "metadata": {
    "colab": {
      "provenance": []
    },
    "kernelspec": {
      "name": "python3",
      "display_name": "Python 3"
    },
    "language_info": {
      "name": "python"
    }
  },
  "cells": [
    {
      "cell_type": "markdown",
      "source": [
        "# Trying to adapt solution from [TFRS](https://www.tensorflow.org/recommenders/examples/basic_retrieval) tutorial for H&M data."
      ],
      "metadata": {
        "id": "2PCr_mq73Jcl"
      }
    },
    {
      "cell_type": "code",
      "source": [
        "!pip install -q tensorflow-recommenders\n",
        "!pip install -q scann"
      ],
      "metadata": {
        "id": "mD0kb-hgiL2_"
      },
      "execution_count": 88,
      "outputs": []
    },
    {
      "cell_type": "code",
      "source": [
        "import os\n",
        "import pprint\n",
        "import tempfile\n",
        "import datetime\n",
        "import pandas as pd\n",
        "import numpy as np\n",
        "import tensorflow as tf\n",
        "import tensorflow_recommenders as tfrs\n",
        "\n",
        "from typing import Dict, Text\n",
        "from sklearn.model_selection import train_test_split"
      ],
      "metadata": {
        "id": "Ymlm3PE2iM8v"
      },
      "execution_count": 89,
      "outputs": []
    },
    {
      "cell_type": "markdown",
      "source": [
        "- H&M transaction data were subsampled using [custom function](https://github.com/omegatro/IGP_2023/blob/main/modules/preprocessing.py to 5% of the original records (seed = 4312).\n",
        "- The subsampled data were transformed to represent number of transactions for individual customer-product combinations (number of times each product was bought by each customer). The following code was used:\n",
        "```\n",
        "df = df.groupby(['customer_id', 'article_id']).count()\n",
        "df = df[['customer_id', 'article_id','t_dat']].reset_index()\n",
        "df.rename(columns={'t_dat':'t_count'}, inplace = True)\n",
        "df.to_csv('0_05_4312_cus_art_grp_count.csv', header=True, index=False)\n",
        "```\n",
        "- The resulting file was uploaded to google drive to work with from colab."
      ],
      "metadata": {
        "id": "_VJpIadL3aU6"
      }
    },
    {
      "cell_type": "code",
      "source": [
        "#In this iteration, only ids are used as attributes for simplicity\n",
        "sample_size = 10_000\n",
        "counts = pd.read_csv('/content/drive/MyDrive/0_05_4312_cus_art_grp_count.csv')[['customer_id', 'article_id']].sample(sample_size, random_state=1)\n",
        "#Generating training and test subsets\n",
        "train, test = train_test_split(counts, test_size=0.2)\n",
        "#Getting unique user ids (required to transform those into embeddings by the model)\n",
        "unq_cids = counts.customer_id.unique()"
      ],
      "metadata": {
        "id": "XJRYWX4VeEQx"
      },
      "execution_count": 193,
      "outputs": []
    },
    {
      "cell_type": "code",
      "source": [
        "#Getting product ids (required to transform those into embeddings by the model)\n",
        "articles = pd.read_csv('/content/drive/MyDrive/articles.csv')[['article_id']].sample(sample_size, random_state=1)\n",
        "unq_articles = articles.article_id.unique().astype(str)\n",
        "article_ids = articles['article_id'].astype(str).map(lambda x: x.encode('utf-8'))"
      ],
      "metadata": {
        "id": "bYlpH7CYgHce"
      },
      "execution_count": 194,
      "outputs": []
    },
    {
      "cell_type": "code",
      "source": [
        "print(article_ids[:5])"
      ],
      "metadata": {
        "colab": {
          "base_uri": "https://localhost:8080/"
        },
        "id": "4VxPoBPN2qxT",
        "outputId": "2dac46c1-9264-48bf-8093-89fc9e3d9e3e"
      },
      "execution_count": 195,
      "outputs": [
        {
          "output_type": "stream",
          "name": "stdout",
          "text": [
            "38159    b'656677021'\n",
            "69760    b'758050001'\n",
            "55574    b'711043002'\n",
            "88565    b'833548001'\n",
            "79069    b'796535023'\n",
            "Name: article_id, dtype: object\n"
          ]
        }
      ]
    },
    {
      "cell_type": "code",
      "source": [
        "print(unq_articles[:5])"
      ],
      "metadata": {
        "colab": {
          "base_uri": "https://localhost:8080/"
        },
        "id": "-ovw4JPw2-d6",
        "outputId": "9e1ee4ae-2d46-49e7-801a-aa60b65890be"
      },
      "execution_count": 172,
      "outputs": [
        {
          "output_type": "stream",
          "name": "stdout",
          "text": [
            "['656677021' '758050001' '711043002' '833548001' '796535023']\n"
          ]
        }
      ]
    },
    {
      "cell_type": "code",
      "source": [
        "len(unq_cids)"
      ],
      "metadata": {
        "colab": {
          "base_uri": "https://localhost:8080/"
        },
        "id": "ektO1J12f-I7",
        "outputId": "c94b8ced-43fa-45f3-f2a5-e94fa1a14037"
      },
      "execution_count": 173,
      "outputs": [
        {
          "output_type": "execute_result",
          "data": {
            "text/plain": [
              "46906"
            ]
          },
          "metadata": {},
          "execution_count": 173
        }
      ]
    },
    {
      "cell_type": "code",
      "source": [
        "len(unq_articles)"
      ],
      "metadata": {
        "colab": {
          "base_uri": "https://localhost:8080/"
        },
        "id": "IAnpi6sieLoK",
        "outputId": "3c83cb2c-74a1-4ae1-9637-926d2962953a"
      },
      "execution_count": 174,
      "outputs": [
        {
          "output_type": "execute_result",
          "data": {
            "text/plain": [
              "50000"
            ]
          },
          "metadata": {},
          "execution_count": 174
        }
      ]
    },
    {
      "cell_type": "markdown",
      "source": [
        "# Converting from pandas df to tensorflow datasets for compatibility"
      ],
      "metadata": {
        "id": "JRgf4c-c5cBU"
      }
    },
    {
      "cell_type": "code",
      "source": [
        "train['customer_id'] = train.customer_id.astype(str)\n",
        "train['article_id'] = train.article_id.astype(str)\n",
        "train = train.to_dict(orient='list')\n",
        "train = tf.data.Dataset.from_tensor_slices(train)"
      ],
      "metadata": {
        "id": "0CaTGLR7_eg-"
      },
      "execution_count": 196,
      "outputs": []
    },
    {
      "cell_type": "code",
      "source": [
        "test['customer_id'] = test.customer_id.astype(str)\n",
        "test['article_id'] = test.article_id.astype(str)\n",
        "test = test.to_dict(orient='list')\n",
        "test = tf.data.Dataset.from_tensor_slices(test)"
      ],
      "metadata": {
        "id": "g1efdOWsp-1s"
      },
      "execution_count": 197,
      "outputs": []
    },
    {
      "cell_type": "code",
      "source": [
        "for x in train.take(1).as_numpy_iterator():\n",
        "  pprint.pprint(x)"
      ],
      "metadata": {
        "colab": {
          "base_uri": "https://localhost:8080/"
        },
        "id": "YaUwDqS9AruK",
        "outputId": "373da512-4d40-4bd2-ea2e-94697b5a6127"
      },
      "execution_count": 177,
      "outputs": [
        {
          "output_type": "stream",
          "name": "stdout",
          "text": [
            "{'article_id': b'718743001',\n",
            " 'customer_id': b'e20942b0dee85a7b49e70cdafa4c14688e6c6b6336821e6652927e9cc1f8'\n",
            "                b'dbf0'}\n"
          ]
        }
      ]
    },
    {
      "cell_type": "code",
      "source": [
        "for x in test.take(1).as_numpy_iterator():\n",
        "  pprint.pprint(x)"
      ],
      "metadata": {
        "colab": {
          "base_uri": "https://localhost:8080/"
        },
        "id": "TiEvoHALAszE",
        "outputId": "43261d46-5cb8-4533-c640-92e147fbc794"
      },
      "execution_count": 178,
      "outputs": [
        {
          "output_type": "stream",
          "name": "stdout",
          "text": [
            "{'article_id': b'685816041',\n",
            " 'customer_id': b'a6ef8e2cecaa0d8264fc900edb0e0316ba6d59b64e8f0a72a402eea6cbb3'\n",
            "                b'31a6'}\n"
          ]
        }
      ]
    },
    {
      "cell_type": "markdown",
      "source": [
        "# Adapting the model"
      ],
      "metadata": {
        "id": "ZfKyt08f5lDa"
      }
    },
    {
      "cell_type": "code",
      "source": [
        "embedding_dimension = 32"
      ],
      "metadata": {
        "id": "98pAJXkeiGcV"
      },
      "execution_count": 180,
      "outputs": []
    },
    {
      "cell_type": "markdown",
      "source": [
        "# Converting features into embedding vectors\n"
      ],
      "metadata": {
        "id": "ehfeCFTL5vNp"
      }
    },
    {
      "cell_type": "code",
      "source": [
        "customer_model = tf.keras.Sequential([\n",
        "  tf.keras.layers.StringLookup(\n",
        "      vocabulary=unq_cids, mask_token=None),\n",
        "  # We add an additional embedding to account for unknown tokens.\n",
        "  tf.keras.layers.Embedding(len(unq_cids) + 1, embedding_dimension)\n",
        "])"
      ],
      "metadata": {
        "id": "enbBaXAQie2a"
      },
      "execution_count": 181,
      "outputs": []
    },
    {
      "cell_type": "code",
      "source": [
        "product_model = tf.keras.Sequential([\n",
        "  tf.keras.layers.StringLookup(\n",
        "      vocabulary=unq_articles, mask_token=None),\n",
        "  tf.keras.layers.Embedding(len(unq_articles) + 1, embedding_dimension)\n",
        "])"
      ],
      "metadata": {
        "id": "HFuA2xCNikAk"
      },
      "execution_count": 182,
      "outputs": []
    },
    {
      "cell_type": "code",
      "source": [
        "#Generating embeddings from article ids to be used by evaluation layer to calculate the similarity score\n",
        "article_embeddings = product_model(article_ids)\n",
        "candidates_dataset = tf.data.Dataset.from_tensor_slices(article_embeddings)"
      ],
      "metadata": {
        "id": "boyD6iSfkpei"
      },
      "execution_count": 183,
      "outputs": []
    },
    {
      "cell_type": "code",
      "source": [
        "metrics = tfrs.metrics.FactorizedTopK(\n",
        "    candidates=candidates_dataset.batch(128)  # Batch the candidates for efficiency\n",
        ")"
      ],
      "metadata": {
        "id": "uYCABy7oi18c"
      },
      "execution_count": 184,
      "outputs": []
    },
    {
      "cell_type": "code",
      "source": [
        "task = tfrs.tasks.Retrieval(\n",
        "  metrics=metrics\n",
        ")"
      ],
      "metadata": {
        "id": "0Yu1R-pHi39t"
      },
      "execution_count": 185,
      "outputs": []
    },
    {
      "cell_type": "code",
      "source": [
        "class ProductlensModel(tfrs.Model):\n",
        "\n",
        "  def __init__(self, customer_model, product_model):\n",
        "    super().__init__()\n",
        "    self.product_model: tf.keras.Model = product_model\n",
        "    self.customer_model: tf.keras.Model = customer_model\n",
        "    self.task: tf.keras.layers.Layer = task\n",
        "\n",
        "  def compute_loss(self, features: Dict[Text, tf.Tensor], training=False) -> tf.Tensor:\n",
        "    # We pick out the user features and pass them into the user model.\n",
        "    customer_embeddings = self.customer_model(features[\"customer_id\"])\n",
        "    # And pick out the movie features and pass them into the movie model,\n",
        "    # getting embeddings back.\n",
        "    positive_product_embeddings = self.product_model(features[\"article_id\"])\n",
        "\n",
        "    # The task computes the loss and the metrics.\n",
        "    return self.task(customer_embeddings, positive_product_embeddings)"
      ],
      "metadata": {
        "id": "FeuJRqnDlBDN"
      },
      "execution_count": 187,
      "outputs": []
    },
    {
      "cell_type": "code",
      "source": [
        "class NoBaseClassProductlensModel(tf.keras.Model):\n",
        "\n",
        "  def __init__(self, customer_model, product_model):\n",
        "    super().__init__()\n",
        "    self.product_model: tf.keras.Model = product_model\n",
        "    self.customer_model: tf.keras.Model = customer_model\n",
        "    self.task: tf.keras.layers.Layer = task\n",
        "\n",
        "  def train_step(self, features: Dict[Text, tf.Tensor]) -> tf.Tensor:\n",
        "\n",
        "    # Set up a gradient tape to record gradients.\n",
        "    with tf.GradientTape() as tape:\n",
        "\n",
        "      # Loss computation.\n",
        "      customer_embeddings = self.customer_model(features[\"customer_id\"])\n",
        "      positive_product_embeddings = self.product_model(features[\"article_id\"])\n",
        "      loss = self.task(customer_embeddings, positive_product_embeddings)\n",
        "\n",
        "      # Handle regularization losses as well.\n",
        "      regularization_loss = sum(self.losses)\n",
        "\n",
        "      total_loss = loss + regularization_loss\n",
        "\n",
        "    gradients = tape.gradient(total_loss, self.trainable_variables)\n",
        "    self.optimizer.apply_gradients(zip(gradients, self.trainable_variables))\n",
        "\n",
        "    metrics = {metric.name: metric.result() for metric in self.metrics}\n",
        "    metrics[\"loss\"] = loss\n",
        "    metrics[\"regularization_loss\"] = regularization_loss\n",
        "    metrics[\"total_loss\"] = total_loss\n",
        "\n",
        "    return metrics\n",
        "\n",
        "  def test_step(self, features: Dict[Text, tf.Tensor]) -> tf.Tensor:\n",
        "\n",
        "    # Loss computation.\n",
        "    customer_embeddings = self.customer_model(features[\"customer_id\"])\n",
        "    positive_product_embeddings = self.product_model(features[\"article_id\"])\n",
        "    loss = self.task(customer_embeddings, positive_product_embeddings)\n",
        "\n",
        "    # Handle regularization losses as well.\n",
        "    regularization_loss = sum(self.losses)\n",
        "\n",
        "    total_loss = loss + regularization_loss\n",
        "\n",
        "    metrics = {metric.name: metric.result() for metric in self.metrics}\n",
        "    metrics[\"loss\"] = loss\n",
        "    metrics[\"regularization_loss\"] = regularization_loss\n",
        "    metrics[\"total_loss\"] = total_loss\n",
        "\n",
        "    return metrics"
      ],
      "metadata": {
        "id": "hAsaHOPgowLi"
      },
      "execution_count": 188,
      "outputs": []
    },
    {
      "cell_type": "code",
      "source": [
        "#Hyperparameters\n",
        "alpha = 0.1\n",
        "batch_size = 128\n",
        "epochs = 1"
      ],
      "metadata": {
        "id": "C4VFEegBKatZ"
      },
      "execution_count": 198,
      "outputs": []
    },
    {
      "cell_type": "code",
      "source": [
        "model = ProductlensModel(customer_model, product_model)\n",
        "model.compile(optimizer=tf.keras.optimizers.Adagrad(learning_rate=alpha))"
      ],
      "metadata": {
        "id": "jtxPK85KpuCG"
      },
      "execution_count": 199,
      "outputs": []
    },
    {
      "cell_type": "code",
      "source": [
        "cached_train = train.batch(batch_size).cache()\n",
        "cached_test = test.batch(batch_size).cache()"
      ],
      "metadata": {
        "id": "7X81FD08FHtb"
      },
      "execution_count": 200,
      "outputs": []
    },
    {
      "cell_type": "code",
      "source": [
        "model.fit(cached_train, epochs=epochs)"
      ],
      "metadata": {
        "colab": {
          "base_uri": "https://localhost:8080/"
        },
        "id": "ZDTnTMw0p2ot",
        "outputId": "6e7bf407-d098-44a4-a297-0d9917179138"
      },
      "execution_count": 201,
      "outputs": [
        {
          "output_type": "stream",
          "name": "stdout",
          "text": [
            "63/63 [==============================] - 81s 1s/step - factorized_top_k/top_1_categorical_accuracy: 0.1343 - factorized_top_k/top_5_categorical_accuracy: 0.1471 - factorized_top_k/top_10_categorical_accuracy: 0.1523 - factorized_top_k/top_50_categorical_accuracy: 0.1646 - factorized_top_k/top_100_categorical_accuracy: 0.1714 - loss: 609.9616 - regularization_loss: 0.0000e+00 - total_loss: 609.9616\n"
          ]
        },
        {
          "output_type": "execute_result",
          "data": {
            "text/plain": [
              "<keras.src.callbacks.History at 0x79241f67cdf0>"
            ]
          },
          "metadata": {},
          "execution_count": 201
        }
      ]
    },
    {
      "cell_type": "code",
      "source": [
        "model.evaluate(cached_test, return_dict=True)"
      ],
      "metadata": {
        "id": "kGtKjjiuGJFy",
        "colab": {
          "base_uri": "https://localhost:8080/"
        },
        "outputId": "cbb04adf-5d81-4493-c7a6-8382b36046d5"
      },
      "execution_count": 202,
      "outputs": [
        {
          "output_type": "stream",
          "name": "stdout",
          "text": [
            "16/16 [==============================] - 18s 1s/step - factorized_top_k/top_1_categorical_accuracy: 0.1315 - factorized_top_k/top_5_categorical_accuracy: 0.1460 - factorized_top_k/top_10_categorical_accuracy: 0.1530 - factorized_top_k/top_50_categorical_accuracy: 0.1720 - factorized_top_k/top_100_categorical_accuracy: 0.1800 - loss: 589.2382 - regularization_loss: 0.0000e+00 - total_loss: 589.2382\n"
          ]
        },
        {
          "output_type": "execute_result",
          "data": {
            "text/plain": [
              "{'factorized_top_k/top_1_categorical_accuracy': 0.1315000057220459,\n",
              " 'factorized_top_k/top_5_categorical_accuracy': 0.1459999978542328,\n",
              " 'factorized_top_k/top_10_categorical_accuracy': 0.15299999713897705,\n",
              " 'factorized_top_k/top_50_categorical_accuracy': 0.1720000058412552,\n",
              " 'factorized_top_k/top_100_categorical_accuracy': 0.18000000715255737,\n",
              " 'loss': 350.40692138671875,\n",
              " 'regularization_loss': 0,\n",
              " 'total_loss': 350.40692138671875}"
            ]
          },
          "metadata": {},
          "execution_count": 202
        }
      ]
    },
    {
      "cell_type": "markdown",
      "source": [
        "# Ranking model"
      ],
      "metadata": {
        "id": "4v-02z1NsVUF"
      }
    },
    {
      "cell_type": "code",
      "source": [
        "#In this iteration, only ids are used as attributes for simplicity\n",
        "counts = pd.read_csv('/content/drive/MyDrive/0_05_4312_cus_art_grp_count.csv')[['customer_id', 'article_id','t_count']]\n",
        "#Generating training and test subsets\n",
        "train, test = train_test_split(counts, test_size=0.2)\n",
        "#Getting unique user ids (required to transform those into embeddings by the model)\n",
        "unq_cids = counts.customer_id.unique()"
      ],
      "metadata": {
        "id": "gHKfl5ZTv_Vn"
      },
      "execution_count": 227,
      "outputs": []
    },
    {
      "cell_type": "code",
      "source": [
        "#Getting product ids (required to transform those into embeddings by the model)\n",
        "articles = pd.read_csv('/content/drive/MyDrive/articles.csv')[['article_id']].sample(sample_size, random_state=1)\n",
        "unq_articles = articles.article_id.unique().astype(str)\n",
        "article_ids = articles['article_id'].astype(str).map(lambda x: x.encode('utf-8'))"
      ],
      "metadata": {
        "id": "GpUrdEz8wBde"
      },
      "execution_count": 228,
      "outputs": []
    },
    {
      "cell_type": "code",
      "source": [
        "train['customer_id'] = train.customer_id.astype(str)\n",
        "train['article_id'] = train.article_id.astype(str)\n",
        "train = train.to_dict(orient='list')\n",
        "train = tf.data.Dataset.from_tensor_slices(train)"
      ],
      "metadata": {
        "id": "3Uxt735MwEYW"
      },
      "execution_count": 229,
      "outputs": []
    },
    {
      "cell_type": "code",
      "source": [
        "for x in train.take(1).as_numpy_iterator():\n",
        "  pprint.pprint(x)"
      ],
      "metadata": {
        "colab": {
          "base_uri": "https://localhost:8080/"
        },
        "id": "MuwDyB4IzIBR",
        "outputId": "64a99fcf-d5c3-44bc-b25f-39490900b4da"
      },
      "execution_count": 255,
      "outputs": [
        {
          "output_type": "stream",
          "name": "stdout",
          "text": [
            "{'article_id': b'776740001',\n",
            " 'customer_id': b'503fbc985779237bbd7ddf8c46194d1c3cc2162f7533d59c9598be578c72'\n",
            "                b'bae8',\n",
            " 't_count': 1}\n"
          ]
        }
      ]
    },
    {
      "cell_type": "code",
      "source": [
        "test['customer_id'] = test.customer_id.astype(str)\n",
        "test['article_id'] = test.article_id.astype(str)\n",
        "test = test.to_dict(orient='list')\n",
        "test = tf.data.Dataset.from_tensor_slices(test)"
      ],
      "metadata": {
        "id": "Z_U1KncGwIgU"
      },
      "execution_count": 230,
      "outputs": []
    },
    {
      "cell_type": "code",
      "source": [
        "for x in test.take(1).as_numpy_iterator():\n",
        "  pprint.pprint(x)"
      ],
      "metadata": {
        "colab": {
          "base_uri": "https://localhost:8080/"
        },
        "id": "O78Z6qUXzJk5",
        "outputId": "fed995f2-69ff-47a1-bde6-f12c88ef5e8b"
      },
      "execution_count": 256,
      "outputs": [
        {
          "output_type": "stream",
          "name": "stdout",
          "text": [
            "{'article_id': b'253448003',\n",
            " 'customer_id': b'73f7d8cca33b8236879d92a6188f691410a82763dc8bb65b8829568c07f8'\n",
            "                b'd9a7',\n",
            " 't_count': 1}\n"
          ]
        }
      ]
    },
    {
      "cell_type": "code",
      "source": [
        "class RankingModel(tf.keras.Model):\n",
        "\n",
        "  def __init__(self):\n",
        "    super().__init__()\n",
        "    embedding_dimension = 32\n",
        "\n",
        "    # Compute embeddings for users.\n",
        "    self.customer_embeddings = tf.keras.Sequential([\n",
        "      tf.keras.layers.StringLookup(\n",
        "        vocabulary=unq_cids , mask_token=None),\n",
        "      tf.keras.layers.Embedding(len(unq_cids) + 1, embedding_dimension)\n",
        "    ])\n",
        "\n",
        "    # Compute embeddings for product.\n",
        "    self.product_embeddings = tf.keras.Sequential([\n",
        "      tf.keras.layers.StringLookup(\n",
        "        vocabulary=unq_articles, mask_token=None),\n",
        "      tf.keras.layers.Embedding(len(unq_articles) + 1, embedding_dimension)\n",
        "    ])\n",
        "\n",
        "    # Compute predictions.\n",
        "    self.ratings = tf.keras.Sequential([\n",
        "      # Learn multiple dense layers.\n",
        "      tf.keras.layers.Dense(256, activation=\"relu\"),\n",
        "      tf.keras.layers.Dense(64, activation=\"relu\"),\n",
        "      # Make rating predictions in the final layer.\n",
        "      tf.keras.layers.Dense(1)\n",
        "  ])\n",
        "\n",
        "  def call(self, inputs):\n",
        "\n",
        "    cus_id, art_id = inputs\n",
        "\n",
        "    cus_embedding = self.customer_embeddings(cus_id)\n",
        "    art_embedding = self.product_embeddings(art_id)\n",
        "\n",
        "    return self.ratings(tf.concat([cus_embedding, art_embedding], axis=1))"
      ],
      "metadata": {
        "id": "TkdSnaNAsUTD"
      },
      "execution_count": 231,
      "outputs": []
    },
    {
      "cell_type": "code",
      "source": [
        "task = tfrs.tasks.Ranking(\n",
        "  loss = tf.keras.losses.MeanSquaredError(),\n",
        "  metrics=[tf.keras.metrics.RootMeanSquaredError()]\n",
        ")"
      ],
      "metadata": {
        "id": "yxXMZWEisb39"
      },
      "execution_count": 232,
      "outputs": []
    },
    {
      "cell_type": "code",
      "source": [
        "class ProductlensModel(tfrs.models.Model):\n",
        "\n",
        "  def __init__(self):\n",
        "    super().__init__()\n",
        "    self.ranking_model: tf.keras.Model = RankingModel()\n",
        "    self.task: tf.keras.layers.Layer = tfrs.tasks.Ranking(\n",
        "      loss = tf.keras.losses.MeanSquaredError(),\n",
        "      metrics=[tf.keras.metrics.RootMeanSquaredError()]\n",
        "    )\n",
        "\n",
        "  def call(self, features: Dict[str, tf.Tensor]) -> tf.Tensor:\n",
        "    return self.ranking_model(\n",
        "        (features[\"customer_id\"], features[\"article_id\"]))\n",
        "\n",
        "  def compute_loss(self, features: Dict[Text, tf.Tensor], training=False) -> tf.Tensor:\n",
        "    labels = features.pop(\"t_count\")\n",
        "\n",
        "    rating_predictions = self(features)\n",
        "\n",
        "    # The task computes the loss and the metrics.\n",
        "    return self.task(labels=labels, predictions=rating_predictions)"
      ],
      "metadata": {
        "id": "OW9dIF4isf04"
      },
      "execution_count": 233,
      "outputs": []
    },
    {
      "cell_type": "code",
      "source": [
        "#Hyperparameters\n",
        "alpha = 0.5\n",
        "batch_size = 128\n",
        "epochs = 1"
      ],
      "metadata": {
        "id": "ffI3fDVUtezf"
      },
      "execution_count": 250,
      "outputs": []
    },
    {
      "cell_type": "code",
      "source": [
        "model = ProductlensModel()\n",
        "model.compile(optimizer=tf.keras.optimizers.Adagrad(learning_rate=alpha))"
      ],
      "metadata": {
        "id": "y6Zalto4siWA"
      },
      "execution_count": 251,
      "outputs": []
    },
    {
      "cell_type": "code",
      "source": [
        "cached_train = train.batch(batch_size).cache()\n",
        "cached_test = test.batch(batch_size).cache()"
      ],
      "metadata": {
        "id": "GGhKTMoxsqRI"
      },
      "execution_count": 252,
      "outputs": []
    },
    {
      "cell_type": "code",
      "source": [
        "model.fit(cached_train, epochs=epochs)"
      ],
      "metadata": {
        "colab": {
          "base_uri": "https://localhost:8080/"
        },
        "id": "kvfz7Tocsssq",
        "outputId": "8716fdd9-d364-4773-85da-3c6190c21a79"
      },
      "execution_count": 253,
      "outputs": [
        {
          "output_type": "stream",
          "name": "stdout",
          "text": [
            "9833/9833 [==============================] - 49s 5ms/step - root_mean_squared_error: 0.1159 - loss: 0.0134 - regularization_loss: 0.0000e+00 - total_loss: 0.0134\n"
          ]
        },
        {
          "output_type": "execute_result",
          "data": {
            "text/plain": [
              "<keras.src.callbacks.History at 0x79240b07c1c0>"
            ]
          },
          "metadata": {},
          "execution_count": 253
        }
      ]
    },
    {
      "cell_type": "code",
      "source": [
        "model.evaluate(cached_test, return_dict=True)"
      ],
      "metadata": {
        "colab": {
          "base_uri": "https://localhost:8080/"
        },
        "id": "YP9EZOmssuQv",
        "outputId": "dc34148b-7d97-4bf5-b473-d96a1bdee1e2"
      },
      "execution_count": 254,
      "outputs": [
        {
          "output_type": "stream",
          "name": "stdout",
          "text": [
            "2459/2459 [==============================] - 6s 3ms/step - root_mean_squared_error: 0.1088 - loss: 0.0119 - regularization_loss: 0.0000e+00 - total_loss: 0.0119\n"
          ]
        },
        {
          "output_type": "execute_result",
          "data": {
            "text/plain": [
              "{'root_mean_squared_error': 0.10878291726112366,\n",
              " 'loss': 0.035050321370363235,\n",
              " 'regularization_loss': 0,\n",
              " 'total_loss': 0.035050321370363235}"
            ]
          },
          "metadata": {},
          "execution_count": 254
        }
      ]
    },
    {
      "cell_type": "code",
      "source": [
        "test_counts = {}\n",
        "sample = counts.sample(1000)\n",
        "test_product_ids = zip(sample['customer_id'],sample['article_id'], sample['t_count'])\n",
        "for pid, aid, t_count in test_product_ids:\n",
        "  test_counts[pid] = (model({\n",
        "      \"customer_id\": np.array(['73f7d8cca33b8236879d92a6188f691410a82763dc8bb65b8829568c07f8d9a7']),\n",
        "      \"article_id\": np.array([pid])\n",
        "\n",
        "  }).numpy()[0,0], t_count)"
      ],
      "metadata": {
        "id": "D168ZPoFyutK"
      },
      "execution_count": 267,
      "outputs": []
    },
    {
      "cell_type": "code",
      "source": [
        "print(\"t_counts:\")\n",
        "for title, score in sorted(test_counts.items(), key=lambda x: x[1], reverse=True):\n",
        "  print(f\"{title}: {score}\")"
      ],
      "metadata": {
        "colab": {
          "base_uri": "https://localhost:8080/"
        },
        "id": "aAZCnggmzuoG",
        "outputId": "49639496-0390-470f-c4b8-b16ea422a39b"
      },
      "execution_count": 268,
      "outputs": [
        {
          "output_type": "stream",
          "name": "stdout",
          "text": [
            "t_counts:\n",
            "135371be9c58c90de31ac8a480c2cf851eaadd919316f3755a59a10b4428b192: (1.0121313, 2)\n",
            "09faaaadaac803254c5022faa85d2f837dc074959a2b5e1b266d857bab59f97e: (1.0121313, 2)\n",
            "d113b3af1e2e63556176ea7c5487051b19402dce749ba244a5f706fc7e20584b: (1.0121313, 2)\n",
            "99bae865fdd6149e70655cbbf259441af27e2a99bb0d25fc4aa778f58e8d6d78: (1.0121313, 2)\n",
            "aecf2345b24e7fe4ad9bd35ecad9fa61064c113d04a27ea641b369fe9cc15269: (1.0121313, 2)\n",
            "828c68f825109981834778837fbf9810811a0aefba41117a54be258149951f8d: (1.0121313, 2)\n",
            "dc0cadd81f8277ca00e28370652dab8688afbf9509503e48bc40673b2658810c: (1.0121313, 2)\n",
            "c8f2aa51e091d41db8a731633349eef4a77eb06a41292dc00f9351025cc754fe: (1.0121313, 2)\n",
            "3fc2c838f058a2a837c344cb1c46faabfae6a60cb9f3b65a295d1b7d99984f4e: (1.0121313, 1)\n",
            "a37f20661292a3572e1c56c3b1f79b738ff5ab7e8940a59867f1bd81dc1e74c1: (1.0121313, 1)\n",
            "b2da5cdd895ed5577a59252a148b45487396d2f48ac2354e3c48f7364520a7bb: (1.0121313, 1)\n",
            "6fd70d387c9931d4f8f4a790d41c8f289e72de1cfe8f7069c505f076e23d3ac7: (1.0121313, 1)\n",
            "97e24208561457fbf6064a982023efaae8cffe026b31f8c55d35a9f9fda289ab: (1.0121313, 1)\n",
            "b78185577da985f2918e7ba4e249929fb60704e30c8178e2ceeec26847bb0d67: (1.0121313, 1)\n",
            "704e1642fcf3ce40ce84041125eeba2b5d7c24e8d25112b71d4dc1e1586a57c1: (1.0121313, 1)\n",
            "1259592ec9e89472078af2ed9c620db0e3721fb125e398d181e8dea8a09ab2de: (1.0121313, 1)\n",
            "5ad99f5a5ca78089d246bc328ce12c0b9082cb6f2cd317504e0b9e7f248e295c: (1.0121313, 1)\n",
            "d2a2e197dc5d136effc9ee43a832187b66c96df116dcfdeda7427fbc6274310b: (1.0121313, 1)\n",
            "f1debe743e59ae0201e2345add239732d668ec06162be5e357241d02b8b1cab1: (1.0121313, 1)\n",
            "31f1d5f2bb325cdc07dfb4d1a31ed336b9500653522ce2b100a47150d80f56a0: (1.0121313, 1)\n",
            "019bf9100518c8bb37e09415cbd46b66b2aba589372b92eb1008a5efe045cb1c: (1.0121313, 1)\n",
            "d19f9a15ced6be8e8cb8fbcbb8907c47b68bd05b86a43f6194fa189ba5116911: (1.0121313, 1)\n",
            "1488adbd975e864b6c2bb4be9f4c6522a36c1af6289fd6e46d58f4a8f9fa9670: (1.0121313, 1)\n",
            "f4cd2048b0db97a6b24ea27b9befe3ac2700339ace390dc313a949b27ac8b6b3: (1.0121313, 1)\n",
            "b0e415d3a70be4b24cfcfbae37ea4aafbbc758a815ef0bd0f499568ee7deec7d: (1.0121313, 1)\n",
            "29b421ec1282139fb52f21e8b9f57773c94eb3c877b334e75499b9f1362d7df2: (1.0121313, 1)\n",
            "a6a59a81ac3b45dd4e49c5d715ea60d8f58de75f31802639b9ce4b8ea4b10fad: (1.0121313, 1)\n",
            "45ec6b9cfdaba4125ec30fcb67081681e7af76775f44411157900ca67fd47701: (1.0121313, 1)\n",
            "11f9e5b345b65805b40801491e141830efa266dfdcecfcf1882991d20d5b8b01: (1.0121313, 1)\n",
            "8bc8eeb9c14e61fb964239269eef28116061e558017cfde71d2212f0b453c52d: (1.0121313, 1)\n",
            "0a0d55941201cc2b601755826436f19b2dad6a2acbdc56a41e15829e0ca109e3: (1.0121313, 1)\n",
            "8524ef9ba82eb6883261b1752c470f6da1e0c3195a8c5ecc9808b8b610b5a095: (1.0121313, 1)\n",
            "23730cf60a0d9c053c857503262eb93cee087f47bd5ddf87c3defdc71d39d3dc: (1.0121313, 1)\n",
            "6c48d5afb5843654724e1623949a13ed2b6a554081285718b1e97fe640ee83fe: (1.0121313, 1)\n",
            "93ddf4d421d6156801d392ad4ad72faf73ff5077579f992fd1648557a55aae5a: (1.0121313, 1)\n",
            "fa26910588e40430b86d4e5b676669d2c01231a6d9e672266e9eb2c743ea9df0: (1.0121313, 1)\n",
            "865ab4b04ce4022f2ca75f00eb7a936e46e4e5a203bc3565463b0c72caca3214: (1.0121313, 1)\n",
            "0bb30336d29210f6b517d746cd99101fc585aa582687266d2e5273f78d77da7f: (1.0121313, 1)\n",
            "8be9218b3977e638a42acc44b6cf570ef657e3914f307be7d1e785c1ad4f77df: (1.0121313, 1)\n",
            "94c9915e600d4358f220ee70d0edef8e3bed72a40aa463e27fd26fc79f813e93: (1.0121313, 1)\n",
            "893a77bbd307dc67dfabfba6bd946e4ccf9f1194100161aeb8ee1cf435641414: (1.0121313, 1)\n",
            "daf2c108afcaa7c80fa9ca3ff88e3b7a3586b82cf47b4682b43fe57a51d4ce12: (1.0121313, 1)\n",
            "86b7e2aec17ceca538dab09e1244ff4258b3bf3489a0d2ef35e3b1cc0e1852e2: (1.0121313, 1)\n",
            "3e7ff14a72134bc3b5f99ee9a7a401ff2e816d3795728effdd38b3787c2f8370: (1.0121313, 1)\n",
            "8d4cb7ea8bd57aefe4542c84faa862bc9c60325123827b7b27c0295844490462: (1.0121313, 1)\n",
            "4a6964c0fef0af1d2b6253f2a7cb60e74f09fd7482c432287556050f026269fc: (1.0121313, 1)\n",
            "50f1652cf0349c21fc390e188bd7c47221285e316d3a91603da3589993769c1d: (1.0121313, 1)\n",
            "ec8e95a6859c40df2d28977f5ac7c4b8edfbcc341982af2c5c248b4fcca737c6: (1.0121313, 1)\n",
            "121496b19d62f787e0ef7f6918d194ea799a85e54f1cbdfd0a1403c2f5dcc024: (1.0121313, 1)\n",
            "90c89bccb7b7b6cebe31eee02c85b1794d5bb3d3815283cef5eeb1c17687e8ce: (1.0121313, 1)\n",
            "5b4145f884c98dcc4c5903868c64f7f0f31cd1e7dcb80fc5ceffb9dd14999421: (1.0121313, 1)\n",
            "3c37838c1bda1571540b82a1a442ce08d1dd599cfbf9e70f2f6c4be113dcec24: (1.0121313, 1)\n",
            "d0d6e8d275814bbfae62495f153fc15f5c421fda721c2629bd76d06839dfbb12: (1.0121313, 1)\n",
            "23007a86b62bde99bfe16faeb51af2e9b3e9b429a7147d7a6894ecf117c337df: (1.0121313, 1)\n",
            "5036c47a0b9002690d93e1ed295e1d5ae43f2c3221325bb1ce6fa0b71934a462: (1.0121313, 1)\n",
            "425b7cc68c7e3a97ca009d61d229c2a1cddef1b8610d7e7a87cd416f08d906d8: (1.0121313, 1)\n",
            "3a478915077188f2c1c63117b8f27c2d4297a75686bee0e882246fb858697323: (1.0121313, 1)\n",
            "2c42a3bb9e1a6040019f6aa7e9d1990ad9eb39bfc24f59abed1b957dc7f03868: (1.0121313, 1)\n",
            "c2a938be5facc3422a20c13a5b51d8dabf9804ee2f7168be5b0f0e026983b317: (1.0121313, 1)\n",
            "dc730acc6f114e3acf28115152fe5afa65e727665432c757bb3a0d7227196506: (1.0121313, 1)\n",
            "fbfcf9e1d47167b3e8a6b68da4fc0cde93ce4031ce339298af807121cfa1a4f5: (1.0121313, 1)\n",
            "eeeb49115df1c5950d1dbc5464a5badee3187d6ab511caca7686c2c83940c0aa: (1.0121313, 1)\n",
            "523cb9527231ae4e99ada5f04f561b116704e2bd24c0f2f54b376716f6be9c99: (1.0121313, 1)\n",
            "45d7f98b6964d55bbcbf3b8a7db87778c6acdd59bf82703d3fca1911cf1f4ca1: (1.0121313, 1)\n",
            "65d98e8914c6e004fcdaf2a25c6b19ec14e3ac6f14acb71ccc0b0e616ecdc16c: (1.0121313, 1)\n",
            "829963417be87570e65324a1379103370b17ca9ab7388dbea1ac03600f216372: (1.0121313, 1)\n",
            "814ff2f4d53dc9c61a9e573272079761d16318352bcbcd4646b6d59d3f46f059: (1.0121313, 1)\n",
            "59000fc0066cd534d83541cf32521a14a3014dfb732b024620224c266cf4758d: (1.0121313, 1)\n",
            "6517b2a3cd1e4199192603aec0cbf722170f1975ccd24a97517854cce514c86d: (1.0121313, 1)\n",
            "563b920bf7f2d1b03a979354ce1b04ab934ac2780c7db2303f1452012e2bafb4: (1.0121313, 1)\n",
            "438426f8c7f256a564c1c58f20b7e53a0be8bbe2a0c43e621683b0ed10e388c8: (1.0121313, 1)\n",
            "0da5a5693058887516a80684972d27e56632784303c254365167a0463ad3b837: (1.0121313, 1)\n",
            "1e6446c3c450bfdc15d33d5783ed6bb4dc3b824f7d027de660c35de844a6895f: (1.0121313, 1)\n",
            "9e0d0783bbbd80e5960532d5c34418cd209d09be7daec5f1466b56a07df860bf: (1.0121313, 1)\n",
            "64620925d28debbfea285fbb9b1a70456682b9cd13166b5b9cfc4375e6835a1a: (1.0121313, 1)\n",
            "db8085cad9236283b9a10cbe288944af1d67c4b7b593a3974f987c8e31eb1e85: (1.0121313, 1)\n",
            "e7708dc1f5a0e9bd327ae38fe1b949657db254a0b3d947d93fdd829b1d5b4f1c: (1.0121313, 1)\n",
            "192894d8fd913fc0689ddcc438fc2bf473242c198366471d630962afc7e34efc: (1.0121313, 1)\n",
            "ad5ed6574c09b5d1ecca1fd5001a4b403236a6173748aff43b840aa79ea31f52: (1.0121313, 1)\n",
            "e70e1dc6f23ce662e5823248373cdb2970bcac2c356ef75123888ad377adf44b: (1.0121313, 1)\n",
            "e962486192a5ce8970da2463d2fe76ed8c7176d48fcd44f87511482cccf1e5ee: (1.0121313, 1)\n",
            "114df814fef6ba49c79f2db87b4abb7572a84317380539154ef418a73484e97a: (1.0121313, 1)\n",
            "858150cd448dc5133f4d4be363e9c6382af04fd77ca6852df382415534c6fbb1: (1.0121313, 1)\n",
            "5c5d8ed29185046f7b61bd234aaf7f3d8433cbe73b32ec05f48e7b9dc1988bd8: (1.0121313, 1)\n",
            "ce30585f348d5be782e338bc5bd90ffbd983c59d67ab37d2e7c09526bf75943e: (1.0121313, 1)\n",
            "885094ef6c86fe10808dcfa291f39ffd099e9cd26c0cddaed1586fbd3cb00e5d: (1.0121313, 1)\n",
            "dd55bc027e3244a824f3bf8ebbaab3ad91bbe8cf9bb6c093f6742c30dee16e1d: (1.0121313, 1)\n",
            "87bbd2d7f351baddb66b1152691846322a9f783a36f766bde2a875439df97d94: (1.0121313, 1)\n",
            "f82fc04e0e65279986446505767a7b6ba358d8b7196d7cfc52a36293be4b01dd: (1.0121313, 1)\n",
            "b6b11d3b5566d60bc2aa6c11b1c4b169ab7add50a635994b01cfa7959e78a02f: (1.0121313, 1)\n",
            "a56a50e33a93bbe36c2855b8421d67cec48ff26542a4defd421520409a07ceed: (1.0121313, 1)\n",
            "56f30084821d32acccb719b0122cbbe9ece4cfc715b504303f46122237474043: (1.0121313, 1)\n",
            "286c7aee87056970fef3178f1aa75405e14b5f4ee54cbeacf291c54f559660ae: (1.0121313, 1)\n",
            "9274d72848d1e4c80e20bf1d5567d9ca02b1bc5ecb6569ac83345300b44e225c: (1.0121313, 1)\n",
            "2b1891d526475b02e2a9129f3a5a2383adedf3af6645322cb3deced1a48ae06e: (1.0121313, 1)\n",
            "8d2f3aeaeeec2c7b674c3fef1594578e07f4cf350e2587b2a8cc0eb3b006c246: (1.0121313, 1)\n",
            "492a51b5bb90026f0dbe05727ca874b1f3c19f23da690bf103e42dd0f0fdf861: (1.0121313, 1)\n",
            "05fb96d91cf797a46f24488c46482bbb46e68d4449fa424f6328b5ba5f3ecfd0: (1.0121313, 1)\n",
            "2a53f9fc883c07464427a7766665af86efc85f925674c90da24dfd2a6170f1a6: (1.0121313, 1)\n",
            "4e765ef28b2e1b467853993f65f69a41253ebdff6828523e6150f4915fe5523c: (1.0121313, 1)\n",
            "35320a7507c625540f505ffa569d8acc5817865967a88040ea4e8945ab27c17e: (1.0121313, 1)\n",
            "32640ec47690451eb94cc7d6f4c23781f96bb97b9d4f6e1cacf21d5bccaf3eda: (1.0121313, 1)\n",
            "ac45167d2c89ebc002adc9d3f79035c89e8716ceda85dc188b82f20550a71490: (1.0121313, 1)\n",
            "9bf32b22ed6bae20e568e1a0c5a506950e2d312a3636daf0601f1c607b7d743b: (1.0121313, 1)\n",
            "06ae0260ca1a9c34b42d5ea7c554175f154353e083ac302699ed328222c2d34b: (1.0121313, 1)\n",
            "cdfd5d24a3c6a8d81c60607b1ff2d85cf35c194d22f13394fd95655014bcf2bb: (1.0121313, 1)\n",
            "54c5db303a1f785f807edc4dc077ba56a1432926e4db218f292fb260b00b5297: (1.0121313, 1)\n",
            "db165fc6079fcf42563e6988cc5bdadab8c4827f1e1661cf8f2c771d0705c7f5: (1.0121313, 1)\n",
            "6255105880ae214d3d8205d2e42c0a9b5c7762e8e4de05f828fc7437ecc73567: (1.0121313, 1)\n",
            "8fc4fe35bf84dd3fdb5963ec48a476448fcff1e903e1fce57f2b6541086d677e: (1.0121313, 1)\n",
            "b50426dd617e4c217e5e00dc5239a0d278db160171dec28de23aff51d9870670: (1.0121313, 1)\n",
            "2f98dfac255287cea1677115e1e0f0b55bafb879fe3717142ba0483f8342a776: (1.0121313, 1)\n",
            "b0984a833529d21f61d5d54eec52a689369524844d9be023a1b0ab4ef5fe579c: (1.0121313, 1)\n",
            "9e29ea6bb2d75ddebf460e697c7d9870f1480bb77a2554c5d5bba87512508584: (1.0121313, 1)\n",
            "720c5fdea734df05c65b8638df21f624ddd9c86c0ea17009b3d1d3fda0cfe8d8: (1.0121313, 1)\n",
            "1441b1e87920cbc6aa1556f2984f4586cdd04004fe92aff7bd847e9f800f3e9b: (1.0121313, 1)\n",
            "14596008c280c32196be02695881b30af8762fc139492b751dc1a9e6e5e747d2: (1.0121313, 1)\n",
            "e90884d7065657339ac2ca193f31bf8a0e465dbe8fef01af2d57869192b4c0b5: (1.0121313, 1)\n",
            "66173bdc06d794730e60b643e8be09cd76fa29b878b6535da5399fee906ba093: (1.0121313, 1)\n",
            "54fd37f4777763126821017329600d4a0f8730401cc435641655fead65429aa8: (1.0121313, 1)\n",
            "c3ba2c9cee0bbd894d5fd7934e147744b710a7d5ab15e7031c2a402162884007: (1.0121313, 1)\n",
            "019ab928290162deaa63c6f3f6c8e966ddb2fbd25cc2a2657b63f716ebd823dd: (1.0121313, 1)\n",
            "7b0e5a3d4c9203cc1b94899126b14b3e97d5d616fabd389e6ba0fea65508408a: (1.0121313, 1)\n",
            "18947dff5866ec4fb889ee62bd8ee87d46c1905b115a8c1fc8a2218d4aa64cf9: (1.0121313, 1)\n",
            "605088f54d4292610b1471fedb7697a121b99a59dee413ffc33f8ad53f731fb1: (1.0121313, 1)\n",
            "67c5a6120f546aa3200e15e3ce1355155a84fec3476e44f6901d18af56ac135a: (1.0121313, 1)\n",
            "fd4cae5f7b1d485c4f01b9a7fb5a0c30c479b21e33004d90dc710f74d3791283: (1.0121313, 1)\n",
            "68095c256127beb3a610840688e256f98db9a5e5807a61bb8766e55ad786e455: (1.0121313, 1)\n",
            "6366261e63a120d2cf519b373e390db046a8556f47e54306888fac7b65e37b60: (1.0121313, 1)\n",
            "78631846b1f6943756efc16c218115c8612853ee526cc4f7493ae6c3dda150ed: (1.0121313, 1)\n",
            "71ac3c7d08c6231ef92479ff4b2b8b3cae62c8783397831424e622700a60cffc: (1.0121313, 1)\n",
            "ce47193493dc9cd71b27a28cbfc9b3956fed78b0f6dc971c7856aff9e6dd5ae5: (1.0121313, 1)\n",
            "a855baa164995c5a2fe447c761d2895a674e1e0edca6a11b093cfc80f4ca7e2d: (1.0121313, 1)\n",
            "460f1151a4957521aec5c6b8a57ea58edf1ea5905bb265413da3e343f54a8fa3: (1.0121313, 1)\n",
            "e9a5e754bc30202fe5ff4fba62b8190af75ce31ae696a902ee70beb8944c1b7f: (1.0121313, 1)\n",
            "03ee4315d16cd08e50efadf194a22d20f0ecb37c2ba8f2ee0c318f1741b5e6b0: (1.0121313, 1)\n",
            "b85375016665f6c176380dee8109b79298cc4c90775c65d38b8ee936fdf1de84: (1.0121313, 1)\n",
            "e592701b6ad0193e67a1378767ee72708505b2c538d89dd3cbc861c866a7be9b: (1.0121313, 1)\n",
            "2f13605c08b809b1d27afbc5faf11df23cf746b9729f5cc22f06d4df14402c6f: (1.0121313, 1)\n",
            "c8850f984ade189e5e4300f703f8db5e8d3b5b3706508258aff4380ca5284ae7: (1.0121313, 1)\n",
            "18c6535cae84a3b161a04fe13951f79f41a37c8fe261c29aebab53fc4a06ea7f: (1.0121313, 1)\n",
            "bfeb1e2504be7a5f3a4277c4f8ef4a7f7f366122d7bd7d7e16f2d342bdff0dc2: (1.0121313, 1)\n",
            "9ed0fe9b09685881e89385704659567406e33328e773b13031d012d5377447f5: (1.0121313, 1)\n",
            "cdc6c251f70c06d62ad095a1cff7b97156c9f5828f07500464b796047e911e88: (1.0121313, 1)\n",
            "c91ee4416d6d5d5bf7cf561dcce32ab5e877f2fbf2db0c9888a8fb5946f281e1: (1.0121313, 1)\n",
            "f839cfe1a3a8109c1d4df63e96dd0ac7f4ef5ca5e30af1666b71bc32707d03f2: (1.0121313, 1)\n",
            "66d646ab8b70f9f1dcb8ebbd217cfe65a8614c79f7da3bfe91d6da6859bed130: (1.0121313, 1)\n",
            "cacda264ce8f3ae0915ea76206140efce8396eca4e1a1211467411f6cf694868: (1.0121313, 1)\n",
            "cb53f35c4a8687bf8d90bd3d1a09edc6e26b6f447c37613a23158f04898ba704: (1.0121313, 1)\n",
            "d175fcf37b564819f505bc57ac7b0cad9f426803da7611293c834144cc71984a: (1.0121313, 1)\n",
            "88ee51fed6c213029fbd2255a8ab5b5671194e3ef7c64b4d09856ea376e29386: (1.0121313, 1)\n",
            "69e8b5f0d346005135099c000a013aa3ec393dab61ab6188da8eb20afdcb54c8: (1.0121313, 1)\n",
            "908801343487191ef223cc299cbb1592ae6d2ccc806519146f9d99780ffbcf94: (1.0121313, 1)\n",
            "5eb4cac13458ef22548cd6a2d139b18bd6c7b6992464353cc5d4c253b2054a1c: (1.0121313, 1)\n",
            "8aa502489ca5370344b49f7da17bbe982980857780307d22a3c7b900e33db9c5: (1.0121313, 1)\n",
            "5aa41362ec6ed769816b9c88dffcb4047ed92acc700a50787dedc4e6580d8db6: (1.0121313, 1)\n",
            "a4f8f4396e78e87139e11b4b5a308df178f5f619bf1f5f7b74f9552be76c3887: (1.0121313, 1)\n",
            "34d4a5ac9a10fc1dd200e6d11d5eb1903bde8fdbb91ccd804b4399a42f18cda6: (1.0121313, 1)\n",
            "9efc93271641213be49afcd2b294571e4624c7637ec33bc79f1cff97bb05a2e2: (1.0121313, 1)\n",
            "c02af3f0bad4a5aee99a0fbdaa315269d3b27a95cdea167007e6820121e80853: (1.0121313, 1)\n",
            "88b470bc36b8fd397c9c7d2d780432fb5007117e817546eaf00f24622e750e20: (1.0121313, 1)\n",
            "e6e8d3a8ae7a026f17c85503c0f577c92c712420661fae90b0539b961ce12863: (1.0121313, 1)\n",
            "a99125856f3559aae61fffa7eab282ce5723ffd1cb48c429217a45c5a46f1df8: (1.0121313, 1)\n",
            "ed593ca0eedd45f2ef535f7952297e833b1ae09071ad342e9a2927aeef24648f: (1.0121313, 1)\n",
            "23cbcdbbf4ea38145ed048308e4e0b53d94c81ec92c426d16be435ae65c56ee6: (1.0121313, 1)\n",
            "e4caee0f69f97fc5e9f0a07c015515c2d2a1235b0d3a47dc8a955c2e8960b5d0: (1.0121313, 1)\n",
            "3d9e9feb003e50a57ba634bd113ddc5bd931de705f343c74924d46834a6749d6: (1.0121313, 1)\n",
            "34d13821e0b7682a3502af20761966592c0391618ca03007b0c668f8a3f287c0: (1.0121313, 1)\n",
            "aa25f5fc592acc148cbb298b0efeed26950cc7f7f30be6629e0d6d431892667e: (1.0121313, 1)\n",
            "ab99a10a3042ca18bb6aba801cb6236c69993cb80179cd58550c85156b0d6c53: (1.0121313, 1)\n",
            "24f083965d961668bae36d8c99d3d622ae0007b70bf7c5fcecac8d5c9cd5983a: (1.0121313, 1)\n",
            "a59530e78186c0eaad28f0f58d744e1458bcf92a4b88a7df5d13decd492dabd9: (1.0121313, 1)\n",
            "bd13f7ea22dab5d084605105a2772cdb0d4d1acd5f1dede8b1d51abf0a0c16a0: (1.0121313, 1)\n",
            "b1009875b173daeb5b45542879a2a3a5868611caf162e797eb24efe6653cf67c: (1.0121313, 1)\n",
            "9af38d46e14a23fd959fdb7a6d4994e4824fba4bd5e47f8b5368d3ce2d6cd4b2: (1.0121313, 1)\n",
            "e6bcb734cef21311ce57b93d6f72a6d28c3c3ef6fcffdb88a458854554a126bb: (1.0121313, 1)\n",
            "ab7ee29163218fac1b7b0938750c22f0a16a45188ef8bcf025b1bbbb67821615: (1.0121313, 1)\n",
            "5b4a1261f9409f9d194579f0611d34652222a5813967d8e2bcea167f2ce629e7: (1.0121313, 1)\n",
            "681a880b094250b7aec86b23a562aa0d27cb0d0680c97d44d395ef3a30f7fffb: (1.0121313, 1)\n",
            "8bc895eb590535fe9642ae0c93f86632c486cdbdbbbdbe83ba5389d5505374fb: (1.0121313, 1)\n",
            "1f835ec44e1b93e020da7db6a06f1a5515ced6a018201d1225af8eb580d59e78: (1.0121313, 1)\n",
            "4d98d33261ff8e339d95187e17d1e769111e926fe24a31e215f95a95c19804c5: (1.0121313, 1)\n",
            "1908a4b97e428d059f1c75cb6c594c92865d6d7773824e770df86cd1aec440d0: (1.0121313, 1)\n",
            "b607b80c24a8cb11c87ac49b6a435913590006a28b486070251c2e3979d5f35c: (1.0121313, 1)\n",
            "4b811a9ce9500ea1e27709064c8eaf560b58cdf9b8674fc169a78ca1b659edae: (1.0121313, 1)\n",
            "e6b252cc87ccfb54e3b13467abd68022efd57bc59bdb5595cc29d5d84241be90: (1.0121313, 1)\n",
            "d0207dee710cf7b6236e7d0d0a8cebffc5a2f725224d6c5ce14fca84b47abf6f: (1.0121313, 1)\n",
            "fc6e1d368b69a6c510a8209e958f9848eeafc712e183c5dd9df982cfbddeb421: (1.0121313, 1)\n",
            "08da9ba8f10ba5077c9592edd5a604bbc4d4cd0277117a1b7f665a49c71b8a8f: (1.0121313, 1)\n",
            "10f1ce1e114f91ab2501a19fa6f066ca9ace437123f6e86fd288f47879b047a2: (1.0121313, 1)\n",
            "0a2ffe7dec593ba58fa9d4bd6fb27690c00fa881597074283e86f3cda2563e08: (1.0121313, 1)\n",
            "3cb5df2e67a2cdf6f54148cf07270e0466da1c26e766867f74b78d5c03331989: (1.0121313, 1)\n",
            "227fffb263e12b867f5a22664dd0c1dd9d3a10634c2b3ad7cf74c56d54f67e01: (1.0121313, 1)\n",
            "888a7c70c7d599ad81511f90c1723c757fbf14a6c12a2ec4cf1a11c39702e771: (1.0121313, 1)\n",
            "507c7ecdf87a161d764dc55e1fa102eedee2bba7438075281b5a9331a60936c2: (1.0121313, 1)\n",
            "71a9ee5fb898a2fb8447662b56e77f490c1d2430db90cdc90ce6448969ada55f: (1.0121313, 1)\n",
            "a0c26757ee8320a444b48dbac27b96bf945fde32628c3c47d074e680e79cd2e3: (1.0121313, 1)\n",
            "76e4090cdb9cc87ad27767102116e28367e1d2df2322c0d23e7d7d7f204d9335: (1.0121313, 1)\n",
            "d16f71f43c4a796aef29c1c51ed855154cdd3f17a4769462e8d155ab6941785c: (1.0121313, 1)\n",
            "2dfc75c60fdb9ae003cbdadac3201469ef5cc2c70bcc91d20324784aded68c9f: (1.0121313, 1)\n",
            "3ba8d51c340f224358a401d9528a85a9dc3c99a1f5d4b97b6a3c9cf7fa1fa3cb: (1.0121313, 1)\n",
            "ee2379d43ef11e438beb3dbea106f01d4b4a98043bef24d54c1660d7db9905f7: (1.0121313, 1)\n",
            "ee1d7e61752f37a925874d00340b884c5ee7d0a679e137cd1c0040bec774b37d: (1.0121313, 1)\n",
            "14fa31a93ee9f1daa324938c024ef256d461037e98be2a417e63b7991f76dc73: (1.0121313, 1)\n",
            "05a4d2153c63ea80415ce6c502e6bd7c1a89162187e595bc4b5f83bfb92569f3: (1.0121313, 1)\n",
            "65618af8ec5dbb4f62ac2e00105c87be0856f7aed8beea644198931faaa9f73c: (1.0121313, 1)\n",
            "bef5bea518258e3cbac451ee0ff6ccc10cb6dfc654ead142a9be34e279c320d8: (1.0121313, 1)\n",
            "874a3c3a39b6c192daf9ff0ac1a8030ea87e8eb365772b3a2c2df89796858a7b: (1.0121313, 1)\n",
            "69171f1d94e82236219f827ca4b519a2f149b8bf5b3c06c08fc597fd1e197833: (1.0121313, 1)\n",
            "332f844d320d37efa3586de596209e65b80b70f5a39beacf8cf093728a9c5e62: (1.0121313, 1)\n",
            "c2dcddce51aa01da2a7c2b9ff749a382e8029f99c2380e3e68980340ff1930cd: (1.0121313, 1)\n",
            "f91517636eb57c0aa99b04bc689b6273b503b594de435a5646624d27a72c147f: (1.0121313, 1)\n",
            "066f306c000a590593638a68814b459f2b2a439091c6ee08d633996aa899147d: (1.0121313, 1)\n",
            "b5fa8b04eafe5f81ded8be1e43d0b18aedbda0ae73f981e4906998edc7d719dc: (1.0121313, 1)\n",
            "f3ef214ece88e83622a02ef943b3fe0420466b74773c125aeebb364d649ad633: (1.0121313, 1)\n",
            "c63e3b27adb91d006a3de958e51b22a1979f689d56516ae8690dc0d9c1b64236: (1.0121313, 1)\n",
            "f24219bb4d094374ef437896ba2a7fe4c2b4b2aec3dc20d11e7f13543b1534cd: (1.0121313, 1)\n",
            "b74b938c45d70657a0691daa88a5a8b3c92885fa991969d0d336440f80da6962: (1.0121313, 1)\n",
            "b581cbf77e40b51d47b36a8320aac66d5d288eae7c1535066b0bce5784b604ec: (1.0121313, 1)\n",
            "2555c4cddda5cfbbf7521f8dfe6178a5aeebf63d119dae1c4ab96c3d65889b30: (1.0121313, 1)\n",
            "964a43e3b04c29e81cbf721355ae10d94097e1fb410009feb77317b1e317d3b3: (1.0121313, 1)\n",
            "0864e1a5474388cffa45fa3b1c60bc1acf562c45c671f0a0819f49c12a51ece5: (1.0121313, 1)\n",
            "96b4551d4ff8446b93edc19e6d51815b99ffea3dedecf26acd5e97417fe47a1a: (1.0121313, 1)\n",
            "8bbe9194a862542eb63763a1f6d6c2d5ba92f096132b8915750334b9a39fbe70: (1.0121313, 1)\n",
            "b39bcde7262b001f443add7a002b4bd48f389232e5ca1ba841213f1e6e10e9f7: (1.0121313, 1)\n",
            "bf9c5cf2dcdd7cfb0019447fb8e91adeb51836ab7dd7632fbe170d5508da4b7a: (1.0121313, 1)\n",
            "cc5484960f95517ca58794e20b4f71733672528db43941fd7000275ccb6ac7ee: (1.0121313, 1)\n",
            "e209390ca308d7083041a1ea45441f7f7485b8c4fd998e6d2b9bd2e1d2fa191e: (1.0121313, 1)\n",
            "a912ef62c31a7780aa0c12f9a1d86c7e44a3d536122bfa593083d1460a8b0dda: (1.0121313, 1)\n",
            "0d5fa6ab4541695636198471aba556ddf24fa65e719b59919cf59ada5f7b4915: (1.0121313, 1)\n",
            "80f82dfffd54ea5b2be25ba931ee70b6323fe5bed82164fcecd51ca93670a6a1: (1.0121313, 1)\n",
            "d4d3d3a0630379d9eaee4cb61b056e7d16692ad6ec1e1dc31ebfc12193deb049: (1.0121313, 1)\n",
            "fe8b4d5a549f57a4b6684c40b0997a5c3d12ff99ae3c484c7e9cd622c2879fe9: (1.0121313, 1)\n",
            "2dc9feb0ce85859771b2866bdbfac9541c7cbbfd80e7c08b79499ef08e0a8e2d: (1.0121313, 1)\n",
            "bcfe1bd0886346c35b64dfe7e6d69d27eac6b772ac007d0a103dbf463aa86ce0: (1.0121313, 1)\n",
            "2dbc793ac97be8200dc3334eebf0081b37cd42c3d9f2ebf6a4dea7fb20f07a43: (1.0121313, 1)\n",
            "50cb8d8a44d0e000f637c3d9f30456e66bbce53c90c8154ee34727755e4b1f85: (1.0121313, 1)\n",
            "b03d7c96e03ca3e827922bcd8e13d11b3e40e870f42a4d8b9698a881e87726b5: (1.0121313, 1)\n",
            "70669305c3c52c223e94d29f62c10ebe5edab5e65f1a87644818367f5dcf69de: (1.0121313, 1)\n",
            "76e00956c5f1be1d79ce5fe48d756b67837f2d3366bb6a4873069b1258828312: (1.0121313, 1)\n",
            "792a732983e3147bda4827a7b4a6765e3ec60b4c5f359492b239ec186cfdf4f4: (1.0121313, 1)\n",
            "ef730554a8c15b844cc7833b726273db3f94e5d00b248a44ba25adc809d48883: (1.0121313, 1)\n",
            "149706992aba909a13b7534517cacec26697bec720a01a3a8fd0108acae51aab: (1.0121313, 1)\n",
            "b9087fa719486f102cb6891e81503bbb3b36c7e40ec1b32f63be8d0b7fb54247: (1.0121313, 1)\n",
            "c5b76d8cd8a8ffde44b2ef39655721358aa2a18d1e63d829841408cf1dbf75b8: (1.0121313, 1)\n",
            "b4f4a5bd873173302eecc0c7c71dfd0eb5fbc0f1a914f22c746ac3bd878f231e: (1.0121313, 1)\n",
            "25ee44f7f5d527eb76b742d5555d00f6bc40115b185d696b689a0e27fee4d0c0: (1.0121313, 1)\n",
            "7249a9ba92027be5a35425f22508df3533749b7e07b723e4619735c94a1e929b: (1.0121313, 1)\n",
            "e1f0a3db5720de6b888019f8a166ec6dbd00b57519927150c0df437484934600: (1.0121313, 1)\n",
            "1c39232630da4bbed3358832e58e437132d2f8fbe274c5ffdf97eab9c2cce09a: (1.0121313, 1)\n",
            "ca34ec580f32e70406aa22545a2862d5f42c2258e3982309f664f112c775f5c4: (1.0121313, 1)\n",
            "4d7e5acfaa4b1e37e8b6e30c0afe24dfcad41a2f1bbe5b3875c4d895354e3592: (1.0121313, 1)\n",
            "9824bf002a8768c98d49393adb671e6c40fb48d0b0a2dae4a573a327cfab1119: (1.0121313, 1)\n",
            "9a9af8fcffb618bfc0b67ab695fe52dd313cded5a115e63aa7297180483a203f: (1.0121313, 1)\n",
            "1bc9b0a4c4af7eb8350a35d4d5238f2d4122b3dad9f66e99b7737af39480cf86: (1.0121313, 1)\n",
            "cbbb66906b9132203d0ac1c1bf3073a5d5731ca35e3f857f483568847abded15: (1.0121313, 1)\n",
            "0379fc8b82b09ac0322706edc6d647ef0dcb3c6a734cbe0d48b44d61ef875e9c: (1.0121313, 1)\n",
            "9e6bd19223a44113c2587d7217a67877687255eff91158601a62459b889d7fc6: (1.0121313, 1)\n",
            "893f236c7763a9153ac4d206971f7e0d2866128e31fef236949b04669fb6beac: (1.0121313, 1)\n",
            "1de38439eda129094498a7ee3b74fa2a5cbbaf81756a5e2c1f4c581c04c83363: (1.0121313, 1)\n",
            "c0c77418e7822dd93dbc7a430289e33a058ce4587219c76750bb6d65e2c489f4: (1.0121313, 1)\n",
            "00366ad4694d44d25485a7d49b907091cc166f1c4470219d72a2ebd420adb816: (1.0121313, 1)\n",
            "a0ae18e5e44b647765913bccf5a6cc27469ab7553dfb4aabbe1a9ee64aab9290: (1.0121313, 1)\n",
            "5117db41dc1735517c06a604ab1843c2bf4094443593273918cbd8ab3fdf2c10: (1.0121313, 1)\n",
            "57f9230ec776e416e718aabec3f6d487e3725df793e4e34072aec3e3091e0b67: (1.0121313, 1)\n",
            "71357500f1c2e6ccda5c48f1a488bad5d731d35d8d1d5297523d7f0d4f29f8db: (1.0121313, 1)\n",
            "746da4f365aac9aa5dac6e32826cd34a3e9f59b94819e2f919328619dd251836: (1.0121313, 1)\n",
            "49709f8adaafdc1e96df9226990a3a7c38d885b2b7e1fd8eaef733471d03bc72: (1.0121313, 1)\n",
            "2a9a56968d277b8debd14bea7be4114572e3418de925313fbd85a50049ee573c: (1.0121313, 1)\n",
            "83621f85501360c2f8792a367b05f6bba20735db77ab19f71699ed1d54dda796: (1.0121313, 1)\n",
            "86c87da8f79b67323c6ce54cd32a5fa65b06a371c56fe1eaf715f9c9bc5a0e3e: (1.0121313, 1)\n",
            "eaf00990c95d8c8fa3bf18c07dcb189700d591d1769c84980ede12aab1af4574: (1.0121313, 1)\n",
            "2eb454940567be10588adfb93d6fd4a9675363e734adba9dd837f4f8c2c6a768: (1.0121313, 1)\n",
            "bb101a7ab31096dfb7dbc9b940de70680e13e67bd58f97e4b750d38e17f0519f: (1.0121313, 1)\n",
            "7f157b0b7f6cb5553e1b466bc29fc1046b624450e14d6dfceea154851b68c52e: (1.0121313, 1)\n",
            "969a80f854c3f83407a07e76f838d7802cf894cd0c47539742459695fc3f1022: (1.0121313, 1)\n",
            "accb1bc6b9cfe43e7c97b3af4c881cdc756c7a6975334ac837fb877ecec2391f: (1.0121313, 1)\n",
            "4086fb6a33079b63931d33247f8b6fbf16bf277aa68423556322a0e5b2aae25b: (1.0121313, 1)\n",
            "eba3a53232d31a911a08ae6f1f30b9487a07e0d61c891b827718394770ad21e8: (1.0121313, 1)\n",
            "20a01142aec99e6396cd9e5cf4d6667bce0fcdc5d9c311fb900bf63e724f0341: (1.0121313, 1)\n",
            "0a5aa1c3fe1ebc61ebd90d38d364655c8793e32ac96a328f3baceff900cc8589: (1.0121313, 1)\n",
            "970b3c720ad9ac8fb51e049d5d53f4b0d39c6dd4a3af3da656b1764f01365806: (1.0121313, 1)\n",
            "3401d8d9fc3473c1d84520a8b347ad626c8f93591687c756ffc7bd458876b072: (1.0121313, 1)\n",
            "518e2725532d5a67e97583f3e8ee7766a2a5057724e670592d99667e18e0eb05: (1.0121313, 1)\n",
            "96cd06707ca019de5a3e2b30dcd77c1d944eb932f15f76adc562e9c7d2ee84d6: (1.0121313, 1)\n",
            "d2617d8e7136feafa4f0747f12e9089173e0e2f8d32339ccfc70cee479b56a82: (1.0121313, 1)\n",
            "d6b9a478436baa807f426dfd6b7af6f8bf5b2edb56d851bcb5cdf4c884c29521: (1.0121313, 1)\n",
            "283476b67417582982c953ecfbbca67459d8bf5e04a4cc41b188fcd0f716f8a2: (1.0121313, 1)\n",
            "8ac2f9753f1524fb4c68590ea72b92918478dc4c15a67ceda9dc4db393687bc3: (1.0121313, 1)\n",
            "2d0a184346dd3069747d8943cbc4e2922ec44b88261862cbf110d31d66a84f78: (1.0121313, 1)\n",
            "2381c97667f0dfcdea3b23bdd4d613e93014378595e2d0163a645cd4753e27e2: (1.0121313, 1)\n",
            "0a5df9943b6134dec73c16b7cd755a877196c5d7614d52afe7eeff6f65183239: (1.0121313, 1)\n",
            "8eb4262b6931794bb565a0da978b69897aa69f1210fabb2c997c78af7c8d38ee: (1.0121313, 1)\n",
            "b4eea4a7aa5dee73e0d3546352fe3de39298c0933a2a5c286c50cdf36a1a5ab7: (1.0121313, 1)\n",
            "c01c34ea528fe323382b662c392170b1e18c06334d1d12beffaa563feff7aedf: (1.0121313, 1)\n",
            "35c3cc346e6622e27ab4c6f186652cf56174f3df63ee79dae46f5435d04394e7: (1.0121313, 1)\n",
            "74e0a3c2a87bdd031edaac588b1ab213ba60b4691fe960772707c53caa2c186a: (1.0121313, 1)\n",
            "07a334100cccf33878fa4113f026f5ad088da425f610235e10cb55d367ad5255: (1.0121313, 1)\n",
            "c603ef5c760403a7bd75fc60840e00e2108d0aef3cd63b9b9f5d30ad064b6af3: (1.0121313, 1)\n",
            "40b5b7ab736af1b7a983ffe7208f0bc21c47c8ea53508d4fe728da4d0ecc1fbf: (1.0121313, 1)\n",
            "fd6ab5a961eff08e65f42f9f2f4fdc43ff30c15d531e02df72836531f0293ce8: (1.0121313, 1)\n",
            "5c0ab4f0450c5f14bde3f1b7f703d67b0861737b905eb43097694af2c0009d16: (1.0121313, 1)\n",
            "88532c7b4bce43ade3436ba632865b533105bf1fcc962ff6e828bc738b08525f: (1.0121313, 1)\n",
            "fc2ff81ce656371da82e41228a036c1c2743292abd0936cd601116b11ea492ec: (1.0121313, 1)\n",
            "01111989ee5b96b0f0a47c6fed861fbe19f6d63d3cdb4888499eefc02d564994: (1.0121313, 1)\n",
            "24f5b94e9fa27e3eb37450d7d5079e4e576abe7d40a5412ddd4a4e451613eb7b: (1.0121313, 1)\n",
            "3cf3fddf4374f1f98a33e26ebf87c76d1cdc0e944d077dba9061241c30beadc7: (1.0121313, 1)\n",
            "66ee03a83186805075fc6b146572e6f82c6ac0b5ff167228af3f5657fdfbb980: (1.0121313, 1)\n",
            "262b10bbaaf6bad0cbfc3d1380001e3eed48ef68ca1e0937622cca80a4bdb4c2: (1.0121313, 1)\n",
            "28c744062872aec6e134eb2755feb63e4137ab6837bc29564ac97a140e1324aa: (1.0121313, 1)\n",
            "e6045a598c1e4e3cd0afaa059d638c96e07171546f0889a3e8da576a88245e69: (1.0121313, 1)\n",
            "c0349fe16ecd3a244044c4287e9dc61a9016979442e24a9478dc6a6e4c4979db: (1.0121313, 1)\n",
            "38a5f63caef5daba29c47732c46dd047629023af24a965176b611a705efc7ecd: (1.0121313, 1)\n",
            "5093639ddeaa35a36c762bf8c7159349a941d18adae2d227274fa3a01e0a9398: (1.0121313, 1)\n",
            "048962db9aca38ca4b98c70880a44b60f12562c8d4df5e34457401c14ec0dcbe: (1.0121313, 1)\n",
            "c151f4fd4ed84500f1004d18aa5f3f598414fb1c413689ba43c745f8a47a42b9: (1.0121313, 1)\n",
            "b2220e3a792cae47a0a077f85fc24193722843fea6159d004c9b23854b3f51d8: (1.0121313, 1)\n",
            "210567b133888b5bb1dd8bf7185c89bd1875d564e30d5b58ccd4b92aada53d76: (1.0121313, 1)\n",
            "d3da952557d29efe200a85f3d7dee25c66fb03d142da6820f3d589e741378296: (1.0121313, 1)\n",
            "2b27fd6a1786d640d26a63c1741311eefae7fdeca27ce50f5fd5c224e391b7b0: (1.0121313, 1)\n",
            "0747c41f47156c9bf3484e276927e46c286b47154c60066f65cf24738076e7c4: (1.0121313, 1)\n",
            "f195da8b831667cd92bf6f91112bf1a6da1518b6570288766568d7370b1480bb: (1.0121313, 1)\n",
            "cdaa75d38da416512ac08dcde2e279955af459dc989015f44707675a4bbaa13c: (1.0121313, 1)\n",
            "b82386258e3bd459c2dfed822605abf51959d9de82b31f3b4837ffd3017f8de8: (1.0121313, 1)\n",
            "f6e767c63220049041d6d06d1b4824c6813f87c960ffa3c6ac8aca272e6de6ab: (1.0121313, 1)\n",
            "d0aee8a754e8a5faa158d6a1e8afca506123ec7b6015bff18ae5ef9171de6449: (1.0121313, 1)\n",
            "26795cd9f9aaf966f662604ec74a1f76522f806a40261a30f3e2b2ddb97175f4: (1.0121313, 1)\n",
            "e4cb83defb2921f379d635bb66527b68c033131c299950367576fed277226dfa: (1.0121313, 1)\n",
            "c2b9329dace5eca002d8eca2aa63a736c5f4d311129f9eed4c3c9a969dc4e9a4: (1.0121313, 1)\n",
            "44c3505286d6283dd26637d53f40df6aa52fa3215e4c835f476236a113ae44b1: (1.0121313, 1)\n",
            "5ea6cf086afe1a567c58413b8cef6b19750f12dc261b8aff46759af313afcc52: (1.0121313, 1)\n",
            "0e0fd43fa7cd4846c1aef883e253a21ee8af1cdffce83ceb6d8f5a315df30e9c: (1.0121313, 1)\n",
            "98633bdafb660d12fe95b1005d57f054142841725921b13be8d010936d1a47ad: (1.0121313, 1)\n",
            "f4a60c79759f5a8d9c77c7267a04290ec72105293abecae56ebc10a68df3985d: (1.0121313, 1)\n",
            "b2975e12a99888fb52ce2ce1113a6ea59bfa62e36ab205b41bb61ff609893b42: (1.0121313, 1)\n",
            "5b36f5f691d5bf8e6589c1737c336648bd1fbdb485caec0439d2b6b3fc2db2a1: (1.0121313, 1)\n",
            "3adedf9c7366214cf90b705cf437ee54505a91220bea1bc64ad638e7cb1e061d: (1.0121313, 1)\n",
            "046e22a80a1186aeea76d39dc7ddf4fd05040985e45ed8fde1b3dec4095331e2: (1.0121313, 1)\n",
            "410ffce1a6f60cbad8cd8269146f1b7c5593df9d0378c994a6de25417e8d9b56: (1.0121313, 1)\n",
            "efb7f721c7b92f4aa24ff214a236055761eaf71a8cd0b780050fe97b5c9448e2: (1.0121313, 1)\n",
            "3e538d6517c59de90eb8c90e4389452d8e5b318fc99bdf7b317a6e17905f53b9: (1.0121313, 1)\n",
            "1a826515bba23faa56f752b61a327de9012bdb5bb16e4714764f12b54a2afcfe: (1.0121313, 1)\n",
            "031514905d5870ecf630a26f81dbc6b1557bdb7e78ce45b17be1700886a73cfc: (1.0121313, 1)\n",
            "5fdd90f447783afeb882a529c6be48e1beba248660a2e922e4267eacb5b6369c: (1.0121313, 1)\n",
            "1d4d101c570deb036c9cbe4c0ed6f4c711d3d1d510f3fab90c397bed75fefa35: (1.0121313, 1)\n",
            "8619237841901f2b13e04fe43af8a3b2346513e71d6f3ae7dea7472584a89daa: (1.0121313, 1)\n",
            "7c9e7ae5405d53c1fa01d0393424079fee45daf797799662c9cfa1103fd283c8: (1.0121313, 1)\n",
            "0965a35b69a1bb1c426476cac0984e8982d5ccc24255bcfec2e45292dcc967a8: (1.0121313, 1)\n",
            "82fb90a387d6144bc4ae30a863b6456f5d476f96342d7967460c5f5f0d2983b9: (1.0121313, 1)\n",
            "df3d2179877f7eeab72231471bdb81ab4eeae8ff8fb5947332c69577ad2e757b: (1.0121313, 1)\n",
            "a2944495b894d4bb505b8ede9a27d572d76feb8896f28fb5dec085a471a23c7c: (1.0121313, 1)\n",
            "69da2d9ccdb634ec0ac08f072a978a08113929e97d1b9bf08e08f9a6096963e5: (1.0121313, 1)\n",
            "a9cb37b2dd3e83ccc8bb97437c6c143d3d9002669e7624112fc7c01b8457d5ab: (1.0121313, 1)\n",
            "18272ea707d8edea57a8e9cb3e1ab7e0a81ea8f80fa68296cdddb17af41a2301: (1.0121313, 1)\n",
            "c482a2e73e48148edb02fdfeb37fe4f44a37521f5b58ff7cd8a1326bc0f11957: (1.0121313, 1)\n",
            "08b68eea0f479bc1adfa701be0774fde9fa288a50482a072ef70980c426d552d: (1.0121313, 1)\n",
            "fa2d2a86a162355ddf58407e9be5d9b59e57b66db5d024eec94c33a78bb7c805: (1.0121313, 1)\n",
            "5160f85ea095ab5cd78f701715452033c6689397c3cac88ccef907b49c09e529: (1.0121313, 1)\n",
            "1bff36da54804e4395b78a45fa897e24cbbf05aeee61ca412bfcdbae40382ef9: (1.0121313, 1)\n",
            "d6fc35a6ba80ed66b2acf94d3b8ad85f732b8773afaf6837e2d12eef9b6652f2: (1.0121313, 1)\n",
            "beae36c09f3f9663caf0972deaa5b2ba6ae0ac691bb011c142e26588b417ccbb: (1.0121313, 1)\n",
            "a53000798a171bc03b88cd3cafff11155cb627c582b992e287b9fbc9b7b22dc5: (1.0121313, 1)\n",
            "c0958ce4784ec76a7b702528e8dbbc9cbf72d185ae6bad024b0ab4671a3b72d6: (1.0121313, 1)\n",
            "fbbee8f84c5f596109613ee59c8d3119778adf271136bebdd338138157e761e8: (1.0121313, 1)\n",
            "e45fb918d7ea4e1bcd5a761e4f5a7ddccddb7346911d04cf3d1e0bdd109e3303: (1.0121313, 1)\n",
            "d9016d46d67795e95f1a1422297aa807805edf48f8043d377a7fa5ddaf45ad9f: (1.0121313, 1)\n",
            "d4098433405bae768e37a7c06e3674216cf4c51977fef6ebddc449c73879253c: (1.0121313, 1)\n",
            "c80b20e4df3e72e8b2960f87a23eeeba201c1c75b100bb8433fd2b3bfe4f97a7: (1.0121313, 1)\n",
            "e85987a18d3cac719cae19f53a3f943e05f07c805ce84ba44c667185cfe20953: (1.0121313, 1)\n",
            "676e4eb32180bf7e4cda7f312a58ed060cdbb0f7a80cfdef2112fc73dce7452c: (1.0121313, 1)\n",
            "54b2d7e74ecd8160c8e521c4b1d1a312cd80dca7b2d8b04b87f95b7a52a7e335: (1.0121313, 1)\n",
            "46d6c359ce5a7cb819bb1ab89315c61383ec508d7858eb0412a7959a164477b2: (1.0121313, 1)\n",
            "91b7ec2bb28f7d35abc3c96ca509cbc497cd0d9977937c7600e41990e1eb1b8c: (1.0121313, 1)\n",
            "ac0b8d5216226b5e98f120a2f08bbf6869eaf2c8fe6cb060e396ab031a25d842: (1.0121313, 1)\n",
            "f093c0ba6af9b5053c816f8c74205588611800affab797826995a5b5a00f732e: (1.0121313, 1)\n",
            "ca011b631c128e7c959bc4a20541e8d8b73c102d89abceba55860b45146d44ff: (1.0121313, 1)\n",
            "33912fad6cde9e69ff385a3561d9695d02809ba2e4363f250d74bbb821fe97c6: (1.0121313, 1)\n",
            "663f48739be77e70bcd1b9bc7a2147ffff946244478550b278220ce51f5f56ef: (1.0121313, 1)\n",
            "2b8d2f17522a17ed08e3ff20989e58f730f9cf2374d6855f6902aa878a98ae03: (1.0121313, 1)\n",
            "e16c711c88f9a83490972301a38558dc0ef826c9dbfd0dbf4dac8bfe4b9b61d6: (1.0121313, 1)\n",
            "b716b10fb0420ef0e84cf2cbe04853242701468fba99a3adf564b2bd7ba3b465: (1.0121313, 1)\n",
            "3abf30973f22afd4507767f5375d9c44e2e745ec4189e344760e7db6d6a13fed: (1.0121313, 1)\n",
            "e8ae40bb2174c6cc5acca11891cfbb6fc61a13aed287614e0c982c7f92cfa610: (1.0121313, 1)\n",
            "994df34588ec66fabdb57294e1054b1ffd7def4e1d94576c5074b185241c805f: (1.0121313, 1)\n",
            "bd5d9305c1c2ea44ab407eccdde9988890adbab255908ab11a16f681538a571e: (1.0121313, 1)\n",
            "90729be0a015f7dde44bd8e8a93a150ed4f470b924897849b67aaea2d5ab7a0b: (1.0121313, 1)\n",
            "cf5c1b5af8c733a95b8ba1a7166c6e28b1364ba1ed701e11622eea094ab30f7b: (1.0121313, 1)\n",
            "e86c02a0ab9e9bc4b973002e07b8052cbd5cc5cb8ddfd61500dd9bbd5e92095f: (1.0121313, 1)\n",
            "4fc0f4edaa192dda37d22a5c4ed846770cabfb03bb9e62f5b4ad1995252fdd80: (1.0121313, 1)\n",
            "751161b4351d5ad20342d789d206f39a42f42c804baf061908c0f311b02e44d9: (1.0121313, 1)\n",
            "d8ab3b31b9ddbc13d31ed0b41bcd0c5c7a28e14bf21e7eb70cb1563f1bebd4ae: (1.0121313, 1)\n",
            "edd2394ba3dbf8af1ef64065bc08fdaa9b09b2cc42b81488c00b18f0aebcacac: (1.0121313, 1)\n",
            "4b7843b539078b75dd836daaa3149c97313fcb7fc83980156840108c52115acd: (1.0121313, 1)\n",
            "e8abaa0c7b890c6036ffc3d5ff756c187d2b696389b9c9ed2d5cfc95426167ac: (1.0121313, 1)\n",
            "df6083ab083f995c303c5dfe7501a26c42a8f809619588f58cf2cd54a83b4195: (1.0121313, 1)\n",
            "c0fe88f7e4c91efc3e1ee21d211d2af06751bb7a134555d23ad442ec4303f283: (1.0121313, 1)\n",
            "4b9e663c90215f3a8d973c678e2acf1591ea0e564cc52f19dfb3b1620c3b012f: (1.0121313, 1)\n",
            "bdfe8a2c38b904acb06ee2ef2ffc07a99f356890218be07a4615a0d946c115b2: (1.0121313, 1)\n",
            "d93a8132ff14ad4ce1059e415b240afc4ce2366ea4ab26a38acc60f427cc2624: (1.0121313, 1)\n",
            "2e19e5bb4c22aede66081d2f7a2f0a145f467f1ac6993493da13b04fca302225: (1.0121313, 1)\n",
            "3e271d71f123a2ac4094e0aac283283c7c305230b561529b9600ef28a10660e8: (1.0121313, 1)\n",
            "271afd6909424cea5ca003f8fe2d4ef6f40698f377afc62666be1250ace2afe6: (1.0121313, 1)\n",
            "0cd74edb7acd66e90c016e15f2aa4e2da0993717e459f5114d39228c3acf0560: (1.0121313, 1)\n",
            "e55857611e56196f65e961def586a518bfd38a8e6094eaab129a89cefda20266: (1.0121313, 1)\n",
            "84d1a8d8e17050f12298e53d9aeeca1f386e81b8edb669c9a2763c7dccdad703: (1.0121313, 1)\n",
            "506307779c2c256c17f468ff13491cc62deec2c9fcdd28a17249957a6e77f37d: (1.0121313, 1)\n",
            "67e2c8bf53563f8ceedd3b433090ed448ae8b42cc4b4868d68da5f177abe4762: (1.0121313, 1)\n",
            "1485f68767cdaf54aef15b12cf9e8a1f22783ae459d642db3d256f50b64e30b6: (1.0121313, 1)\n",
            "2a55cff4905b6c4f7a881677814d5bc910b65ee58c137ba5db1b2033b924be82: (1.0121313, 1)\n",
            "7fc53a1e986edcc10ad37f4ec151e9d1718216d4f7feeb98fbd06a0d595e5172: (1.0121313, 1)\n",
            "8a97713731aba7f326733a46e2913970fcbe542fe7528458a47b17197f0c0e1b: (1.0121313, 1)\n",
            "e5a98f5b260aedeb2a03df7680d72c29e5334f2ff8199e4fde96583061de1dc3: (1.0121313, 1)\n",
            "4db4c8f16c189ba99f07a4ea9c4c56cd4df48965bb021812238f41569e960af2: (1.0121313, 1)\n",
            "aa329dca9e34813fae7f6e63547350eef91a6a226d5f8cef407908473586d574: (1.0121313, 1)\n",
            "21adaf2da9155827efac1732d57286e92582fb46785be194ae986e49c6f5c069: (1.0121313, 1)\n",
            "7a39cff5218ce3274b56b447736d443301aaededb2ebdb0554e19d428d1c935d: (1.0121313, 1)\n",
            "e20a6027fa5e972dc411b35d1be6ded58186bd45935b63b25c834763431251ba: (1.0121313, 1)\n",
            "6452f527439f0befe56b5e1ee02dea34873b8c27972514a03a31a8c9a926e1af: (1.0121313, 1)\n",
            "d2e3fa6244f293cff56e1e5017e0a8b1c5da65254ba7a062186f763b879a97f4: (1.0121313, 1)\n",
            "0535d8f2dba24d2be732645b5f51cd819b92a92b15b703b5dcb112ef15739124: (1.0121313, 1)\n",
            "b96789cc5757c1ac52cb8e17925378026d9c586d8895a44a9a90a7fa0271056c: (1.0121313, 1)\n",
            "ef029971b6d3f8b2a8f9ffe97cdc3ec5d531b8303781fd475733386b89d910d3: (1.0121313, 1)\n",
            "5d1c0a108790834d4d04a026f7ce94daabb393a1e64df9a46df8f312c27f1b7b: (1.0121313, 1)\n",
            "b32b3a4d4f91804201e7250bfce7ad424fce56daf365184d7c51cc9112a410c7: (1.0121313, 1)\n",
            "c4d6f8ed72a0f9be769573d119c156712ef47ae419f6619af86b02216918161b: (1.0121313, 1)\n",
            "c7136ee26600d8ca833d0c1b65c91522d9b8fe2c5573a93c582b0609383a8983: (1.0121313, 1)\n",
            "6001602d7f57bedeb61b84da89f662b082a94b212e1ccc1f14c3a38bff3b694f: (1.0121313, 1)\n",
            "579d906e9e0cde76d8deb3ad7cd86f9dd367cc266315e3e64099f6bb3a2bfea1: (1.0121313, 1)\n",
            "b07702d0b8b2045da98b4866aaae4df0efc11c2c675c52826f4fe0cdedd9576c: (1.0121313, 1)\n",
            "f38584e4d4d01ad09cc7a02cdcc50acaffcc580626d39ae7f634511499d8d97c: (1.0121313, 1)\n",
            "7b35679566651f7416b1d8598aa7b5107babf5c54b80d3eb8f47e0802b3301eb: (1.0121313, 1)\n",
            "e7509d4f250cbb1c8c160ec5bcf982cd7f478f8246ca49f88027be020d66a8c9: (1.0121313, 1)\n",
            "e00be31a88980c9ab88a3fd37088dcbae28e60c60d55b951cf1cfc6ab3d30c80: (1.0121313, 1)\n",
            "fc60d6eba89db7c2643e9936cc670bd2dda2773f4e45af772ab4fe3849639ead: (1.0121313, 1)\n",
            "f50a3047590332927e99c8a629a1ac94b04ac3f5c199797aa82102daf9ccf852: (1.0121313, 1)\n",
            "2a002e0ce69205ee0ba342c8e44fd54737c7a93b8939e6868adf40986f02d0c7: (1.0121313, 1)\n",
            "4d955007570d0747dc8a3b90968fd93232d960916f1d6e4a3f36d4e8034123bb: (1.0121313, 1)\n",
            "7406107e5fb7e35f2f718d699967693a1fb0299f1a0e30f985d956d92d864253: (1.0121313, 1)\n",
            "e2a82f0b7138a62d9f9d661ad76276a2cafed88ea935ac890b5988aa4e5b8a2f: (1.0121313, 1)\n",
            "34f2fef788f3b7cd365cc5de11fda29f83a9b7fa0c52e6976801fb4cda7f15c3: (1.0121313, 1)\n",
            "c772edf2e24be7c85e2fdd573cd4f5971e13cafccef2aabd3913d060da4dda8d: (1.0121313, 1)\n",
            "4d5059581fffe8b1c62d53c24cb462fe6606a629b84aca7b553f7277f67db539: (1.0121313, 1)\n",
            "08cfc32e39b7c023f54b9db42e12d7027d06c4e8e5bcce5bb2701c931d4068e3: (1.0121313, 1)\n",
            "4e6d89a8bd5dc01cf4837d1b3906236e017ca5da21bbbc32b7dbbce72f1d4f8a: (1.0121313, 1)\n",
            "dd02e658b16084a0f69deb6216a8fc91150dac202116746a5f1a8fc41c16f869: (1.0121313, 1)\n",
            "c86ab1d64059cb8939f1f728bb3aba1d5dee517701d08ce571dfd30c8dd41dca: (1.0121313, 1)\n",
            "ca100fa7c856162c8136f69118b89c0517491aed4789089308858d26280ba38a: (1.0121313, 1)\n",
            "d56a5759709e58974d8b5b79df66a5917dae6e07adcf2b51cd897f7792e2e870: (1.0121313, 1)\n",
            "cfa925a5ff20e3b44d12bfaf9aa813632bd5b2dfe9e93215f4d15372c66350a8: (1.0121313, 1)\n",
            "a2dc1930019af56901107b06fb75b4d6c6bab17abd7ffccc460746f5e5767290: (1.0121313, 1)\n",
            "34ca410037354dce54db939a13b0268f642cf1343bb2b5f8c14a4d25290fa10d: (1.0121313, 1)\n",
            "85495f0a91dac5f5a3dd385d7366013c3bb5849a2e4cb23841f3545416d157af: (1.0121313, 1)\n",
            "1eca57fb93b33cd524a33cc0fc8d5c2b98b4da974f6ea593e7c7a2e9dd0f1be9: (1.0121313, 1)\n",
            "8fdf5248e3f1b7fa2e756772c04981284e7ff42cfb6ce3bcfa7a73f564e76e79: (1.0121313, 1)\n",
            "a8eb096afcafb76ebc7dc80a8f47701878b18884179e2f8770476f17318237ce: (1.0121313, 1)\n",
            "ca7b7d1177886702906caffea02c1e30245c7e47a55ab9dfe0081f0f677c296d: (1.0121313, 1)\n",
            "292dd20566f818f23ee79d063510c162b4ce638052ceba8ac7fd9f7d9e9d7622: (1.0121313, 1)\n",
            "8ccd40fe1222ca7138dc694d334e69fdae4080eee4296fd81614f3df96214e29: (1.0121313, 1)\n",
            "1c33382bb70ea4feb11abf52dfa5238f654cc5d0d29ef34c752b9bd4dc799cce: (1.0121313, 1)\n",
            "93cc80655009d2542c27beaad04b6944f7cfd9a70c216ae9394f0d84eb0f9dc8: (1.0121313, 1)\n",
            "dec5932d7a3344c79b9f2cc736b2427b98a8130faf3997bd50ad2b94134e27d9: (1.0121313, 1)\n",
            "3dffb27a8772d2d3c2e1dfce9637f2a579a090c5e259b62a0da0091deab26e08: (1.0121313, 1)\n",
            "3df421672cdf0a5d679fab37a5f317d8e80edab68617982af702be6fb2a5eaac: (1.0121313, 1)\n",
            "df22df23e54870934fb9c1a36b2290b20ac0c7c1a5b8ebed33a8e0d12c88cdb7: (1.0121313, 1)\n",
            "32dd4e36ecf00177831fc49493b1e0637d7f16d7655deccfac608df2bf453ef6: (1.0121313, 1)\n",
            "e353d06904c8a4a25a89d028f421616522db27be23a1e6ce2d679e26ad645895: (1.0121313, 1)\n",
            "5ac9458a50456838ee7b1773ee4fb42b537c409046518838c4f57f2d0edce3cb: (1.0121313, 1)\n",
            "ea8cbddf16e3ac8d3d6a19335a6f64fcd988496921f51900f9bf169f574f15a9: (1.0121313, 1)\n",
            "4b889f848f59f9bf787b16626f96d0390c3f9ab3ed3edcc8ccc7a451d5acae10: (1.0121313, 1)\n",
            "7e81481825ac0f742d6304668560777adf1825f63277776977733800321762b4: (1.0121313, 1)\n",
            "995a5a548974fbe564405db7b6c7fbeec7afb99ae8366982e954581af3e02da4: (1.0121313, 1)\n",
            "b2b95109ba0ab52355284e826217dad8fe98322bca01a975eb48c818dedbeb91: (1.0121313, 1)\n",
            "95f9365a9294512718a2f21082b3829ab555b9bb3c5c4a5239f584dd6f4a8ecd: (1.0121313, 1)\n",
            "87868ff738dc237978b4a6935f879ded843b3c2a8760f3ad57174e5907c1f5d2: (1.0121313, 1)\n",
            "9a9a9a6e6897aca21548f58dd7ec73aa6814a64bbcd2a89634220daac73df941: (1.0121313, 1)\n",
            "fa48a1325b422a2dc13c4625cacc1de501c024955ce62b43652bbc7db557505c: (1.0121313, 1)\n",
            "e0842c56eb300c56c01a7b3035477d978bfe49a9d435fc4864f3e26343e7bd2c: (1.0121313, 1)\n",
            "9d628c37d52f2780a82ccc73ef5be8fe6c1ea805cb2ddf2570051eb06e046bd7: (1.0121313, 1)\n",
            "d1b3f138037faa3eafe97a4757d46e455b06b8726610c33407e7a0fad5808dcc: (1.0121313, 1)\n",
            "deb04f226141c160d52d5f56070db4b2a6548f9890daed1f1b2330755d305eb9: (1.0121313, 1)\n",
            "10725ce4537040d3a72f9446c1a5187433653c4cc25b0439bd9bf176791a0d6f: (1.0121313, 1)\n",
            "007ddc53c490401a6875346e86cf13af33d9548077fda644471916fb5ce1dcf8: (1.0121313, 1)\n",
            "3095f236c4b2cdef4e3f387a88cf968931a0c1c680ebab562de7f9544422965b: (1.0121313, 1)\n",
            "610f889424f145d6f0edff724630e87a2f4f64392e07c60db50acfc048616087: (1.0121313, 1)\n",
            "02b26c6c21bb1342cb4773940afa7dd88019d22ffc7e13f7e6f10b9443509e8a: (1.0121313, 1)\n",
            "043d14f0315ab79a3982edd525b985bda3dae7c869e7dcb34f1809443bd24ca8: (1.0121313, 1)\n",
            "ed10808002e40ca3c08baa680247e6bde410464ba3bfae43063edcde03b87da2: (1.0121313, 1)\n",
            "8100cd5dc2049bcdd7b3047885bcd78465ae3b33f586e641abd369c408c877e1: (1.0121313, 1)\n",
            "156774b4a7c4b7069786dca0d81e5a6683fca1c526ed9e0071873ab9851c2b5a: (1.0121313, 1)\n",
            "11d9915f12f090ef347b2e3b1bc1135da3ee1f285b442c5726b5265b92250a4b: (1.0121313, 1)\n",
            "2961a94981142ad6000bdd8fb79733ab88a244b60740cbaec84b128c0a18442b: (1.0121313, 1)\n",
            "97163ea8253622cb057239eb3a629a9a5b9d4de2b99fe6111f843e550e43b9cf: (1.0121313, 1)\n",
            "5b6d2210fbd00ad26f8dfb675fe4911e53591f641b11df2360de402bcc41e321: (1.0121313, 1)\n",
            "0de22f7d90d616d6aeebe114b93e2a7e1ec991162f6303d1f8c35f9eab3babf9: (1.0121313, 1)\n",
            "df298e0635bf4af47e352646f896596f35df287fef3bd883106fcffabbaaa21d: (1.0121313, 1)\n",
            "db91d50820e78f6b62ff5ead13b9b62d991d214bde7c61b3790f8b86941c96e9: (1.0121313, 1)\n",
            "205dc051039c342e717d99240d2fa96337d723d8624a732234a1f8f2184589ab: (1.0121313, 1)\n",
            "c26d25fe419c6ea3d09cddfd349dd0a9c60602e63f58ee7494338d6cc44ad106: (1.0121313, 1)\n",
            "3834a2e51b27520cc8f87c92cc7f44c77c48e453cb84de43321c19da2437aa91: (1.0121313, 1)\n",
            "9c440a9a0caac52ce118dbaac25740116853dce033c51df05b9906bc24d0819c: (1.0121313, 1)\n",
            "49ddbf9802ef4aaa9c2054a7bfea8d34abebcaa009ec1f0277830273aed55d39: (1.0121313, 1)\n",
            "04dffa3494918eca7b98c668f639dcbdd968c6dcfea2e17dc9883115b6a4011f: (1.0121313, 1)\n",
            "9473b96ed0a479ce47b58bc5f87ff8b1c867288b59d67506df605243d6816b28: (1.0121313, 1)\n",
            "af04259b2cbcd879f4b62da82a5e4d2292efbe36766d4aeec3b2db55eb66fab8: (1.0121313, 1)\n",
            "6a0a2b05eb482e97d059be9c2bc1f73d4fb8a65e1f0db25ecbf25773f0e6f463: (1.0121313, 1)\n",
            "7d24de715bb34306cebeab0d907ea4c25429a99fb433f8812cd4b90ec198ed2e: (1.0121313, 1)\n",
            "f3f3c41676c782b94a0b5b8cdbc52ccdce543c1601d2f55689843acf4ed5a596: (1.0121313, 1)\n",
            "db03d778218d414739383855b283d2df764934266a5d1ed37ddf32433408f043: (1.0121313, 1)\n",
            "295386b8f76db8e770a2198d36530929926005c8ba588c5aaffb7f82252c0ad2: (1.0121313, 1)\n",
            "d4fda5fd4c5b3179f8cab917db12800a45ed721405bf87d195645f00dcdab614: (1.0121313, 1)\n",
            "e11d8cc6f6d8a113c01707efa754ad37457bcc00e6063939e8d880652ba35298: (1.0121313, 1)\n",
            "96aa6a477e4e1bcab797961ab572661d3c4063cb5c23d827299766619f367c96: (1.0121313, 1)\n",
            "164b2311ccc650bb6614f5be9c11065f509fdefc57ed3eeebd85a00f3a486238: (1.0121313, 1)\n",
            "4df87508c5cc1d5d34594e8fee5f6f1da69ff47dc024cfe8b5214c63bc898e86: (1.0121313, 1)\n",
            "270028e5b582250ae8ee3262314b8fad6c714ee111c5f986213bdf24603a059a: (1.0121313, 1)\n",
            "8756204e6aa7c51146e01a2b38851f27fa14298dcb25847ee0a88fba3d548932: (1.0121313, 1)\n",
            "291217dd9ffb0b9bae49a7bca89fa560305a41122221a55ba49abece61acc793: (1.0121313, 1)\n",
            "7ae0921c5a23cdbc83233774ef4f00600d02653ad05ee5b8f019e44dcff6902f: (1.0121313, 1)\n",
            "1bd49319221d32ab3591dd9f64e552a066e89bc059009171e2a8ba502b4dc87b: (1.0121313, 1)\n",
            "5de3110a43b8a755c3f96bc72f06f24cabf0963afa724f41c6a39bc7943e6cb3: (1.0121313, 1)\n",
            "4bf5f21d2e860797408fd197ec3b60808fc0bda5cf6f29cdafec35d58cac9736: (1.0121313, 1)\n",
            "57dee9bc12f90b1f416a5bf49733bb37ae6d26fb75f692bcfef41e57109a4fb9: (1.0121313, 1)\n",
            "c6f7f08643cc88a1cfcf994e19fb864894247e9ca08bbed101d53cf51778c73b: (1.0121313, 1)\n",
            "1882a016d7706d12d839a9619f0a2180301e574d95070d0e36e189b31639ced6: (1.0121313, 1)\n",
            "eb0e5033b4dc4e76c2c24dd58a2fae0d26aa5a4db74c36840af6e8466146d91c: (1.0121313, 1)\n",
            "aea9a57f2b8c5ffb1a2fa9d214d994ea588a28a56ee7712e7f89c9bc3311f215: (1.0121313, 1)\n",
            "50e8936783a2dcc36e7b409cdf14f7a3e3f04d1705e313b14a3de99fbc44fccc: (1.0121313, 1)\n",
            "6c97a42e99eb40600db5b6915957d1d0d083781fd9feb034706d4f7eab21db2b: (1.0121313, 1)\n",
            "9d0556ce27a45843c8ba170bb7c6294f6c22d1b66ef27833237d730138edc46b: (1.0121313, 1)\n",
            "4bd9c048207f64fef508c4fd69afa0286b78063ecf4c2ffaac44a9cfd1e6f933: (1.0121313, 1)\n",
            "9fc93d3ce09fdf41534e2ff79ab4da51ac48dfcd4dd8461d85cc8ae2b1b2a663: (1.0121313, 1)\n",
            "268380f0f73a94c000ec8ed4e0d40e8750ad5fccb75726ca3529e662f653ba93: (1.0121313, 1)\n",
            "bd0ad3b8fb8142fd4295dd645c91ef35034592cc7cb95f200a7a82d892383fbd: (1.0121313, 1)\n",
            "1b9ec5a340f2054ebaeaeccf0e33fc3740a748512dcea0d7689be04c58d39357: (1.0121313, 1)\n",
            "98df5c975d04776c8d3e04b7f4294ad396c52e219ef454dd9d4e10689d4ee091: (1.0121313, 1)\n",
            "1108df66373a32e49459309dba021761eafeb2f55f83b8c03d841a94e657913c: (1.0121313, 1)\n",
            "34949386177e72e7179d21d8496ce3ed7d59ff84142c5fd8e0069c90aeb117ec: (1.0121313, 1)\n",
            "41be431a94a7e636a14bd2dd369638c2da6b46e84e71080a6f95ca82e24d8200: (1.0121313, 1)\n",
            "35606938dbf3738b0bd3a4a197734fc975fdb6726b24241086fada35d12eda99: (1.0121313, 1)\n",
            "81c7a37f6077e4589eff54f3da8f1b155067f899a65e3b1acc7c78c923f1bfdc: (1.0121313, 1)\n",
            "77f452ae0328d69b04819fe38f342f6daaa1c51bd944f0da357ad84d4db66108: (1.0121313, 1)\n",
            "eff84441b40a0d9856df5adf8544108c40e2102dfd97d6e153281090b92eeaf9: (1.0121313, 1)\n",
            "5a44453fed1bcc96843225ba43a29f0041c263ca88d5521071cec67fd6325d00: (1.0121313, 1)\n",
            "4b8f15d6aa19b953488532255ba8378d76b42f0a5189aff9284f12b07b82c5c2: (1.0121313, 1)\n",
            "5f780cbb507571b0620f4cf14f8940d0ab3d260c7e31cf3a8e8519e65bd13dcf: (1.0121313, 1)\n",
            "d277663ef1b9bc4ce0232535ba8ab00122a808f47a201e5cd743e1482f641587: (1.0121313, 1)\n",
            "4242224fe567f1a0c97e9b802f54f38fc96617e19c6b160cdde6d382e5cb55fd: (1.0121313, 1)\n",
            "b1de9c346e91ce9885f7d349e5020bad1ffc07ac874d555f1fc6484fa6bb7afd: (1.0121313, 1)\n",
            "0984b4eb6894b34d6061b14c3d9836c55720626e4c8aadce43c8a67ff311b9b2: (1.0121313, 1)\n",
            "5a3edc68b306f61382af577af8aa49239842eeb32e2f8f57d90f90a88535c4f1: (1.0121313, 1)\n",
            "b745441fb6039217b1fe104e40d9258e57a2b2af523e2849b6d18a7deef184dc: (1.0121313, 1)\n",
            "23491bd31d3453d45debdd69e849dfd8d5e8105f122dae898b0920a3ddb339f9: (1.0121313, 1)\n",
            "45bf963aed569f52aa8284e6fbcc2ebcd1e659ae4b128a0eaed62050c90d6c2f: (1.0121313, 1)\n",
            "31b5a83ebe41bf466eed12d786c1b745f03b9a788fc04be2c09e79453817f00a: (1.0121313, 1)\n",
            "94517ac2c039d436f716cd48439b09b384103644897ce020b17538764741407e: (1.0121313, 1)\n",
            "27468a32d046034db74e304fbc9967892499d36b3346febf127247d759c1c84f: (1.0121313, 1)\n",
            "6b05a969d676cf290cd44fc55ab3067d8406fb3e3bbc47ee50558caf9796ad38: (1.0121313, 1)\n",
            "ab80b341d55f99445a2122925f10bc7e535b232dbdafd4e785cde573b1783934: (1.0121313, 1)\n",
            "6393c9e7c332237a430d5bd35dbdd6fbabf989c7fadc7a5efc0c14e15fd15eb1: (1.0121313, 1)\n",
            "ba64acc7d3eb4c9c860430751540aebd2d9860d4fedad0409320e9aeec0e2c65: (1.0121313, 1)\n",
            "d1b8bfe9a636f15df9d7139a017b0430a3d5589cb5512e006eb53a8365e727bf: (1.0121313, 1)\n",
            "08e66c8189529ffc2a92c534478e9565cb9b668377f7534cc0d40a7ecc2339ce: (1.0121313, 1)\n",
            "93ff7b72307ea847404ccb2cdb87d60498122f3a7069f464482aed08f5cd105a: (1.0121313, 1)\n",
            "ea72bdeb886ff1364a9604d97a60f2bd3f20c0196fc6b7df3443da31f566c3a3: (1.0121313, 1)\n",
            "3549697bc1cc5aff0e4b8fef33feaa490395071039cd5ca942689e18323b59e6: (1.0121313, 1)\n",
            "63a54865e47745fb0564a0cf52d7cb426d830eea09f0f26d50e3ea4e1c182cde: (1.0121313, 1)\n",
            "4af1eaa476e9b08e7377f4f2e544c1a0d9235c84b7f548706c5338286809694e: (1.0121313, 1)\n",
            "01e9b90132fb73d1dcf2f053a61b4869caa6916cd03ba577f99fa7ea0ae7822a: (1.0121313, 1)\n",
            "db25233fae791ec2ed4e3debc417497efbda6c343aae72ba93013f064b952819: (1.0121313, 1)\n",
            "1c7f35b0551952f52ad312c920d620b218c786cf19fb64dfdb54541b6f92f2cf: (1.0121313, 1)\n",
            "8e7c255dded146bf599f68b14e20a188dff5051125f19387ad6ad1f031ee182a: (1.0121313, 1)\n",
            "3d53e7f580d7130a61e7da2a6c94555ed3a9a98fcdd7060fa4cfdbd236e63d33: (1.0121313, 1)\n",
            "15c2529994afd71a3e20a95da367d483f817ee7c4ec7f0b3bf5a4ab44c44ca30: (1.0121313, 1)\n",
            "8389e388feaca2f44ef716f56c16b7f016d7333844f4d08e5e5f51e78705a979: (1.0121313, 1)\n",
            "153a6e3d6a029f3ff748ca0b3141b3c4b23a90649550995d62a6a85c14b490aa: (1.0121313, 1)\n",
            "b3daf1ec70c02e2a1d9d845cc03300c3b272275fdce1b927dec86c29f03da876: (1.0121313, 1)\n",
            "aa169fddac2df0f88696950c01395ad2fb51b69bad5cc443a6b4408dbc065935: (1.0121313, 1)\n",
            "82690129cf7402295728a514bf7449d09402444b47604225eda66a8d2247a143: (1.0121313, 1)\n",
            "a950d0472cc1d4b1946eae3461d2664c6af4470d9028f80fd2d745a32bfcbe8a: (1.0121313, 1)\n",
            "1701b8e6d6e131eebaefb06419fc373fbf411ad1324207d852199c74cb99f054: (1.0121313, 1)\n",
            "c23629d743798fb01468cddceca33b264b19b1d756cb3f0736c49d5e4a1931bf: (1.0121313, 1)\n",
            "f4a8c9d478c86360e0a90b00e520874e1a45821fd69aab10b9b45e0aaf6d7cf3: (1.0121313, 1)\n",
            "14dda637bf395233d40a16a96b7191d995572df370a20fd8e35af1eb85dd499a: (1.0121313, 1)\n",
            "2881f7537d593e9a67aa2c02f168471807a63bb9f61c6c01a616ac82af69d675: (1.0121313, 1)\n",
            "6afd03c75b1c0993c451072471e1e5df297f41c6607cce7b0f75c7c28147303d: (1.0121313, 1)\n",
            "793597d56d6e7ff03f7d6f718af8a8e0f5ea34a4b5f7b2e1e450fa60ebab8740: (1.0121313, 1)\n",
            "417f675db649495ae5bbdc53f517d75654a75420f76c93b18f0ebb5d919da180: (1.0121313, 1)\n",
            "e8d4c5e9476f7578f9fd66235db2cd2fa565084fcc0766f2c6a50f542acfe920: (1.0121313, 1)\n",
            "cb192b1704eec14554990e003e9df484240a959772542625c44df68fa91a5f68: (1.0121313, 1)\n",
            "bd11467e4c09804aacab5ffa3da81881431bf8d00215d84822e5e954d4c6f9e9: (1.0121313, 1)\n",
            "9168e5fb612ad325773091c6d7659ca84a217f0b7790d43aef1c6a7beee8231c: (1.0121313, 1)\n",
            "0cbb4be05dedf88a4b1f0f55159d87e8822da274daa05b79c6673812ea62865f: (1.0121313, 1)\n",
            "a87d19d8ee9537e8b91b150e20e326ef5861da0f319e83aa312cfc1b3e7fe15d: (1.0121313, 1)\n",
            "dd85c7975bac404272dcea2929b5276504e8417888df019717bc046629e6ae45: (1.0121313, 1)\n",
            "939fd140ff718efda0404d65cb3ae4419806b5cb5320bd960b607d442331c24c: (1.0121313, 1)\n",
            "7ab9ca23237fa71f414c2de90201939b190050fce76f601f3bfbf2328ae746ce: (1.0121313, 1)\n",
            "642f08c9cebcd5b0a2072880741eb3cc3a904117076dcc96e246eeecfb0c6cf3: (1.0121313, 1)\n",
            "0d09646cf94dc1f77c28d2cc05c34133e56f3c75b854f7a9f89505d5ecbc885e: (1.0121313, 1)\n",
            "f6f4207dd3c90f7c6c608a7a46143047afa74c2b971240786e63d98751c509a2: (1.0121313, 1)\n",
            "b49c34971232ad018eb303eccda602b9a3adb847d112aeeffba2b2c6575b214d: (1.0121313, 1)\n",
            "c6a4895b55d83423be794166d64893681385ef32cf4bb146e823792f8607f94d: (1.0121313, 1)\n",
            "7fcf22e675da794620ce9aeff48ec03c74b4b3fed1ba8db311cd4b615e50cbda: (1.0121313, 1)\n",
            "c8012bc989fa702003184cdf938e6f14c57728780545e48765afef43a1c1daa1: (1.0121313, 1)\n",
            "39f9959e72c995e73bc56a8958de38873d78e2040218b6cb62e8d6c189f716a4: (1.0121313, 1)\n",
            "1e061845a2859c06e4f2cd49f5b3496d7f32470927ffac9fc83d694093ae0450: (1.0121313, 1)\n",
            "d93cbed97907bb8d0b4ccf9f25df93b22d406978930092faa915df804270ea19: (1.0121313, 1)\n",
            "2123c4a843a57756aa388b47cd008e755c9a0aa1e3ffbc40c346ae8efeeb7194: (1.0121313, 1)\n",
            "94e02a7c337ecc8a9d6e10460c261dbba8fb19527d4c793c3495af59fb13e324: (1.0121313, 1)\n",
            "b7e0a426abd0c17f9e101b34f0351ce716659bf6d76faba2845a0325ef69b740: (1.0121313, 1)\n",
            "18b5443842d70936dd1b5ddc304db18f09cc1e1110449ff789017e031d351fac: (1.0121313, 1)\n",
            "e63acd2777d125cf7ab3af4505c7ff74c20ad3738b781cd64149d43ac43e3921: (1.0121313, 1)\n",
            "208f402cdbb3f6973eec5db852e058218f929dc5b78aa40179dd07e9a4789b96: (1.0121313, 1)\n",
            "c788a0db38ac7c83a0685f027312c39116eae7cd71324069605ae9f01ce2e4e5: (1.0121313, 1)\n",
            "21e62fd544f284d6b79915797c3cc50cda67cfee67d94e3deaa8e70944450d8b: (1.0121313, 1)\n",
            "0af082537ae47554d0ab028ea36ef4cbb37abe0eb95754f3682206efa9c6b459: (1.0121313, 1)\n",
            "83c2964770340e85beddaaba62f60d39bd3673df477b22eea53c2d221aafb051: (1.0121313, 1)\n",
            "e9053ab68940f67c2bab11a0faee88e2fc94fa94f30f59a350c72d31ae85ee79: (1.0121313, 1)\n",
            "1d5a41b4dce37e4d30deb7d388ccb5802b947e2c3a8e6fe681d5b09b3ab36995: (1.0121313, 1)\n",
            "4d98ca720c472c2fcfd533f44c323193a17d6fda378b4b17ca9dda89ee124f31: (1.0121313, 1)\n",
            "71973429cce552e130c70cffd538945126ecc1a11a5aa85b1c2bdbfef9ef349c: (1.0121313, 1)\n",
            "55f9647992e988158b4003c061e57e81cffc12c828a24daa3f0b80f7accc8560: (1.0121313, 1)\n",
            "e7bed211ddebd4f30b8dce00f4ef917738c985b31e63687caa1ac90504e95b2c: (1.0121313, 1)\n",
            "5416b8173ca4c1eafb2f213abd3467521b02f40d4e3b38c74cc643bb30fc6bd1: (1.0121313, 1)\n",
            "ac26115c1f0697794325d2f603831b3305babd3b75b9c80feea24fc99cf60312: (1.0121313, 1)\n",
            "f0e1c5f423bd39fcbb0c62722461fba1c8ac0bcc0dfcacc2f72f705959513e84: (1.0121313, 1)\n",
            "97e72628256d1da0ac214439300ff17423bd0f2d78dc46c3d56f5db290803520: (1.0121313, 1)\n",
            "fc95d649a1c81fa6fadf74b5e67a148e07f7060b03bc63583c2fc8819b3e7ded: (1.0121313, 1)\n",
            "4cf312ecb5fbca081a85fbc39ac4cd30235233108131023fa462c7587ef2449f: (1.0121313, 1)\n",
            "90f099adbe6344329648ecab253c44f807c5d49288199e75520c4e1161132ac6: (1.0121313, 1)\n",
            "21fc5b70cd09458354ee161e69186cee5c378f2f6677fb3b733e572a0953a587: (1.0121313, 1)\n",
            "e95e7cd31e4950ca095041cffc6166fc7d9ded5d21f5c5ed09ed3f4f617b1253: (1.0121313, 1)\n",
            "2af755ff6f96fe45bf79d0b30fbf5ef292c3d7ef3985404e52071d39183f0d98: (1.0121313, 1)\n",
            "b173682cc4fef74980f80bc9cf050a44eb70a38b3bbe5f14f3041fdee0a9813f: (1.0121313, 1)\n",
            "deb976e942b2c9d65048ebcf50bd772f652203be684d93e694727b6976340e6c: (1.0121313, 1)\n",
            "2a1f7cc651de38b074b1ca10088fc0157aed23782218c6094b845cdb88872043: (1.0121313, 1)\n",
            "e86053624326a7d1ce24b739e6ac8156d66c6994c31a39025c1640e218941e84: (1.0121313, 1)\n",
            "9f9f8010935a32979167525f46e7421f74b90cb43c3df7c832941494c157239d: (1.0121313, 1)\n",
            "c419f2bd23459645e33b5f0f6b0c6415f801ed98541098259eadaa57d0d61533: (1.0121313, 1)\n",
            "5680eadb772ed279d0f98f536858d378f1277c5a50d6da4c0e94d3d474ec1574: (1.0121313, 1)\n",
            "56e1ebcd9095158b4bc574e03f1a85802b9fd8a3c821778aab6b6c96c15554c0: (1.0121313, 1)\n",
            "c3efc2fa9529758c1d8d5ca1ec709ce34b562052abcf9f6663d220ba3173ac8c: (1.0121313, 1)\n",
            "075083cf54e37abbfb4fc5be69b8556acc14008318f0537a26b0dca44439e238: (1.0121313, 1)\n",
            "d6d74b3db0320041a866973deae0bdf4d75ecfb2988b42f71f1b9af3df587951: (1.0121313, 1)\n",
            "bceebaf3d6fdd36bb1064dc72695704d8a7943d1244a4447d4aa2907b21bb8ba: (1.0121313, 1)\n",
            "8f36165408eda225f6f349a56c16238011796c030eecd5bc11418f4ca3eb22d8: (1.0121313, 1)\n",
            "3dfaecf16218475b0d03b5b6de934bfebc82b16b29b5eabd20ef21a70a48e992: (1.0121313, 1)\n",
            "2db8ca0f8c438cd3134c436430ad0f415b8ada312624105777480fe60df09ee5: (1.0121313, 1)\n",
            "c701eb91f3e2f24243f72ee7b21f8cfad5bd7ef6d608e117a7696fdf6c2ad43d: (1.0121313, 1)\n",
            "e4ffa252c608c606af63a0e9d4c731971446d6e7740449080226a94ff04c3748: (1.0121313, 1)\n",
            "b8521b891248e95d65b387be92cdd5961de82585d59a9dd4fb07b8651a8fdedf: (1.0121313, 1)\n",
            "d9626eec5a4e62f45cd547ff22a5a0fa7f1ef5e197d7a49dc6d508315f38129a: (1.0121313, 1)\n",
            "c8155fb4e1f104e520e3f30b712ece34bef833e41cc53048467692a719944c52: (1.0121313, 1)\n",
            "5b53675265532d5c04106411cee05718d3128298ad08e2905186ac89abae504a: (1.0121313, 1)\n",
            "4a6cfae97ceba85829667393cfe095dcf3ffb7c4e2f8ba92865a32129e35b2c4: (1.0121313, 1)\n",
            "b17f3366e63f3a700328b3e48f4b1be48023d2097c7bbe229ab24b8c1fead8d2: (1.0121313, 1)\n",
            "d1d4f6a2a559b172c3dbaffc57de09ca4d40e502dd172d2ce156bbc543c31ffa: (1.0121313, 1)\n",
            "efd2f0c24b8e730ca44fafe73bbce90b9ee770aa11086ead22bf648a1904c042: (1.0121313, 1)\n",
            "3b2780f52fe043398c573dd4b7ae302f0a9c1d3bcbf762ccf3573e944fdf98da: (1.0121313, 1)\n",
            "b098240d09c7abb0b0cb12f4a64deb00242b08b92de260cde25dee1951323b9b: (1.0121313, 1)\n",
            "23042d382a6d5531b0bba8334282160e73aac65a2586c5757d555eb33b63c78c: (1.0121313, 1)\n",
            "45bc8077c11e34fcdaa87e1e8f92614b3b2739216b54f024be84bf133aabe5d4: (1.0121313, 1)\n",
            "62cb78c6cf248388f08953f08ad5f56326f480bd59f897b83f9240e16c575044: (1.0121313, 1)\n",
            "19487f79ef7ee7229895865ef674656b913efffeab021c2c89867b904df3945c: (1.0121313, 1)\n",
            "bbf1f006bb163b8cc0f78793e346ccea841cc59a98af161da635ae439e9f7cec: (1.0121313, 1)\n",
            "b998a6bae10290ac917a8b7b2617e136dfa1fdfd2985b66668efc06c451e572b: (1.0121313, 1)\n",
            "0059a72dc89bd3a2bd42e523d98567a0f1acd1f7046f9bdae89e04ddc0a494cf: (1.0121313, 1)\n",
            "eb60a640d7d36eb9937b2a682d97e7007ebd746829dc58fa1b007093fc909e0d: (1.0121313, 1)\n",
            "83655ff566ae3087843117830b05f844f477dc9f3cb38f21d8c045af34a1a183: (1.0121313, 1)\n",
            "b6ab91129368e658bba2d174ac84a1d2df8dcd2706eac2b27b055f47007f461a: (1.0121313, 1)\n",
            "8d978d01616abcb3f74eacccfba96ee674016b88ef0c9b97554f319737e68b5d: (1.0121313, 1)\n",
            "279ac919eec50823d2b82fcd4450205957a8fe6267cc1886939076fe82a9f86f: (1.0121313, 1)\n",
            "4309964d78139190eceb4c21f8044ad50b6a54736a1f2fe62125714c97449535: (1.0121313, 1)\n",
            "74185d08ed0ab46304149fffd0cac92383efe991ae16c737f220458bbb33a544: (1.0121313, 1)\n",
            "c10a5dded6712e3086e582fb0c08d5a5a85dd3b3e4efcffdcfeb11b70dc68df9: (1.0121313, 1)\n",
            "8ae3931dfdb156902dc05d35163a7ad8034eaf0a3ad6a18c85d60a12ef9145ae: (1.0121313, 1)\n",
            "258dd52e6a348503cc5eae60b6fa0994b2e59ad14259dd62e814ce0d8fc0773e: (1.0121313, 1)\n",
            "18962cda45d0806f16016439e9c19bf3c3f2ec634e2f5609fa643132e77b388d: (1.0121313, 1)\n",
            "4d396e87b0063d39aaead316c60f49e9c57f1fafe93d02a9f0ed0fa52edc211e: (1.0121313, 1)\n",
            "0339ed1b58a157b3d4c882cc904543854d75007c5a137c229ca303c0ec84ac93: (1.0121313, 1)\n",
            "c80648c413de39e3546fb2698fb18ca46c2f956fcfc9a9bd0fe31307d9b56368: (1.0121313, 1)\n",
            "7caffa45776766141ff3424bdcdc6dac70ab0b6732eaf825c76ea30e6d22ffa3: (1.0121313, 1)\n",
            "541baa51724190ea5be7ab55cffef6c532fc6af98ccbe321ffb69d8d8d44e3b8: (1.0121313, 1)\n",
            "76a7dbab4134f7d876638ee4fb1a2e67c4e5c386d5b6e00d52a525b26eac3d92: (1.0121313, 1)\n",
            "e0e73b217fdc1ebc6a9ab390cf187dddb439d3df6b674503d5c902c08ddc5164: (1.0121313, 1)\n",
            "08aceea262bab9b6e90984d9500cd7b77655d5ba80ec5894c6654dd98d037b1b: (1.0121313, 1)\n",
            "da64df60433cc21ac53e49f05c1bf3e2c25f6fdc49c1bf9cdc3cd704308940b4: (1.0121313, 1)\n",
            "1f85a440254b223971c7938953ce6cfa18d297485e84e7cc45c0d15c914b9155: (1.0121313, 1)\n",
            "af63bf6c3164d56e81ade4e43e44c1f5952976774af9a1f741bab339b68d9d66: (1.0121313, 1)\n",
            "0af3a8c9f9e83e634b6deed4324b0cff349e841b99f8744c9fa8ee6cdc468bc0: (1.0121313, 1)\n",
            "90dca8bb653bacee36abd2a25d639c977be549d32d13707139b28986c65dfb46: (1.0121313, 1)\n",
            "5dde214abed1b2bf9e7458157202f7cd2cc589a0f4f98d962ce7ecc80e0a1597: (1.0121313, 1)\n",
            "01e76cfbb31e34cfe7292bb0260c99e38c850e12f8916cb814f384c4221854dd: (1.0121313, 1)\n",
            "88cf7316b84db03fb37e29137cba0016da60966a38bb4e434383e433092084a8: (1.0121313, 1)\n",
            "588b0791744526ea04b346750645ca53f1cd58500974a7e78edd244e22b6a6f5: (1.0121313, 1)\n",
            "af502c8377a955421d5f4caa0da8574ef8ae8ba2057825c405210e689ffe2f2d: (1.0121313, 1)\n",
            "ab3d4bf2063be265da630458924d3cc00b627c6f40442a471540a982dc73f581: (1.0121313, 1)\n",
            "c932dcb90199e16e3166d574cff4ce219eca4c2f163e9844fb19e2588005942b: (1.0121313, 1)\n",
            "bd8974b874c39798f96651f8a8bc5c3dd7a729c4284a946610df3a6e6dadbf1d: (1.0121313, 1)\n",
            "3205bdb4951cbf2336fbbeed8937bb5d0aa945203f10d014a09b46057d71b716: (1.0121313, 1)\n",
            "d0310372fdfbfc0c4deec8799eeb6bad2413094d2056f2ea66cf051026842676: (1.0121313, 1)\n",
            "9140e2faaa155b7c589ba58667be0699659c7890327e08e7c0099fd572b02184: (1.0121313, 1)\n",
            "a0dfedb675ed3d532de86d6306531b3486b079e53ab061e3891e14949aabdfc0: (1.0121313, 1)\n",
            "6d9b1191c4740f19314cca9889c641d0fd06d2ac62148578795e8b4587600116: (1.0121313, 1)\n",
            "c12bd1fb38bd41772b2573ce4f36d5cb2bfe7ca1796336b905fde6440c5a5e84: (1.0121313, 1)\n",
            "b769ea05d7823681df5993f7d32ca9ee31d0ca8f81312c0c4b92a876c1f88e7b: (1.0121313, 1)\n",
            "4e47a3d7e0b345e74aa6f4cd9b0bc9c1de14cdab98d4fa8baa53e6c1bd00c14c: (1.0121313, 1)\n",
            "af70d66203ae8b0941fa019343ed4667603bfb180f3b249b4be3b5dfa3f81167: (1.0121313, 1)\n",
            "50610f13c844aac59b8c6ba07f0f1f4ad28e08e9d1fe365f0723902be03f4a3f: (1.0121313, 1)\n",
            "5b8b3c87e38982653a6aeb75cea046afbd5e8d66e95b169425505b9166db55fd: (1.0121313, 1)\n",
            "1f07757e8e4ee25000f73694774872a61cba7fbb67a4063db55c6c9cfeb06ed7: (1.0121313, 1)\n",
            "a598df0e4ced9f1833f181011fd06475c7467f08a3e4872d8f4b6fc4950bdbff: (1.0121313, 1)\n",
            "f635c9101ba66834a81f80dad658e0e12c08de0d36c25b4394b22b3cd040a13b: (1.0121313, 1)\n",
            "23840968ed4cfcf458b61d75795f972fcdca3f5c7ff08abb77c04a0e2407ce78: (1.0121313, 1)\n",
            "68ab8cafe9387ed1be68b34636c62c2dc55c16c35b5a7131ba5b26ccf5abdead: (1.0121313, 1)\n",
            "3d02bef35d58a1822cd9dc75ca367384dda86c597463ceacdf8abbcad1ba9dc3: (1.0121313, 1)\n",
            "0ab95332da1cc384075a7228a9bd1683c2b20fadb0912963e74e0783d4940586: (1.0121313, 1)\n",
            "a29f19139ec02265e937238568214a16ecb8c652d4c2b08798b0c9cfb4d4d61d: (1.0121313, 1)\n",
            "c9c784feaf41330286b80d4ddeddff373934dea43f17318d263f0ba766fd7a1f: (1.0121313, 1)\n",
            "17929ee0afbf2c251a749c5154f92fe48deb157cf909db5bfb3e3628ba7a6aed: (1.0121313, 1)\n",
            "83d35635a661928937b596443e14e0c8dee9e7d3e118ee9c1858bbf4c29f53ff: (1.0121313, 1)\n",
            "e929d27c3eb22c3c03d66f75ba3229e487e0d8423e17537308d05e32e5008c92: (1.0121313, 1)\n",
            "69c813206cab38263b6ef8d4c50b32141f48e092f43626b8d7b80b3174884c36: (1.0121313, 1)\n",
            "1072ce1428dc806fe011989379011320fcf9a2e178b119a241dfc346483f58b9: (1.0121313, 1)\n",
            "501a18b27ab18c9bd16aeb5b35c134c6d1eed4ce3b807de98d4672715e646383: (1.0121313, 1)\n",
            "7877612f0eb8df195feed3b2275976bffa0293b7fee97c7695dc422dbcad61b1: (1.0121313, 1)\n",
            "bdc26a72be2f50dc413a38e6ff26f0034e750eca7102a4fab158538a9ba2209b: (1.0121313, 1)\n",
            "39076c14992fba0d95d6d45f22c2c503963ed8836259d83bdc6b5ecda8d6f2e7: (1.0121313, 1)\n",
            "a88a3163434d6daec5b94bfd0b55f75aa2e3c4fe236bef0378e5dd421247ab82: (1.0121313, 1)\n",
            "2ecb2cbbd1b58fb07a297df23094c1523f3f9b8ab89a7becd0af779752b7a130: (1.0121313, 1)\n",
            "c6f4a910876d969c7d60f2ce89c649d58b953d2263912d4680d459deebc2a3a7: (1.0121313, 1)\n",
            "7f528af01dc17064197053a498ee367744a26272cb43bbbdc0a7f47e9cd76473: (1.0121313, 1)\n",
            "1b18c693f947ca6ddeb9b116941cb2a11416b4ac14d06881c3f742f0b5b4d431: (1.0121313, 1)\n",
            "f94e091e4c545c891326a50cf4e9f5cab886eba44b6486faa34eee0162289735: (1.0121313, 1)\n",
            "4cd2cad1acfdbb49678e229646b7d1301a5de118a4b50d73c49e49bc236650ba: (1.0121313, 1)\n",
            "0af77ae01214411848940b3bba36690bbd596115c0577a873a495653d045dc6f: (1.0121313, 1)\n",
            "d54865f7aa6c5b9892bf7d5b50b3b231d0de6c7cc0967c53f0768d3eda090a07: (1.0121313, 1)\n",
            "a62ef3dae4c77d8af7c020cad1dadba73649afce0f46820991847b1df73637f4: (1.0121313, 1)\n",
            "ce5a0e061c928a598436a30a8158d20b9fe242c24ef1880e2fa7752098361329: (1.0121313, 1)\n",
            "cc1ee96344a7b7f33b5d32aaa509321c99f55b186f4f4170f56fc6bc6f23a92c: (1.0121313, 1)\n",
            "61b5d380c53eab9c8e94aa572311b8d9d1fdc0de609df0bb8c7d1db0df252b92: (1.0121313, 1)\n",
            "9c5ea87d03dfb8436fb7a7c8bf23ae4546b87d50e4d40243f33f3d1f5517989e: (1.0121313, 1)\n",
            "d96a57862a6e27fa88c3a4b198851d8d0cf3b6a6ea45b73b7361271f710e7da0: (1.0121313, 1)\n",
            "b4eb2222586f5eb28b5d19d0bfb88514c4d3ee12ee505550af44a898db31d924: (1.0121313, 1)\n",
            "faa87d0d1dc3fdcb6b1ba60363859fb9543d02459b5f6bf22b8b0c5fa69a3618: (1.0121313, 1)\n",
            "e50f056da4be8faf20a12b30e65b587f1128c01a3c9ef2dd91d31fa0d901f0a2: (1.0121313, 1)\n",
            "6e3c5ad279c50c0df000b9eeb030a3471593544e49c3f48f2214a14b734cc871: (1.0121313, 1)\n",
            "1eda3d51b5ad4070abd29261431c53c60a4e8a021eee4e766adb74d85386e433: (1.0121313, 1)\n",
            "d3b984a48cf2d7f8232d62a0d0ea4161a010fc02a90d0ded2fe0368b87384451: (1.0121313, 1)\n",
            "a576cd1b5d72a3af183aa2041a74cd1e6d584fea14e7442f6928a0278818b41f: (1.0121313, 1)\n",
            "41e280c0076a52a8b7d0eef98747318e1e35ccd1660425f935a170b8a50ec3a0: (1.0121313, 1)\n",
            "20d56ec2f50cba9a2b808b0af76860937d15dc9a6af57793dbe39f17ec7a70e0: (1.0121313, 1)\n",
            "ac47dc3d2257efed4fdb4c154792cd4a41591e1c4fbd8ef14991f886f50d0e4f: (1.0121313, 1)\n",
            "90c4d398a74258817ab151eea4a2dee8c2ec7ed281cff4c2223776e6c32a4049: (1.0121313, 1)\n",
            "c969347c128a7d941f8ed079a4533aaf76395edb06db9e7f1e2801e6fb87caba: (1.0121313, 1)\n",
            "2ef4f2c298e97c465803581939b9413dc80b9dbba4e9818e7f88fef516edf70c: (1.0121313, 1)\n",
            "be885da6746325ef79f5fbadb47a7c5283d84e16b53faf8bba36acf61b2bee3c: (1.0121313, 1)\n",
            "63b45c6df9ad0f7734f6221546c0aa869ee6b564c5f5d49fb2560d0b9adfe644: (1.0121313, 1)\n",
            "fc447b269672da2b18d005be8f81e3e986626ff96f2522f03ea6125158695dad: (1.0121313, 1)\n",
            "7291205c5542bfe07a327de3b0ea3d5983b607e407e1580b938864cb18dc2f88: (1.0121313, 1)\n",
            "155c4d7a22b6281bfdb16213cc584bf19f6eda757aac6fabe42ed35ffba5d86f: (1.0121313, 1)\n",
            "c4901bae945bfeccff55c3d6271880986ad31f12fa7e7e3b8c787c5224e9cb02: (1.0121313, 1)\n",
            "0b2e5261948c25069a8b3fed5da7fcb4ba0bc90afb45954f99416db01ff6b67f: (1.0121313, 1)\n",
            "162239069f82556f5f74f360b49d71a7adf376dc2e2a19bda0dbe391ab26ce5b: (1.0121313, 1)\n",
            "50f6389e7e86535de9d63d5da7471703ba3f714dd291b720c82ea0b5ea4d8a9d: (1.0121313, 1)\n",
            "e04b74881e8b7a8ea005d382e72778a46fde3ff43399c9063aa27ca78cfd2658: (1.0121313, 1)\n",
            "a02930fb1a633e26c82ad2d0f3f74fa20fcb69cafdfdf63143d5703b4330f279: (1.0121313, 1)\n",
            "6765f1fec2ae4c5c44b446a73a17a205d7bf1b62f4115091501cef2e30c4ed79: (1.0121313, 1)\n",
            "9917580be60ade9d9cc22c17e2d7d4529079e3d67477c30af0545ad4cbc9c90d: (1.0121313, 1)\n",
            "5b5d17c06be3ed0cc2945e24e375ccf4636382f59a3fdb020baec8f87c66491e: (1.0121313, 1)\n",
            "0bc749844607376ae2e9349940a08c61f801f840e5875ea9a4071f08396eb492: (1.0121313, 1)\n",
            "9930fb961a9494ac34b1de7d30ca389d9f6e1757c37cfd0c98db0bc2c4aedc7c: (1.0121313, 1)\n",
            "4ade096f4d8408f18b64b88e4dddd2ec24938bd89ddeaa1b193aeb45dcdefeef: (1.0121313, 1)\n",
            "99fc55683bb95c0c249422d7276530e7641cc1fcefc7ff75f864633a0a6c81e0: (1.0121313, 1)\n",
            "0d6a98894f27ad56c3018b5b3bba0fc0bfc88caf41eda98b82dcc91c3ec8a11e: (1.0121313, 1)\n",
            "31e2b5a4a0c080e7230477019827cdb47868683e05ef09e2c044cd4ef0372a05: (1.0121313, 1)\n",
            "69636f8d6df30555e36a249ccc3e81aaab90a9b86bc927674457e330f64e37db: (1.0121313, 1)\n",
            "7af5797b104ab343a96cdf32a3cb98598102c0bca07d9d98415008b528b96442: (1.0121313, 1)\n",
            "cd6b77f2e817b4693595704332da82403ff1050928446c4cfaad6d3491d7d622: (1.0121313, 1)\n",
            "d3fcc58e0b554da485c268b8492e8e272aafd0fb266cb832aae069c716dc1f83: (1.0121313, 1)\n",
            "2787f09c3c7caf6ad3c517b6bab026a9caba991f9e47edf3302bfd2dfd5060eb: (1.0121313, 1)\n",
            "4aab5d21545bcb7394a9102e90e20de86600cda5bb5ec1f609ca6fa5f6afe20e: (1.0121313, 1)\n",
            "e09fc6eb6f8bc22cc33e651263f22e138ffb70a167641b5084d154966bbec253: (1.0121313, 1)\n",
            "b5eace8692487f2348300a8310b20735f93d3717cb1a44843ff3a4491d635723: (1.0121313, 1)\n",
            "6db4f76daa044997c60958deadcb08cf4e3e4e7f8de3a02658ba65335646d54a: (1.0121313, 1)\n",
            "e8b0ec7249d888beae1935afc0528eb19a79f4e7567367adb8b9e9c7e6e46ed8: (1.0121313, 1)\n",
            "f62a0e243e3bf155dd8977f839a77c34503718f764bcecbab06127d16d189b62: (1.0121313, 1)\n",
            "dca7b489ff962fe7775ec3032a92acb09c429a86dbb77c205f07166054d8758b: (1.0121313, 1)\n",
            "cdf2e9d9eb452bd2ea287629814e3c484d459087072246c3155428b4c087a29d: (1.0121313, 1)\n",
            "0c2084b7d99f1d494848656fc9c9e30cfa423d4705f986f3d75a62a6a0058076: (1.0121313, 1)\n",
            "3620924cfc6103f67a5697752308d1b32342c1ecb6f0d6fbbf8f8f2decb414e3: (1.0121313, 1)\n",
            "e673d0eb33b05f5e229657e8af8f5258e3db610e5367c1635ac58c3b83e943c0: (1.0121313, 1)\n",
            "a898a216d59d97ad5d51a41f6d9372524506f6f79083430c4ad7c3ac2bd9770d: (1.0121313, 1)\n",
            "4783521c9bb904b38b3f3cf70176fb3f7451ad9c52846910ce7585b4c5b57af7: (1.0121313, 1)\n",
            "01e9a841a93e59bb03481e92270e85b115c3d977cb5e6d2b57bb36134e924526: (1.0121313, 1)\n",
            "110941459bb90e27adb59f68618bf5d2aab34a5b85e39d784b53122c078bedcd: (1.0121313, 1)\n",
            "68104c02bdc45f1262c891924d0791d17e90224c45abb9546ebecd2706402a34: (1.0121313, 1)\n",
            "24c99ca491fed3fdb9d2ca3cfd7d9f1b2ef2322d0bb1385582a51899d2b1567d: (1.0121313, 1)\n",
            "ebca357a3b6e65bc0928a412f65eafccb8477f7c1cf233acb63c157094f273c9: (1.0121313, 1)\n",
            "30d6eb77beac843d431a88156f358e9a6e2c1a271ebaa60f366595a923918abb: (1.0121313, 1)\n",
            "47f16aabd7900c3c22029a006ab24fccf58f7b803b71824a9c333e75da8ab2f0: (1.0121313, 1)\n",
            "a31fc38f04e6f56efb06aa769a35c13061c0bf60dae4566789aac2c857502d0b: (1.0121313, 1)\n",
            "e1654e3656345cce28d1902c510c8c47aff3798b185e72778288c84817e01053: (1.0121313, 1)\n",
            "ef102fd8a0331ea20e4a8c56fde3791023adff2cbfc742624e5b9308700bd9ad: (1.0121313, 1)\n",
            "5e510dea67a4d42d2be31b7d37e36a7b245df4f8af56bb1b2f56e27cf215aa49: (1.0121313, 1)\n",
            "9112036d10df6dbcf5d503a429287b8132ed7c2e5231223fb6da80d52d426ae7: (1.0121313, 1)\n",
            "e08f4819ac0c06108b82917f6c089572b7831a4eae6f98b389f333bc13452e20: (1.0121313, 1)\n",
            "2cad4076144dea39a98eb89baa2d1b4403d77275428189ced803d0d6f23204ae: (1.0121313, 1)\n",
            "bb3e63fbe131bb40b729d776b77fe6445d924d2f8c84457c945ad5aad180b0f2: (1.0121313, 1)\n",
            "f7d3ff872fe3c073550c682d62676062fccd213a855a5c57e3f9c42d5feb179d: (1.0121313, 1)\n",
            "b062d99a1487d2fef64daadcd3b345d275e554d9772d4b6823962a935da33fba: (1.0121313, 1)\n",
            "a467b90cd005bce1338a09c6ca9dac0c270eda419bfcebcfd71e5d8797314cca: (1.0121313, 1)\n",
            "24ada948c20fbf9cf7a2c1ff18c2c79bbeae90552c0d8614b1788f4e6e56b19f: (1.0121313, 1)\n",
            "e5ee44239dc45a09c21038f616b3b26e04cbd9879cc192e253918cbbf35b1d85: (1.0121313, 1)\n",
            "18ac0b8f92eaf8eaccfba5b72063fe030b33f248a3b3a9ce0e61a723b4174979: (1.0121313, 1)\n",
            "e6501c196927138b762bf87d53e808a195c608bc5aef38fe0d8d8dc577575897: (1.0121313, 1)\n",
            "13d6633749aa9391a49da75c893cf5fffcd76cc1f18990c3540ab0028c18fc7a: (1.0121313, 1)\n",
            "256045dddc613d08147c540e7495ebde7b74685e3d10b7d4220cb6478ddd0778: (1.0121313, 1)\n",
            "8a26f6c321a6bae36293425ec98562390764983af46049f2e99bd4afc879c391: (1.0121313, 1)\n",
            "a71347ca0f4c60b80f5ccfde16c6e75646a454e78a277563dd9e4bc54a6ce1a8: (1.0121313, 1)\n",
            "0edcef4c0a7cc1b786ad7d96b3ca878ace2a2f18d15854969812aeb0d43ec05c: (1.0121313, 1)\n",
            "6dfb931321c14ffcb8cc2908acf59ab0532234d372fe6b75dd7166d589da8a61: (1.0121313, 1)\n",
            "c38e6eacb1f4387c863633a4854f1b7668b39a9e298079869877e4377b14b66b: (1.0121313, 1)\n",
            "a32d90ab99ee6772c0e8dd66dc173fa738727181db605aed7eeee6c821db0e01: (1.0121313, 1)\n",
            "a35191195ca3395635992ffaadec7f66d1b775ec6aefa14dae1bb39a019f821f: (1.0121313, 1)\n",
            "6d01f9108ef6b4b540cb3086500e85a32a40ad8e348b073587ce86c8f5fa13fb: (1.0121313, 1)\n",
            "bf82377c83f72cba29ce45438d8c45025e3dacf4a571a880579b0c8932882a4d: (1.0121313, 1)\n",
            "e2ed1ef60d4b2671fd65b82cfcd719ce214687c258968a9e2520cb163bf4d66c: (1.0121313, 1)\n",
            "274c51c97a53dc11f78cc8762fb7d6421633f033feabdf850ca0f0881688b721: (1.0121313, 1)\n",
            "d125f6f5abeed701c3f88120623375858d8b336a495fbe96bd2f439dd6d727b6: (1.0121313, 1)\n",
            "2ba5587265ab38e2b8487b56cb5c37f38279f562b89ec493d1247ab8be291584: (1.0121313, 1)\n",
            "d87795d95e716230f37a3725693c9cd57287e7ba0274cafa4f1ec91e6e9ff417: (1.0121313, 1)\n",
            "db992f1761bb11288448c102122ac7a0027c5f2b18be7634aa06bbd3b11e3ddc: (1.0121313, 1)\n",
            "7b526baf6fc8ef39cbbd7b09911af5ca17d8f35d7f752fd8c5c1d8eba251b67b: (1.0121313, 1)\n",
            "b9d4edcd773c37f8c5f607988e0065af73a89c93ffc459d2702fa2eaa8097a35: (1.0121313, 1)\n",
            "51698876f94ea76b9faae28070cf071c2a6bb05eefdfe62f97260b29bb63954b: (1.0121313, 1)\n",
            "de0956a482c1d89b6d9cd34499cce203021d70107cbd35196cc4fabc71da5067: (1.0121313, 1)\n",
            "79529a944220469ca3a90fa46eed63298be35d18fb99e167766c43ae996158a0: (1.0121313, 1)\n",
            "7cabcb5b3aa8123a6e18673a0326936aaa472db9709cb61d889820473f82b07a: (1.0121313, 1)\n",
            "9cef0bc283e7b1cefd9b46c3c72a359df7a7ad04c9def492e4673596fbbd65e8: (1.0121313, 1)\n",
            "9b5f4ffdff51974a950e8c73eab3706bb168e74e6ce62028f0e5cc9b7e87dc41: (1.0121313, 1)\n",
            "a63c660046319bf5c70588ea74ea630b13f98dd6f14232aadb6804c4d308977e: (1.0121313, 1)\n",
            "033f89b1e7c28a178d742e0b2ffc02e870f9ddb1a29c262fa80928ec270aae66: (1.0121313, 1)\n",
            "1038818a4fb29d7c1f246cf7fb1fc2f653e00681585fd5e15e58e44adbacff56: (1.0121313, 1)\n",
            "92431938c65109e6cf332c3a7be45b0f184bc85d3097d56781ccc073ff4abe51: (1.0121313, 1)\n",
            "ef52d66ab70ab8bc525b25f20738a82ca1fb4599611995969d084a2f1f0cdd31: (1.0121313, 1)\n",
            "249af865b90709da0baedd36101363e07311b50e83560a49d42b6f64ce997b6c: (1.0121313, 1)\n",
            "8c7c212dc3c2a02ae65214a4b383ec0843fb20cab0ec1f2dae94023966e81edd: (1.0121313, 1)\n",
            "43989e780c6afa75ecdca8b2f834a3dbbe9d51e0740d9eca8dc6da7b30864403: (1.0121313, 1)\n",
            "61d7ddfec102bc5b57b83c9ce7516ccec1450b930f4167a1c52096ddb8d88f46: (1.0121313, 1)\n",
            "e1d14cc5a1d5c75eeb733fa3554536a193ab3a4fe15d616c76ba627793279ee8: (1.0121313, 1)\n",
            "faebf0ba45b6cb61dbb8a1695aaf6f830f069473d45bf925710b7ea1d57d1dd3: (1.0121313, 1)\n",
            "a7ac2fa3e7b385c45a1fff2344c97211bd18734f143ad7864665ad6053ad37c3: (1.0121313, 1)\n",
            "7371dde410f0c14c40b0a1ff43f8f22a534d3b376c44b39b89d48a4e2359a1ba: (1.0121313, 1)\n",
            "b98d1f8f256472712c7c5d88d0ede3842cb45b7856fa380c7b5965c8e98db24b: (1.0121313, 1)\n",
            "4b675f31d6c1999c2c8f70019079dc418dd3b90cd7af90f41530c4d24b55b4c5: (1.0121313, 1)\n",
            "e5bf796ab54bc33b416efd80395d7b0413a991a8525bd595739691e743581a53: (1.0121313, 1)\n",
            "5270fc97b817ac1c93c6a0e8f4bc5fade3f338dbf9ebaf09e11f70bf6489349d: (1.0121313, 1)\n",
            "a9238fb75ab0eb5caee0aabe1a535eaf91bd23a888daa9b6a0fcd5b1f4f9895d: (1.0121313, 1)\n",
            "38b4146abb89d0e15ede0594893beb093e4d673dba66d0cb5053d306e14d143a: (1.0121313, 1)\n",
            "dff74889aae57724bbd0f9678ec682d8f89172a13900d4e0d1d310ca1c1fa268: (1.0121313, 1)\n",
            "0d971b1b10d195a02665e38be62f16a1ef466c47ca64c796a3df5da04d38bc5a: (1.0121313, 1)\n",
            "6ea8f5d5d257e9b8f4d8d627a6de327a591df1a471b9db80ba62d51df2892763: (1.0121313, 1)\n",
            "91205aa6b8ba1cfb4e8daa1d93ee8eab488cb58de1f5282fb9b10acf06ddda6b: (1.0121313, 1)\n",
            "ecf211153da52228e26d980bc936a4ad9a81b096a64b387946710c5dfae39207: (1.0121313, 1)\n",
            "4997c5114873a9a503136bdb10346bab374e601411f51ac9c7029e016b87bed2: (1.0121313, 1)\n",
            "39d643314bb48c98f47f55a2b47789abc2cc627628cc29d087e97199aa0abaae: (1.0121313, 1)\n",
            "9168c0d9ad978a137dcf93b617d583122319a0e701c3e27cb0c3e4d381be0b00: (1.0121313, 1)\n",
            "5b727b6e0b6740f3571f23b352c42b4a8c941cb6b7318dd1f1b63eca02f4e4e8: (1.0121313, 1)\n",
            "8b938e59ca2ab9fba7d052d1a936de54e79a811a1fe56247eb00e025709e0aa6: (1.0121313, 1)\n",
            "6420fd62760c0ece4c1a462085d215cce33ebd77964f256df388da21f2f69e90: (1.0121313, 1)\n",
            "42a074cfc205d785fefdca711b5e1d0913b53c6a235d5ed8a58269eab72117fa: (1.0121313, 1)\n",
            "77f7928bb3878a30a0d47fa17206bcf257968a4fd0c518f2b7d5461479f09590: (1.0121313, 1)\n",
            "760c18720149d9382f87020fc3d703ffc9ad6aa9370031241c807291a65791ee: (1.0121313, 1)\n",
            "221f1820b84d871ffd996028c8322ef295ef4eeebc3e315854f2032e19826f12: (1.0121313, 1)\n",
            "5688a8111f792d5c7e2c210d1b34d115d2fb9a6a03b69afa22d7d758296ceb8e: (1.0121313, 1)\n",
            "5e3a9962fd507b06dcf9c7bfcd9c64bdbf26a4814209babf6403f33a8ba21a5c: (1.0121313, 1)\n",
            "b6fe9b56828db3ceff54df721044130d087bf78a63bfefb81b4cd4f81657d5ce: (1.0121313, 1)\n",
            "224471a8eed9a725046b5d1fec69a808aa699f03c6298eacc813e6a50cf315ce: (1.0121313, 1)\n",
            "252955a6971e8dab350d34a001e7bb87e01fdced872b3bddb8cea7f609e61f69: (1.0121313, 1)\n",
            "54a2f8af7e81a280c9aced6fe550125d8cefb5a7dfc269a2d5f031b25c6300d3: (1.0121313, 1)\n",
            "a8310b87e9b3ec4421acbd52c5a3cb2576dcda2f4aeb9eaf3c8b5e97ec4a3c9a: (1.0121313, 1)\n",
            "a7a0b5edb39c479bbb842b1e696743c351ab3186e999516426d10d88a5f8ed27: (1.0121313, 1)\n",
            "ba393612bb1d7268c2b948aa31b3bbfe388b881fe6b04b853f70176b83239f53: (1.0121313, 1)\n",
            "fb320abee5521ba6457aca4c2953ddb98a2e57fb100afef0f30b6d7aeb42e96d: (1.0121313, 1)\n",
            "5a7e208f8b34f09b7ba95c267225075a4062f64ff43a4e169cee36adbee1cf29: (1.0121313, 1)\n",
            "cbde0cdc23a8c3090b06af4b299510ec7c74f7527a3559f22493f2a62f956e37: (1.0121313, 1)\n",
            "79716f9009451323b142fec02330805d106e8798ad1c8a0907aab18d4695dc6f: (1.0121313, 1)\n",
            "6606741dbf42d0b37279e04ec6679a9063eade342bab85710807f2e45adec5ab: (1.0121313, 1)\n",
            "5fca230de5e84a8a0dc0cee6188c4fb045f12dafc7255a85e14d8dbcd4e48dd7: (1.0121313, 1)\n",
            "04f13d3e342998337ee2b477984b11939dda80b45ae2ff843919c9c3877c0242: (1.0121313, 1)\n",
            "d6634505e0d1ba276848a7dda0d13d6e4e6d4310931079effb095f7e14840830: (1.0121313, 1)\n",
            "5c8a4b42d2d3c51d7e8acda7ffb7bba4b1ad53dc9475234c549b6e3160c9b97b: (1.0121313, 1)\n",
            "1341484854e341d075b278d6635f64600f3fcf5df3f9af613acb7744ef9bfe8b: (1.0121313, 1)\n",
            "e68dc52bda8c8622cb76636782c6713e142ff92e23c368710270fe062ed4918d: (1.0121313, 1)\n",
            "d88cb911fca288f72005df121edf35525903f1d4042be4b8f989cd1189b989da: (1.0121313, 1)\n",
            "897f8cd61534306251d2760825445caaa396d356bd3bc4a8de42985403d9dc3c: (1.0121313, 1)\n",
            "035455ec1c3cbfd1249f95021872b9465ad04b59c1712fc18e046cbfcd521e6c: (1.0121313, 1)\n",
            "71963d3359c1a83d7333fa7beb32a40262bcee04a7e5d1d4904dbe0409561c11: (1.0121313, 1)\n",
            "a3ffb8110a2683bd312d1000626709ba24467c3dc40497f8f2017742e47b4665: (1.0121313, 1)\n",
            "6828f03a365e210075fdcceb439ef86a4a09d35a262a564fa18b9b8115895c5d: (1.0121313, 1)\n",
            "03cb6a502c478c118c1ecee047775d0d489a447b1a1069857b2ad9604237ac12: (1.0121313, 1)\n",
            "6c16aaa7008f97a713271e79cf2f36922e9e76258ec3cb6f4e7d094b48142bd1: (1.0121313, 1)\n",
            "5ac01688ae52172ccd07a06c962d1c5de860daef317cfbed26c059ae4523ff1d: (1.0121313, 1)\n",
            "d67cc1ffd12c66e4afad17b3488280bc41e369e1231ff0d83adca158bcb54dc5: (1.0121313, 1)\n",
            "434c82e13666070c3a8c38774c9c7ff2bae03309a489ef067a4113d1ccfab26b: (1.0121313, 1)\n",
            "2b7cdbbb98ecc17fa3c1408beda4933aa316e8d8a381adb167b5990a25f2df9d: (1.0121313, 1)\n",
            "93ebc70f8203f3d542434876862340a283375fc50c92b92bf6040f063490e6a1: (1.0121313, 1)\n",
            "96b698a0041146d2e2e5b06b73608f70cac58d51215b3c19cfb08c917b10987b: (1.0121313, 1)\n",
            "f095b591f5a6d2965ebf48c9219b0b83cf1edfcae9197fe7e46f007430903db9: (1.0121313, 1)\n",
            "b5017f4b5e30739ae6158e4b831013d1faca9a583a43a43bde97efff269d4610: (1.0121313, 1)\n",
            "5b08aad357b1e7ff802c84fe57bd0a2604f783e690328238276093b135748ef3: (1.0121313, 1)\n",
            "0afd6af320ec9c3e0c54d0a9e93532820212983c90481003cbb31d0b155c01b2: (1.0121313, 1)\n",
            "fe569d22ce6190198b5ea7bba24ca22e167ea4bf2c4a1aac6f2b821746f42f07: (1.0121313, 1)\n",
            "56ec46f5442ae4520d1ecbc3e9c31ceeddd5be82e5f12cab3c77cc7ca12b73db: (1.0121313, 1)\n",
            "5c3e76c8245cff056e0508d8d4e6057cda0f665ae72b1e29dab663c170113ec7: (1.0121313, 1)\n",
            "f48e40bdb744da05942d8b924281a2655eaa4deb1679fd3f1d333b79b82186ee: (1.0121313, 1)\n",
            "c143d61acbda5e7953557e4a8bdfe1d99af2dab4127f531f80065c489c330438: (1.0121313, 1)\n",
            "d731c34441bc69085baca65d2dbbab9790f678e5b836a212c5e47dba3e4276ef: (1.0121313, 1)\n",
            "be09fdda7d0ad5f348c76a8065c78e582b6de1a74a42c2e711f841b14cb76fa3: (1.0121313, 1)\n",
            "cc8653ba7009c2ed44342c6c797d0ba14590db0a7d1fce9652334c2e2a4eb679: (1.0121313, 1)\n",
            "e8f1344aec3a3016a756c400e5d4e93e6229077148a9bc8fc2916166ef7f6867: (1.0121313, 1)\n",
            "daabcf28989de8938206a23f05f5648696eb29281f5ec9d8fe1608c590660b9b: (1.0121313, 1)\n",
            "7d9228d13900df5b5e51d65bd2b6a174fa5dcc1146ca2f9c3c0f7cf77c5f587b: (1.0121313, 1)\n",
            "9bb2d58ef0b8ea063d1473fff1ffd4ab8436b96072387a86c4263f62776c52dc: (1.0121313, 1)\n",
            "a83af64a20d4379648d148abc728c3a63ec929a942e150f2cfad133ce23b4f48: (1.0121313, 1)\n",
            "4917024b3e228a304d71933eae77dbe3e37c7457dce33938729d0a5937dc50ec: (1.0121313, 1)\n",
            "ebb73577bc60a14f1f3d17b14576d8096c44cb4caaa86bcb017e7e4e2070360c: (1.0121313, 1)\n",
            "26f69536f5728eccde070736091eeb6d5490af8a4cea91596ba31c34f5061bd7: (1.0121313, 1)\n",
            "882ed86253a1045cb2f27fe7948b90ae059e4a8bc2f09b59e1f848424fb070db: (1.0121313, 1)\n",
            "3f22ab97b6b9230ca0041e423d413ed6db4911b902ab5201fb5739bffb1834bc: (1.0121313, 1)\n",
            "af3f517549dc5fe38553173735ff2e0fe770b436b05d173b4ff5b12f8ff02769: (1.0121313, 1)\n",
            "35a34a5021e057409a6621da26cf7620ce98d4ab29898b4a3f0e926fa1608fa5: (1.0121313, 1)\n",
            "b26bf2e1f61f75c34fe1195a258db03298c1f8c17cfefa5210ab3f7ba84f2ed2: (1.0121313, 1)\n",
            "87c03cf1d76c3d8291892fd8c3511897ef174e6801ad53f921108cb2c21d4705: (1.0121313, 1)\n",
            "b5fa3edeaf07ee3524f97ac2d6b607e3b7dbf4355ae85b4abb28eff81d2f9bdd: (1.0121313, 1)\n",
            "165a21a470e5c10bf2a5bedd61050ed1791ae46ec595d74be61afbd95f5508ee: (1.0121313, 1)\n",
            "e9fd22c33c20fbf4b9f6e7cd2027939b9a6c20e6c4603968f51e6c7fd108fb32: (1.0121313, 1)\n",
            "676b2508b253a87a0b19d06b29300043be80c6e57c158dee8d313b929b03675c: (1.0121313, 1)\n",
            "b337190d6efccb55b2c1cf254b2264d7cb8df48330c77422ea08252544a90295: (1.0121313, 1)\n",
            "02334fbfee76f2f7878e0168836d7046d69b171983640fa703bde8297f750fb2: (1.0121313, 1)\n",
            "2888126c426708b041f5dc5a9226902297411d0e7d1beb9f7df4886dc97a9de7: (1.0121313, 1)\n",
            "a8e26989f51ac78da36265c05116ef00631dad61b74dde0a5b6b98fcb491964d: (1.0121313, 1)\n",
            "4fbf1beb8668095f65eede360ad9a95f4acb630a8741b4bb4491d4f1475eb8c9: (1.0121313, 1)\n",
            "110c2923c4b36d21ae498a51e52526e3093b8599dcf521f0881489e56dde2a82: (1.0121313, 1)\n",
            "7350172385202dbdfc5460c9ad2df8ca6b66a1b5d8ae254ca6cebe071599e40e: (1.0121313, 1)\n",
            "d5a263410549de4bea2a7f7048c73925b0c933577575b16435d5fec3ba932419: (1.0121313, 1)\n",
            "52c1d530b3b19f3b29bb60fd97a66e3b122900dbe9255e6b859b3738020e9eeb: (1.0121313, 1)\n",
            "cd18aa10ab7b760e39e231215ea180ac4c7cf144f7d8057310dc53a8814b8e38: (1.0121313, 1)\n",
            "7af63968610cf5521cb243445e59b39cbede303395eae8495379f5bb93a289bd: (1.0121313, 1)\n",
            "5df72171a4be1b7dc702a6d16ffc01bdcd718fcd90f62f9d7d1508c17807e648: (1.0121313, 1)\n",
            "81cdd1d8fcd875d43f750d64e19e3ca044eba1456cdcc8f4922dca68ea1632c0: (1.0121313, 1)\n",
            "94baa9bc04d4bd25ddaddcacac000a089ffcc6e8943ee23620a3b29954d1f53a: (1.0121313, 1)\n",
            "cd5e43b084b169f12a37cf8dd0b7dbf57b6a99eefff835a999f63cd7d2de3a31: (1.0121313, 1)\n",
            "288bf30a467cef128a552acd2254af795c1e662ca342dc9afac10457e7521586: (1.0121313, 1)\n",
            "9a2f6f8251520b730d1093ea605994ddb93056f0162a36895be36bd8dbc0e066: (1.0121313, 1)\n",
            "7aa020e4f525f426141a25b9013d48186267a07d8836ffbcef51081055d28149: (1.0121313, 1)\n",
            "322d1c4f3498d5a6c6944efeddfbd565f59c2f49fecf783ad4b484fb88180699: (1.0121313, 1)\n",
            "ce26e94fe85e4d3526449c2450deafa1bf1a2abed4891cae6f21468baeb4696d: (1.0121313, 1)\n",
            "9a65f4a502b3bce569e3648927fbfe71d620d0aff42b40d763fb96ffa47e2234: (1.0121313, 1)\n",
            "3326fdb4963f47adf9cd37ffe66428de0b05fa0ae522336a133ec313ceca77b6: (1.0121313, 1)\n",
            "3a2a678213e5ec2fa33307db8c4482b0e0704319589f77c7a13a5e11c78ca041: (1.0121313, 1)\n",
            "a4eb63643598196636757bea3614f2fb04588916f4e5db92d74a22711fd13c3d: (1.0121313, 1)\n",
            "251eb56a104d0b8222cd9d951d8cf43181ea9c4baa23dac71606706e5cf76771: (1.0121313, 1)\n",
            "982cfb56ccc61270e3530d8d38f10b318d5f92336d0b8b2477df1d6d4fcc72ef: (1.0121313, 1)\n",
            "4ad10b89d3c508823f4830579a1aa8ada73f3cc4eebfda5fde11577d107fb74c: (1.0121313, 1)\n",
            "ca501eac88c6b61591f5793255ac2a566b315ee61d0209bd6a0ab2554688c1c0: (1.0121313, 1)\n",
            "96acc2545cb774af2fa6cd7d13c36245cf0c51488d789fe4e51d62e610b0fecc: (1.0121313, 1)\n",
            "903a1f0bfa9237f745826cacdb52fe4fcc54ee32f3939b90dd57987ee8ad129c: (1.0121313, 1)\n",
            "1a75b3c9f5ec506a60eda4c32c64b61517f184d15ef5897bf8054487167dc56e: (1.0121313, 1)\n",
            "6523c184193aa4d0b4fa37784d7fc918acd29560054ad3a26ed3c26f821c9796: (1.0121313, 1)\n",
            "5abd00b9c646d963202aa0a4d302fd77ec934cf5130140277f380e93b1bb8b62: (1.0121313, 1)\n",
            "6da40a5eb10499405a8b9a60a281e250d61cf50d8a7959fe4db8897fe3113fed: (1.0121313, 1)\n",
            "224a240999f9fc789c2fa91fc1cc9287c0485e2f609a82c011f62f1d298aab9c: (1.0121313, 1)\n",
            "05ef4a9f206615bbf86c45ad535eba9f6e96cf5d5edb44ca0d345bd63912489b: (1.0121313, 1)\n",
            "0fc0d9105018e6d0f85bfab8738b734b5b371ae8a31b2107b6587d847666b1f2: (1.0121313, 1)\n",
            "5405078d4c1999542bb3f58d424755f0240bcea08b6c0cd6a8fe09aada714c80: (1.0121313, 1)\n",
            "1c4835ab6700fb27fabf90f0865a043927c94eadeb602ddb34262fb64c5f00c9: (1.0121313, 1)\n",
            "b9c2a363657c2489454195b761028431bbc4b271d574cd3bd9b48a36eda0cd92: (1.0121313, 1)\n",
            "07c78c63021d95371e1ba3c8c6d31fface196ae005e0304e177d547b477a3e47: (1.0121313, 1)\n",
            "253672c4bd0fa47dcdd75fe67e4c6703acc512b0ebd31bfaf703bd03e2b61160: (1.0121313, 1)\n",
            "7fd19d2e957c7a20986e40fbea04f14f8291b0b3bdc47230c576bbe9a0a46e41: (1.0121313, 1)\n",
            "e0c18188150a1b6cf8b54f407c50a63989d7183d3c2ef8cc86acd4ddde5b06bd: (1.0121313, 1)\n",
            "4f87d704f19950321715b90f5c41bcee9b19a8a6c4f31fa52970aaea75e3c57e: (1.0121313, 1)\n",
            "fc3af7ef87825642e88a4e5600dbb1159806d9cfba26d4c3173205729c5b64b6: (1.0121313, 1)\n",
            "10ceb1bc4e932a471ba886af63a6689abc6e00b19d593456767681d0b0ac3447: (1.0121313, 1)\n",
            "a48ab8373baaa1011c206357a0d3cd69826c2233b65ffd1263b6377ca3984216: (1.0121313, 1)\n",
            "626417e3a6844bacdc412c77a4b21216dcdba7b35e5da250aac87f78e1acb1a8: (1.0121313, 1)\n",
            "72ef19a132049191b88bab9602e77e5e2b64415bf2d75b1ece61e455054395f0: (1.0121313, 1)\n",
            "e07cbdfd8beb26cee460b24e4093badf77a7dfbd0c4ba35470d96501fa21efc4: (1.0121313, 1)\n",
            "e11709f8c44099150dcfc308e510aea52b5ca5ec4e52c6d055398012fa7a196a: (1.0121313, 1)\n",
            "5335b288726287c48f8ec034c186fff144a8c286a61c6eff08a8d263fd5746ad: (1.0121313, 1)\n",
            "198222d298bc0aba5464e96d79ee0e4c432fbbbed635b05bddfbc706b40a486f: (1.0121313, 1)\n",
            "9bcde509c630f686ca9babcb578fa3f6ba2f62955b301a1f18e8c721b414fe0e: (1.0121313, 1)\n",
            "7c3f73d063824d84aec49f4485d3a7bedf220c5ce9267847601c617c9ab2db2a: (1.0121313, 1)\n",
            "e1707f379086cb30ef0379c5112f4eb2d7dba21e1f58316168d130ff66518b8d: (1.0121313, 1)\n",
            "d9ae5a78215b6009228bb10b8787e899decf0030aa141704adeda4866e05a3ed: (1.0121313, 1)\n",
            "862d3802cf6a91c65febbf49e50e21259f5197efecf0c198e77544524b98f852: (1.0121313, 1)\n",
            "4940e9a41d8457c3dd7eebde6b94412b868b4a6bb4dc8236fdfdeb7eb0b27075: (1.0121313, 1)\n"
          ]
        }
      ]
    }
  ]
}