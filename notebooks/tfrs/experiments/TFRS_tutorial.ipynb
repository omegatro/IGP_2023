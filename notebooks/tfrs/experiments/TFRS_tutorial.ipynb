{
  "nbformat": 4,
  "nbformat_minor": 0,
  "metadata": {
    "colab": {
      "provenance": []
    },
    "kernelspec": {
      "name": "python3",
      "display_name": "Python 3"
    },
    "language_info": {
      "name": "python"
    }
  },
  "cells": [
    {
      "cell_type": "markdown",
      "source": [
        "Project: IGP<br>\n",
        "Status: Artifact<br>\n",
        "Author: jb<br>\n",
        "ChatGPT log: https://chat.openai.com/share/4941dc8e-01b2-481b-a260-efeaa5fac278\n",
        "\n",
        "## Notebook to document going through TFRS blogpost\n",
        "- Original blog: https://blog.tensorflow.org/2020/09/introducing-tensorflow-recommenders.html\n",
        "\n",
        "#### Two Tower model\n",
        "- Overview\n",
        "  - https://blog.reachsumit.com/posts/2023/03/two-tower-model/\n",
        "- Layer documentation:\n",
        "  - https://keras.io/guides/preprocessing_layers/\n",
        "  - https://www.tensorflow.org/recommenders/api_docs/python/tfrs/layers/factorized_top_k/BruteForce\n",
        "#### Additional information\n",
        "- Extended tutorial\n",
        "  - https://www.tensorflow.org/recommenders/examples/basic_retrieval#building_a_candidate_ann_index\n",
        "- Tensorflow API reference:\n",
        "  - https://www.tensorflow.org/recommenders/api_docs/python/tfrs/all_symbols"
      ],
      "metadata": {
        "id": "2Zw9oQQewHuO"
      }
    },
    {
      "cell_type": "code",
      "execution_count": 1,
      "metadata": {
        "colab": {
          "base_uri": "https://localhost:8080/"
        },
        "id": "zi6nkHdMvwz2",
        "outputId": "2f1db617-b5da-4c08-f482-f98af54d8b6a"
      },
      "outputs": [
        {
          "output_type": "stream",
          "name": "stdout",
          "text": [
            "Requirement already satisfied: tensorflow_recommenders in /usr/local/lib/python3.10/dist-packages (0.7.3)\n",
            "Requirement already satisfied: absl-py>=0.1.6 in /usr/local/lib/python3.10/dist-packages (from tensorflow_recommenders) (1.4.0)\n",
            "Requirement already satisfied: tensorflow>=2.9.0 in /usr/local/lib/python3.10/dist-packages (from tensorflow_recommenders) (2.13.0)\n",
            "Requirement already satisfied: astunparse>=1.6.0 in /usr/local/lib/python3.10/dist-packages (from tensorflow>=2.9.0->tensorflow_recommenders) (1.6.3)\n",
            "Requirement already satisfied: flatbuffers>=23.1.21 in /usr/local/lib/python3.10/dist-packages (from tensorflow>=2.9.0->tensorflow_recommenders) (23.5.26)\n",
            "Requirement already satisfied: gast<=0.4.0,>=0.2.1 in /usr/local/lib/python3.10/dist-packages (from tensorflow>=2.9.0->tensorflow_recommenders) (0.4.0)\n",
            "Requirement already satisfied: google-pasta>=0.1.1 in /usr/local/lib/python3.10/dist-packages (from tensorflow>=2.9.0->tensorflow_recommenders) (0.2.0)\n",
            "Requirement already satisfied: grpcio<2.0,>=1.24.3 in /usr/local/lib/python3.10/dist-packages (from tensorflow>=2.9.0->tensorflow_recommenders) (1.59.0)\n",
            "Requirement already satisfied: h5py>=2.9.0 in /usr/local/lib/python3.10/dist-packages (from tensorflow>=2.9.0->tensorflow_recommenders) (3.9.0)\n",
            "Requirement already satisfied: keras<2.14,>=2.13.1 in /usr/local/lib/python3.10/dist-packages (from tensorflow>=2.9.0->tensorflow_recommenders) (2.13.1)\n",
            "Requirement already satisfied: libclang>=13.0.0 in /usr/local/lib/python3.10/dist-packages (from tensorflow>=2.9.0->tensorflow_recommenders) (16.0.6)\n",
            "Requirement already satisfied: numpy<=1.24.3,>=1.22 in /usr/local/lib/python3.10/dist-packages (from tensorflow>=2.9.0->tensorflow_recommenders) (1.23.5)\n",
            "Requirement already satisfied: opt-einsum>=2.3.2 in /usr/local/lib/python3.10/dist-packages (from tensorflow>=2.9.0->tensorflow_recommenders) (3.3.0)\n",
            "Requirement already satisfied: packaging in /usr/local/lib/python3.10/dist-packages (from tensorflow>=2.9.0->tensorflow_recommenders) (23.2)\n",
            "Requirement already satisfied: protobuf!=4.21.0,!=4.21.1,!=4.21.2,!=4.21.3,!=4.21.4,!=4.21.5,<5.0.0dev,>=3.20.3 in /usr/local/lib/python3.10/dist-packages (from tensorflow>=2.9.0->tensorflow_recommenders) (3.20.3)\n",
            "Requirement already satisfied: setuptools in /usr/local/lib/python3.10/dist-packages (from tensorflow>=2.9.0->tensorflow_recommenders) (67.7.2)\n",
            "Requirement already satisfied: six>=1.12.0 in /usr/local/lib/python3.10/dist-packages (from tensorflow>=2.9.0->tensorflow_recommenders) (1.16.0)\n",
            "Requirement already satisfied: tensorboard<2.14,>=2.13 in /usr/local/lib/python3.10/dist-packages (from tensorflow>=2.9.0->tensorflow_recommenders) (2.13.0)\n",
            "Requirement already satisfied: tensorflow-estimator<2.14,>=2.13.0 in /usr/local/lib/python3.10/dist-packages (from tensorflow>=2.9.0->tensorflow_recommenders) (2.13.0)\n",
            "Requirement already satisfied: termcolor>=1.1.0 in /usr/local/lib/python3.10/dist-packages (from tensorflow>=2.9.0->tensorflow_recommenders) (2.3.0)\n",
            "Requirement already satisfied: typing-extensions<4.6.0,>=3.6.6 in /usr/local/lib/python3.10/dist-packages (from tensorflow>=2.9.0->tensorflow_recommenders) (4.5.0)\n",
            "Requirement already satisfied: wrapt>=1.11.0 in /usr/local/lib/python3.10/dist-packages (from tensorflow>=2.9.0->tensorflow_recommenders) (1.15.0)\n",
            "Requirement already satisfied: tensorflow-io-gcs-filesystem>=0.23.1 in /usr/local/lib/python3.10/dist-packages (from tensorflow>=2.9.0->tensorflow_recommenders) (0.34.0)\n",
            "Requirement already satisfied: wheel<1.0,>=0.23.0 in /usr/local/lib/python3.10/dist-packages (from astunparse>=1.6.0->tensorflow>=2.9.0->tensorflow_recommenders) (0.41.2)\n",
            "Requirement already satisfied: google-auth<3,>=1.6.3 in /usr/local/lib/python3.10/dist-packages (from tensorboard<2.14,>=2.13->tensorflow>=2.9.0->tensorflow_recommenders) (2.17.3)\n",
            "Requirement already satisfied: google-auth-oauthlib<1.1,>=0.5 in /usr/local/lib/python3.10/dist-packages (from tensorboard<2.14,>=2.13->tensorflow>=2.9.0->tensorflow_recommenders) (1.0.0)\n",
            "Requirement already satisfied: markdown>=2.6.8 in /usr/local/lib/python3.10/dist-packages (from tensorboard<2.14,>=2.13->tensorflow>=2.9.0->tensorflow_recommenders) (3.5)\n",
            "Requirement already satisfied: requests<3,>=2.21.0 in /usr/local/lib/python3.10/dist-packages (from tensorboard<2.14,>=2.13->tensorflow>=2.9.0->tensorflow_recommenders) (2.31.0)\n",
            "Requirement already satisfied: tensorboard-data-server<0.8.0,>=0.7.0 in /usr/local/lib/python3.10/dist-packages (from tensorboard<2.14,>=2.13->tensorflow>=2.9.0->tensorflow_recommenders) (0.7.1)\n",
            "Requirement already satisfied: werkzeug>=1.0.1 in /usr/local/lib/python3.10/dist-packages (from tensorboard<2.14,>=2.13->tensorflow>=2.9.0->tensorflow_recommenders) (3.0.0)\n",
            "Requirement already satisfied: cachetools<6.0,>=2.0.0 in /usr/local/lib/python3.10/dist-packages (from google-auth<3,>=1.6.3->tensorboard<2.14,>=2.13->tensorflow>=2.9.0->tensorflow_recommenders) (5.3.1)\n",
            "Requirement already satisfied: pyasn1-modules>=0.2.1 in /usr/local/lib/python3.10/dist-packages (from google-auth<3,>=1.6.3->tensorboard<2.14,>=2.13->tensorflow>=2.9.0->tensorflow_recommenders) (0.3.0)\n",
            "Requirement already satisfied: rsa<5,>=3.1.4 in /usr/local/lib/python3.10/dist-packages (from google-auth<3,>=1.6.3->tensorboard<2.14,>=2.13->tensorflow>=2.9.0->tensorflow_recommenders) (4.9)\n",
            "Requirement already satisfied: requests-oauthlib>=0.7.0 in /usr/local/lib/python3.10/dist-packages (from google-auth-oauthlib<1.1,>=0.5->tensorboard<2.14,>=2.13->tensorflow>=2.9.0->tensorflow_recommenders) (1.3.1)\n",
            "Requirement already satisfied: charset-normalizer<4,>=2 in /usr/local/lib/python3.10/dist-packages (from requests<3,>=2.21.0->tensorboard<2.14,>=2.13->tensorflow>=2.9.0->tensorflow_recommenders) (3.3.0)\n",
            "Requirement already satisfied: idna<4,>=2.5 in /usr/local/lib/python3.10/dist-packages (from requests<3,>=2.21.0->tensorboard<2.14,>=2.13->tensorflow>=2.9.0->tensorflow_recommenders) (3.4)\n",
            "Requirement already satisfied: urllib3<3,>=1.21.1 in /usr/local/lib/python3.10/dist-packages (from requests<3,>=2.21.0->tensorboard<2.14,>=2.13->tensorflow>=2.9.0->tensorflow_recommenders) (2.0.6)\n",
            "Requirement already satisfied: certifi>=2017.4.17 in /usr/local/lib/python3.10/dist-packages (from requests<3,>=2.21.0->tensorboard<2.14,>=2.13->tensorflow>=2.9.0->tensorflow_recommenders) (2023.7.22)\n",
            "Requirement already satisfied: MarkupSafe>=2.1.1 in /usr/local/lib/python3.10/dist-packages (from werkzeug>=1.0.1->tensorboard<2.14,>=2.13->tensorflow>=2.9.0->tensorflow_recommenders) (2.1.3)\n",
            "Requirement already satisfied: pyasn1<0.6.0,>=0.4.6 in /usr/local/lib/python3.10/dist-packages (from pyasn1-modules>=0.2.1->google-auth<3,>=1.6.3->tensorboard<2.14,>=2.13->tensorflow>=2.9.0->tensorflow_recommenders) (0.5.0)\n",
            "Requirement already satisfied: oauthlib>=3.0.0 in /usr/local/lib/python3.10/dist-packages (from requests-oauthlib>=0.7.0->google-auth-oauthlib<1.1,>=0.5->tensorboard<2.14,>=2.13->tensorflow>=2.9.0->tensorflow_recommenders) (3.2.2)\n"
          ]
        }
      ],
      "source": [
        "!pip install tensorflow_recommenders"
      ]
    },
    {
      "cell_type": "code",
      "source": [
        "import tensorflow as tf\n",
        "\n",
        "import tensorflow_datasets as tfds\n",
        "import tensorflow_recommenders as tfrs\n",
        "\n",
        "import numpy as np"
      ],
      "metadata": {
        "id": "KjRjjx6-xjb5"
      },
      "execution_count": 2,
      "outputs": []
    },
    {
      "cell_type": "code",
      "source": [
        "# Ratings data.\n",
        "ratings = tfds.load(\"movie_lens/100k-ratings\", split=\"train\")\n",
        "# Features of all the available movies.\n",
        "movies = tfds.load(\"movie_lens/100k-movies\", split=\"train\")"
      ],
      "metadata": {
        "colab": {
          "base_uri": "https://localhost:8080/"
        },
        "id": "B2j9OG98xmSn",
        "outputId": "06cad86d-04c4-48c5-bd69-8db864d90263"
      },
      "execution_count": 3,
      "outputs": [
        {
          "output_type": "stream",
          "name": "stderr",
          "text": [
            "WARNING:absl:The handle \"movie_lens\" for the MovieLens dataset is deprecated. Prefer using \"movielens\" instead.\n",
            "WARNING:absl:The handle \"movie_lens\" for the MovieLens dataset is deprecated. Prefer using \"movielens\" instead.\n"
          ]
        }
      ]
    },
    {
      "cell_type": "code",
      "source": [
        "#keeping most useful features\n",
        "ratings = ratings.map(lambda x: {\n",
        "    \"movie_title\": x[\"movie_title\"],\n",
        "    \"user_id\": x[\"user_id\"],\n",
        "})\n",
        "movies = movies.map(lambda x: x[\"movie_title\"])"
      ],
      "metadata": {
        "id": "7sto0vBHx_sz"
      },
      "execution_count": 4,
      "outputs": []
    },
    {
      "cell_type": "code",
      "source": [
        "#creating a model\n",
        "class TwoTowerMovielensModel(tfrs.Model):\n",
        "  \"\"\"MovieLens prediction model.\"\"\"\n",
        "\n",
        "  def __init__(self):\n",
        "    # The `__init__` method sets up the model architecture.\n",
        "    super().__init__()\n",
        "\n",
        "    # How large the representation vectors are for inputs: larger vectors make\n",
        "    # for a more expressive model but may cause over-fitting.\n",
        "    embedding_dim = 32\n",
        "    num_unique_users = 1000\n",
        "    num_unique_movies = 1700\n",
        "    eval_batch_size = 128\n",
        "    # Set up user and movie representations.\n",
        "\n",
        "    #User \"Tower\"\n",
        "    user_lookup_layer = tf.keras.layers.experimental.preprocessing.StringLookup(\n",
        "          max_tokens=num_unique_users)\n",
        "    user_lookup_layer.adapt(ratings.map(lambda x: x[\"user_id\"]))\n",
        "    self.user_model = tf.keras.Sequential([\n",
        "      # We first turn the raw user ids into contiguous integers by looking them\n",
        "      # up in a vocabulary.\n",
        "      user_lookup_layer,\n",
        "      # We then map the result into embedding vectors.\n",
        "      tf.keras.layers.Embedding(num_unique_users, embedding_dim)\n",
        "    ])\n",
        "\n",
        "    #Moview \"Tower\"\n",
        "    movie_lookup_layer = tf.keras.layers.experimental.preprocessing.StringLookup(\n",
        "          max_tokens=num_unique_movies)\n",
        "    movie_lookup_layer.adapt(movies)\n",
        "    self.movie_model = tf.keras.Sequential([\n",
        "      movie_lookup_layer,\n",
        "      tf.keras.layers.Embedding(num_unique_movies, embedding_dim)\n",
        "    ])\n",
        "\n",
        "    # Defining Loss function to train the model\n",
        "    # The `Task` objects has two purposes: (1) it computes the loss and (2)\n",
        "    # keeps track of metrics.\n",
        "    self.task = tfrs.tasks.Retrieval(\n",
        "        # In this case, our metrics are top-k metrics: given a user and a known\n",
        "        # watched movie, how highly would the model rank the true movie out of\n",
        "        # all possible movies?\n",
        "        metrics=tfrs.metrics.FactorizedTopK(\n",
        "            candidates=movies.batch(eval_batch_size).map(self.movie_model)\n",
        "        )\n",
        "    )\n",
        "\n",
        "  def compute_loss(self, features, training=False):\n",
        "    # The `compute_loss` method determines how loss is computed.\n",
        "\n",
        "    # Compute user and item embeddings.\n",
        "    user_embeddings = self.user_model(features[\"user_id\"])\n",
        "    movie_embeddings = self.movie_model(features[\"movie_title\"])\n",
        "\n",
        "    # Pass them into the task to get the resulting loss. The lower the loss is, the\n",
        "    # better the model is at telling apart true watches from watches that did\n",
        "    # not happen in the training data.\n",
        "    return self.task(user_embeddings, movie_embeddings)"
      ],
      "metadata": {
        "id": "ACGEKsTTyXMX"
      },
      "execution_count": 5,
      "outputs": []
    },
    {
      "cell_type": "code",
      "source": [
        "#Training the model (takes about 2 minutes)\n",
        "model = TwoTowerMovielensModel()\n",
        "model.compile(optimizer=tf.keras.optimizers.Adagrad(0.1))\n",
        "\n",
        "model.fit(ratings.batch(4096), verbose=False)"
      ],
      "metadata": {
        "colab": {
          "base_uri": "https://localhost:8080/"
        },
        "id": "rEc36sh01QRA",
        "outputId": "e74a7d9c-aa04-4dea-e0be-b230e2463948"
      },
      "execution_count": 6,
      "outputs": [
        {
          "output_type": "execute_result",
          "data": {
            "text/plain": [
              "<keras.src.callbacks.History at 0x7b7d0f6b6110>"
            ]
          },
          "metadata": {},
          "execution_count": 6
        }
      ]
    },
    {
      "cell_type": "code",
      "source": [
        "#Preparing embeddings is required due to updated Tensorflow API compared to tutorial\n",
        "movie_embeddings = np.vstack([embedding.numpy() for embedding in movies.batch(100).map(model.movie_model)])\n",
        "movie_embeddings_tensor = tf.convert_to_tensor(movie_embeddings)\n",
        "movie_ids = tf.convert_to_tensor([movie_id.numpy() for movie_id in movies])"
      ],
      "metadata": {
        "id": "SVM9CRze6ta7"
      },
      "execution_count": 7,
      "outputs": []
    },
    {
      "cell_type": "code",
      "source": [
        "#Final layer of the two-tower model that takes the output of the two models and returns top-k recommendations based on similarity score for embeddings\n",
        "index = tfrs.layers.factorized_top_k.BruteForce(model.user_model)\n",
        "index.index(movie_embeddings_tensor, movie_ids)"
      ],
      "metadata": {
        "colab": {
          "base_uri": "https://localhost:8080/"
        },
        "id": "I8TYFz9H1y6K",
        "outputId": "820343a0-446b-4f25-d0c1-a2de50305925"
      },
      "execution_count": 8,
      "outputs": [
        {
          "output_type": "execute_result",
          "data": {
            "text/plain": [
              "<tensorflow_recommenders.layers.factorized_top_k.BruteForce at 0x7b7d0f6b6170>"
            ]
          },
          "metadata": {},
          "execution_count": 8
        }
      ]
    },
    {
      "cell_type": "code",
      "source": [
        "# Get recommendations.\n",
        "num_recommendations = 3\n",
        "user_id = \"1\"\n",
        "_, titles = index(tf.constant([user_id]))\n",
        "print(f\"Recommendations for user {user_id}: {titles[0, :num_recommendations]}\")"
      ],
      "metadata": {
        "colab": {
          "base_uri": "https://localhost:8080/"
        },
        "id": "PH0wFpj12C_J",
        "outputId": "b409cbb3-6be4-4c2a-c782-e20171ec016d"
      },
      "execution_count": 9,
      "outputs": [
        {
          "output_type": "stream",
          "name": "stdout",
          "text": [
            "Recommendations for user 1: [b'In the Mouth of Madness (1995)' b'Natural Born Killers (1994)'\n",
            " b'Under Siege 2: Dark Territory (1995)']\n"
          ]
        }
      ]
    }
  ]
}
