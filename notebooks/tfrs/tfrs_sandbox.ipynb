{
 "cells": [
  {
   "cell_type": "markdown",
   "metadata": {
    "id": "2PCr_mq73Jcl"
   },
   "source": [
    "# Trying to adapt solution from [TFRS](https://www.tensorflow.org/recommenders/examples/basic_retrieval) tutorial for H&M data."
   ]
  },
  {
   "cell_type": "code",
   "execution_count": 393,
   "metadata": {
    "id": "Ymlm3PE2iM8v"
   },
   "outputs": [],
   "source": [
    "import os\n",
    "import pprint\n",
    "import tempfile\n",
    "import datetime\n",
    "import pandas as pd\n",
    "import numpy as np\n",
    "import tensorflow as tf\n",
    "import tensorflow_recommenders as tfrs\n",
    "tf.get_logger().setLevel('INFO')\n",
    "from typing import Dict, Text\n",
    "from sklearn.model_selection import train_test_split"
   ]
  },
  {
   "cell_type": "markdown",
   "metadata": {
    "id": "JEbIeMX3dl9T"
   },
   "source": [
    "# Short EDA on customer & article metadata"
   ]
  },
  {
   "cell_type": "code",
   "execution_count": 394,
   "metadata": {
    "id": "ngtULI4EZpiV"
   },
   "outputs": [],
   "source": [
    "#article data\n",
    "art_df = pd.read_csv('../../data/processed/articles_filled_priced.csv')"
   ]
  },
  {
   "cell_type": "code",
   "execution_count": 395,
   "metadata": {
    "id": "gECz7o0gZppN"
   },
   "outputs": [],
   "source": [
    "#customer data\n",
    "cus_df = pd.read_csv('../../data/processed/customers_filled.csv')"
   ]
  },
  {
   "cell_type": "markdown",
   "metadata": {
    "id": "_VJpIadL3aU6"
   },
   "source": [
    "- H&M transaction data were subsampled using [custom function](https://github.com/omegatro/IGP_2023/blob/main/modules/preprocessing.py to 5% of the original records (seed = 4312).\n",
    "- The subsampled data were transformed to represent number of transactions for individual customer-product combinations (number of times each product was bought by each customer). The following code was used:\n",
    "```\n",
    "df = df.groupby(['customer_id', 'article_id']).count()\n",
    "df = df[['customer_id', 'article_id','t_dat']].reset_index()\n",
    "df.rename(columns={'t_dat':'t_count'}, inplace = True)\n",
    "df.to_csv('0_05_4312_cus_art_grp_count.csv', header=True, index=False)\n",
    "```\n",
    "- The resulting file was uploaded to google drive to work with from colab."
   ]
  },
  {
   "cell_type": "code",
   "execution_count": 396,
   "metadata": {
    "id": "XJRYWX4VeEQx"
   },
   "outputs": [],
   "source": [
    "#In this iteration, only ids are used as attributes for simplicity\n",
    "counts = pd.read_csv('../../data/processed/0_05_4312_cus_art_grp_count.csv')[['customer_id', 'article_id']].sample(250_000)"
   ]
  },
  {
   "cell_type": "code",
   "execution_count": 397,
   "metadata": {
    "id": "yTaEu3TLuxdI"
   },
   "outputs": [],
   "source": [
    "#Adding product features\n",
    "counts = counts.merge(art_df, left_on='article_id', right_on='article_id', how='left')"
   ]
  },
  {
   "cell_type": "code",
   "execution_count": 398,
   "metadata": {
    "colab": {
     "base_uri": "https://localhost:8080/"
    },
    "id": "Jtfp8WMkxK_u",
    "outputId": "841cbb08-94a7-4f17-a3b4-9c480d5164a6"
   },
   "outputs": [
    {
     "data": {
      "text/plain": [
       "Index(['customer_id', 'article_id', 'product_code', 'prod_name',\n",
       "       'product_type_no', 'product_type_name', 'product_group_name',\n",
       "       'graphical_appearance_no', 'graphical_appearance_name',\n",
       "       'colour_group_code', 'colour_group_name', 'perceived_colour_value_id',\n",
       "       'perceived_colour_value_name', 'perceived_colour_master_id',\n",
       "       'perceived_colour_master_name', 'department_no', 'department_name',\n",
       "       'index_code', 'index_name', 'index_group_no', 'index_group_name',\n",
       "       'section_no', 'section_name', 'garment_group_no', 'garment_group_name',\n",
       "       'detail_desc', 'avg_price'],\n",
       "      dtype='object')"
      ]
     },
     "execution_count": 398,
     "metadata": {},
     "output_type": "execute_result"
    }
   ],
   "source": [
    "counts.columns"
   ]
  },
  {
   "cell_type": "code",
   "execution_count": 399,
   "metadata": {
    "id": "FG7NW642viZd"
   },
   "outputs": [],
   "source": [
    "#Adding customer features\n",
    "counts = counts.merge(cus_df, left_on='customer_id', right_on='customer_id', how='left')"
   ]
  },
  {
   "cell_type": "code",
   "execution_count": 416,
   "metadata": {
    "id": "2c3fhTKKuv99"
   },
   "outputs": [],
   "source": [
    "#Generating training and test subsets\n",
    "train, test = train_test_split(counts, test_size=0.2)\n",
    "#Getting unique user ids (required to transform those into embeddings by the model)\n",
    "unq_cids = counts.customer_id.unique()"
   ]
  },
  {
   "cell_type": "code",
   "execution_count": 417,
   "metadata": {
    "id": "bYlpH7CYgHce"
   },
   "outputs": [],
   "source": [
    "#Getting product ids (required to transform those into embeddings by the model)\n",
    "articles = pd.read_csv('../../data/processed/articles_filled_priced.csv')[['article_id', 'prod_name', 'product_group_name', 'product_type_name']]#.sample(sample_size, random_state=1)\n",
    "unq_articles = articles.article_id.unique().astype(str)\n",
    "article_ids = articles['article_id'].astype(str).map(lambda x: x.encode('utf-8'))"
   ]
  },
  {
   "cell_type": "code",
   "execution_count": 418,
   "metadata": {
    "colab": {
     "base_uri": "https://localhost:8080/"
    },
    "id": "4VxPoBPN2qxT",
    "outputId": "3e8a1033-ffcf-40ed-977f-6c22788ec44a"
   },
   "outputs": [
    {
     "name": "stdout",
     "output_type": "stream",
     "text": [
      "0    b'108775015'\n",
      "1    b'108775044'\n",
      "2    b'108775051'\n",
      "3    b'110065001'\n",
      "4    b'110065002'\n",
      "Name: article_id, dtype: object\n"
     ]
    }
   ],
   "source": [
    "print(article_ids[:5])"
   ]
  },
  {
   "cell_type": "code",
   "execution_count": 419,
   "metadata": {
    "colab": {
     "base_uri": "https://localhost:8080/"
    },
    "id": "-ovw4JPw2-d6",
    "outputId": "e2eb28a3-f2bb-4f23-a8b7-825046689fec"
   },
   "outputs": [
    {
     "name": "stdout",
     "output_type": "stream",
     "text": [
      "['108775015' '108775044' '108775051' '110065001' '110065002']\n"
     ]
    }
   ],
   "source": [
    "print(unq_articles[:5])"
   ]
  },
  {
   "cell_type": "code",
   "execution_count": 420,
   "metadata": {
    "colab": {
     "base_uri": "https://localhost:8080/"
    },
    "id": "ektO1J12f-I7",
    "outputId": "f41fd76a-66eb-4234-abf0-a7356ca7b2f8"
   },
   "outputs": [
    {
     "data": {
      "text/plain": [
       "191709"
      ]
     },
     "execution_count": 420,
     "metadata": {},
     "output_type": "execute_result"
    }
   ],
   "source": [
    "len(unq_cids)"
   ]
  },
  {
   "cell_type": "code",
   "execution_count": 421,
   "metadata": {
    "colab": {
     "base_uri": "https://localhost:8080/"
    },
    "id": "IAnpi6sieLoK",
    "outputId": "e0f5b012-77d5-4b87-a94d-cb95d288b8a4"
   },
   "outputs": [
    {
     "data": {
      "text/plain": [
       "105542"
      ]
     },
     "execution_count": 421,
     "metadata": {},
     "output_type": "execute_result"
    }
   ],
   "source": [
    "len(unq_articles)"
   ]
  },
  {
   "cell_type": "code",
   "execution_count": 422,
   "metadata": {},
   "outputs": [],
   "source": [
    "feature_names = ['customer_id', 'article_id', 'prod_name', 'product_group_name', 'product_type_name', 'postal_code']"
   ]
  },
  {
   "cell_type": "code",
   "execution_count": 423,
   "metadata": {
    "id": "0CaTGLR7_eg-"
   },
   "outputs": [],
   "source": [
    "for n in feature_names:\n",
    "    train[n] = train[n].astype(str)\n",
    "train = train[feature_names].to_dict(orient='list')\n",
    "train = tf.data.Dataset.from_tensor_slices(train)"
   ]
  },
  {
   "cell_type": "code",
   "execution_count": 424,
   "metadata": {
    "id": "g1efdOWsp-1s"
   },
   "outputs": [],
   "source": [
    "for n in feature_names:\n",
    "    test[n] = test[n].astype(str)\n",
    "test = test[feature_names].to_dict(orient='list')\n",
    "test = tf.data.Dataset.from_tensor_slices(test)"
   ]
  },
  {
   "cell_type": "code",
   "execution_count": 425,
   "metadata": {
    "colab": {
     "base_uri": "https://localhost:8080/"
    },
    "id": "YaUwDqS9AruK",
    "outputId": "5e18018e-0f9c-4a39-fd7f-f24dedf63508"
   },
   "outputs": [
    {
     "name": "stdout",
     "output_type": "stream",
     "text": [
      "{'article_id': b'534164019',\n",
      " 'customer_id': b'cd28e04198523f1e0997b5ffd7c5fc2cde37ef8340fb55cf4c1cfeb04db5'\n",
      "                b'96dd',\n",
      " 'postal_code': b'346f1dfc9311c793a9f3ca9f5e522c061cc8fd63f84a289b982c70567389'\n",
      "                b'67e2',\n",
      " 'prod_name': b'NT Alva 2-pack',\n",
      " 'product_group_name': b'Garment Upper body',\n",
      " 'product_type_name': b'Vest top'}\n"
     ]
    }
   ],
   "source": [
    "for x in train.take(1).as_numpy_iterator():\n",
    "  pprint.pprint(x)"
   ]
  },
  {
   "cell_type": "code",
   "execution_count": 426,
   "metadata": {
    "colab": {
     "base_uri": "https://localhost:8080/"
    },
    "id": "TiEvoHALAszE",
    "outputId": "98716477-b5e7-4704-9e1e-c4f0a780f52d"
   },
   "outputs": [
    {
     "name": "stdout",
     "output_type": "stream",
     "text": [
      "{'article_id': b'816908001',\n",
      " 'customer_id': b'35e15ad1e4d0bc7148bd9f034aeb7a5bb7d1420a463f720c45a0919ac740'\n",
      "                b'8a5b',\n",
      " 'postal_code': b'4ece051d46240909b6facbae07145988c16ffc8549c338c29cdd3e94afc5'\n",
      "                b'4749',\n",
      " 'prod_name': b'Dress Prairie',\n",
      " 'product_group_name': b'Garment Full body',\n",
      " 'product_type_name': b'Dress'}\n"
     ]
    }
   ],
   "source": [
    "for x in test.take(1).as_numpy_iterator():\n",
    "  pprint.pprint(x)"
   ]
  },
  {
   "cell_type": "markdown",
   "metadata": {
    "id": "FlEDHka-dsyD"
   },
   "source": [
    "# TFRS-based modeling experiments"
   ]
  },
  {
   "cell_type": "markdown",
   "metadata": {
    "id": "JRgf4c-c5cBU"
   },
   "source": [
    "# Converting from pandas df to tensorflow datasets for compatibility"
   ]
  },
  {
   "cell_type": "markdown",
   "metadata": {
    "id": "ZfKyt08f5lDa"
   },
   "source": [
    "# Adapting the model"
   ]
  },
  {
   "cell_type": "code",
   "execution_count": 406,
   "metadata": {
    "id": "98pAJXkeiGcV"
   },
   "outputs": [],
   "source": [
    "embedding_dimension = 64"
   ]
  },
  {
   "cell_type": "markdown",
   "metadata": {
    "id": "ehfeCFTL5vNp"
   },
   "source": [
    "# Converting features into embedding vectors\n"
   ]
  },
  {
   "cell_type": "code",
   "execution_count": 427,
   "metadata": {
    "id": "enbBaXAQie2a"
   },
   "outputs": [],
   "source": [
    "customer_model = tf.keras.Sequential([\n",
    "  tf.keras.layers.StringLookup(\n",
    "      vocabulary=unq_cids, mask_token=None),\n",
    "  # We add an additional embedding to account for unknown tokens.\\\n",
    "  tf.keras.layers.Embedding(len(unq_cids) + 1, embedding_dimension)\n",
    "])"
   ]
  },
  {
   "cell_type": "code",
   "execution_count": 428,
   "metadata": {
    "id": "HFuA2xCNikAk"
   },
   "outputs": [],
   "source": [
    "product_model = tf.keras.Sequential([\n",
    "  tf.keras.layers.StringLookup(\n",
    "      vocabulary=unq_articles, mask_token=None),\n",
    "  tf.keras.layers.Embedding(len(unq_articles) + 1, embedding_dimension)\n",
    "])"
   ]
  },
  {
   "cell_type": "code",
   "execution_count": 330,
   "metadata": {},
   "outputs": [],
   "source": [
    "# unq_prod_names = articles.prod_name.unique().astype(str)\n",
    "# unq_prod_grp_names = articles.product_group_name.unique().astype(str)\n",
    "# unq_product_type_name = articles.product_type_name.unique().astype(str)\n",
    "# unq_postal_code = counts.postal_code.unique().astype(str)\n",
    "\n",
    "# customer_postal_code = tf.keras.Sequential([\n",
    "#   tf.keras.layers.StringLookup(\n",
    "#       vocabulary=unq_postal_code, mask_token=None),\n",
    "#   tf.keras.layers.Embedding(len(unq_articles) + 1, embedding_dimension)\n",
    "# ])\n",
    "\n",
    "# product_model = tf.keras.Sequential([\n",
    "#   tf.keras.layers.StringLookup(\n",
    "#       vocabulary=unq_articles, mask_token=None),\n",
    "#   tf.keras.layers.Embedding(len(unq_articles) + 1, embedding_dimension)\n",
    "# ])\n",
    "\n",
    "# product_name_model = tf.keras.Sequential([\n",
    "#   tf.keras.layers.StringLookup(\n",
    "#       vocabulary=unq_prod_names, mask_token=None),\n",
    "#   tf.keras.layers.Embedding(len(unq_articles) + 1, embedding_dimension)\n",
    "# ])\n",
    "\n",
    "# product_group_model = tf.keras.Sequential([\n",
    "#   tf.keras.layers.StringLookup(\n",
    "#       vocabulary=unq_prod_grp_names, mask_token=None),\n",
    "#   tf.keras.layers.Embedding(len(unq_prod_grp_names) + 1, embedding_dimension)\n",
    "# ])\n",
    "\n",
    "# product_type_model = tf.keras.Sequential([\n",
    "#   tf.keras.layers.StringLookup(\n",
    "#       vocabulary=unq_product_type_name, mask_token=None),\n",
    "#   tf.keras.layers.Embedding(len(unq_product_type_name) + 1, embedding_dimension)\n",
    "# ])"
   ]
  },
  {
   "cell_type": "code",
   "execution_count": 429,
   "metadata": {
    "id": "boyD6iSfkpei"
   },
   "outputs": [],
   "source": [
    "#Generating embeddings from article ids to be used by evaluation layer to calculate the similarity score\n",
    "article_embeddings = product_model(article_ids)\n",
    "candidates_dataset = tf.data.Dataset.from_tensor_slices(article_embeddings)"
   ]
  },
  {
   "cell_type": "code",
   "execution_count": 430,
   "metadata": {
    "id": "uYCABy7oi18c"
   },
   "outputs": [],
   "source": [
    "metrics = tfrs.metrics.FactorizedTopK(\n",
    "    candidates=candidates_dataset.batch(128)  # Batch the candidates for efficiency\n",
    ")"
   ]
  },
  {
   "cell_type": "code",
   "execution_count": 431,
   "metadata": {
    "id": "0Yu1R-pHi39t"
   },
   "outputs": [],
   "source": [
    "task = tfrs.tasks.Retrieval(\n",
    "  metrics=metrics\n",
    ")"
   ]
  },
  {
   "cell_type": "code",
   "execution_count": 432,
   "metadata": {
    "id": "FeuJRqnDlBDN"
   },
   "outputs": [],
   "source": [
    "class ProductlensModel(tfrs.Model):\n",
    "\n",
    "  def __init__(self, customer_model, product_model):\n",
    "    super().__init__()\n",
    "    self.product_model: tf.keras.Model = product_model\n",
    "    self.customer_model: tf.keras.Model = customer_model\n",
    "    self.task: tf.keras.layers.Layer = task\n",
    "\n",
    "  def compute_loss(self, features: Dict[Text, tf.Tensor], training=False) -> tf.Tensor:\n",
    "    # We pick out the user features and pass them into the user model.\n",
    "    customer_embeddings = self.customer_model(features[\"customer_id\"])\n",
    "    # And pick out the product features and pass them into the product model,\n",
    "    # getting embeddings back.\n",
    "    positive_product_embeddings = self.product_model(features[\"article_id\"])\n",
    "\n",
    "    # The task computes the loss and the metrics.\n",
    "    return self.task(customer_embeddings, positive_product_embeddings, compute_metrics=not training)"
   ]
  },
  {
   "cell_type": "code",
   "execution_count": 357,
   "metadata": {},
   "outputs": [],
   "source": [
    "# class ProductlensModel(tfrs.Model):\n",
    "\n",
    "#   def __init__(self, customer_model, product_model, customer_postal_code, product_name_model, product_group_model, product_type_model, embedding_dimension):\n",
    "#     super().__init__()\n",
    "#     self.customer_model = customer_model\n",
    "#     self.product_model = product_model\n",
    "#     self.customer_postal_code = customer_postal_code\n",
    "#     self.product_name_model = product_name_model\n",
    "#     self.product_group_model = product_group_model\n",
    "#     self.product_type_model = product_type_model\n",
    "\n",
    "#     # Initialize the retrieval task\n",
    "#     self.task = tfrs.tasks.Retrieval(\n",
    "#       # Set the metric to evaluate the model\n",
    "#       metrics=tfrs.metrics.FactorizedTopK(\n",
    "#         candidates=candidates_dataset.batch(128)  # Assuming you have a pre-computed embeddings layer for products\n",
    "#       )\n",
    "#     )\n",
    "\n",
    "#   def compute_loss(self, features: Dict[Text, tf.Tensor], training=False) -> tf.Tensor:\n",
    "#     # Compute embeddings for customer and product\n",
    "#     customer_embeddings = self.customer_model(features[\"customer_id\"])\n",
    "#     product_embeddings = self.product_model(features[\"article_id\"])\n",
    "\n",
    "#     # Compute embeddings for the customer's postal code\n",
    "#     postal_code_embeddings = self.customer_postal_code(features[\"postal_code\"])\n",
    "\n",
    "#     # Combine customer embeddings and postal code embeddings\n",
    "#     query_embeddings = tf.concat([customer_embeddings, postal_code_embeddings], axis=0)\n",
    "\n",
    "#     # Compute embeddings for additional product features\n",
    "#     product_name_embeddings = self.product_name_model(features[\"prod_name\"])\n",
    "#     product_group_embeddings = self.product_group_model(features[\"product_group_name\"])\n",
    "#     product_type_embeddings = self.product_type_model(features[\"product_type_name\"])\n",
    "\n",
    "#     # Combine product embeddings and additional product feature embeddings\n",
    "#     candidate_embeddings = tf.concat([product_embeddings, product_name_embeddings, product_group_embeddings, product_type_embeddings], axis=0)\n",
    "\n",
    "#     return self.task(query_embeddings, candidate_embeddings, compute_metrics=not training)"
   ]
  },
  {
   "cell_type": "code",
   "execution_count": 437,
   "metadata": {
    "id": "C4VFEegBKatZ"
   },
   "outputs": [],
   "source": [
    "#Hyperparameters\n",
    "alpha = 1\n",
    "batch_size = 256\n",
    "epochs = 1"
   ]
  },
  {
   "cell_type": "code",
   "execution_count": 438,
   "metadata": {
    "id": "jtxPK85KpuCG"
   },
   "outputs": [],
   "source": [
    "model = ProductlensModel(customer_model, product_model) #customer_postal_code, product_name_model, product_group_model, product_type_model, embedding_dimension)\n",
    "model.compile(optimizer=tf.keras.optimizers.Adagrad(learning_rate=alpha))"
   ]
  },
  {
   "cell_type": "code",
   "execution_count": 439,
   "metadata": {
    "id": "7X81FD08FHtb"
   },
   "outputs": [],
   "source": [
    "cached_train = train.batch(batch_size).cache()\n",
    "cached_test = test.batch(batch_size).cache()"
   ]
  },
  {
   "cell_type": "code",
   "execution_count": 440,
   "metadata": {
    "colab": {
     "base_uri": "https://localhost:8080/",
     "height": 374
    },
    "id": "ZDTnTMw0p2ot",
    "outputId": "14106b85-69b5-4ef1-b406-e4246e8f03c8"
   },
   "outputs": [
    {
     "name": "stdout",
     "output_type": "stream",
     "text": [
      "782/782 [==============================] - 9s 11ms/step - factorized_top_k/top_1_categorical_accuracy: 0.0000e+00 - factorized_top_k/top_5_categorical_accuracy: 0.0000e+00 - factorized_top_k/top_10_categorical_accuracy: 0.0000e+00 - factorized_top_k/top_50_categorical_accuracy: 0.0000e+00 - factorized_top_k/top_100_categorical_accuracy: 0.0000e+00 - loss: 1571.0549 - regularization_loss: 0.0000e+00 - total_loss: 1571.0549\n"
     ]
    },
    {
     "data": {
      "text/plain": [
       "<keras.src.callbacks.History at 0x7f9b5f729c60>"
      ]
     },
     "execution_count": 440,
     "metadata": {},
     "output_type": "execute_result"
    }
   ],
   "source": [
    "model.fit(cached_train, epochs=epochs)"
   ]
  },
  {
   "cell_type": "code",
   "execution_count": 441,
   "metadata": {
    "id": "kGtKjjiuGJFy"
   },
   "outputs": [
    {
     "name": "stdout",
     "output_type": "stream",
     "text": [
      "196/196 [==============================] - 244s 1s/step - factorized_top_k/top_1_categorical_accuracy: 0.3997 - factorized_top_k/top_5_categorical_accuracy: 0.4054 - factorized_top_k/top_10_categorical_accuracy: 0.4080 - factorized_top_k/top_50_categorical_accuracy: 0.4133 - factorized_top_k/top_100_categorical_accuracy: 0.4159 - loss: 2688.5517 - regularization_loss: 0.0000e+00 - total_loss: 2688.5517\n"
     ]
    },
    {
     "data": {
      "text/plain": [
       "{'factorized_top_k/top_1_categorical_accuracy': 0.3996799886226654,\n",
       " 'factorized_top_k/top_5_categorical_accuracy': 0.4053800106048584,\n",
       " 'factorized_top_k/top_10_categorical_accuracy': 0.40799999237060547,\n",
       " 'factorized_top_k/top_50_categorical_accuracy': 0.41326001286506653,\n",
       " 'factorized_top_k/top_100_categorical_accuracy': 0.41585999727249146,\n",
       " 'loss': 810.5859375,\n",
       " 'regularization_loss': 0,\n",
       " 'total_loss': 810.5859375}"
      ]
     },
     "execution_count": 441,
     "metadata": {},
     "output_type": "execute_result"
    }
   ],
   "source": [
    "model.evaluate(cached_test, return_dict=True)"
   ]
  },
  {
   "cell_type": "code",
   "execution_count": 442,
   "metadata": {},
   "outputs": [
    {
     "data": {
      "text/plain": [
       "<tensorflow_recommenders.layers.factorized_top_k.BruteForce at 0x7f9b6a51a8c0>"
      ]
     },
     "execution_count": 442,
     "metadata": {},
     "output_type": "execute_result"
    }
   ],
   "source": [
    "# If 'test' is a dataset of dictionaries that include 'article_id'\n",
    "candidates = test.map(lambda x: (x['article_id'], model.product_model(x['article_id'])))\n",
    "\n",
    "index = tfrs.layers.factorized_top_k.BruteForce(model.customer_model)\n",
    "index.index_from_dataset(candidates.batch(100))"
   ]
  },
  {
   "cell_type": "code",
   "execution_count": 443,
   "metadata": {},
   "outputs": [
    {
     "name": "stdout",
     "output_type": "stream",
     "text": [
      "Recommendations for customer abc: ['426019008', '842605006', '842605006', '861173003', '727704001', '727704001', '693242009', '693242009', '693242009', '446224016']\n"
     ]
    }
   ],
   "source": [
    "# Get recommendations for a specific customer\n",
    "customer_id = 'abc'\n",
    "_, titles = index(tf.constant([customer_id]))\n",
    "print(f\"Recommendations for customer {customer_id}: {titles[0].numpy().astype(str).tolist()}\")"
   ]
  },
  {
   "cell_type": "markdown",
   "metadata": {
    "id": "4v-02z1NsVUF"
   },
   "source": [
    "# Ranking model"
   ]
  },
  {
   "cell_type": "code",
   "execution_count": 15,
   "metadata": {
    "id": "gHKfl5ZTv_Vn"
   },
   "outputs": [],
   "source": [
    "#In this iteration, only ids are used as attributes for simplicity\n",
    "counts = pd.read_csv('../../data/processed/0_05_4312_cus_art_grp_count.csv')[['customer_id', 'article_id','t_count']]\n",
    "#Generating training and test subsets\n",
    "train, test = train_test_split(counts, test_size=0.2)\n",
    "#Getting unique user ids (required to transform those into embeddings by the model)\n",
    "unq_cids = counts.customer_id.unique()"
   ]
  },
  {
   "cell_type": "code",
   "execution_count": 18,
   "metadata": {
    "id": "GpUrdEz8wBde"
   },
   "outputs": [],
   "source": [
    "#Getting product ids (required to transform those into embeddings by the model)\n",
    "articles = pd.read_csv('../../data/processed/articles_filled_priced.csv')[['article_id']]\n",
    "unq_articles = articles.article_id.unique().astype(str)\n",
    "article_ids = articles['article_id'].astype(str).map(lambda x: x.encode('utf-8'))"
   ]
  },
  {
   "cell_type": "code",
   "execution_count": 21,
   "metadata": {
    "id": "3Uxt735MwEYW"
   },
   "outputs": [],
   "source": [
    "train['customer_id'] = train.customer_id.astype(str)\n",
    "train['article_id'] = train.article_id.astype(str)\n",
    "train = train.to_dict(orient='list')\n",
    "train = tf.data.Dataset.from_tensor_slices(train)"
   ]
  },
  {
   "cell_type": "code",
   "execution_count": 22,
   "metadata": {
    "id": "MuwDyB4IzIBR"
   },
   "outputs": [
    {
     "name": "stdout",
     "output_type": "stream",
     "text": [
      "{'article_id': b'714790003',\n",
      " 'customer_id': b'39bc5e71c3609f8e37bd24099d7793dabbd9fdd73261e443f0a929e79b7e'\n",
      "                b'658e',\n",
      " 't_count': 1}\n"
     ]
    }
   ],
   "source": [
    "for x in train.take(1).as_numpy_iterator():\n",
    "  pprint.pprint(x)"
   ]
  },
  {
   "cell_type": "code",
   "execution_count": 23,
   "metadata": {
    "id": "Z_U1KncGwIgU"
   },
   "outputs": [],
   "source": [
    "test['customer_id'] = test.customer_id.astype(str)\n",
    "test['article_id'] = test.article_id.astype(str)\n",
    "test = test.to_dict(orient='list')\n",
    "test = tf.data.Dataset.from_tensor_slices(test)"
   ]
  },
  {
   "cell_type": "code",
   "execution_count": 24,
   "metadata": {
    "id": "O78Z6qUXzJk5"
   },
   "outputs": [
    {
     "name": "stdout",
     "output_type": "stream",
     "text": [
      "{'article_id': b'768759002',\n",
      " 'customer_id': b'99b8cd105ee382f5c0bdaf672696522a0564eec294e94b11ac8b8d7bd2d1'\n",
      "                b'3366',\n",
      " 't_count': 1}\n"
     ]
    }
   ],
   "source": [
    "for x in test.take(1).as_numpy_iterator():\n",
    "  pprint.pprint(x)"
   ]
  },
  {
   "cell_type": "code",
   "execution_count": 25,
   "metadata": {
    "id": "TkdSnaNAsUTD"
   },
   "outputs": [],
   "source": [
    "class RankingModel(tf.keras.Model):\n",
    "\n",
    "  def __init__(self):\n",
    "    super().__init__()\n",
    "    embedding_dimension = 32\n",
    "\n",
    "    # Compute embeddings for users.\n",
    "    self.customer_embeddings = tf.keras.Sequential([\n",
    "      tf.keras.layers.StringLookup(\n",
    "        vocabulary=unq_cids , mask_token=None),\n",
    "      tf.keras.layers.Embedding(len(unq_cids) + 1, embedding_dimension)\n",
    "    ])\n",
    "\n",
    "    # Compute embeddings for product.\n",
    "    self.product_embeddings = tf.keras.Sequential([\n",
    "      tf.keras.layers.StringLookup(\n",
    "        vocabulary=unq_articles, mask_token=None),\n",
    "      tf.keras.layers.Embedding(len(unq_articles) + 1, embedding_dimension)\n",
    "    ])\n",
    "\n",
    "    # Compute predictions.\n",
    "    self.ratings = tf.keras.Sequential([\n",
    "      # Learn multiple dense layers.\n",
    "      tf.keras.layers.Dense(256, activation=\"relu\"),\n",
    "      tf.keras.layers.Dense(64, activation=\"relu\"),\n",
    "      # Make rating predictions in the final layer.\n",
    "      tf.keras.layers.Dense(1)\n",
    "  ])\n",
    "\n",
    "  def call(self, inputs):\n",
    "\n",
    "    cus_id, art_id = inputs\n",
    "\n",
    "    cus_embedding = self.customer_embeddings(cus_id)\n",
    "    art_embedding = self.product_embeddings(art_id)\n",
    "\n",
    "    return self.ratings(tf.concat([cus_embedding, art_embedding], axis=1))"
   ]
  },
  {
   "cell_type": "code",
   "execution_count": 26,
   "metadata": {
    "id": "yxXMZWEisb39"
   },
   "outputs": [],
   "source": [
    "task = tfrs.tasks.Ranking(\n",
    "  loss = tf.keras.losses.MeanSquaredError(),\n",
    "  metrics=[tf.keras.metrics.RootMeanSquaredError()]\n",
    ")"
   ]
  },
  {
   "cell_type": "code",
   "execution_count": 27,
   "metadata": {
    "id": "OW9dIF4isf04"
   },
   "outputs": [],
   "source": [
    "class ProductlensModel(tfrs.models.Model):\n",
    "\n",
    "  def __init__(self):\n",
    "    super().__init__()\n",
    "    self.ranking_model: tf.keras.Model = RankingModel()\n",
    "    self.task: tf.keras.layers.Layer = tfrs.tasks.Ranking(\n",
    "      loss = tf.keras.losses.MeanSquaredError(),\n",
    "      metrics=[tf.keras.metrics.RootMeanSquaredError()]\n",
    "    )\n",
    "\n",
    "  def call(self, features: Dict[str, tf.Tensor]) -> tf.Tensor:\n",
    "    return self.ranking_model(\n",
    "        (features[\"customer_id\"], features[\"article_id\"]))\n",
    "\n",
    "  def compute_loss(self, features: Dict[Text, tf.Tensor], training=False) -> tf.Tensor:\n",
    "    labels = features.pop(\"t_count\")\n",
    "\n",
    "    rating_predictions = self(features)\n",
    "\n",
    "    # The task computes the loss and the metrics.\n",
    "    return self.task(labels=labels, predictions=rating_predictions)"
   ]
  },
  {
   "cell_type": "code",
   "execution_count": 43,
   "metadata": {
    "id": "ffI3fDVUtezf"
   },
   "outputs": [],
   "source": [
    "#Hyperparameters\n",
    "alpha = 0.001\n",
    "batch_size = 128\n",
    "epochs = 5"
   ]
  },
  {
   "cell_type": "code",
   "execution_count": 44,
   "metadata": {
    "id": "y6Zalto4siWA"
   },
   "outputs": [],
   "source": [
    "model = ProductlensModel()\n",
    "model.compile(optimizer=tf.keras.optimizers.Adagrad(learning_rate=alpha))"
   ]
  },
  {
   "cell_type": "code",
   "execution_count": 45,
   "metadata": {
    "id": "GGhKTMoxsqRI"
   },
   "outputs": [],
   "source": [
    "cached_train = train.batch(batch_size).cache()\n",
    "cached_test = test.batch(batch_size).cache()"
   ]
  },
  {
   "cell_type": "code",
   "execution_count": 46,
   "metadata": {
    "id": "kvfz7Tocsssq"
   },
   "outputs": [
    {
     "name": "stdout",
     "output_type": "stream",
     "text": [
      "Epoch 1/5\n",
      "9833/9833 [==============================] - 81s 8ms/step - root_mean_squared_error: 0.1792 - loss: 0.0321 - regularization_loss: 0.0000e+00 - total_loss: 0.0321\n",
      "Epoch 2/5\n",
      "9833/9833 [==============================] - 82s 8ms/step - root_mean_squared_error: 0.1125 - loss: 0.0127 - regularization_loss: 0.0000e+00 - total_loss: 0.0127\n",
      "Epoch 3/5\n",
      "9833/9833 [==============================] - 76s 8ms/step - root_mean_squared_error: 0.1118 - loss: 0.0125 - regularization_loss: 0.0000e+00 - total_loss: 0.0125\n",
      "Epoch 4/5\n",
      "9833/9833 [==============================] - 75s 8ms/step - root_mean_squared_error: 0.1114 - loss: 0.0124 - regularization_loss: 0.0000e+00 - total_loss: 0.0124\n",
      "Epoch 5/5\n",
      "9833/9833 [==============================] - 78s 8ms/step - root_mean_squared_error: 0.1111 - loss: 0.0123 - regularization_loss: 0.0000e+00 - total_loss: 0.0123\n"
     ]
    },
    {
     "data": {
      "text/plain": [
       "<keras.src.callbacks.History at 0x7fabe75dbe20>"
      ]
     },
     "execution_count": 46,
     "metadata": {},
     "output_type": "execute_result"
    }
   ],
   "source": [
    "model.fit(cached_train, epochs=epochs)"
   ]
  },
  {
   "cell_type": "code",
   "execution_count": 47,
   "metadata": {
    "id": "YP9EZOmssuQv"
   },
   "outputs": [
    {
     "name": "stdout",
     "output_type": "stream",
     "text": [
      "2459/2459 [==============================] - 11s 4ms/step - root_mean_squared_error: 0.1125 - loss: 0.0127 - regularization_loss: 0.0000e+00 - total_loss: 0.0127\n"
     ]
    },
    {
     "data": {
      "text/plain": [
       "{'root_mean_squared_error': 0.1125449687242508,\n",
       " 'loss': 0.0002905943838413805,\n",
       " 'regularization_loss': 0,\n",
       " 'total_loss': 0.0002905943838413805}"
      ]
     },
     "execution_count": 47,
     "metadata": {},
     "output_type": "execute_result"
    }
   ],
   "source": [
    "model.evaluate(cached_test, return_dict=True)"
   ]
  },
  {
   "cell_type": "code",
   "execution_count": 48,
   "metadata": {
    "id": "D168ZPoFyutK"
   },
   "outputs": [],
   "source": [
    "test_counts = {}\n",
    "sample = counts.sample(1000)\n",
    "test_product_ids = zip(sample['customer_id'],sample['article_id'], sample['t_count'])\n",
    "for pid, aid, t_count in test_product_ids:\n",
    "  test_counts[pid] = (model({\n",
    "      \"customer_id\": np.array(['73f7d8cca33b8236879d92a6188f691410a82763dc8bb65b8829568c07f8d9a7']),\n",
    "      \"article_id\": np.array([pid])\n",
    "\n",
    "  }).numpy()[0,0], t_count)"
   ]
  },
  {
   "cell_type": "code",
   "execution_count": 49,
   "metadata": {
    "id": "aAZCnggmzuoG"
   },
   "outputs": [
    {
     "name": "stdout",
     "output_type": "stream",
     "text": [
      "t_counts:\n",
      "94665b46e194622ccdbcadc0170f13a2f8ede1ff6d057d43a19b8938c808b662: (1.000554, 10)\n",
      "e2115fc63d2a66bb51d6859336971a2d54ce64794a932264e7bc8c8242a49efd: (1.000554, 3)\n",
      "de77258ebc4461f81aaec13984c8eb298e027ce7d13d7c846554ad54ca2cdf58: (1.000554, 2)\n",
      "98158bad80501d2cde99489e8833f4e233a819bd52466cfb19c442d9a155dea3: (1.000554, 2)\n",
      "6177112295d53d4cc4ae600703aa8d68e337fee0002e0beaeeacab5a58ed24cf: (1.000554, 2)\n",
      "00227494dd4e87da02bb1ab4afc38f13f2e11c6517b1bbcdca56f212a9c470ab: (1.000554, 2)\n",
      "77cdcc11e835b84fdf84df083bc371d326842d4e76cd65bd4a5b90387764ef3f: (1.000554, 2)\n",
      "7b549ec86c17bdf75085c244cf5983827246f189c149bd78e5e5459529380564: (1.000554, 2)\n",
      "dc0cadd81f8277ca00e28370652dab8688afbf9509503e48bc40673b2658810c: (1.000554, 2)\n",
      "e0ae5cd316645b3d815f223678b21343bf585460914b28d4a1200250b2d08481: (1.000554, 2)\n",
      "c6b096111bf0a6fe256013815014d51a572f380b6563590fc72f96c71eb5efb4: (1.000554, 2)\n",
      "08e91b986d9162ea6ff8ff9a84d22b155e7ed00f41933bab339600fda8f9e3a9: (1.000554, 2)\n",
      "ee3bb9bd89df7939ea8794f6744efcadf45f3fd1a0f0bee0fdea1e00ca749419: (1.000554, 2)\n",
      "b14e2008eb40e4b77367fdbe783f7a0e71a7f21452237a4f4ba5f813e34f30dc: (1.000554, 2)\n",
      "afb4ec0ef89856c4b7cd0eca76d28871f77ffab71221e69cbfeb3041e147fd75: (1.000554, 2)\n",
      "0245fc34fd3f0240886455f798c5abf4e84a2958dd8df6dfaf6839be374fc5b1: (1.000554, 1)\n",
      "0a2e6f4acdae8b694e3098bec60ac7526e35164add1b70c4a8233c55c37c821a: (1.000554, 1)\n",
      "5e392fd488b640d29d9fba4ab631d9d058ecefd661d9cb3ea1f1b06c3be553e4: (1.000554, 1)\n",
      "5e52bbd55a1eaa7fe61f7f52ec2f3aa1a3739635f3a63c0de1ec8345d71c66c3: (1.000554, 1)\n",
      "dc408317f478bf27b957acd0195b733ecad31db03018ab7259aeb9fd19841b05: (1.000554, 1)\n",
      "2e63c049bf1d73206a67156d057708eb413dc2096e6af6b187c148469cb6ef00: (1.000554, 1)\n",
      "5a72d452c3ef5070e47a6223e59e10e34bebe0c7ccc6ab73667942c252159fe5: (1.000554, 1)\n",
      "6b5056c0a204010229364f0a506b96b260541942d9c6d5df3d9edcfe636a6852: (1.000554, 1)\n",
      "2ed68a95f51ba403bd762c798b6e7606a98c190b888e3e60be01d210cce664ca: (1.000554, 1)\n",
      "76b6513f1ee7bdcaab0b730d2d4a51b0a0a47004de2b4aa4415e3d599347b23f: (1.000554, 1)\n",
      "974381942e46ddda8d87013020903218d63fa081ca1a7a651329e08f865d3797: (1.000554, 1)\n",
      "dfb8c83efd940810fc4ada390f0c892590ed97540ff8aeba69fd0348861f5136: (1.000554, 1)\n",
      "22e39f2d33d0b1ecac86929a68e6d33271a7ae0127120ac5e4b68cdbcb3be15f: (1.000554, 1)\n",
      "a08e99264b4070570b92eab0f83c70974ccd7e28e1f9e847b4bf1a6cf5701d8d: (1.000554, 1)\n",
      "30659dd0bbeaa972abeab9ad7703b6177a52a66f325d76802a3bd9d85f3cd610: (1.000554, 1)\n",
      "262199b00d8d555b0a22320fca5e89fdfc80e7a7fba064f2fd3272e875b4a482: (1.000554, 1)\n",
      "9a8cf869794277e20a8d74fd9806f9eff335d22dac6258947c6357e8176cab5e: (1.000554, 1)\n",
      "72b19563db5606e12e27b8be0beb01dc0be22ae5db98c72da2a3de092f824223: (1.000554, 1)\n",
      "8a6b5a49e4d55f93d57d7be33c3d8760a7085c96336cf257492832d7701c1850: (1.000554, 1)\n",
      "071d190539e1ba51fcd2447249a05f68a1d3e59ee70e29b1b29eed13d54c4c7b: (1.000554, 1)\n",
      "d53031953ee34f10217df49c721e8eb5640ea1793695b641e88e8cdce9ccb0ba: (1.000554, 1)\n",
      "727082c3d6439a6f9e92b1b48ade06fd6a8a5d0d44db895bd77b5d7d1be23346: (1.000554, 1)\n",
      "52aee9aff83334ed5e8a1d767123b5912ecbdc424dd03d279350b91fd7b3a597: (1.000554, 1)\n",
      "f1dcd701e19e8a894e0f96ecbfcc9b8d22ad168f972324846235eb35b532391a: (1.000554, 1)\n",
      "635176d51c44f3efbb96c41c29595e445cfc35d26fe72d85edd31b8334bca1bf: (1.000554, 1)\n",
      "fffabaebcc10efa0e613b58de37901e04fa25a2f90a0a8cba67e3b9a57497ab5: (1.000554, 1)\n",
      "6f9982a2270dc84e6d5f4e48e07031c95e7eea45adc1926b15b05be32c682849: (1.000554, 1)\n",
      "a5513e17d24cdaf1a2a3e9bc22b93e746069afde486256cecc48d6a1caee4f89: (1.000554, 1)\n",
      "d4bececc5d92ce3428224ad794362431378b689b752db21132b5fe9454565c52: (1.000554, 1)\n",
      "2a7c61d36cd495158208570e10032217fe4fe6d5218e47e42bfa69735c6d847f: (1.000554, 1)\n",
      "8c707c4d2b7a7e23c310fb2c5d521c39108853e555b968d2568c488d31fe27d8: (1.000554, 1)\n",
      "deb9df330cb4316449da63ca42daf205d55731442db7aeb771114d29dae6ad68: (1.000554, 1)\n",
      "44c61f8bfcc13e8d36da006f65cc70fa08f6dddf483dbae4814af5d1ee850c79: (1.000554, 1)\n",
      "7cc21ef350b5d4daf7cb2ee6a7e726365ce2e09b99e81a1bd5c48dfea706fd51: (1.000554, 1)\n",
      "908515e2e29b3a9c41c94883f5b8fe045a96d1350070a0c2e113fc646fa3737d: (1.000554, 1)\n",
      "d785f9d0f47b20e084ef90f59d7b0a4716b5521b794efaa40d9c19b687c567dc: (1.000554, 1)\n",
      "29abb0c9a6ab1ab559625225c6a714f24cdbc45572d3bb8b39e93b80006c394f: (1.000554, 1)\n",
      "6b7d1d0159b46adcff4c978bea803de37d51542c200fab82e89273e8215234c6: (1.000554, 1)\n",
      "65e380a1e1e52031cf6b555d06474c34d27cbd8b66f18b5dfc20696b2747e38b: (1.000554, 1)\n",
      "adbd9725c5e9cffa28b51aa44ec26553895a40ac3df9d331174be2e3dd0391bc: (1.000554, 1)\n",
      "cd4a95c0e5754780384bd4a7bc9f5925eb2c812a4591f474a151f0b3afc13649: (1.000554, 1)\n",
      "9105c7e8fe054f7e53d40386b3be5822ad9bfeaad75d28c71db3b95208498a5e: (1.000554, 1)\n",
      "6c85382cc84fad91b8109cf17935ed31eb2382deb18f89910b0f2e11eaa6e042: (1.000554, 1)\n",
      "1d46302a5e1a718bdd0b7a2e3868121e49644bcc18adf4b8dfd208107f27b11d: (1.000554, 1)\n",
      "ded14595d4fd5db591c504516d43ec431470fc64233152b3adcb0bd8768f47b8: (1.000554, 1)\n",
      "76409048dd4eb36140adeb1fa002751a510b8d69660b107ae0eb28dd33dc50f7: (1.000554, 1)\n",
      "d1afe0982881525b03389a103d0693cd904f1915f35d833ce08583e2122b6007: (1.000554, 1)\n",
      "b33c046a1ce9c91129821f0de5b78f43c5cf5421b2c67c17b9cd8c9eb485e163: (1.000554, 1)\n",
      "a1f33c9b8bdb14a57a9493e0a695e5f12e0fb53b2baebf78a5a048f1c0f106b6: (1.000554, 1)\n",
      "361e8ca1fa4eab4c07eb2b6a8ad4d8471d07f9a8f32d5d6f211c8860747a317f: (1.000554, 1)\n",
      "be2019951a37ab6c0cc01164064ff2914c937fa44483ed256ead7c24f5afb96d: (1.000554, 1)\n",
      "d547b3a4ca921f8891b435d82d36e19b5ef8b39f7254a5ad6779088672aea8fd: (1.000554, 1)\n",
      "ce61a9b86648b25db6c6c83a2f62409c6c85910c6684a4f9bee1812e8e02bd5c: (1.000554, 1)\n",
      "af405d938dcd1e14c2f761d90f313861cb4b70b961cde2418ab9577aba240885: (1.000554, 1)\n",
      "7ec7a6671db0c77df718e52bf4402e1558a6c03c9688cee211b585241f0b8ba1: (1.000554, 1)\n",
      "f27770aa2e5928398cf4b03089a02e5fed727e40ad4ad58b28972881ed5844ed: (1.000554, 1)\n",
      "b693597899f55734c95a14764db4d600e4ffdb4e352df1b2e7995d0c1102a40e: (1.000554, 1)\n",
      "83a9a645e1084d13dfd6eb39116a351cd6287fdbf48fea108d814d58b9029554: (1.000554, 1)\n",
      "fc526cfd0674031015252f1b36fad0613319f37ee28c70c42b5213a139329054: (1.000554, 1)\n",
      "049713a0e1e84123ecd04867bc6f88eaeade3a5ce7c14738ef409996e18f009e: (1.000554, 1)\n",
      "52a57d9cf25ecbc831bbc1a6069f85e0eee67f848d214be17c19d11e238ca9ee: (1.000554, 1)\n",
      "be70b64a35abc7cbf8cb31aeb8ba60366ca45573bb05c8e05acbe79e527542d4: (1.000554, 1)\n",
      "9d2ca43e0d98f92240d895d04cbb63bd8c3850f6085ddfc07db79133209b388a: (1.000554, 1)\n",
      "476d69fd9d96410f0a15aa4c05da1f6aa427ada06a08bff1e0c74fa548012b8f: (1.000554, 1)\n",
      "b381a04220b3499be34a10eca43a06ec2be0d2c44a64c31a4cde7e8c9dfcbff2: (1.000554, 1)\n",
      "5b80c41f80575bc7c5262c1740904c8e904b4fa6406d533aeed3aa12397cc96c: (1.000554, 1)\n",
      "fbdd9fe7890d374a692d6ddfca3bf2f7059270abb4b66af9440ea625d4560974: (1.000554, 1)\n",
      "d71d51639c167c5c0fadf4679b0ff822cd77c12abce1c4a6bf2623feddbe9e79: (1.000554, 1)\n",
      "1c7fefd44f03d8d4c22de180c110883092d51b0843dd0fc28012d6add5207091: (1.000554, 1)\n",
      "de0348d239a218a5aa8cfeda16b1a7575659a7ab7b421f6a6a8efc235a48770a: (1.000554, 1)\n",
      "b3666c7747eb7584baf5c0e4fbe2e50894c8df26901b1455911c786deedbeb9f: (1.000554, 1)\n",
      "f03cb328bb66d533b8de176b56db6afbc6a01c08b56848e8964ad4a32b738cce: (1.000554, 1)\n",
      "cb7f7cd4e400bb19012ed33d4f2afc4117c186782bac5a18ebc415005fb3c3f1: (1.000554, 1)\n",
      "fd47bf0eb644fd1cd889c7228a670f2a2f7b5832840e0dc9adeae47d6e5fbbff: (1.000554, 1)\n",
      "c38fd3d180d8d02fdfbcfd55cb1417d9a441d52cae702ead0b458bac04aa9b58: (1.000554, 1)\n",
      "b4d880e6c29eefea20c625c5d681c7e098383fade27ad3dcc065269e1e3cdeb8: (1.000554, 1)\n",
      "23f95d9da0ea343056a20e59dcc0d2706a36aaf59a1388bd605b2c118eda6d9f: (1.000554, 1)\n",
      "358bf3a18480b2a65e0143a8a7b3fcf1ae1875a2c35692ee3bf8b1f7587ba724: (1.000554, 1)\n",
      "303798666c9ea51b7260c62ae6e88cadbafc1dd320ae3e8e53195ec161958ea4: (1.000554, 1)\n",
      "de980f8049f2f7242ac877817c3c6ab2ca56f5d1833c5b55d5103ac314b527da: (1.000554, 1)\n",
      "75c511fe400ce703b5546853cdaeea121c5790d79c6aef5f3f8cffd37bc27b77: (1.000554, 1)\n",
      "e5910af9338a8af2b6d0d4a1aeb60b4c26d980f18d51ac62a19c2b5f0f4aae00: (1.000554, 1)\n",
      "bd4419ba8fe1c38b36ed91efaa47b3a62b4bbde38444a503f551f9c8ad9fcd26: (1.000554, 1)\n",
      "3bf6a25c26f501dd9984e60ba60a7c00c4796168cb3e1142b25d8f2e7116e774: (1.000554, 1)\n",
      "858f347c905a23042151130c11c0e25aaf945854dd2a3ac6525e8abb80609ca6: (1.000554, 1)\n",
      "3189c53f4945a0abc42967e548c31f825e4af894795e03f7d6018881103606ac: (1.000554, 1)\n",
      "38af4924601ecf19993d78c3b84b1c1c59d57ac58620fe1020d2f6267dea9b0b: (1.000554, 1)\n",
      "60cd6bc1a8f1f2cccc574b7dc3129bdd1cdf18f315b8d535cc35dd9f4a6276d7: (1.000554, 1)\n",
      "2d978cb03782ed5097dbe17e3826a73606f140da2bcb8e7dfd7c3155f02a3661: (1.000554, 1)\n",
      "1611dc197b917f3685501cbb6705054a53dbc2665bf52bd126b0ed680d57245e: (1.000554, 1)\n",
      "e24b6d6b949ab94ef162ce58735c4f036365956d75214ffc17431526f53bc41f: (1.000554, 1)\n",
      "27a6b57f3c57aa1ec2e86d7097a530a6396cf9f33bdff0ae7903d3cf58e07e00: (1.000554, 1)\n",
      "14a6941463846479361f356ccd596d8b147bd17d7a2219970888f7d31bed2d0a: (1.000554, 1)\n",
      "1bcb849b791ac96e8238711f03d8f6d91785c15331127c37765f60a27f14c769: (1.000554, 1)\n",
      "c7aa49a7dcd5cb61302047a2df1f15631389d0126125a64bbe0f6384560a0f38: (1.000554, 1)\n",
      "ce168577d0e2f5a45e290fec1a9914617ae931a320cfdb3749d5f5b29cc49a85: (1.000554, 1)\n",
      "0eb5b759970419e9b48717aa79662b3d927b78a9a8500ebcca5b51c80222e607: (1.000554, 1)\n",
      "141d346c58a2201e43857e61bb8d41ffa046af027035570c8d026c3cb562a737: (1.000554, 1)\n",
      "dbc74c861371a7c8577f3efb61bca06bd10d2aa94ba7b09cc7e72452addfdf01: (1.000554, 1)\n",
      "7ec1dc03bb278607dad437d3d094fc89940892a2479e06dfde0443b13c7a949b: (1.000554, 1)\n",
      "869c4b47ab2e2538889f237a72b27b0095f7882b69112598251ddfee2a4afb7d: (1.000554, 1)\n",
      "2e3c12e783268a1edfa88e29ff52b76bbe840e6eb86b8a6615b0835157c49d15: (1.000554, 1)\n",
      "25b0b4255677b732c1e6a29ea23dbc66175f782371da0c8921b66b415863df4d: (1.000554, 1)\n",
      "c4206d9011b323b067e26501a22da0f4874ff8dc485902a24f97d90e66e61a25: (1.000554, 1)\n",
      "21694a17a63db098f9e53d349b225b25218d2b38c29a5be8e1c8e6bea06496c7: (1.000554, 1)\n",
      "2235d2b1e5a234ee84d5c1773eddcf346cf74d3a7c6e02d1ae532c3f702e0c76: (1.000554, 1)\n",
      "75b5f8da48489318f3081f7cc1d8b2c9807ecd258c77531037c3deae1a32fa78: (1.000554, 1)\n",
      "17d94974ad5bd57a035d1cdae425225fc466ab198060b9d2eea26fa581c78fee: (1.000554, 1)\n",
      "0d7a880648b412390e9b2c47ef6a27244cbc12892d2a1a425b2cc832e4bb8842: (1.000554, 1)\n",
      "0d7e9f0d55085d961fa42958d8cad778398f7a8e2498603ae94b81d8a6a79436: (1.000554, 1)\n",
      "3946752f9e4dbc0336c8531a6422616e0987b47747c37e766c6da58760038131: (1.000554, 1)\n",
      "6eedf7d6c90a0cf5a64914229e9124ccaba293a549f9dcd296845ca85421651e: (1.000554, 1)\n",
      "83d3ae076a956c3907c9a15d6b5d0d394176fb6df57789e8ac333b8f6d844359: (1.000554, 1)\n",
      "66ae7cdb9455f801b38052d22fd91a75c2c449029fe6ba6473ea1d7430b86320: (1.000554, 1)\n",
      "06542737571539cff735edc5e2bcaaccdb180ba39bd094f719c0049fd6ddf113: (1.000554, 1)\n",
      "0851a22f32c53e7f5cc2df0794b920ad504837c79af462bebc0ca7eb679a1364: (1.000554, 1)\n",
      "cdac7f55f2d08ce47deec510912fea187d65c8ed8da96dda1a544858247d644b: (1.000554, 1)\n",
      "d7699e215d5a181abf53af6c5116e2cd8f7913746ce39bd9c4e84e317de3a957: (1.000554, 1)\n",
      "1ba44ae4a414687b3416adc9e9f77bd23b1e235ab7f62bea5563bcd996f29532: (1.000554, 1)\n",
      "0bf3091032fb2c319e795e9adb2be0d61941a41e364777d518999473b4027466: (1.000554, 1)\n",
      "8b74a873ffee5a729ddf5d8b5e8f4c6abeca91e25ca4bc3d029283db48a1b98d: (1.000554, 1)\n",
      "47406f727a2db0c3248d2ae9517bf53a337f7d6617c5ece3212121d86390a7ea: (1.000554, 1)\n",
      "ee41a8f7bee108d3fc9a065271e447e45caca0599465d69a37caca67865c96d7: (1.000554, 1)\n",
      "65ce21b63405a39c76978f461ab6526c2078b8ecf43b170e2efaae2c07592045: (1.000554, 1)\n",
      "deef0459dae4df47496e1e7cfbaeb00b6cd2d912568d25a4b423f0e3e032c24c: (1.000554, 1)\n",
      "ffd8e32e538255ececbef268d6f04ffcdf66fe00a1b459e197bb9b5f06fdfff1: (1.000554, 1)\n",
      "26501a5c71c083db0f4cf2b7a49fd495d981cdab6790be5d9783ee67b4b0e5c9: (1.000554, 1)\n",
      "abf5c8d2966271e9bb8661358b5fa2f2d41f27c649076b53ca51d100a938a674: (1.000554, 1)\n",
      "69450f835d511dba7a6d38833e01bacd67787b60c2d5f96fc2a35107e6676b98: (1.000554, 1)\n",
      "935d0fc8826f946eb351ac6bf8db9f454fc8fc4bb0c4f2b5444d65c252bc6415: (1.000554, 1)\n",
      "3332509d5e2da855ad395bce3b6933b2e207fd73c5ca13ba7b9dbd1d1dbfb586: (1.000554, 1)\n",
      "72fdc727bf89d6f9ce69037e634ba8600c0de3a4901e333b6307a6327236b6d9: (1.000554, 1)\n",
      "6954787d5693eb2ee07148548aacb3e0a583b9318bc1c0c3f4713cad610db617: (1.000554, 1)\n",
      "a70f6e57f9aa92ab2c78b4409b032881660452de5e9c950bb2097bc720dced20: (1.000554, 1)\n",
      "c1751e28cb4acd6b21c65fd95a66468cc27589c60598e758d6b39db6e3f5b33c: (1.000554, 1)\n",
      "2ecd87947b83e1c1006ad5d0b47bb65dd1245a6bc7e3beec722abfe6a75b5ba8: (1.000554, 1)\n",
      "0077922bc342aca5f3ad0a67198ce22779eeb89f9861b9634370a8dc14c18e79: (1.000554, 1)\n",
      "4960e82ec0183654856e90c7fc7fb2d097ace55afb32a8c4986ebbbc5754e050: (1.000554, 1)\n",
      "8a24a10cfbab9d6e32e113f6c2f948d326ce124c69c0a9c10e1440d1090aa5e7: (1.000554, 1)\n",
      "7a68707a08f98310d5f7e91031603623c2092dc2f8714ccaf56d952cf95d4eca: (1.000554, 1)\n",
      "9c4044569ac867a1e7890aaef39c70522cce142baa01f5e98bbda9d053b204e2: (1.000554, 1)\n",
      "c72533ce9d2dca08944c72ffd0b56f035face93f3391f498281ee02392d4512c: (1.000554, 1)\n",
      "da361db640340fc56edf5141f175799331938f5d7bc00dc2b1e7e5cdb713aa85: (1.000554, 1)\n",
      "efd55f88275517f3d5916b5c9a2936add5032b8d77566ee7239137f3cc545010: (1.000554, 1)\n",
      "e1fe547af2d6c255ba1b09bc1f3f2d8c03a4248a0329e5ad942df5a3f6316449: (1.000554, 1)\n",
      "a77581860df6184a16db3ea1bb8b419686279777118daf09c4993fb5412e3c15: (1.000554, 1)\n",
      "9ecab969346310526f2fef86e49811d56fc8728404f3805407cd82e13c18816b: (1.000554, 1)\n",
      "a6bd78edb6c5825f931b5eb725d2cd68cc697d24e3b62b5b6d65c9f39fdd160b: (1.000554, 1)\n",
      "fa9be9243ed6a086c369b50d6c4808417e13407aa782f77b33d0e26112894813: (1.000554, 1)\n",
      "b52bb52e3084ee3878eea2a5cc64822aa5ca57eb064cb93078fb9815da27dff2: (1.000554, 1)\n",
      "56cd58b47a4a43d075821586b4eafa387e95f21bedb98e6fde3a054d14cc5cf5: (1.000554, 1)\n",
      "1b7f48b3719db0e3d6cce228c373ff06caec1b7ff52665657e756f2a3c60d1da: (1.000554, 1)\n",
      "33de3a521b1d3f124dbf191b614293f8bcb1306184e9cb81eea06e643c387857: (1.000554, 1)\n",
      "9f827ca1f44165d5ed7912c2d83bab2161521760d91c86b632b614199c034a35: (1.000554, 1)\n",
      "5290219db1abd341eae05477b397ffd41028ccc6d8e9dd8634d79cfb14810981: (1.000554, 1)\n",
      "45c649f473b2aa67721b1a07ccedfe94e6c5ee8004399dad96de8e108738687e: (1.000554, 1)\n",
      "f6ecd37d62bf05a5cc034f0c483036fbac2a4d36e3c3048af8b5772f9aeae0e1: (1.000554, 1)\n",
      "2e391f1942dad0a7bfe34f161ff747fc24e34d8e552582981e06c6c51ae54de0: (1.000554, 1)\n",
      "6fa4465108dbcd67631668f2d9939623f46544db916effffbac9bf9a60884535: (1.000554, 1)\n",
      "a09229c9e9d44c718b77df714510e91d0810ad785a357c7eccff2946b0ba8fb8: (1.000554, 1)\n",
      "d04f54824ea0fd93c1c1ba09de12b9c7233653739f17be264107a3478d5fc357: (1.000554, 1)\n",
      "192d7499ee01e2347d1cdfb6486139ec9cdc808097f9c9c231493207eab9518e: (1.000554, 1)\n",
      "d340c90cd95bd791d2f2aedaa17db829ac4a89989ff30c1acf6fe8a5977143b3: (1.000554, 1)\n",
      "f05a521a2649a53841d0c5c837efb1d48e2eff7a6f6e47f94f0e21665d7adaa3: (1.000554, 1)\n",
      "6f28f60ca1ef30285563cbfe63b35785b903f4986d4407c6fe6344407493b711: (1.000554, 1)\n",
      "d3a25e435266ba6c746a0e9713f4a42cc3aff8e2547fda4d900eecd3ea1c4529: (1.000554, 1)\n",
      "f672ea349b52357ae581b7c0eaa5660b84da6731b5ddf8b00dc672500bd5d315: (1.000554, 1)\n",
      "9bc0777f2c5516d042438a69ac870750224dfb983fa544613374bc40368bb66c: (1.000554, 1)\n",
      "6bfa6d12f67d19eff0f7edfad77f89fa3a5ce6254c02e33644305784e97be3b8: (1.000554, 1)\n",
      "9184c1391a04857244f1a4a82d3fe18f85720ca9b6930731e94fbf0ee81ffe26: (1.000554, 1)\n",
      "74d1f872e4a91b756abd357eb9244010b69d4b00e5d0101db799c7ffe533581d: (1.000554, 1)\n",
      "a6fd7375ebc100876c3bb2ece3d38f64c3ada45aa6f59db8deda140300c599ce: (1.000554, 1)\n",
      "424a50f1f383dc508137d4a8964f080ffc822d3ad1b15e7e5f39b6401a738395: (1.000554, 1)\n",
      "9c5f1f8f1c6a1565000c9289d17f66827612ef32149d9ffa716dcc29f66ab9a2: (1.000554, 1)\n",
      "f10bae89d1c53a1064e7ccad0e9ef882d899a04d195834f1e16ed517135c5b1e: (1.000554, 1)\n",
      "91a3f9954b1a7ced8a68ea3d9eb25d2236f7e89e43f1957a0a886aadb6e073ee: (1.000554, 1)\n",
      "e6455a13329fb9511efe21e6ac6ec624893d0f314bbe8bfbe986408e1ed69828: (1.000554, 1)\n",
      "5eba6ba19b3df38854e87edcf2fceb1cd851f93b8cf56ef2162c522227560715: (1.000554, 1)\n",
      "47e6b78a9bd376d64bd21af671584388aec37367ed38ace9ad93a92a1450b59b: (1.000554, 1)\n",
      "69a34cc3495ca5174f8e48a07477035b3bf0cf464857871e35b8c7b139089799: (1.000554, 1)\n",
      "e3cfd1c5d24f21da3687188d39ff25655b0487a918f142e15340825c157e2725: (1.000554, 1)\n",
      "fc6d6ddc8267e219e2d0ae96efa002e0b2642184a2bac583f625e57e1bb753f3: (1.000554, 1)\n",
      "0e74b586ea59513874ec03e51dfbfed3b1e1be996624fc6b8124d13ac4adc295: (1.000554, 1)\n",
      "c99362ae7012774f48600827f9c597533846d9946fdb33694976d8c5af8fa5e3: (1.000554, 1)\n",
      "5443fa2a90c198186c12640e49df3707ee21cd30ac0056b80b4dd1b881bdf451: (1.000554, 1)\n",
      "20cb366a289569d0d70ee3f67b7d5931594bfec6fd9f1ad0295341aca819f5f4: (1.000554, 1)\n",
      "fc42f3a7339e63faedeb0baba5336886bcb0531b8b05927131e24acc486bc815: (1.000554, 1)\n",
      "5a3e5a54d935948018d76179ee6c77b1902ee32df603b348c7aabf9f80683799: (1.000554, 1)\n",
      "0ff3fa03cb69f26fe04effaf357b0b669a97ed8eb7e1ad86a5b491005fd93cee: (1.000554, 1)\n",
      "b052e890198b33c148aef9184a1f9b79ee1ef5acc62cce3e2adb74d3a3cfca4c: (1.000554, 1)\n",
      "987063f5ba7357715502066a480e44dbe7d71ed153fa16189110650cd5e039e8: (1.000554, 1)\n",
      "c9af1dbbe041303f41049e282bc6e760e39c5be5787fa1a6e19cf5c964a3a817: (1.000554, 1)\n",
      "e869309165f7a5f5c29524c3afcca6f0489cf84a2e6f23c97d22ca9dd18cfb1a: (1.000554, 1)\n",
      "8a0e4b0624d03876cc106e0e2160efdc04a62df1d00b7f1acf87d3e467000727: (1.000554, 1)\n",
      "502bcf6f0531f9496774d5935edf8ea82ef884ac91df113b2dcdaa3b73fed6ed: (1.000554, 1)\n",
      "d1d4247871a94c774257988d766ab83116fd4babdbbd1868402750e8099466d9: (1.000554, 1)\n",
      "03f279fdd28317e1592a507c4c69f9aa8a9bfc0236f5eca170c57dd24ee36880: (1.000554, 1)\n",
      "1db7b13c6e7ec8d3633c247d3f8ee3cdc57da726a854fe4ecd01041c4518173c: (1.000554, 1)\n",
      "1a4de5e21ec85f1c4c5a55278ff3e1069c5eaa2865d6f721b5717cb7131f83fe: (1.000554, 1)\n",
      "06207e084340d4a79aab1bfa0e5b5a63d9b7e89e6651127ce3a505899abc402e: (1.000554, 1)\n",
      "b150ad3eacb18643da9e3f24bb720fa35ebf6801154abfe0756ac5cf05488cf0: (1.000554, 1)\n",
      "8f119119a6349a89861925af995fedbab9bf4e97d8e6d3b608017bac4c478819: (1.000554, 1)\n",
      "f7dde772856d5ad652834ab4e0a557637339ea1e004f157d8d8ee7293dfb85f5: (1.000554, 1)\n",
      "04e844b5c0953e99ce7fa3ba0784d37f44cdc2fed39a3e97c8cb7c57b601edee: (1.000554, 1)\n",
      "a96e5d0ff8c1f7e193351547b7443b3254b7a6ac1f371c51a31dbdeb8f73dca9: (1.000554, 1)\n",
      "5712bb5a002626e81285cee1d00788e08d2b245128a4c3d205c1e66d735daec5: (1.000554, 1)\n",
      "575dc5c06ca957560e6477e8b52f4e800304fd1473f9567fa234cbc3224567bc: (1.000554, 1)\n",
      "a931070c7f4df9d38c282fb4eb9b1f26f27b520d36b4739571beb828d5013399: (1.000554, 1)\n",
      "03c7cb1c50d0320cfeee99eaa53767b4f857ad61ae94b341c93ce4a70af13995: (1.000554, 1)\n",
      "8180727b1ae410a46a80692a1f5d04da1c8071b1ce75120428ac80d28debdabc: (1.000554, 1)\n",
      "f2e09a1d62643daa6aea64b03e833b696302732fb2483616c58a9725b6cebf2c: (1.000554, 1)\n",
      "55ecf7e65c65be5d2644e1a5fc1bdec89d6b9da6b8f8e907e25e87b0f0a69f56: (1.000554, 1)\n",
      "59b18f8d7e3fd67599488ad92b478170525cf05dc18deff1a7654703f8b3f82f: (1.000554, 1)\n",
      "374bc535727d7533ab248215ff01fd136df6e264473d4fd44227cebd8ac08649: (1.000554, 1)\n",
      "c8ed623549b3f693e0053b30c8e0263140c1b4133adbe2d5f982ba8d709d8fb9: (1.000554, 1)\n",
      "d363728e9f1a89fbf44d1ee743752ddd04eaab85cdd64d9c36efc828e5521351: (1.000554, 1)\n",
      "035e8a82dd0ec2cf8e12c35ad096bf4788b7f88c5aded23ad538f038337bed8c: (1.000554, 1)\n",
      "f7375b6a8317fde6168ec7ca7cf373c87efec3856e9a7c35f899aafedf719fed: (1.000554, 1)\n",
      "40b8fce3503340237bea37b53069b4bb61260410cb948f9aad10e8238b6e7838: (1.000554, 1)\n",
      "147f65bafb41e95a0acf49ceff22d0359b85d8af838df563eab61cd480c080b5: (1.000554, 1)\n",
      "b719b8fd5b1ac9a12560d8d4d04fb07a2b0278f070d2ccffad6638bb0cec6167: (1.000554, 1)\n",
      "c25638aabf22ff15c48681790db8647ed660503eeddf36cb9478993971f774cd: (1.000554, 1)\n",
      "f1b613ec7a5bcd236f2f137f4890303864a9657aaf57fe70251053a7d8f82f4d: (1.000554, 1)\n",
      "a4b852127bf321d7cbe7075e5a01c92800d37e4f71784ce019834a819015fcc0: (1.000554, 1)\n",
      "e8bfd243998c323e6684be28ead369fee65249a2e9d6774a50918a2e75a92a39: (1.000554, 1)\n",
      "df6659ba74dd2b79f598ddcb5ee1ee97924585666f80d54ded91176eb5bab7d8: (1.000554, 1)\n",
      "f7d901a923539ee7d43d3e5309dbf2d108e32866837a6328d6a82fc9300262f5: (1.000554, 1)\n",
      "71de08364d2686f8fe94b9262bfbc07880f410c0f5255a63ee20ea8baa70445a: (1.000554, 1)\n",
      "d07934aadb3cb829e55335ef44bd10f6e3e0afcc4afa5f1bdd68dd08c180ae80: (1.000554, 1)\n",
      "987372a5b510cc6d33fa547b73f8c5288d1f380ba783fb0425b94e7ae83bb37e: (1.000554, 1)\n",
      "107e3fc7c9e73efec081e0e67635f0b8866b1924f3792c17e8a2109c6ee7dd43: (1.000554, 1)\n",
      "747a09a5c6f75c117000181b7b8e64ef7c82f7dea17252c0c16ec22722885c25: (1.000554, 1)\n",
      "23f8d9a47c48356c53f0fdc773fac0f41cf4df318e30f595edef126cf39b061b: (1.000554, 1)\n",
      "c1ce4434960a78f842487a966407b28482e44fdba7efb38867534d590f354ffe: (1.000554, 1)\n",
      "98272a57a509fdfef19c1386b981a109bb289e29f468d8e964d8ee36be0a9579: (1.000554, 1)\n",
      "eeb45518c471922d6bb1708e903f1c8fccd03f73644b625d2f2ecec94dd2cc84: (1.000554, 1)\n",
      "50be7895aaa0748b5cd9a85639e1cfe005c72f01df3dcff00d5893843f61c79a: (1.000554, 1)\n",
      "93120d0ffa7ce561f6d84cd92915194a3402f0dcb7317c73953a67b4e606c9c8: (1.000554, 1)\n",
      "612880adaa51176fee98fee4bf7373ec1213d17bf2a5c9228282e43cfd5eede9: (1.000554, 1)\n",
      "091ae094347a9c3c35e05e1c8d3e94f6039f37df7a31fc4b572b357f6d2ca623: (1.000554, 1)\n",
      "002d9149d865f37c0e3df358111cf5a30e19f9748859533028d7952c76d45445: (1.000554, 1)\n",
      "8d70d73e4c5063ccc22587740957d7605fba8a52732afd57723587bfcb45abe9: (1.000554, 1)\n",
      "f0e3c6d041578342cbb91c0ea8bfdd69f328fcfd8b0f2e1657092d06d4005a46: (1.000554, 1)\n",
      "03d47ca1615180d9a15f5b1e3e552bef46fbf8081c1a59c8344ec6607a42f96c: (1.000554, 1)\n",
      "a7e317f2648005d65695533bc646e5adac0d8f556f5f0603c208072a74a2218f: (1.000554, 1)\n",
      "dd663b75b764a05e337cd85a625668305813aeac3bd32b92e04d433184ef98a0: (1.000554, 1)\n",
      "bc83a5b95f243da08920b15862dd79656b817d14bc7672a05d7053a5ed6664d4: (1.000554, 1)\n",
      "671c74727b1a9287ba2e112f55c6285810a44b976ccc76ddb18f53739b3abae7: (1.000554, 1)\n",
      "51952290ae3fa121dfc20cfea7964f05219236437090885a35a5426c6471ed1d: (1.000554, 1)\n",
      "76302b287f41908120e69459ed9fbf684b8c565cdd361e961cb78323ee5935f8: (1.000554, 1)\n",
      "36442a7781a0fdc902d8726d8ffa3f7eef23b05d3f77e5b966e1ea66aaee7f3f: (1.000554, 1)\n",
      "9facaaee5027fd3c00858136561b33dcce2f903a53ac1f1b34688a25869e010b: (1.000554, 1)\n",
      "15553c5933aaa95c74b9e9e9f5c42b3f9bb4510e44b494ce22bcdea996da18d8: (1.000554, 1)\n",
      "c775fcc2c91e01ddd88c5b28c5f277fb836f36fdb2f4b489100c16b3b7cf7f2a: (1.000554, 1)\n",
      "be74734ccefe1ece7db2169b75659248ea19a9c7aed85a1a1ebeb30d83f8a442: (1.000554, 1)\n",
      "97cb3781abf0eccb1b1c7625df7e7f1ed7e3a9cea668849aeaac72b9b6bd1973: (1.000554, 1)\n",
      "19cca11116ddbf862112d64d2347a2467a2e0ec3530617e5662849602f38f92c: (1.000554, 1)\n",
      "b3c606525c4de3fdec881d4fddbad9ca2806fe71b47c3cada87f0f8047b59e7c: (1.000554, 1)\n",
      "d68d2175612ba78eabd508045d274c374c6535bbfc3c6f95527cb1a5bc13fdaf: (1.000554, 1)\n",
      "d543c41abc48f4f6bdbf7851838ca7d9244a3fb0102c5ce6b26701b739d2bc31: (1.000554, 1)\n",
      "7cc04cc6dfe0f41cdee0d9b546a674392cfa271c41963d98ea029f370c48980c: (1.000554, 1)\n",
      "e8389b8adf6c5d33840656b68ffe6a1ec4399f162ab628806792745512ea6404: (1.000554, 1)\n",
      "36199e1647ff62e1dcee4861627b1876d22782bc78dc1fa17e45afd374a2ec00: (1.000554, 1)\n",
      "60b19d8a1f534c97e3f2b9fe8e447f95e48c3fa6fe5060cc4c8105d2b3ffaa96: (1.000554, 1)\n",
      "401639bd3d832e5f7f524b305b38d4e1a9935e80bca64e81bc3605f709b51a2b: (1.000554, 1)\n",
      "bb3e00ae7b9a6ba9f361d7e847f11b6c71517b05f000653215c83d4c9326e136: (1.000554, 1)\n",
      "6911ad8f752cb612ae132eb282c68234adf05f1f71748765dfe96486a06edfc7: (1.000554, 1)\n",
      "9a1157d186dc2730bac0439fc580f42dd22865845ba0843c31f5497b1ccc3f96: (1.000554, 1)\n",
      "6366d771609b2b8ff445e5626b4fa44a6316078ecb502a8f97e793b750dc492c: (1.000554, 1)\n",
      "1107067ec2cf606cf36560f59cd08b59752f4b12113a235a1676e1e63d1052b9: (1.000554, 1)\n",
      "7de9bc5a038006777db7d67c6e52d68cd613b692fb831ddc11c2a20c2539166c: (1.000554, 1)\n",
      "e29ff6d5e30ec58959509d9749b7c6fc1fc14214e9835da6371cf193c9bd6d4d: (1.000554, 1)\n",
      "5103e371a54dc8e98d551dad901569f68f30db7095da269586dd8cfbf69d654c: (1.000554, 1)\n",
      "57032f9f236a495fda6edf1ba7a314553e78fbee9e2525e4f225e40cf3950dd5: (1.000554, 1)\n",
      "70a393e8899dd088a45d9abd6bb6d642fd7da2a61a36f9e8efb7297cad061da9: (1.000554, 1)\n",
      "d26cd5e8a0f4dc98cf31018abf8bd38202cec1999dfabe6c618c2257e144fe48: (1.000554, 1)\n",
      "73548666efa71e1a745dc7ebc85a47096906c7245a4e74bccafbf9051dd44879: (1.000554, 1)\n",
      "697c5dffc8253cb8ccff9c6af906450c8f55f2dfb562ac11762b5bb0fbfcf677: (1.000554, 1)\n",
      "64dbd6c5a5694867a31af48977705531d2126400ec04ed6b9d0365ce3f66f43f: (1.000554, 1)\n",
      "e5161e23131df1fd15b3926e6848bd0ef8155aa8fbb1e92175d53225e8bb4944: (1.000554, 1)\n",
      "979b26acdf0a9cf65aedf6b57266590d9da8cb9b4893accdcb7d4c8e3d278340: (1.000554, 1)\n",
      "14df4ff8db26c94d5b75d62e17b6fa69db05eb171378c4c0cee6fcab75c5e892: (1.000554, 1)\n",
      "ebf018557cef8e597c47066c8a04efe81a1b7ec3c425710dc154650f146bb66b: (1.000554, 1)\n",
      "873aebe5ad34de85ee590ee826388f11731e9c3f0273f90057220079fe96988b: (1.000554, 1)\n",
      "26d9148922f55d975d1fe5d51eafff4461bc1c3257f023ac72588fbd34da894a: (1.000554, 1)\n",
      "5236ce21d1437eee07a6788a8f5c31eb990c364844139a9006dbd2c4f9f10e4f: (1.000554, 1)\n",
      "57bd187b08487323a6ae26fb5870ca27a2a3998a8046bb42cffcbb9dc9eae0fd: (1.000554, 1)\n",
      "4ebaab0fab59c10a4aebc458de70477499a356716e606e25db9a53999917ebea: (1.000554, 1)\n",
      "a8b4efc841f2c14acf5d9e7948002b86a892aa2e80cf23911a412e39d60a5fe1: (1.000554, 1)\n",
      "d863a3eee401cdca5df5f9b1f7dcba4b493004351d7d767a617efc7590d33658: (1.000554, 1)\n",
      "4b07f5fac26a9bcca21966157a091612f923dbf3126ad355f17fa1511a9804f1: (1.000554, 1)\n",
      "7cffcd922f5c8eca7360ee7b45c1a2a2269a9373cd9cb38e53ad101ac6a2f356: (1.000554, 1)\n",
      "28a6df5f0cce682959b1cb23dc0958761dd3d470cc97066ab4a8f68a3e37721b: (1.000554, 1)\n",
      "35bed5d3878af1f8983399150ad064eb277efd7206a211771b305409bcb56924: (1.000554, 1)\n",
      "208340619bd1c2fd586cd7f7a0dbdf2fbcdb3cda4c7b8b6e6550ed114289cace: (1.000554, 1)\n",
      "489d2e46994973f2d65195fe4cee8e55612b77ae01a879293c33d01e9c876f07: (1.000554, 1)\n",
      "9644b6fc341143bf23b8ccba74a6380a8aa5ff559e92ea8337eba58972f7ce84: (1.000554, 1)\n",
      "a0b75c4a2a353477de86ebf6acf4e25b7fbd571fa0539ea910b84338610dba41: (1.000554, 1)\n",
      "cdc3a7c1a1ebe35e6b2ab4ae14bb08f087a4208b2f5c6ef89ad5c47523d872e6: (1.000554, 1)\n",
      "5066072722707691445c2ef1a3b9514fa813ef079f5fdecd9b5d10686a66c5c5: (1.000554, 1)\n",
      "595e90f6b3340f3ea78708f9c864d7ff90be5fdaca00d0f6a17caaa93b99deea: (1.000554, 1)\n",
      "99ecfeaf80484ca0bd9a75f607724eb7b7dd4d0d485528c331534481c3179d6e: (1.000554, 1)\n",
      "5b4b0e1666a31338b418aea9df8f27629793239d8359b957fe8280d73b91013f: (1.000554, 1)\n",
      "cb3880a988cb64498d1bf149f10ade7655fb55650ff9a6b6fc17ffc19766972a: (1.000554, 1)\n",
      "f4bd46362212e5f433620d18e0920d55aca08f6f712464dabce91e0817e0457b: (1.000554, 1)\n",
      "fc1f9e6451bf3a5db2b370fe29639b6b2d25eda10933524e0ca7eb2b41437259: (1.000554, 1)\n",
      "44028f851f32abd3ff01289d4502a46ee4a7bdee1b821e8e1d2b45fc7d0a2db2: (1.000554, 1)\n",
      "8f73b23d62a591a652acd356522c943def3361434ab424829980571f9ead4390: (1.000554, 1)\n",
      "4c922231a7e1000fcf917c67c59e2f9c194999837bedc8c49839c65f82700dcd: (1.000554, 1)\n",
      "4905b000417376cde79738f3b0d8d563693ba3c99fde36d5331d8964a1bafe14: (1.000554, 1)\n",
      "5f95b6f4b6b4dc4c8245420307eccb0bb39106b9829cf6663ca4dc4cf0f28045: (1.000554, 1)\n",
      "16b87e03ec99096b3ece813a1f3baaabee7890236cdbf85d15f6678393ed0f7b: (1.000554, 1)\n",
      "b5199086b57ea6f1f169e72b7e5abe2bf9d2f8f9f570af63347da8ae43345ed6: (1.000554, 1)\n",
      "458fc0ed910aef22f6328e5ef6184145233c128d5eb0d88a54e1f622ebb5c287: (1.000554, 1)\n",
      "7ec834826091782a493409faa66e360291a4f7a1759ed572f28d0296757e04aa: (1.000554, 1)\n",
      "6c3c4305c2f82dea7d09c36f49ddf1d0ea7c5364d003cb7f683d51819f293151: (1.000554, 1)\n",
      "125e6b6802109b37436353b02f482aa5c100440dc30b6afc10b01b6cfb757828: (1.000554, 1)\n",
      "fdedc8f789bd756cee2919e1d01bc46536f73b2348aa0f062fc692f9e8ebdd55: (1.000554, 1)\n",
      "81f89c341c4d5b90bc524f5d5980b97460c70bf74e7605be85b8ecf40af6aea2: (1.000554, 1)\n",
      "5294e675890731e3f9dfca49ba2c98f322126b320948c88959b9e7b02620b67d: (1.000554, 1)\n",
      "ad5c94bdb38b4730dcf0326958c2395f9f23554222e1f70907496219f64da25c: (1.000554, 1)\n",
      "61403f869bb6b49dee37935b0c8a3ed11384ffada1658183d9c617ebbed6b1c0: (1.000554, 1)\n",
      "8f780461ef3398fddc1ccc92dade191346a60824ba82deaa424b9b2cea88b746: (1.000554, 1)\n",
      "101810f45fcd56d030af23956215278b54d617ead0ceec8076b2d4f440c97037: (1.000554, 1)\n",
      "1abca14705209ccdfca4f5deb0fd1ef7c973380c452c9da8904685de4f9befd8: (1.000554, 1)\n",
      "4ce33f71cb08eceee761a8a64b0c374159af9ecceb71a7e73f9178fbf2d41348: (1.000554, 1)\n",
      "e7188776d78e46f2f2471cd81a7e4315caf39a3bb6efd6a48079086915bc9897: (1.000554, 1)\n",
      "7f9f9a091e97b643a760ce93d91de44aa4c8b58940d11574e095942706bda416: (1.000554, 1)\n",
      "cc9d27223992e203fb343c3e1313f07cb350dc0a89c202b271e39698b4aca26a: (1.000554, 1)\n",
      "0d549db7fa7c030cdeede320e71f8b9439e776bbbe98d6db7f2af0caabbc5cf8: (1.000554, 1)\n",
      "54635e1bf54339537b60331a4508d8301f7f21526c2ce6713724c745ba7d724d: (1.000554, 1)\n",
      "559f33e7feca2fb7b908af13db5f28caca340f413eae3b1018007aaafc7fe55c: (1.000554, 1)\n",
      "c3673dab5dcbc664a8623f996473a8b508b2e3ff689bc80bfa67e09e54d44ecc: (1.000554, 1)\n",
      "d2a405ea90b511d0a68d83fbd6deb7f9baf39157edface7d22c37270f9370807: (1.000554, 1)\n",
      "4d82ff7054d12c9d2e73d08b1383919697776ea6ec55f7bf224ae50f50311806: (1.000554, 1)\n",
      "f80dcb95b0281aeccdae8f07edd0a3dcf9cf4b71b226d333571de0420e8d9a98: (1.000554, 1)\n",
      "83d73f3f99418647338b6e36b827162fc5af62e98733ef9bd5aa65d6018619a6: (1.000554, 1)\n",
      "ecade9c421d5f26d493f488c071d33d2ae3fb8419521ed96dfc0c159b5608906: (1.000554, 1)\n",
      "1005d49b0724a26371915545692774d4745dd8ebe9bf557a50006ecc0b6fced3: (1.000554, 1)\n",
      "be8ad2c8050d09e7a933a9e70e8ab5c68497d13af86e01a0b4fa59ea4807cd1a: (1.000554, 1)\n",
      "05340d071cd31dc7f426352a3c25546da1d1ff6b2882f5a83456502ce8ab613e: (1.000554, 1)\n",
      "d0c774ea3b027f7e84789d116f625b8eeed5a88403ef6133c111237ece68e86a: (1.000554, 1)\n",
      "00580ea1fdaf6a6f005227e55f9e293053291a96cd82f8dcf9dac90730daf572: (1.000554, 1)\n",
      "49f3a1dc25834d32611c8da6ba9834c58e2afd8d6613499dd411ccc20a86ff2c: (1.000554, 1)\n",
      "8c0dd7dfdcb33f7a0d0df03bd679d73ee77a054504c0d67ef0eb15587d60e690: (1.000554, 1)\n",
      "fdc5ec27f1c5d689c7f79ab1691600660e02bf942e11c1d8f7a0a2bcae62f7db: (1.000554, 1)\n",
      "c45a7eef1fc65b3a35f1cf73b7a294b50828ed085f306ad7dbad9ea8b635120a: (1.000554, 1)\n",
      "8a1c7f45bbe134aa043879a0d8ef57c8e20478182902b9d563e3ca0c5a561917: (1.000554, 1)\n",
      "508dcf7bcdc84d0872507deee92998e01115bea72dedd615776133da275ad873: (1.000554, 1)\n",
      "1dbdde3ed0d74ff3c20619728242ee8111fe5fa1df669840cb318ea214a3a0d8: (1.000554, 1)\n",
      "ab9043bfbcbdbb5c37f762742aeb8d4ec51f1902bbdc5d2a36ef76baf8028314: (1.000554, 1)\n",
      "3da557777abfe3d51aa1464541157d118f8b540bb8c2d9a37f063ca596bf6ca0: (1.000554, 1)\n",
      "237d71e5aecb84cc788c3db18d1ccbd54e3a12be8d5b82057461c5f691a95a78: (1.000554, 1)\n",
      "9f2de2b0b6801382498b4a0796c38fc1f03e6e5a1cd9136a5c3cd77ccaf36b4c: (1.000554, 1)\n",
      "7460c0dc3c10b3e7aa1b3f0f7fa9e0e8d2825685d5750da67e07b3ccdf4a2f09: (1.000554, 1)\n",
      "d703cfaf5ba6c7b4ace5c55a040035f03f8252c1018c89b39c4a324faed45058: (1.000554, 1)\n",
      "e9b68bcc1b170f2ad07d91af8cf5f2907fffd31fdd8b7f8904b9488b29afd487: (1.000554, 1)\n",
      "ffb8b05931ec151d65371d36d350032b106cf89d3fbaa989d11321c7b35d9625: (1.000554, 1)\n",
      "a6630503aa7b429fc48aa9424298e7b3aefc6a9f9d6f7592b36c1d1b53c64eb5: (1.000554, 1)\n",
      "a9a894265fffd2f1306c5f80de30476ba8427a20a782ee91bee5904d0213dbed: (1.000554, 1)\n",
      "ee3e321b53bfbc8971e741c22bf2e232d06468eddf577fbc9e11e78c3bf12238: (1.000554, 1)\n",
      "0f7f9dbfcb1ec91605ce1abbdbacfc73820bb27847b31a62a942b1545a6118b0: (1.000554, 1)\n",
      "705b933160df57169e4ac295972686c6801164d018576ce85703c45338bc705d: (1.000554, 1)\n",
      "a52d91c9d8d2d570a7ff5b35c39ea30de399429752051edf79e448509c7c446e: (1.000554, 1)\n",
      "7b0173eb26226c6e52ed16e8329e853312d511a59cf3974a8a7f8ca06b3be4ee: (1.000554, 1)\n",
      "8f91df16d62ea4df28ee5d422844ebe353f5d676c6005e156ea21a6c5cbb9cc9: (1.000554, 1)\n",
      "2ad071f45e98eca16d497c13bedf0d1a735ff7bb344107858d7d00d30ce28b07: (1.000554, 1)\n",
      "ecc797ded90adf273129abb2fe33b9c337835529d24adcdb57f7a001100fc4d6: (1.000554, 1)\n",
      "3ad46ba99220a270c14ca0b33f147c05aa9d1506e7a710836df0d2f226711750: (1.000554, 1)\n",
      "c89dc797882a283217010ac84e16174fd14611d0537725c0e96b90fa6bdd68df: (1.000554, 1)\n",
      "864828bb59ca467b143869e38a312fe91f9cf58c622ee8c63df4bed41ecc0b93: (1.000554, 1)\n",
      "982657b890dcb4ee37623f70ee1aa930b23ee5a91583ff7e3f5a99f6ce13dadf: (1.000554, 1)\n",
      "2083222fc8a6ed926ff37bcd83541c0b3a3f4fc75539e349b6ed960448ba7b4d: (1.000554, 1)\n",
      "32193edfe95f9f4f25a65cbfab66a57ababdd015b1f74487c2e46c020e6ab218: (1.000554, 1)\n",
      "77b51ba80f20ccd723686ed3ec1dc6fb7d7411e91aff8d0065f385638adb0a0b: (1.000554, 1)\n",
      "b221a33c61796cd675e03edf62c30a18c3d3c6061dd0447b8922a31037134877: (1.000554, 1)\n",
      "2ad58dc879454fc161bbcc475df25a050692c90b6cb24db71b3b180905e760a6: (1.000554, 1)\n",
      "312cb388d71d5cbe43589f883874a55957e0ceab83f047963696f4be26e2a418: (1.000554, 1)\n",
      "aaa969d21b0774e3184842e98205db658688f01cd40508a61efd5bfbc01937cf: (1.000554, 1)\n",
      "0247d82c928e3aa1195c48201f6b4abba2dd07baaf1565ec7828f0cc7aba72a6: (1.000554, 1)\n",
      "b5c93a65673e937a7d21c36665d2a58a2a15b8c7ca8a12e64120cd29d367f276: (1.000554, 1)\n",
      "50ed3da25cc68ec9a88c78b191998197171c4f2d397439be89465c96fc207721: (1.000554, 1)\n",
      "5e49f8a3acdef90ad07116b596a5237850605106791acf2ec5f911bcdcf1807f: (1.000554, 1)\n",
      "fe92ae13d7b555b8f6cef0f47d26f8e4b54fe85fe9e2bda4aaafdc00c64fc8fb: (1.000554, 1)\n",
      "421d7a1ea722ee4b89c7f50680901d0ef79f2ff2d3ff1c175797ac701aad6462: (1.000554, 1)\n",
      "7734706ad074f95734b176f78369c952e55e3fca29454defda7ebe80c8ce2319: (1.000554, 1)\n",
      "d4a22c8d98ec8ea0fd6fc7413a071c87eeb03acbe97824bb29844e8cacb05155: (1.000554, 1)\n",
      "736427a28aa424caa5ea2ea3bd86f9052410ae30653e1cacda0e104c3bc54215: (1.000554, 1)\n",
      "c442c49f081ae53ca45af6f7757c7a0842c1648ef6e52bcca00542bd5931076a: (1.000554, 1)\n",
      "e268289b758fcb5383b731a48e7345be9b082130d967dbda41bc24d704200fd3: (1.000554, 1)\n",
      "17c83ff1fa2873167a1627bd5384ccd0a29db78aeff444867d3666ed73a52f7a: (1.000554, 1)\n",
      "7518b052364759f0665db8011ff302c2f1444e61728ad42a786558d6286af993: (1.000554, 1)\n",
      "94d30da87925506694bda963b0cb68e3041daa7aea365276e93b933ce9d9df27: (1.000554, 1)\n",
      "381f10b4bd96886c8e8e0fef87b1b2c6a34a84fe00529b81aa3c21af8a2b64ea: (1.000554, 1)\n",
      "503f604db4dbe082189665876e71c633abb60b2292607533f658c850c266e804: (1.000554, 1)\n",
      "09eb6efd4e8368f53719d520d9155d06b597df285ee71ee73cfcfe1639f8b653: (1.000554, 1)\n",
      "869dd49931acd482cfaddcfb8188cb7aade94569b1c65d2010a04918ec07c57b: (1.000554, 1)\n",
      "2d99d7c1d2a0433e8a314246e88591c337ae422065e3dc08084bee44cf3cee9d: (1.000554, 1)\n",
      "770b86e37771ae5fec06db6fc692fbc164cfdc9934026109234b631c12ae85f8: (1.000554, 1)\n",
      "c093e9b44f634e35825dac3642a4c2001a697050346890024804fe24d6b5654e: (1.000554, 1)\n",
      "349d44aeb41c797a31ca0372dd591e3208f3efa6d1ca21c77d0a099cb08df003: (1.000554, 1)\n",
      "4581cfe804dbaaca5e402f2e4edb6c91096aabc47f31ae9604b7cf937a05156b: (1.000554, 1)\n",
      "d54075a8cae4f7ddff7af0d89fab15080eb53d6b30d6815d3172d24cdf43a229: (1.000554, 1)\n",
      "9823526678d8a2811478eb8c084117cc9a71b788aafad2be69be2ed2a4802d28: (1.000554, 1)\n",
      "eb1052c3087acc27e17ad7f92c5d6f0aca5e979fb5e051d1a21e1999d04a137b: (1.000554, 1)\n",
      "da10e76a368196008cbd881bbb5428400b4a0932643fbd4c12b0d420be642d7a: (1.000554, 1)\n",
      "e35d4c7ebc3b1025897529880f09abe806e255483d6c51524ffc49e56b901b1e: (1.000554, 1)\n",
      "19565e2231e3550ffb132dbb40309e12eb199ca963ab530873b8de584fd6f936: (1.000554, 1)\n",
      "ae3905e02567176cbc21dca3a6411584dd737a1cf461d1bde23ae3c87703fa5f: (1.000554, 1)\n",
      "5cbc410615127ba58c4c73d600a3c1bd39110a6c978545cfe269971950bcf8e3: (1.000554, 1)\n",
      "cccaf50288e0bd431f6ed96cc21d11208adac70e51710e62fdc6ac2bd234bdb3: (1.000554, 1)\n",
      "9065e3352c8321ed1b89a8f334b32273c3a7eb6404d341961a6d4b665a60eabc: (1.000554, 1)\n",
      "74c0d76e32b55a89923e0d0d1478785da59a956079d95ca0351588230110f708: (1.000554, 1)\n",
      "72fe75e8412b05a5e02a8572fc4a557d517a3b021a131c688236b3fa7401b27e: (1.000554, 1)\n",
      "002270b72b599fa90ac155e1d9ee8e8a88fa0ea21d0dc23892d1e84393f33c3c: (1.000554, 1)\n",
      "2f2634b2fc61c7b87079a5fde37433b5239ddf25e952d478c9e6ff65d5f665b3: (1.000554, 1)\n",
      "2bb30b380ad5f482dffc589a07ddca04a1c9fd462efb48e82439c5da504d65b7: (1.000554, 1)\n",
      "d0b2f9c828a7c18f673fd6dafe88f0de0d3bda1f2923692e416474df98e2e6a7: (1.000554, 1)\n",
      "0c7d219564043dc9cc10d6588224ac235d2acfca41827161fabba81dd9f3fcb4: (1.000554, 1)\n",
      "f65734295e24804844d0a8827235aeba0c422f1d4be4c5d88d593ea15cf73d5f: (1.000554, 1)\n",
      "8a1ef3842fd7200144cd5d5b9aac5ea6b84fb8a8a02c5a2aa8fb1526fb2152f6: (1.000554, 1)\n",
      "1e472b62ae3d279094b5993f04556059ee678bcd6e69ef7bd4f349c66e767510: (1.000554, 1)\n",
      "ba49797a48b4cddf2874a2e2f182fa12f3f76737ac9107d61a490a8db6570e84: (1.000554, 1)\n",
      "2525c5a49af1938e78ebe8490552173728421c4aad2a64f97e68ec962b87a7ae: (1.000554, 1)\n",
      "e5838a6929cd405b74488249b895075575187083be1938df7493cf9d9c5c9de8: (1.000554, 1)\n",
      "d257a253e7d02bfdf40031ac14f8001b77c55668cfc198dcf453ba0282ebc2e0: (1.000554, 1)\n",
      "83b6a48decc252a1b2f7803ad31cbb5973e8195b2befd9e15835d16b83f0c4f8: (1.000554, 1)\n",
      "c797396a794928249c4dfb53a4a363be9291fd6c51d666b5ffd98d7707a92362: (1.000554, 1)\n",
      "1ff49626bbab9ba6b472c1a795af3df19bb19838160d26f366e943524effd862: (1.000554, 1)\n",
      "f27d43fe2b2f224c86eabe8151a476724f7c708c83a6f63e8e3f6c3936ed0253: (1.000554, 1)\n",
      "3e5271fd5d193ec9e6a0d706e3ac27cbde97781124d24700159f81d0a8defcd6: (1.000554, 1)\n",
      "12822f437252223817ceed13bdcc892704e1dd3ad4f374ad26abe0e77c2530b4: (1.000554, 1)\n",
      "f34d5a349f0a235384a6d9b9dbd081581fe1def18935a4747e3304983702443b: (1.000554, 1)\n",
      "19263769b77d8628afa4638b0d75b61dea66711625e6443bdacafb6f05778b78: (1.000554, 1)\n",
      "4230681959a8b0c956b79559b4bc4e40c625f237b1592051a49248e5c5b48eb6: (1.000554, 1)\n",
      "b6814f9a936ced958fc99b6d7474e31f2e809f1eef3b4d398d6886a8354067bd: (1.000554, 1)\n",
      "e61d6d289fc7f1589ce3c332327162c33cd1b47c8cda8bf20d1659712d562dad: (1.000554, 1)\n",
      "5bd84c44d881547a1730ef2851b83eb49ab2cccf029c4f8ea7e1a7dc00b1b7f1: (1.000554, 1)\n",
      "703936128bf7c7145584939f1f16a5b48e85ea86ab4b561ff7f4a579056c3c28: (1.000554, 1)\n",
      "3c7258e6c336a79fc16e7bfc184dc24d8e73023bcb3ebcc380f1685b8c27be27: (1.000554, 1)\n",
      "b26630a0e48fb56ac7a7a1ef4f934a46bdf931655a824019d5723b263f551361: (1.000554, 1)\n",
      "ddbfef737bb49d29eeccfdea11fa48ff86a38602bb7c7797a31e7dc3d13397b2: (1.000554, 1)\n",
      "041253b6dc64903901f28cc8c5dda62a0a36cba510547e80c8088dad502eec69: (1.000554, 1)\n",
      "bf77b2876df8197a964fb69d6965a7c845100b106d12fbe022116ab15c45ebe5: (1.000554, 1)\n",
      "fc6e1d368b69a6c510a8209e958f9848eeafc712e183c5dd9df982cfbddeb421: (1.000554, 1)\n",
      "49ba066dd217836febf18ab79a4903ac98768d2a1aa5c7db1a17c7655d7d75c0: (1.000554, 1)\n",
      "dea8e907a857889ee875d8ec4961268608879c129ca8c7c80d08e4b41964e3d8: (1.000554, 1)\n",
      "afd9ba6435c4f15f6c81dd73b72e79929a6b702bacdcd9dc00898daea0baf4a5: (1.000554, 1)\n",
      "3f9d9b47e440873c4710776a0f52005b1cfdc76504e19d7809a9f463fac5bf1f: (1.000554, 1)\n",
      "62ff83f9903422628c375ba537d22fa3732b75b924b43b4d8a4cd8b51276cbcd: (1.000554, 1)\n",
      "3ad1936f7d8867a9c7c447400c0db5f294fdf262f719af2bd5801dacb5424a67: (1.000554, 1)\n",
      "da1e648ac8ecb49b704701b848629c0580d670f716b47f989cf0aed1eab519d9: (1.000554, 1)\n",
      "8bd961ecb0c6d5a37007621ef8bb0ba58b9be9907452178ec6e574dffba35dd7: (1.000554, 1)\n",
      "a0fdc284581c4f8e4e9cea707add6a0f36d1cda74783c560652bf447fb51cdcc: (1.000554, 1)\n",
      "303fc038f629d45a7b5971c2fcd1c68ad0b1816e3e259cbc358b47769ae55f6f: (1.000554, 1)\n",
      "64826fa9c020724a6f99dedb3bee5540ddb6d1d9e93d4f2926efbf19d223522c: (1.000554, 1)\n",
      "5fc19d1df109f6ac6ca632dff84f5f28de6a8c346b165bf6a122295191f01189: (1.000554, 1)\n",
      "71f1289cc96adbd6999dd8b264f6584579dbee8b32d15ebe54a40333e544186f: (1.000554, 1)\n",
      "9afc7aebb0859d55d5ef88f79101daf8a28fe331e27a2c1ff88c5b3ac53d74e1: (1.000554, 1)\n",
      "15027bff43689a04fed30d2472f2ecfe323a77779ffb2ac3cdfb8403d47993cc: (1.000554, 1)\n",
      "9f9f3ccc67cec05cc741a0abe33f96be8ff9e911e224e18e4d1850d99b3132d7: (1.000554, 1)\n",
      "0ecc43e4534cc1ae3b814073e7b123500861027eb725a4bbdacea9c9f3fd4040: (1.000554, 1)\n",
      "09f3819be54c3aa3d8d03ef75aee0dd36b99792b82694453e2fef9dd7ab39f2a: (1.000554, 1)\n",
      "c61c93702b3e2decfdab2d8c9e14b519fbf644948d9ddc142ac04c3fc0d02eb7: (1.000554, 1)\n",
      "390e3c30ea2346151304eae523a7a379647ce859e345eb6e40d835bb079d61d9: (1.000554, 1)\n",
      "0f5738297671c13e48213f4906a056efa0d3084ee6b21402596c36062a0fb980: (1.000554, 1)\n",
      "8bd68ec1ea61167c98969a89113c05a811ed65664aecd92a65513f1dee50cc53: (1.000554, 1)\n",
      "3dd0880bd1967f81db4db579d91d63f80bc95b124107df33a9c7e712cabe204f: (1.000554, 1)\n",
      "8857fd7d36b4c8ad88fc8dc15d6ea504fa22c5a89c5cf4891317afe2ee0e8c04: (1.000554, 1)\n",
      "0f418b4626c1ab87c933bea55322f442aaa95c489bef54d01863acb727cc817a: (1.000554, 1)\n",
      "0b54894f04c87e739040b5b33218049c84226b758c410b4154e355364753f5b2: (1.000554, 1)\n",
      "bd6c760b57ab1f290c4efebebc648dd500383fa7c928bc65dac15ca5625bf535: (1.000554, 1)\n",
      "502138fe735210bbe0e75fd7ef077c68d3c3604da94a28979256724b60fa9d67: (1.000554, 1)\n",
      "0589fd17c05af163899a61f81f15e6af9217f6e7d3c1bd0ee64cdce7e58778eb: (1.000554, 1)\n",
      "8c7f6cd4fda66d97d43188de2d604b8535295eb1a15d1f03e4d5035867effb44: (1.000554, 1)\n",
      "690bc182ee87f40ca6a3ef56fe7ce6c9750de8f4618cc83e1f1cebf80a0d8899: (1.000554, 1)\n",
      "17aa4201fdd502478d22b6617f3e5e4e09795280e4cca18e9274ed2b186aa475: (1.000554, 1)\n",
      "44ea21f20a15ceda0174df51f63f9727af48cf9dbad38ab80352c5ff9ce4654c: (1.000554, 1)\n",
      "4d255b7036f80d1855d52d8f6ffdea13062146031ff947d6169fa03eb3b7d71a: (1.000554, 1)\n",
      "df56f8b41a4e0114dfcb9cfe99b400eb27239a214940ce24abdeb86a21d40601: (1.000554, 1)\n",
      "cce7c4141ac1d248f2e73141cff685179f36a52abc39c74d67adf5e50a8a69b2: (1.000554, 1)\n",
      "0bd3f729118d5bb2755ef1226239a647b4e5244ecc12a4043047419c4d841ca8: (1.000554, 1)\n",
      "5979fead5f1dd69b49a950079e40dbb0a36352476c7b88c2b0ef0bd0610ed71f: (1.000554, 1)\n",
      "b2fcbf192dafdcdef185e6e771118f2a02f965b9cfbe0835257c01a448936f89: (1.000554, 1)\n",
      "8ad06fed7f7921b911ae9ff92c64e220bf38113cdc4c08301410646632eb3ecc: (1.000554, 1)\n",
      "81e26bda5f075f4fa21f164bd85fea06a7d4ac513a422794260419efff1e8a22: (1.000554, 1)\n",
      "4f315b8e5ab943c527a9566f73a7500fa98f5901bc0860c105be827b3d5ea135: (1.000554, 1)\n",
      "6834004636bb539d5a017fbcc055b5dec6d7bf11e61a541d3f15f547ef8a45c6: (1.000554, 1)\n",
      "ed37072ff22eb52669b6d1101a7ff75d8f3a923a5d65df182646af61f29ac52d: (1.000554, 1)\n",
      "ad87896728fab8fe8ebaa0b0dd21ebb7d271e282a927cab906d45ee737a2987d: (1.000554, 1)\n",
      "b6079731c4be860a987bc56e0073b307c584e8398753c6e501d789fe063c2cb8: (1.000554, 1)\n",
      "689f4eda82fdf3d9bfe8e524bbd0d931c4d7690f2234d3e48779f924aaf4103d: (1.000554, 1)\n",
      "86c9a826669ec68b44347a3020dd2f7fe0728f29f54d024c235ddc4537f758c1: (1.000554, 1)\n",
      "901a7813bc2ffa9c1df1ff5de72d11d5c47addd2a302332ffbd7601baa7be705: (1.000554, 1)\n",
      "64934c779585281332e4c27d1fa9595f40adc9f9d5f963105bf30ebfa59e3073: (1.000554, 1)\n",
      "c537f70e61eef5afb6cad1efb61541d0cae07fd1f71f0fac1187e62227bee2fb: (1.000554, 1)\n",
      "f3cfc47e076fa4454e6ae3bbfe918411ebf3baef7d59477e8bd5820329785e74: (1.000554, 1)\n",
      "1b14682d51b0614992617204d040fe746aec943684e46b5ba8b83b36b4c77649: (1.000554, 1)\n",
      "04812d9e330092bc7bfa6860a6542f32417d5c2c92936db59c413971532e9651: (1.000554, 1)\n",
      "f5f1a715e3a9059ada718c4331654aa9b3aafdeedf6173e48b69c1d70534cf7e: (1.000554, 1)\n",
      "a0b2e3b521e0d386d362a8f9ea0bb53f432426f5c6fc2a2ee49258e5123dd543: (1.000554, 1)\n",
      "cec4bb30028e808122e60712c12162449e2316bf7db82481d760946b6e8fdd05: (1.000554, 1)\n",
      "5b7de15f9fb4814df3c4d761a54d81e671713f2be33e24f8fc3f7154faf12cad: (1.000554, 1)\n",
      "329b46a5dd328cd057c763de43541525b686d71965a1a3792d89cab1ca2734ba: (1.000554, 1)\n",
      "dd90338ce04e532fb2b7fd3149652472bac687cbe202d1363933d7f98330016e: (1.000554, 1)\n",
      "d57f1a2dc29ff183f32750d61b2278e68b0c238add09ca5735ae71485fcde86e: (1.000554, 1)\n",
      "2e5a6ed4e87de945ac3f01cb46333ff2f951585ae8b1acba876d5ed623d164ee: (1.000554, 1)\n",
      "3e88e36bf0721277dcbc556ddc28289ac250189e05b5bd57cec8cf7a7987e376: (1.000554, 1)\n",
      "946a5823fa041ea2c7510d8678b717d95d179779dbcda9e2782805e1fe229ce6: (1.000554, 1)\n",
      "701078b0694b6d4bdec1640b8bb92b9416fa823cdf85cca26377aee5e8ce89ed: (1.000554, 1)\n",
      "a75cfdac4f608886395375b1dff1e1700fb7333daad410ec46899025bdfc1f2b: (1.000554, 1)\n",
      "9581b0ecc7ac870e6e9c8e62d2e722354a590af0aa2d67a4af9ad55f9a5b5e49: (1.000554, 1)\n",
      "6897e7eb9b7a63a6853f62f30926516d54814dc0e7d20be4fd5daf9ea41ab177: (1.000554, 1)\n",
      "d718ee80b11d362c5acc2366e70f0254a1192e3f6d920bcb6b1acd23dd979cd3: (1.000554, 1)\n",
      "b96dbb83ee4d0cbe55bd25b4901eca452b1fb09f9b7c30a763d13e5ccf2be075: (1.000554, 1)\n",
      "a43d2fc99e081915fb2a74ed91936c7be8f18db0e4fbd9e088130d101cfc3be8: (1.000554, 1)\n",
      "a6d034cf88d8ff57a4d6ae289a288b949301bad935c10b100a33503172e3b78c: (1.000554, 1)\n",
      "2b5d8eddeab56e960d0705ced666be8989b741db1bede9e810067443c5b0d587: (1.000554, 1)\n",
      "a5942d39f445f8791909506b68f3967eaaf0e1118b6e061d279872c86c050e59: (1.000554, 1)\n",
      "94ec8fabff88085bfb5e6fd909b4929bea006b2e46f334b55705a4931fcb16b1: (1.000554, 1)\n",
      "c8d6b3f6023559a0a11a657f6ddf2dada42769c21799a0f11e9fa892cdf99496: (1.000554, 1)\n",
      "7fc7daa428ce2bdd01857fa469d716d5ad070a6f591e2c8a45e36c404cded39f: (1.000554, 1)\n",
      "8af96487df4e7cb53f9a18146956bd45ab9d5c70638e7c78080bb82a1728168b: (1.000554, 1)\n",
      "c56d4fb24efd583e43d72cb0e61a1b81474293e436ea7c53a0a3341b32fda3a0: (1.000554, 1)\n",
      "a9a1bab581d18bea6ce92f8f6d5aa5c94bdcda300fac8665e4604d727e1d082f: (1.000554, 1)\n",
      "f654533e5fbca83aae901b21d5e4dcbd16b54452f047490cc4981904b6dc2a25: (1.000554, 1)\n",
      "ac9df93cdb54e8deca1bec9997fc3732cbc7037a569f6a8b7ac28dacce79d0a4: (1.000554, 1)\n",
      "09e4ec17a64aa6ca2509306612d20942b69440814e01a68e1d93338f0b7985eb: (1.000554, 1)\n",
      "5f20c3d32b81f623c796f42fdbc7f15aab2ac8d05a4b2016fcf6e98ce04135f2: (1.000554, 1)\n",
      "486ddb5bcd4d4330528351f0b621693ec774cc366c3b26e4f7a0bddb78287dc2: (1.000554, 1)\n",
      "877da8c8a699ebbdd1150756ba92ee26d073944aa3b21ab6ba6d7a1e6656445c: (1.000554, 1)\n",
      "8f0c2a2914566baf7ddc7fe32f74bfb3b93d1a5bd5d3753f05f80aa4684453d4: (1.000554, 1)\n",
      "799e04d264648dd4eb02ff90c4c1019119b032a473f3210614203c47a0de14d6: (1.000554, 1)\n",
      "01343722529be320bc0955acc1b7c40322e5f801c6b8e035070037ed3e64d779: (1.000554, 1)\n",
      "eb3bc08d3045a7fd0c140e3c0e5ff01fb768649681649b3f807fb62c129f6133: (1.000554, 1)\n",
      "cf6bfac5115b3365474a04ac054f69f6e74ac6df884819e1a3c2f59f4301f052: (1.000554, 1)\n",
      "80626e670eecd0df96fe472bbbeb98a3a33d260e4425df9196c9315553afc7be: (1.000554, 1)\n",
      "7a11ad1c9166e4fb651ced8f32b204382e409f8bc8833bedadbb3f97979ddca7: (1.000554, 1)\n",
      "73047c331b49cbb01381ef3b9f281439677f55099d31766bcea6388b5101a3fc: (1.000554, 1)\n",
      "ebc983dd6ab3985fefb6f354ce774c94cf39920bd1017d581caf312600a43034: (1.000554, 1)\n",
      "bc18a1295b7af4f32683f52560e6f7109076319a68c23f30dbf58f454d7348eb: (1.000554, 1)\n",
      "a053c1bb8171cd65d03e745281e4b7e6f5f650b157420a699abca99256e2f4ff: (1.000554, 1)\n",
      "8fa4d4cc352cef567d8c00197a7665b48e8d76f58bf18d6644a74b68aff32ea4: (1.000554, 1)\n",
      "790a8926696da673c4891626fc456135b50e04ff8061fb2353344ef92922b922: (1.000554, 1)\n",
      "3c3946859c5261b0da924be9d54220d282a5f91f15212609276157aa9c15ed2c: (1.000554, 1)\n",
      "f0d924ae4f3619041e3e893774dfe2f2e84846ec640962656e0daa381bc8f8f5: (1.000554, 1)\n",
      "9ea4d89816ab6a8263c2900fd59a6f24b3b8be88afad6d3c6bc9f8495a69f408: (1.000554, 1)\n",
      "6efe55be9e722be0bd31495010f466a89eed5a5f140dd4cedcc4da5db3e58009: (1.000554, 1)\n",
      "e39d1409218c3b19c4278d65f43021d24274254979315cf6393d5fb35ad2bcfa: (1.000554, 1)\n",
      "78c2cec1500e0373918d81a39804cb2da99e0492afa89435607524e88163ddd0: (1.000554, 1)\n",
      "0733850094333610c88db99e561ddb934a6fe1d97ddb2685959437a7d55e044a: (1.000554, 1)\n",
      "b962f3b356001faa5dc15bd8144f953f80ec6917625d63cb872e70a12b65a4b5: (1.000554, 1)\n",
      "95dd67ea36b8603b69c21c50873f69588290af59d3b42adaea6a50a8848733dc: (1.000554, 1)\n",
      "9197475a2a69a086b1357793e80fc38bebb73e8630db06b23eae567933a93acf: (1.000554, 1)\n",
      "c426edd242743f9d515caf26fae06e2244dbd44978c10a9a9ce7672c5054db40: (1.000554, 1)\n",
      "93bd05472fa5b869872cabcdff83a809aaf15fd7c8a79cbdc7a14d3f96dfd0b8: (1.000554, 1)\n",
      "b8708cda1d92d1b8b81f7a2b82b0c8161a033d07762c2243ef4c4b078f795a9d: (1.000554, 1)\n",
      "423e74f52e4d4b8388d1239730fdbe6a288f3c413763e8810cde8cb27f6db2a7: (1.000554, 1)\n",
      "81cff9412c51b78730d1cfbbe1af654fb6ac6c8b9845a3cc08164edcc7418f4d: (1.000554, 1)\n",
      "87b86605b5e40a284339978e4527379091426b3e08dc8f7195033b916e3d8d81: (1.000554, 1)\n",
      "cb3b880137d02a2833146fd8fef80c1cb3fe566636c065ffbab03ed904154ce6: (1.000554, 1)\n",
      "22fdf05253712dd36d08ca9d67c331fa7581442e1afb839524f9e7a8ebbcdf61: (1.000554, 1)\n",
      "2c2d2a124f304d3c1fa2d2c9e0aef565ff0fa393c3a2c445904089402ca87e55: (1.000554, 1)\n",
      "c8fb6209d139d1388e95edfa0d9a97d97c98d61d7fbe138f4958a6ee5b4ae4cb: (1.000554, 1)\n",
      "4b3abecf36db7fb90bd74d62440e92e83eed27b369a86f303f055ed0ae43ef8e: (1.000554, 1)\n",
      "9675e3f4d6b324a2b0cdd0b8c26d1f0205195fd4e92380924b2097134c743a5a: (1.000554, 1)\n",
      "ca9b24dd9d0f0865adece7334449ef4db6cdf94ca1d816659b17b1c6c2f1356e: (1.000554, 1)\n",
      "a147b57d0c94edb558eb64d76795671e477f224a306b7941c3cef8a142c8694d: (1.000554, 1)\n",
      "5e4cee0f523e676903a8827b042004636690e2fc553b34f8e8909e9513706a82: (1.000554, 1)\n",
      "3b147402fdf4206755f8314c2d1ad973af421023a9285a7b538a4c5896da9348: (1.000554, 1)\n",
      "7fbb64831422b7430fda9a59b7e104bbda41f8fb9062dd59aa167ff67e6012d5: (1.000554, 1)\n",
      "505dede3d35853d66a664740a1d113c11e0127bc4fe891e7c50f4b70167020d5: (1.000554, 1)\n",
      "f95d2d15bb34deb24dca477abf9cc4aa8bda67fb6fa1be4f5c0669c83f588df7: (1.000554, 1)\n",
      "6f4b2c23c531154674a731de6a90d0427cdde4674eff83ee97371f9fb2da6cf4: (1.000554, 1)\n",
      "25e8ed73254a3cf5ad5834be747f3dca60bee6bc3c9cd5ef3d2746691d886ddf: (1.000554, 1)\n",
      "28fb77519ff89af96f4b6eb937350a321f8ebad8b85fec3139af5f650508079e: (1.000554, 1)\n",
      "555382596c7071bb4b02d71de30982710fc8d2eb6fec8ce4b24f34a2fa34d1d2: (1.000554, 1)\n",
      "587d8e984bd1fe96b2cf6598b4cb6a6d51dd630cfccad22f97da440d12852c4c: (1.000554, 1)\n",
      "0094020de477e704a51e1a46c40a50032b60b77f179605489ff2f188562a0d5d: (1.000554, 1)\n",
      "745e26af680956cd6e548bcdbb91f4ac4c251267c7853f3d04553db5fd30fb61: (1.000554, 1)\n",
      "6cc121e5cc202d2bf344ffe795002bdbf87178054bcda2e57161f0ef810a4b55: (1.000554, 1)\n",
      "2059ed143b796be969034224f167d60a783af1a288dcadfc8e099199c0a4a23f: (1.000554, 1)\n",
      "d8c8d7d9c3dbd96ea2824b58062ca53b037ae3637f6c6859536ea5b08ea1b597: (1.000554, 1)\n",
      "0fd051ec85558968d28cb929ac49957869110ee915e6dc3e0a8ff9d9779bbe86: (1.000554, 1)\n",
      "2917df7ee80c158ede7eaa4d3bc5f521e39b2967778e5e3191f38fbca6fd4c5a: (1.000554, 1)\n",
      "f6c2660dc433de6d9ad87544d25c2bd19909520ae51783426580f49157623f4b: (1.000554, 1)\n",
      "5767aa3105e25710f893aea2b0a9a38cda7bafd0f119f45d1f977ce6e911aaf7: (1.000554, 1)\n",
      "2eec8915078effabd2435007aee10e9bf5f8cc5be047e6d2e3cdea8c7a75285e: (1.000554, 1)\n",
      "9e1fcd339eb518031c69d1862610ec40c5a77335c17f96050c6af47ee8def6b6: (1.000554, 1)\n",
      "3a2a16c2b30e80957165a5be16706b0aded3ea29ede4a9ab5dd1471762092282: (1.000554, 1)\n",
      "bf45a52aee6ee2355f77387b5e0aa8ceda2d8f560c27d0ec6e3ca39b8ac571bb: (1.000554, 1)\n",
      "c5f5d026b482388713deca0fe8a65ea78ee4bc7bb3ea8a742426da33b53f6c06: (1.000554, 1)\n",
      "fd51a5cdf9ba5ef3c098e1aed5bdb6e0e27f3c0373de16cec088b871ea20fc8c: (1.000554, 1)\n",
      "d38c105623d58031aa02ee78e7b8e5490afd10d4eb52d0e530568b1b994838eb: (1.000554, 1)\n",
      "9d5889dba7857b1f6f2449c7685528a96bc3323ce0028c1c18debfa960410fda: (1.000554, 1)\n",
      "7c5202566acc91b40cd316f3f1d515868e31ecb6c0dfd81b0877c3a9466ead74: (1.000554, 1)\n",
      "c971e06418f0f90e32bbf5fc7deeb5e2c0f796e65d35a62c52e2a308e44ae5b5: (1.000554, 1)\n",
      "4b988900c6b379e0b96010ae284e8d82b3b64bd2aa7494360485d6ec6d691560: (1.000554, 1)\n",
      "75c4a41687c219179fc8198c24d91c490d13ba990250baf7562c4a2b729995cc: (1.000554, 1)\n",
      "2cbd7266909740a611b72589482f7f2740547e7d0979d9fd38f6a44483b2b0dc: (1.000554, 1)\n",
      "04777bb72a19ef88c82084065b295469ec4a633c50f4086b87b380c20c12fe9b: (1.000554, 1)\n",
      "9163dff5e6d5df82aa19f47ae477130c49daebdbb44b3356d3c5ba7b3188f2c2: (1.000554, 1)\n",
      "564794f0f45733b66d47dd3a968e522e5020ad2b4cda761c358b533edafbc0ad: (1.000554, 1)\n",
      "112a1b8c2f913d27d6610f83d8b2a4f3b7200383577a99497e521224943cf7af: (1.000554, 1)\n",
      "751653e89071e0554de8f5e814bbbd10d439f7e33a7eddd15c9c25cac1a4d224: (1.000554, 1)\n",
      "dbd45a2bd7da1a368a4aad98fcf3ce9e8214a4a52761bc28dcdceae69c373954: (1.000554, 1)\n",
      "c2e50805537b4cfcc6ac138cb22eec7684757e4f683ef1a3b0934d95800a0f55: (1.000554, 1)\n",
      "4a95b1832d6d951afa64d48d1b38cbf21bd1ce7af7ce6107e21b6734871b628c: (1.000554, 1)\n",
      "c7d9b9bb28d19007db73567ecbab8ea38793396a0c79e36222df93e0a2168a6f: (1.000554, 1)\n",
      "f41da534a764b2677459d5994fbdb1151789764aa6ef4da80e59d3c8593461fe: (1.000554, 1)\n",
      "f8bb050e5be34e796277ecfaface4f63c966bdcc997c8a4ec4a12a5f99bdfc62: (1.000554, 1)\n",
      "c6133e915b6de527f6d3e836254ec7d38df00aa23d2a8f2a06e03134a6be5d47: (1.000554, 1)\n",
      "91743a42f68108f31ee0863f2363dd8f15a47dde8eb38288330514ba26a97197: (1.000554, 1)\n",
      "b6d3c264f877223cb34d5d2792bc020843d9217c3e4741ba85f9c5aeceda252c: (1.000554, 1)\n",
      "650dece1ee6a1a7f27f929ad4a63d632b163cc6b2ba14bf131bb2fa9c50de279: (1.000554, 1)\n",
      "c43632080a34f15bc20d1e0ddcebf68da908df2568a623a66234973f1c20f6fe: (1.000554, 1)\n",
      "f5d38aea3134831667f9ba03b7f3aac7330b0d036202054e03272dfeb0ffd427: (1.000554, 1)\n",
      "59dc4de309c25a21848e09b9256d6e710fe3facc952a599893d5501191d37739: (1.000554, 1)\n",
      "7cc7caaa10e6d326f2a60df0c8a64e7af4c7ab2dc7baaef8ae2906fb6409b9a5: (1.000554, 1)\n",
      "1fe68fb4b1594fdbb33ad9f32155c0f0ea29d7b8952f84893bd0e0d0e34d845f: (1.000554, 1)\n",
      "0f7fe5feb750b2ecea11c9283ec52f6e63eaba6b53fe73b1cdb4ef259cb975f4: (1.000554, 1)\n",
      "498e510c3fb3cecf3b73b9c504898dacd3e570ed037e82ad0d5b3a0b0c5c1004: (1.000554, 1)\n",
      "e86cbd36564915abeea13e5a088e5273edc2af704f4ad3f8a52a50511289262e: (1.000554, 1)\n",
      "4a49efdcb025ac692448e7fb8e6b6a109a93b057735f8da6bb8e9cd31582b9fa: (1.000554, 1)\n",
      "5825fe149099c9ae9f8493b6c72561403ec7f263656ed0886cc293794c64391b: (1.000554, 1)\n",
      "a3f71d6b47ab10776af62f614f07c7643827360395a9d341abf7b51849966b02: (1.000554, 1)\n",
      "f751ab8520bf6be89da51243809672a82bf67a8960c627333b4fb879b88beddb: (1.000554, 1)\n",
      "a64e205791c930645ed1cda5b575049d883c3977e9076e4e9bc715a574103e3e: (1.000554, 1)\n",
      "30d0e7d6e76200fa5b6e79a667e3db6e47fa7829eb10075ccade7e2719235353: (1.000554, 1)\n",
      "a063e792546a778655f5d1d72eb97e9614627c2d0b9eab4680ce06f8152829f2: (1.000554, 1)\n",
      "cd62a3766d268a97a343f2ce4efb241575bf1b7ccee76f700025dc0da9c8d3b1: (1.000554, 1)\n",
      "8f96651c4b8d22a4baefd1c4bf63e1b32ed2c1235287ca0493f6d1eef216f059: (1.000554, 1)\n",
      "0ec44b1c44fede4a69add706d8992218ad6e79b834b41c7895441f962730d575: (1.000554, 1)\n",
      "038bec89e064cb01eced6c3141487cf8182c8447f740a571baec14196dd6dc91: (1.000554, 1)\n",
      "422459882b358fac01bd5fedcf0355a33c145758b3851a074f1052e6c157e623: (1.000554, 1)\n",
      "7d80c02d91ba18e067c397254656eb6546cdf4f7da2a0d9a78c9003f23934683: (1.000554, 1)\n",
      "81a77b8a9c9d932a7486b09bb5670bd59d9329964325a102b2ad9cea5d55be8b: (1.000554, 1)\n",
      "bb1f37d78b09f89ca8e49beae2801a926c5bd4b7c91bc392c65c730219377fe7: (1.000554, 1)\n",
      "3b4a9962d2b7e286d546c6ce1af29a563bad1ba09ff3be689c2432a082d7684c: (1.000554, 1)\n",
      "0f3147445e340ef1e59317eb02c0f86e8fb866daf8a7b5072e29176ae1985e65: (1.000554, 1)\n",
      "98ee3c7949e3bfde4f823a9f87ebb3bf99dd4fb7e19bb6201d47aaea7983a404: (1.000554, 1)\n",
      "36cbd1ed86a194670914829dd4d261833b5ee5a3f9fd0f0de10b085725ab9d21: (1.000554, 1)\n",
      "8b1371e9876c34e44d3735518a3db404e5bf0d87a653231874b5e54e2cc17eaf: (1.000554, 1)\n",
      "308420eee75bfd39180cff012e459939042b9073306dccd23f01ec7f57233db5: (1.000554, 1)\n",
      "dd0f3ae3a8991625530ad4e0bf43c27711ab6d415f19ea2fccd0604fc5e585f2: (1.000554, 1)\n",
      "defc756e4ef643dcc3651ec4f976ac661904d44352fe52692566f154d8a75f3f: (1.000554, 1)\n",
      "2c28790861bfd78449be54b0410c3fdb76b9fe34508b1ad92ef4a91073233c09: (1.000554, 1)\n",
      "3268ae678304945777c2c89e06bb47692a2a108b006f97a9a9be4a06ce2602f4: (1.000554, 1)\n",
      "9e57180112a0022953dc65b67d1add5bf81e75a149c8b2ed28c877c8aec21c69: (1.000554, 1)\n",
      "a8b9b5c54f658309a6b414919d8b07188e81c4518da4502b2f7d49d90ff39262: (1.000554, 1)\n",
      "512c68b3f7720b15d3c8dc769553684e574608ec291133a7842374738ce0ab60: (1.000554, 1)\n",
      "2dca93405ac59599420fe25f9a6b26805196b3ea7e60416172f3ea546c155354: (1.000554, 1)\n",
      "033a902eae074ab0fde951f2a9d7034efb1baeb9b6b11559a9a984698cdd8ccb: (1.000554, 1)\n",
      "a3d18526e77de1c38c23b1b211b26a75076988565d2a9b4d8b97acc1a677d671: (1.000554, 1)\n",
      "dd22aaf40e82fa4fc9b531d8ff0d15c8e94f8fba01a8953fd5053316257763da: (1.000554, 1)\n",
      "4ebf5a268814a6d143da63b8237267ddde0ecfaad541cc67ab2709c5030e2d12: (1.000554, 1)\n",
      "7e95b5ed669e5f8f867fe9da3de944a9301b42b7318487823024723fcaed78a4: (1.000554, 1)\n",
      "8527a5e07c02050cc4ab7f9345d2decd715b4dccb58ffc0a050e8092adea72c5: (1.000554, 1)\n",
      "de08280f35cdf450869496ab872fb26a48a523d02d62e8e747474e3fdfc51ace: (1.000554, 1)\n",
      "e2dde79d9e7ee8c0f66aab0c394d6572df4a08a1967a8c68e367c791ddef2726: (1.000554, 1)\n",
      "3d2060bb1c49ffb24eb6883e0ed2bb7d229a2db54512ba2f7727daeeddc0133f: (1.000554, 1)\n",
      "cbb8e7f92eaea8a3c853fd91c79c638e290824aa31227afea6efbc429205dde2: (1.000554, 1)\n",
      "0d72d66577bd65c6b10ce58126aa8266cdeeaf7e8ccee99f3f584671ca304e04: (1.000554, 1)\n",
      "8fcacf30f9e69fca0eab3133eb315ceaeb50cac635920518cc7e46398ae40f5f: (1.000554, 1)\n",
      "210fa6f0a78734b933d9c1069ea105350f1d110b557621414eb152a5d38428a7: (1.000554, 1)\n",
      "65215bbfd1f30b7230dde71619aa93f9ed6bd8f8f54681300c06d791587189ae: (1.000554, 1)\n",
      "fbb5e00d0caf3ca69a38e60fcf4f0fc6a981f84c1a8c2469e1c4b700498c572c: (1.000554, 1)\n",
      "27c9aafc3c02376711e72831d739ce9998eff3ba820aa29781271259346302e8: (1.000554, 1)\n",
      "54c05e2e5aef05a5ab065f9f0a9e9c24cc9deaadaba4d4b2d4232244468f8b89: (1.000554, 1)\n",
      "d1ad5a5e7a6e27feae606c2c65f5953d896c2864b99e4f564034f89e3d6181e3: (1.000554, 1)\n",
      "b733d0a43f558c1c6fb987f1cbc5689fc4b66774151e50c73ffc4c778ffa8391: (1.000554, 1)\n",
      "2d9e2e9b52726a0b6a98e918051921de1c89c4c32ace0e4d2bbd247595a94148: (1.000554, 1)\n",
      "325ac7ce214da3ce7948b2302b170015160ecdaee89294ed3ee2e84e09773062: (1.000554, 1)\n",
      "ed07174a5d51afc91c6bda342606ef9f756a7c155a388ed7039ac8c0b5334512: (1.000554, 1)\n",
      "e355f883620703823c10fb2c5ce5ddad510a286a793d5bcc35cca26e34e26f4d: (1.000554, 1)\n",
      "76b28c38954142f268a8dd3bea61880f23cbed9ddbd87276eed2586327fa7f97: (1.000554, 1)\n",
      "cbf14c3555eee580c812058f15e5f34cb449c76b3b8d16d547d7dd80c476c138: (1.000554, 1)\n",
      "8d0003284d56fbfc67e0946545c31e13ee1fd118f6ddd19d1cc629fa68f45ef1: (1.000554, 1)\n",
      "19df8a44aad793fd52a7f18e7a59ea29d6936b1a0d81c32d236e6324680feb99: (1.000554, 1)\n",
      "41c636985958e855403bbd151cfc0d33a9f294a29c3d48dea5ef6ae58bb9aaaa: (1.000554, 1)\n",
      "1a66ea126a5e5fcc88c94fdb25853f596e650d5f7215d5bcd86097d41ff566f6: (1.000554, 1)\n",
      "6c8cf2f069a6067bcdb6fef1318d03a96b4932a5b02ba6cfe40402d8a9eefd2f: (1.000554, 1)\n",
      "61e64ff6d31c2526aff1b0aafb174ecc346ed19a99e28c83d253f576089c57bd: (1.000554, 1)\n",
      "21c338499931af5ff61e230cacea0a57a6eb7cbe5c9c65e0f7135c6c68fab1d3: (1.000554, 1)\n",
      "3ad4cd65b363d6a4b0e0851c76ca51c2e258800a20a5832605eb06e405f475f2: (1.000554, 1)\n",
      "8b8715c02e55f3c0855709685f9ad9472a64a0937278edfd9dba2754643939aa: (1.000554, 1)\n",
      "598d759ccad3437eb01ae24d1baf9c863ec5ad2780a413943943032874be8f63: (1.000554, 1)\n",
      "b03c1385b4519539d67b00a15488fa86e80b1dff36d2a01323b1c7d882b40a02: (1.000554, 1)\n",
      "50f4f1f87f938d882a89ebb636da5532f898bb371b7b89a7f2c707f3cfa33609: (1.000554, 1)\n",
      "d10bf4fa51df2f4669e0d50e9f87b061b072207653c6400f930920ff971f0b67: (1.000554, 1)\n",
      "5f0bd7bd0ad8f11a3dc514b65b55fd8e25e8d09ff0c5b623dae0bc0a87b6e6de: (1.000554, 1)\n",
      "b9868fbee0571dcedc0bf91799b4773a089bff6498f0eb6aac903082d27ec83d: (1.000554, 1)\n",
      "60017a15d6bfac69033cdc0341388f3e6661d489bad4651102216755262988dc: (1.000554, 1)\n",
      "c35ace71bf1fdb797a96ba3d1f8013d71e17211bb93f2b7b33b2fe3aa91cbd0a: (1.000554, 1)\n",
      "7c818cc3cd8d14f3b6e211f44cca98dcc7bb088f1aaafaa91ef44744e42d017d: (1.000554, 1)\n",
      "2aa69b43cfe91f292a22db44ae6ec0d8da55c59767c4d40f5d9d94622e8ad5b5: (1.000554, 1)\n",
      "b6eb54bb3a9feb007caa66bb80dda02a6ecebbaef177920c692d2193027719fb: (1.000554, 1)\n",
      "34add7189bad3fc729982cc8b1f180e65d0f4a677d57bce68e3557f619227aca: (1.000554, 1)\n",
      "17b30af6cf1961bf8afee1470f82f88f408cc65d8518d2043be99e0e8aa2ea01: (1.000554, 1)\n",
      "e51b2bd950d1ea34d32c7b55d6bef1ca19c49c0fbf2e7bf6ab973c2c1e514f6c: (1.000554, 1)\n",
      "fe6e25e1f68b682b1997830d9efe313c95f5857088014b274de2b0dbe81adff3: (1.000554, 1)\n",
      "26f0109880e2398aaea3a807f4751d21e1d822ff13d4e429a5105caa6c434dbd: (1.000554, 1)\n",
      "bd92ecdeae71057aac67272bbe4c358bbb39a0d026f0359b07621b3f2071f926: (1.000554, 1)\n",
      "904d7b34580a4c332d212a7e9366319aa08f41f52765565ea4482ca128c6e20b: (1.000554, 1)\n",
      "2722e713922d9fd932a2da85c9596eb9058da42a7b0915adf31f47f4d9c8f165: (1.000554, 1)\n",
      "86ccb6d7629179489b213ce4f5ae625e6c75108d0274a4d05767def99f376fc7: (1.000554, 1)\n",
      "1c2b7fc3c6404712f487741f54f08fe91c28b2759522aefa0f6bf833e1818067: (1.000554, 1)\n",
      "0721613429a166c04f561de4b5e057b759c687b1de504407952dfdb651e3f992: (1.000554, 1)\n",
      "b618a5b0f11c73ddf0d9a3ee8d7cf4e8aec080a498f95f73dd52497cc36bb48e: (1.000554, 1)\n",
      "57ecb215c29d6d4625c2ace3495ea1a042ac6630ebd780bf7ca19aef14008e39: (1.000554, 1)\n",
      "81a0b0a8b821a642462a3f9123aca8ea2fc498a179e19adc47536d1bec52975c: (1.000554, 1)\n",
      "5707379c6c0cc0451277665a02085975ebd622a2e3de8a4993f1c09ec9b2da9d: (1.000554, 1)\n",
      "27b2fbc29455e73e5f22ce7758c7745b424c050a7af2ff807fee99f8cc97563e: (1.000554, 1)\n",
      "71f0cc8d9a44483d19102483db54e93605ada582cd2238e5c94928296ec55456: (1.000554, 1)\n",
      "0a02000b37715e176dceb987f8a191b0c8fd0b6eef361e18aa196360e04db886: (1.000554, 1)\n",
      "c7eb6b42c2be5a9371e018d746e2c83bdc1885c7753e8d96c7e1cfef101b2d2a: (1.000554, 1)\n",
      "4b5c01037b1d6caa7469395b73836052fd89653692ddd479c903e7a8c17b8919: (1.000554, 1)\n",
      "1e94aaab02eaba3a7cfcce5966df5a6301b2330cefc2bf64c804cdc692a3cd1d: (1.000554, 1)\n",
      "98d25e16dda8b01028f4bb0042a7f6888338eb9fb17e1d40277d57d2c6a1bda1: (1.000554, 1)\n",
      "da473753c8637c944934ebeac0220983973b2a9559a5f015c3e2b6ce7d003dd5: (1.000554, 1)\n",
      "a9e0e481e98c592d2632bc4bf561fa6ed2a75cb3ede8f9bb2b4619e9400d2bc2: (1.000554, 1)\n",
      "45513492216ae6159670f860453ef3cb97f97f1fd0a8b5227e79a521bbd09ed5: (1.000554, 1)\n",
      "26c0885a6578355dcf3f3b3279518144cd06b87d0b673d37bc94fbe281dbff41: (1.000554, 1)\n",
      "e38ae5bc0afd75f7ac5920ff5ea53597e52b0fbb3f7fbbab8653671f48c61daa: (1.000554, 1)\n",
      "d53b055fb055783d4f44069a576a0ef1ecb529820460f14c17f974250b103917: (1.000554, 1)\n",
      "22eb1d680a8f1cb46d49bd4b0cdc6600ae33dd5579263d14b973aba003179164: (1.000554, 1)\n",
      "a74900b29b2f33753944556362cafb667505c5ee758152b234818a7d4f3c25d2: (1.000554, 1)\n",
      "4a505574480b5a7d3d8da425c3240e68563fdfb3097aea4a7645f391f52b709b: (1.000554, 1)\n",
      "e7acf73782996a354454b29db584db2cee855d670351eb5abd820d6a9b869141: (1.000554, 1)\n",
      "3a805af9dce806d4f0345bfb1a19243b0fae61de4a38a75f25180a8ef0fbf2d1: (1.000554, 1)\n",
      "9ec0c107d9265d15515de0fc6e9fb8cccdf51fd7a5341d505c7d999ea4d7375f: (1.000554, 1)\n",
      "3ae2a088c025cbee0b940c57b8b9c261396a362b6440a43577d08378e6625f92: (1.000554, 1)\n",
      "b3b7cb65687069335601c2986762251d55658118435de2bbed81e254b2989421: (1.000554, 1)\n",
      "5a3d2bf30a05ef732814cfe74c72165cdc7083063e4ca2e8334dbeb04723783a: (1.000554, 1)\n",
      "fc90e7f62d84c3a8ac64a63fa679432f0e925c1fb34e8a2757a1937add439d1f: (1.000554, 1)\n",
      "37989e82284ec1591c3507f54cae9b75158ce5d044a2214f2f5914b75c5b884d: (1.000554, 1)\n",
      "74fa275bb0624b2f8e00e594e92bff01ebebb9d2a2180a5f03299d1221342cc5: (1.000554, 1)\n",
      "8fa76618f994776158b4bf2175d4101a7713a72763b3c542372b89ad105065f9: (1.000554, 1)\n",
      "e393e72feab6cfedf1be00c4f036414646784d784fc719bf6e66d953cf21bce8: (1.000554, 1)\n",
      "2699ab30bf3ea5c9b88110f0de956632aaefe5022c6cc142691e9a5bea5b70ed: (1.000554, 1)\n",
      "e172504e5aec33aae45c3f2e74644da9067c87c9f4e4e5e62694b09b1fa9929a: (1.000554, 1)\n",
      "d728e8cf00d6442239a1a2da878fa3ebe475f04e64a90ce473fdc517344cee9d: (1.000554, 1)\n",
      "41c4fec66f918fde710470361e2400fef116cee58ec7e4a872b310517ff4830f: (1.000554, 1)\n",
      "e5f612d2ccae185bc63c7a4b6ae4102f7c420f41806b90e705c2d25e32868e71: (1.000554, 1)\n",
      "7f616d0fefeafa2dbfae680b65121163f4c0a281919fb8ffcf41c69eab0bb2df: (1.000554, 1)\n",
      "026b08d666fe0edd6e6b507073b29ad28fc1d26d6a405659523fba446e361506: (1.000554, 1)\n",
      "2e7520f8acbf7a21aaaa6ce71cb4404252f857c93ce70883b54c65dd435999df: (1.000554, 1)\n",
      "5da8325337cc3e6debc34914b32b7ab246f3839ac5fad905752000ecb1f7c09f: (1.000554, 1)\n",
      "2e266b3eb2c2be4aa0f8796fa0985c0aebc200f120533a5b2a9279c8ef0a9275: (1.000554, 1)\n",
      "2841b18880b4e3e322eac2f2779904a2324cc65f06bc5dc38040a7c148aa4658: (1.000554, 1)\n",
      "77efafa23e9ef74063ae71c456ca05e10f7d43b38f1bc8e3eecdf7806d80b5f3: (1.000554, 1)\n",
      "9603b2513280e72e644bb590f642c5c6e98d52379456f9c10306e7ce2eb08729: (1.000554, 1)\n",
      "767c639b3765e1e715ec0eb25b1690277e208173cc0761a1e8f6a2afefa01878: (1.000554, 1)\n",
      "27eed8e80996b5668d2c86901119973ce38b58e1fb80aaa5d527a0016fd12798: (1.000554, 1)\n",
      "fc48ce19533be227b76c438d397b930cb8f55894bbd05e2c260304531cabb318: (1.000554, 1)\n",
      "03dc8d4ba249f5e687d0795f99a476c105803888b7419e12c12d6ec5cc810a95: (1.000554, 1)\n",
      "c8ed571c637a216743e5e0aab568567dc916bdc91a1124848ef0ce5a9c0b0e2d: (1.000554, 1)\n",
      "ca28dfd3dbfdcd3130232d1dbdcb5924203767766796fcbb397540347d9d7c6e: (1.000554, 1)\n",
      "8017bec46bf4bfaf32569cdd641301d105fc795693615c18b75917ad1670ddb2: (1.000554, 1)\n",
      "29acf523d519a4ee5cdb765ad4ce0df404c0bf778e4d54bfd601ed3562eacbb4: (1.000554, 1)\n",
      "fc97eef2d471f154e0c5fb53813e61295dc6adbc7d84ff47617dec2f4028ffd1: (1.000554, 1)\n",
      "0b62dee344a0500f75bd0912c3c592c67f828d7bc489d7de66b293d428b57f8b: (1.000554, 1)\n",
      "2450a198466fded2ccefba23845510d818bf4997b23db18e2b0a2daf160b791e: (1.000554, 1)\n",
      "68a7f8521e1edde731d5446fe7d1606ba8ea9a6b3b5d60adbfa77573b6359f23: (1.000554, 1)\n",
      "b056b6e5126b5c25ee012eacbb2be22a0bd4f4c43bd9b5b5a8543f4de34e5ba0: (1.000554, 1)\n",
      "6029f56ea6fdf984676801ac5ccf6e87fea7e0729b265f6859f5844c93490d95: (1.000554, 1)\n",
      "f401f1185ac053702aea59c3b1f5610171c6e3d3d07e484984377441b99c1751: (1.000554, 1)\n",
      "6d6cfc09b56d8f024a2eb61b64699acf1c456f56353968daa1804063d54e34c4: (1.000554, 1)\n",
      "ff6e35df8bbdf9ff38768f89e44b544d9fe142b0730c107a6aa390c649f959ac: (1.000554, 1)\n",
      "4dd91f2eee458a46c3cf30e3b0cc21daa4c83df23f975d439f61cfe36cfdaa04: (1.000554, 1)\n",
      "dd84256b8c414017f782d3eda09f4a353c4819678496c060a62234a9c07523db: (1.000554, 1)\n",
      "1e51d2c88e29b08d35e7ff9ac7ae4a95c953039904116c39d7e33fb77d14ab49: (1.000554, 1)\n",
      "8f0b5842b17439d560a063883e8ef8879364a77e57799db0c0e0510f7214effd: (1.000554, 1)\n",
      "4fd0c269a78bf4f9e447ba2babb6bcd5adcccf25afc46defe23993b06af40c5c: (1.000554, 1)\n",
      "412f9f9f249ab6a26521577860ffaf707b3cf452f21845b35882b243605f760e: (1.000554, 1)\n",
      "5344efa322797021df4d3a9b674fd1166f3eac29336f1579392510e7445c6af2: (1.000554, 1)\n",
      "71a093f69cb0251e5396a1f8cad054120dea59cd36c4f48bd64f2a0a7c70c111: (1.000554, 1)\n",
      "4b6cf0bfab60a5a31ab7158b0a4438977cb253056b04965dd1f2dfba6d17190e: (1.000554, 1)\n",
      "dcfcb418d0bacf92c3d8b64a343b6c4b7dbf37f7b5f73cab524bd9fbb774d568: (1.000554, 1)\n",
      "1b8b497d4ebdbe74ebb4dfc06b3fd09622e5b1282b98cfa95d6edbe59ba7f3d7: (1.000554, 1)\n",
      "9a49a3fb14a2120bc0cbca0f0b37a3553edd64d3f8913f18dea5a2be6223efac: (1.000554, 1)\n",
      "24fa44422280c730e94f17ab719b8a9dc79138854597a8f974d5fd3251ae0a37: (1.000554, 1)\n",
      "e45ce4b2114dcc22ec20bdcba8e2f9e0fb92a3aee4e33cff3100c9826c1b90da: (1.000554, 1)\n",
      "acf0254c00e38ca2b5d11bb1864f51e2513a4a8159e080cbde9b8ece00087b7f: (1.000554, 1)\n",
      "0af082537ae47554d0ab028ea36ef4cbb37abe0eb95754f3682206efa9c6b459: (1.000554, 1)\n",
      "73ff324a012f6f3221885dd38750af846ab6727d500de352b83db5ccbb906551: (1.000554, 1)\n",
      "1897c2fb430a816c489ec30a9b2ea0f24418f988148f28f86aa965e5ff122721: (1.000554, 1)\n",
      "c11d0bcb206c2da1f12da296ce79c8d8de2d16679022be8a07e79f6440137e88: (1.000554, 1)\n",
      "e7180026fc200da503beb0b57387766f6b95a65d3122a5f37a819275bb57b848: (1.000554, 1)\n",
      "fe85eb3003f9e142eb222c8ad7549b304687a496fac1f3da1b1d9b9be4f9bfa7: (1.000554, 1)\n",
      "6c933d82314a4506404bdfde3c1b082391b62a664c04458048e3dc0ee03ec442: (1.000554, 1)\n",
      "30094f1caf2d815880d97896c5c10731fbc48b7a70a2f5ba22195d1c0091e2b9: (1.000554, 1)\n",
      "298758f360380f77ca5ddcd0f770d61aa95e43e86970ba1a98e3e7a3f240ccd9: (1.000554, 1)\n",
      "5db7017a96950ee5b3c05662e0a67b49e13555c92677fd2905aff10cd92983af: (1.000554, 1)\n",
      "ff0b19f1ca917fdc37870e56fa72bce47e714193d8df3d5c83f82a7e18206052: (1.000554, 1)\n",
      "0c41af665130cbe71d80c53ec3485168559c79382e8c71468a506fb1428e5d18: (1.000554, 1)\n",
      "87dbf1e466d134ff0119a4241d9e1b6f377dcdf937c423088712de4484f5da9a: (1.000554, 1)\n",
      "ae3e6272b491e5c2c887a7feb6d387bc29ff6c7c9d91a2c8dc6f83cac0407efd: (1.000554, 1)\n",
      "56841e11116bcc25813d8b1d67c47b13ec5880720bdd6096e88df088ba03884d: (1.000554, 1)\n",
      "80e62229c02b7fc33fc8a8adf2ae6ab5d52f1da7a1b2de2291c9dea2acb46cd2: (1.000554, 1)\n",
      "75d7968b5f14ce5aa36ecf6d4812a3fd1abd4da40a5fd584b8886c1962e138f2: (1.000554, 1)\n",
      "3d3c19fd2235c67cc8fdabd29064edf2d7c1ed14488daaf3e037af89f1d90f19: (1.000554, 1)\n",
      "bcfe10f7e810ff92eb6827796581c9746d88762c16fd9b105bbf2aeb43334b53: (1.000554, 1)\n",
      "69f5351c910df0e2317a769fd753666ff6e72c21be91f13af160c3725bec242f: (1.000554, 1)\n",
      "2f82606a9f1cc9efc7663b58e5289b219de991f063950c430667dab62bdba035: (1.000554, 1)\n",
      "a5fc8c15e695b9679c3c48e6b00822c6977aab2a4e099614d0844cc8d74d39b3: (1.000554, 1)\n",
      "56ddf347c4d09e20be91ae4f5b3263acdb7e2a6822a4cc49cfba60844ee8a458: (1.000554, 1)\n",
      "fb6b08eec44b77ffcc4070b7671b3bcf4fbbd79340ee44683af7b4278c097eb7: (1.000554, 1)\n",
      "701befe306408c39ad95c68b2b8fb1c2fcde43bdc7ca37f0a81fe227fe8989db: (1.000554, 1)\n",
      "e60cd7ed6e9bfd3246fe60086821a64db6f26d8cd30aeabc46b945cacf811427: (1.000554, 1)\n",
      "a33e215f121e65e55ee1b0f0a186e367efc0c40805ea39c6452640dc040217d0: (1.000554, 1)\n",
      "f83a65c5a61fe04ae5d2db5a60a54b6b4986d452b9105580cb26e90dc5ea45ee: (1.000554, 1)\n",
      "dc3ee18b640de7ad1256ddaf24bfd80ff8b35165f7b24209af62b983710a7b98: (1.000554, 1)\n",
      "bb29f902cd8d8e9ee9b80a6b7d67b10b62b901c4c844723b4eb24e7d0043cc0e: (1.000554, 1)\n",
      "d66e827038cbb0da8ba82b8610b3868b65f92b382ce9c1885f849353e423f7ba: (1.000554, 1)\n",
      "593d8636d6ab71293e61848d74bbb8b3532f968fed92f87a7d04e998dffa6cdd: (1.000554, 1)\n",
      "3552962fd4be1038fe34eee002d987261313fd0b935fea88b84174f275e42111: (1.000554, 1)\n",
      "17c7a1a60275fb744b923f744e1ba2b3357ba8b911f9c3f52a7c1cf880a25913: (1.000554, 1)\n",
      "531402594f88615868fe9f409d9ec6d2f926678457604ffe8d2a13c5af06bf53: (1.000554, 1)\n",
      "cb74ea44326125ccfc7c9c03987b950d7ff6dad5cd95ef51a69277fb766c489c: (1.000554, 1)\n",
      "291d63c65e656bc1fc377fcc4e459859949d9a7d5026ce623d9054ddff2a2cbe: (1.000554, 1)\n",
      "e999bdd60acb9d1dce8fb655485f7a547905a13b7772925199b5535cd6ff10a5: (1.000554, 1)\n",
      "ccf7386ad3bc65adde2c185d802fe89ea3a49c475f588258e5f6c193e0befb38: (1.000554, 1)\n",
      "c41796fdd83970ae89d99b48d69d1474cebb2e187c1f7052c689111ea386e546: (1.000554, 1)\n",
      "6f14faeb1fce03163b2315fbada93b99eafb3a3415d2adab2e7c5e47dbf86724: (1.000554, 1)\n",
      "a2effb46d3312997f03013c8c0341a8e446df37fd9cdd3da2cc71391b72c2772: (1.000554, 1)\n",
      "c74a6811aa6b9dcb2c191ddad2dc6d9a3b15926ffbfcfdfc2df13e988b32403f: (1.000554, 1)\n",
      "5a85df202e345554ede8af56b3f95430f992eb6a130127df897868e61a533d05: (1.000554, 1)\n",
      "b8642ad5cc98bda14f748d5ed4135212f8e0d5a441f2e87bfbc507737e171613: (1.000554, 1)\n",
      "2439b2154bcac656849874a578510c050777a2af5384bb81018369b20ab43935: (1.000554, 1)\n",
      "090d64e1a38b1732c5464a1e67bdc2b77a73075bc3c4274d54bc30ced6a75481: (1.000554, 1)\n",
      "5764bb2a3af954d9e8a50d90eb0e1fda8fd4389d48702583312cbb6ddeec78d2: (1.000554, 1)\n",
      "5f26dcf84a55a73d0ebb22743739f7ad5a4920d72ee44e3f165a5178202c028e: (1.000554, 1)\n",
      "a697a14c511bac8bce0cb0199cbffb6ff789c974c130d381b37aa76cb817cc94: (1.000554, 1)\n",
      "a2157f18dbbacf156a1e98b7ddbf32492ca90b68ab1f9cadddc0309facbd3534: (1.000554, 1)\n",
      "e17fddd6a9f8b9dbed961de442b8c1dcc82cff4ca602f10115030d0c8ff2f2a8: (1.000554, 1)\n",
      "c5d38f90647dd3f711543fa38d86af45c1a1362cf742cb56725adadd850b9ad1: (1.000554, 1)\n",
      "5033afb1e58f13d2b6ad47fd76c057d3e4aedf5a6603fa61b14eba0b548189e5: (1.000554, 1)\n",
      "2e60428c621097cc751e82f4804656697949ee691d02685bb2d33392371981a6: (1.000554, 1)\n",
      "f12b933e9404177e0bf07dc6e4ffeff76cf2bd800bff55a2d997a9eb4d95a2cb: (1.000554, 1)\n",
      "808bc86e5c65d271629a2d9f529c2d7bf76d7b07a294c64a3b55ebc8ce0c4ff5: (1.000554, 1)\n",
      "47e2f6b2be82fbdc7b066db816b4f234fff09ffb5ef0074ae098e515a445762d: (1.000554, 1)\n",
      "0f915d8131e637fb19d459a24a3d6188569ee8d5c2cd7f211419144c82678b46: (1.000554, 1)\n",
      "9c5c414d0510bfba3edacbdcf87f0824a273df800c398c3f5ea2bcff77ea6240: (1.000554, 1)\n",
      "97610ef1b8223b56a4fa40cfd6240b3d72efbac2bcb40f7e98b544926a81a363: (1.000554, 1)\n",
      "c6e5a0c88428fc0a5b12e68af56c117532ccb58a3e61ebb7ec8bab1c360aceeb: (1.000554, 1)\n",
      "4433cabaff56344044228ebe6c0d89bb56138f74c35ddb7cb15c5d03b110dfbc: (1.000554, 1)\n",
      "c0f3a205188d8accd2321d35882d30cfee0fcd588e5b66e66f11519afb2b8360: (1.000554, 1)\n",
      "246008821622832af978465364e62edfbbf78cc6cfc42b4843c6b4bd74d85265: (1.000554, 1)\n",
      "e660e93527ec60cfab2a4fc62fe00234d224b210bc8932d185897b2e0bad83ab: (1.000554, 1)\n",
      "f60e0de90443d0af963bd24ec5520391f9c65603b3696710e4faec922d2c3c92: (1.000554, 1)\n",
      "45a1794e948041c318a561a07303e2090f961b7f123a9eac09794701b49a36c1: (1.000554, 1)\n",
      "99b36f7f1c309b161acdb177ed4241172a18da0abfba338d31cbb8d07a09ee64: (1.000554, 1)\n",
      "ff012f34f579eef44b3f66f508db273f97bf995cff31e9ea2fa7a048471a630e: (1.000554, 1)\n",
      "61746e04f9ccb6ea809b007e713551f903bedf0286f4c391898301098ede0ac0: (1.000554, 1)\n",
      "8ef180231bf3ad97cab9b2565441aa3f9c21e0aeb92b0a8569d2b3dddb4b76d0: (1.000554, 1)\n",
      "21dcf69d80e14dc19eaea36d43c05f1a2645df12fd57a1ba1470efffce7bb31f: (1.000554, 1)\n",
      "86b7a4946ea9fc11e32ae1aa746087706e2f82ecb9d0e9ea5653a01efa08c73e: (1.000554, 1)\n",
      "ce21225b35de9423e5471868a8103466c894a249318a92eda546609d246f3b84: (1.000554, 1)\n",
      "70133c370729c563be1f9bb0d0f38e568801801ac589e2f06f0d571c1f1ae706: (1.000554, 1)\n",
      "d23200f8d0604374975f7fdd6a4a7657c37fc1d4fbf8c9c6731de5bfd70b2b71: (1.000554, 1)\n",
      "d853fb01729e77a7a30a3ecdbc833654a5da6978b193dfb4c3bcd2fb04d17a0e: (1.000554, 1)\n",
      "3520aaac6587e506e388031ad2dfb308bb5a20d0b156c5eba68b0ad338986c49: (1.000554, 1)\n",
      "cd5df8541cf64a933d5e03bc17d22e8cf32b479d6001b9ce3470395a3df594c3: (1.000554, 1)\n",
      "94375f27f6c3cd3b4fa30ffdf527a88dede2d5f4efe6a9fa3af953b3e0dd7e8a: (1.000554, 1)\n",
      "f7bdae748b954014e3e98c64f5107c08d5486df6b86f931e8f363bd72907c34c: (1.000554, 1)\n",
      "111535b263d70d012d63c4859cd395c2832b5be9d5c4d3888aa3e5e31e75622f: (1.000554, 1)\n",
      "68ecc9a1abffa8293f3b860030344c0a90799baf10a02d71824c4484a45547a7: (1.000554, 1)\n",
      "db0cf39baf089a7a3c47141812ddaba808f2caa4d621f89e913d61d1b5586a7b: (1.000554, 1)\n",
      "09216bede146f740e834af6ba77ba18afb566797f175d7a1fc3d86a4b9786736: (1.000554, 1)\n",
      "65cb3951d1ad45fbc594673a7d1e7bb9ba1399c1046490c24854e91e6084b3c6: (1.000554, 1)\n",
      "18b95c22bf4fab0f3a94459a784849b7d6ffb4ee388c8e65485c2a5da74b53ba: (1.000554, 1)\n",
      "800d408d1d6fa043346f5bc5b890e15403a7604406e83cf2ffd89fe564dc4c75: (1.000554, 1)\n",
      "cd4b83dc0db5f9c43ad0918b5b28f0598115f59d79230cc41fac8fd4a01d1d25: (1.000554, 1)\n",
      "e0cf12e88399d21e32ad3f5d23223f4793e8d7b2d9163c3619f41cd3a5751a95: (1.000554, 1)\n",
      "7e4b536760ef7e27ed9054893ddaf0732e410f0196f839ab0ca84d26173eb533: (1.000554, 1)\n",
      "dcaa04b6929dd27530a54770abba2595a3477bf4dc08aeb71d40c2c2ba52e025: (1.000554, 1)\n",
      "2618e12a9cd0bca76a5479aa252a501be90dc1bde31914dceca6199f118ba0af: (1.000554, 1)\n",
      "3303bd032be7ab55eef98701978efcd5b4604983b9b7aff1ff3bd85ac79fc042: (1.000554, 1)\n",
      "dc66893b9d8d0d1d8ed23327d2e7d6eee1a239e4ee1e183b7e1e5b53ddcc179f: (1.000554, 1)\n",
      "fd320859dd6caed12c5aba2d600a384501593d0448b7824bc56a5d31d2255fc7: (1.000554, 1)\n",
      "afce8c810fac856f4841d92d66940afc890acd96fecfdc1ccdeb2ef252576f4e: (1.000554, 1)\n",
      "a9ae11f217cb7d027a9db2b1a180c11b35c550dbb9b9f6e1bdf699d30eca06e4: (1.000554, 1)\n",
      "343a807476929932ecd964f7c038fa7315787ebb4b36dc316b7d8bf17793255b: (1.000554, 1)\n",
      "0b5082271e3d291b6dbb271455de657b975d35594ab389297d0f33149969d8ab: (1.000554, 1)\n",
      "092e02f7b251a5be59f7b469e75d85ce0313aca52809ef73ddf104cbeaf6111e: (1.000554, 1)\n",
      "bab912d0403247da0b1a44e10141d16bc6d37ed8f17862f823c2f2e3a80dfb5b: (1.000554, 1)\n",
      "111fe89b3764aa7aec489afb3af46e329766f461d67e70cb7e1193adfedbe382: (1.000554, 1)\n",
      "9a005384cb770d059f12f921e0dbf031d754fcb8619a0fe47b09cbb3dfd3e293: (1.000554, 1)\n",
      "bdae74923e2c5741ef7fac66c06bc4d5ba01755a24926cb598b849401d266b35: (1.000554, 1)\n",
      "0873af693f148ca12917e9d51fdd5837b66249fef5d18d37109d45edc3a6271d: (1.000554, 1)\n",
      "863e5f49b8dc115b8c2bed052f3420372b896983b05e43a477255515ab721232: (1.000554, 1)\n",
      "2b6965b92bfe23ccc3470eb8d243b36b41642043cdb9b3b92f19b7bf65349da1: (1.000554, 1)\n",
      "f77c0c17a99c50c7559bd4c8eef4a29f7a42ea7ee064194caacdaf0c08a9787b: (1.000554, 1)\n",
      "e9e06854b721b6539f0be36f1ea71e2c8328b7fe8ea3485b2a21c55a1eb24d4d: (1.000554, 1)\n",
      "b9731972088b762c7af26c8e1b221f165fabbfc66a295d19639ed3eccda6e0f7: (1.000554, 1)\n",
      "79fda7d8c8e166ae09173ac9121d17e77a31f8e1e193be4f74fc9708bac0a5ec: (1.000554, 1)\n",
      "f1f215bec1c8296bc7dace10ad0b9a51ed5adba645fb95b74de6e3a97d4fc979: (1.000554, 1)\n",
      "6a47b029c6958a128ac40cd9b268b4729e93076b13c22c199f7b5bf11333f176: (1.000554, 1)\n",
      "48731007120be89e797481d2c6add7eca08e462a94fbf1893425f80e89770cda: (1.000554, 1)\n",
      "f1643960e0219848aa8844753f795f6c75d489e614a7faf15835856cc0a8ce0a: (1.000554, 1)\n",
      "5c09438eeb1ce756861734305543fc0de2ac073cf39b931da6faf9be024a7eb0: (1.000554, 1)\n",
      "ce51f6a5a1f8943fc103d516d88a11c37c347d763a4c53a019d1e17fe04f91d3: (1.000554, 1)\n",
      "aec5915f7acec57feee7f5e2859d7380a37e7134e77e9cb7e0cd88cb8928fe99: (1.000554, 1)\n",
      "6634cbdad0ca52139c0400a42a8b327e481a4846fc67b17c082786256d0ef559: (1.000554, 1)\n",
      "145299805c1b56386c92cae1ab8bbe903408d35572360037f8640537e5365856: (1.000554, 1)\n",
      "cc2b70aeffd392da73cd5ab5e34a76e505f833484a0b946c8d9e7422774ad969: (1.000554, 1)\n",
      "807f96a2a69b4ded64dc28e65e7a54e016805f858174bc5a8db479fb394f3f3b: (1.000554, 1)\n",
      "381e673c7d0cc2fafce6958d3fc66403b59801654a1575166ee0f3cc5efe3697: (1.000554, 1)\n",
      "f9d2951107c9a0022e9b01d56f6b3785e19d112238442e1298a6d68634faae6e: (1.000554, 1)\n",
      "82d9faed4fdabd1889ff2baf2620d0c2ba185e1702ba161a6577417b48eaf8df: (1.000554, 1)\n",
      "0dcf2abadaf336eab3a195a6a7daa5469ca80a211542ac1e04857b1844eed9be: (1.000554, 1)\n",
      "09ec3618badc0a0c09c0b773545d464c4f68fe0674a906edaa9c94424ac65a38: (1.000554, 1)\n",
      "2f7391472049c9a64b9a045e0b21558d905ee9a4b34c282e4c1ac27dbed28be5: (1.000554, 1)\n",
      "e8c3ad3361fab559bddc38bd4050af2fb80991c038322f2e2d854d5f440a541a: (1.000554, 1)\n",
      "30a4e9bd51cbc74e8427e70cb4fc2fd3c1f3f0ce4c1d6709a714bf1ed06ef2c3: (1.000554, 1)\n",
      "c9dea834603e072c647da15d883c689f5cae85a44f47c5a07833c5a5c47741ba: (1.000554, 1)\n",
      "5f9068e31a27fabcab77fce8d96f8f31c286e2e091680169e0dcb7aa7b3b6c66: (1.000554, 1)\n",
      "649559320aa863f966085515f6ca80bddb8b6a8736b2a382c4c7ffb347c63df0: (1.000554, 1)\n",
      "d6411170319b9fc00c3e698eefd57b7a6f9ea881816fcfe0b00d2cbbcb5112f5: (1.000554, 1)\n",
      "ea2e8aa9d8902b3ebf02e7e4f7bc807e44c7325bd15d60c5137f29439be73064: (1.000554, 1)\n",
      "ed671e334f9525272ca0b04258ee554acb6256781de1f224af1d09d415dd344c: (1.000554, 1)\n",
      "a88d17ccf5a26a6b2580119c86c72485271a71c4137cbde0d2ee317fd5e0bee0: (1.000554, 1)\n",
      "efd816c03041915619145d3b52abf07cc894afe234bb2996a358b37d04f5d496: (1.000554, 1)\n",
      "8aba0574802d942c4e6211983f0ee676de13da74504f2cdd7d5172d457aaa5ef: (1.000554, 1)\n",
      "03943f757d595b0824948944a7cc9cf3ee1a6bc574adf00b3da4869948928dc8: (1.000554, 1)\n",
      "400d92805caae49e4f656265dd88aa39c5ddee507c39e9452a1de5655c79a966: (1.000554, 1)\n",
      "1ff6fa14558ab4a153a64ebaaf880d6b6f8374ed5e1046503a283f6366aaa037: (1.000554, 1)\n",
      "f3c5468489c9a229f0bc5dd9c16bda2f4f37edcfc3d1093249b1482a60d1a793: (1.000554, 1)\n",
      "f1664cc5fc28a1e3b6c699d32fa35f467730ffbe96510e3c7d16edca251967da: (1.000554, 1)\n",
      "5e802106c71bacdee836c2f62ae1ad870c1c36f1913df682b1cc4dec618ecc4f: (1.000554, 1)\n",
      "84261d33d42e1bf2ee562a6aae9e15a90d0097582b5eeb94885e5eb1a4ad1903: (1.000554, 1)\n",
      "cda224353841ca007961e43f5fffa3092d51a82c2b37f720258df87def1a3516: (1.000554, 1)\n",
      "c8b64976f0a3ca9e84b45e8aea06ec0c691d0cca53cc7c161fb48071597f579e: (1.000554, 1)\n",
      "76a370f74b68b6b7d512a5ac0fb48f1b2441cedb849d04752adef4bdd83d0e97: (1.000554, 1)\n",
      "877f40ae5aa2459ed41a8a0a2acd41710fc79be4be11f71d5cc18fee84323e44: (1.000554, 1)\n",
      "30e93fcf12b4a6d87cca3f1cd265a0bf173ab04a43c130d8ba2feaa01f8fc7cc: (1.000554, 1)\n",
      "5762d2e323ec0209b98a002a0a9925d3f51a3c41c0c5cf95c49b5fa4d277f6ee: (1.000554, 1)\n",
      "82b65768371a5eeaa703e1ee28b066b46bc42323449242cc69f60a690bbca984: (1.000554, 1)\n",
      "3a616a10ced0f5376faad83aa740be644d308fd86eb1d6736a1ab6cfad52e155: (1.000554, 1)\n",
      "49b70b33a1e0a497c2d3d3c9c688f80bbf6e9ec257c82e4c6fea3f467e17c4a3: (1.000554, 1)\n",
      "bc9f13252814bbcbc7ad4dde091f9467b9d12f05541388766b23107d2bea7892: (1.000554, 1)\n",
      "8a18b0fd0ce3658577065e58950ce4f8ac5185f1f5296c1c7cf5d4af9a9f4bea: (1.000554, 1)\n",
      "4c24f29774f7195fa8323ba2d70ac9cd6f27eb09782f23fb76813707949b21d7: (1.000554, 1)\n",
      "db13044ef0fa65f79868707bca06536f90b32ac5a29566d61d0a71207b5f0ce7: (1.000554, 1)\n",
      "be1981ab818cf4ef6765b2ecaea7a2cbf14ccd6e8a7ee985513d9e8e53c6d91b: (1.000554, 1)\n",
      "24c5dd79a9cdb41bbb208f4bcbfbd28384034f283bc7ea09d6d49923387f4ead: (1.000554, 1)\n",
      "65657cd766cd4c1c2e95c85cb29ca9f9e2ba1b803034888e8ab3cad6f53e5410: (1.000554, 1)\n",
      "42e8661788c78c1bf98d408e451df66f3ac091ebf03ad07310c8fd618a0721c6: (1.000554, 1)\n",
      "5bd79a67f9a2bd516a2c00ff51853cb419ca458bf04952b6e5889792f39520da: (1.000554, 1)\n",
      "c6b7d5426a3b1be578acd7efa19b70e50e4ad42535af6586b636de4d9861903c: (1.000554, 1)\n",
      "5213d298f45dab1fea0c8459482a18114d1da747709b0fb55890f7308e53c6ac: (1.000554, 1)\n",
      "1a5c353801d1592895203bc3b6eee818436ec855739360699008681ec8cf2dc9: (1.000554, 1)\n",
      "67894d5f361a84b34571acbf65ba92500fe446dd5295ac011357067692649163: (1.000554, 1)\n",
      "e2c844f56df4bad5be91a8a81903799b45a5f13fb88d4e7f224cefb380f248f5: (1.000554, 1)\n",
      "e4388a407d492401944bfde7481949c3ee191a43fab7c71f142dd2ed424088e3: (1.000554, 1)\n",
      "11b3ecf99cbc3cfe0b4d5b93deab4f0b0e0fa9399bb04fdfe7b4a64cb704e608: (1.000554, 1)\n",
      "e1211a32a92e790fe42df63581f7f0e39bbcd623d247471b7c52e7514718ca00: (1.000554, 1)\n",
      "3aacdf6fd47173b1ddc8589bf6c35c30a7de50d368abe834d2d1bb980068f293: (1.000554, 1)\n",
      "e06c968222076dfd3dcd4c07023d48c0e65231f5590f29c8dbb8dace7ca8d313: (1.000554, 1)\n",
      "f2686254f180151589cb111d9f2c5618dcd8851ed512225924fdaecda22e1ca0: (1.000554, 1)\n",
      "e8451e999827ad0661dffe6a6af8b608ed6b8a071bedeb158b549aeb4363925a: (1.000554, 1)\n",
      "b5a22419e45fba30050e58e224c565b6da24fb00eebf97f1899a82264a987cb2: (1.000554, 1)\n",
      "761028bc8cb88986e2ffd0f438fb8a94ab84c8e893413989f1a69106a72d3f82: (1.000554, 1)\n",
      "5d146528a016866369c0b3dc639b58f99a13b0cabdb38a0fd13e02a63374712d: (1.000554, 1)\n",
      "16520f3c4c484d44778a4ca80f84dc27e4d80119b9a02cbb317f1d1cd36e5d50: (1.000554, 1)\n",
      "3a9d7fc43bd32ce39da4085982f5df8df49f3a59e4a2b94364f169f7252f96bd: (1.000554, 1)\n",
      "79fa24ebcb5c6667b62a104e465ab99080b4d202b9ea37d2aefb1a37293fded4: (1.000554, 1)\n",
      "6a818b0fdf9e203bf272364902960aa3c1d7bbc4bcd0fc8ec9e7ef5dc31aa7b2: (1.000554, 1)\n",
      "fc459c758571b2aaeaad1eb6a9b810f68a38b0c580ff512fb4672536691cad07: (1.000554, 1)\n",
      "5610ffd9ff82575c849d1da3ffa5bac2d15c3fc0b5e95d548d3c01216b3036e7: (1.000554, 1)\n",
      "fec9e27ea642bb6e08a333fe5ae6f280a1b3eba3008f4cb6e1023e23d458cc08: (1.000554, 1)\n",
      "bd9cdc5f9d162445b6019e901b74af246a512e60eb481ab531f863f89ecab921: (1.000554, 1)\n",
      "b5f17c196eccf7a3b10a980b5f2241fe37bf72bd4d27433f8a760c16fc6cbcde: (1.000554, 1)\n",
      "9f2a0b2d1f2ffa73b69f9674fe545f50d277f5219ab501dbff2f9d46bad9c46f: (1.000554, 1)\n",
      "da7eb2cc5cbad93ad5472ae78c5c10eb38af48e193217a7466eda1a578e81afc: (1.000554, 1)\n",
      "24588f9d916fd31164227b9e37f9fe0dc0228c0d12eadf9a4db0d9257a2e3d28: (1.000554, 1)\n",
      "c4fcb72c9c6cf5c5c1f2f952d9baf6a04ea1a324ab63d370a8de89ecde5bcf9d: (1.000554, 1)\n",
      "0835959456e4e8684125764ea68f84eba43e479358592dd2fcbc4d7e3db13ba7: (1.000554, 1)\n",
      "44d6a2c6a7ed821e143f08fc9c411becd40139adb6806651088cabe4a04c4a5a: (1.000554, 1)\n",
      "436e0ab4fd13bfc291cf4278121a474bcc7258a5b3d70f457542423358e496a1: (1.000554, 1)\n",
      "412d74a88e78f45d4b6d04c75cb83b779faf0fce4bb90700903c0a755c32bd59: (1.000554, 1)\n",
      "d4fa20b83c4a62d9c4d142a651f3b43b004daf0e523f7f8a9712f631e2a9de6a: (1.000554, 1)\n"
     ]
    }
   ],
   "source": [
    "print(\"t_counts:\")\n",
    "for title, score in sorted(test_counts.items(), key=lambda x: x[1], reverse=True):\n",
    "  print(f\"{title}: {score}\")"
   ]
  },
  {
   "cell_type": "markdown",
   "metadata": {
    "id": "SAnZvVwg7aX7"
   },
   "source": [
    "# Including Features"
   ]
  },
  {
   "cell_type": "code",
   "execution_count": 134,
   "metadata": {},
   "outputs": [],
   "source": [
    "#In this iteration, only ids are used as attributes for simplicity\n",
    "counts = pd.read_csv('../../data/processed/combined_agg_filled_prices.csv')\n",
    "articles = pd.read_csv('../../data/processed/articles_filled_priced.csv')\n",
    "#Generating training and test subsets\n",
    "train, test = train_test_split(counts, test_size=0.2)\n",
    "#Getting unique user ids (required to transform those into embeddings by the model)\n",
    "unq_cids = counts.customer_id.unique()"
   ]
  },
  {
   "cell_type": "code",
   "execution_count": 135,
   "metadata": {},
   "outputs": [],
   "source": [
    "strings = [\n",
    "    'customer_id',\n",
    "    'article_id',\n",
    "    \"product_group_name\",\n",
    "    \"product_type_name\",\n",
    "    \"prod_name\",\n",
    "    \"postal_code\"\n",
    "]"
   ]
  },
  {
   "cell_type": "code",
   "execution_count": 136,
   "metadata": {},
   "outputs": [],
   "source": [
    "for c in strings:\n",
    "    train[c] = train[c].astype(str)\n",
    "    test[c] = test[c].astype(str)"
   ]
  },
  {
   "cell_type": "code",
   "execution_count": 137,
   "metadata": {},
   "outputs": [],
   "source": [
    "train = train[strings].to_dict(orient='list')\n",
    "train = tf.data.Dataset.from_tensor_slices(train)"
   ]
  },
  {
   "cell_type": "code",
   "execution_count": 138,
   "metadata": {},
   "outputs": [],
   "source": [
    "test = test[strings].to_dict(orient='list')\n",
    "test = tf.data.Dataset.from_tensor_slices(test)"
   ]
  },
  {
   "cell_type": "code",
   "execution_count": 139,
   "metadata": {
    "id": "kqmZxQXKAJcn"
   },
   "outputs": [],
   "source": [
    "embedding_dimension = 32\n",
    "\n",
    "unq_cids = counts.customer_id.unique()\n",
    "unq_articles = articles.article_id.unique().astype(str)\n",
    "unq_prod_names = articles.prod_name.unique().astype(str)\n",
    "unq_prod_grp_names = articles.product_group_name.unique().astype(str)\n",
    "unq_product_type_name = articles.product_type_name.unique().astype(str)\n",
    "unq_postal_code = counts.postal_code.unique().astype(str)"
   ]
  },
  {
   "cell_type": "code",
   "execution_count": 140,
   "metadata": {
    "id": "-dQNzrI3Bbm-"
   },
   "outputs": [],
   "source": [
    "customer_model = tf.keras.Sequential([\n",
    "  tf.keras.layers.StringLookup(\n",
    "      vocabulary=unq_cids, mask_token=None),\n",
    "  # We add an additional embedding to account for unknown tokens.\\\n",
    "  tf.keras.layers.Embedding(len(unq_cids) + 1, embedding_dimension)\n",
    "])"
   ]
  },
  {
   "cell_type": "code",
   "execution_count": 141,
   "metadata": {},
   "outputs": [],
   "source": [
    "customer_postal_code = tf.keras.Sequential([\n",
    "  tf.keras.layers.StringLookup(\n",
    "      vocabulary=unq_postal_code, mask_token=None),\n",
    "  tf.keras.layers.Embedding(len(unq_articles) + 1, embedding_dimension)\n",
    "])"
   ]
  },
  {
   "cell_type": "code",
   "execution_count": 142,
   "metadata": {
    "id": "3JskwmV6BcW1"
   },
   "outputs": [],
   "source": [
    "product_model = tf.keras.Sequential([\n",
    "  tf.keras.layers.StringLookup(\n",
    "      vocabulary=unq_articles, mask_token=None),\n",
    "  tf.keras.layers.Embedding(len(unq_articles) + 1, embedding_dimension)\n",
    "])"
   ]
  },
  {
   "cell_type": "code",
   "execution_count": 143,
   "metadata": {
    "id": "7EscbBe3NtWc"
   },
   "outputs": [],
   "source": [
    "product_name_model = tf.keras.Sequential([\n",
    "  tf.keras.layers.StringLookup(\n",
    "      vocabulary=unq_prod_names, mask_token=None),\n",
    "  tf.keras.layers.Embedding(len(unq_articles) + 1, embedding_dimension)\n",
    "])"
   ]
  },
  {
   "cell_type": "code",
   "execution_count": 144,
   "metadata": {},
   "outputs": [],
   "source": [
    "product_group_model = tf.keras.Sequential([\n",
    "  tf.keras.layers.StringLookup(\n",
    "      vocabulary=unq_prod_grp_names, mask_token=None),\n",
    "  tf.keras.layers.Embedding(len(unq_prod_grp_names) + 1, embedding_dimension)\n",
    "])"
   ]
  },
  {
   "cell_type": "code",
   "execution_count": 145,
   "metadata": {},
   "outputs": [],
   "source": [
    "product_type_model = tf.keras.Sequential([\n",
    "  tf.keras.layers.StringLookup(\n",
    "      vocabulary=unq_product_type_name, mask_token=None),\n",
    "  tf.keras.layers.Embedding(len(unq_product_type_name) + 1, embedding_dimension)\n",
    "])"
   ]
  },
  {
   "cell_type": "code",
   "execution_count": 169,
   "metadata": {
    "id": "ypV_OtWrCK9y"
   },
   "outputs": [],
   "source": [
    "class CustomerModel(tf.keras.Model):\n",
    "\n",
    "  def __init__(self, customer_model, customer_postal_code):\n",
    "    super().__init__()\n",
    "\n",
    "    self.customer_embedding = customer_model\n",
    "    self.pcode_embedding = customer_postal_code\n",
    "\n",
    "  def call(self, inputs):\n",
    "    # Take the input dictionary, pass it through each input layer,\n",
    "    # and concatenate the result.\n",
    "    return tf.concat([\n",
    "        self.customer_embedding(inputs['customer_id']), \n",
    "        self.pcode_embedding(inputs['postal_code'])\n",
    "    ], axis = 1)\n"
   ]
  },
  {
   "cell_type": "code",
   "execution_count": 170,
   "metadata": {
    "id": "j8XJ1a8qMYys"
   },
   "outputs": [],
   "source": [
    "class ProductModel(tf.keras.Model):\n",
    "\n",
    "  def __init__(self, product_model, product_name_model, product_group_model, product_type_model):\n",
    "    super().__init__()\n",
    "\n",
    "    self.product_embedding = product_model\n",
    "    self.prod_name_embedding = product_name_model\n",
    "    self.prod_group_embedding = product_group_model\n",
    "    self.prod_type_embedding = product_type_model\n",
    "    \n",
    "\n",
    "  def call(self, inputs):\n",
    "    # Take the input dictionary, pass it through each input layer,\n",
    "    # and concatenate the result.\n",
    "    return tf.concat([\n",
    "        self.product_embedding(inputs['article_id']), \n",
    "        self.prod_name_embedding(inputs['prod_name']),\n",
    "        self.prod_group_embedding(inputs['prod_name']),\n",
    "        self.prod_type_embedding(inputs['prod_name']),\n",
    "    ], axis = 1)"
   ]
  },
  {
   "cell_type": "code",
   "execution_count": 182,
   "metadata": {
    "colab": {
     "base_uri": "https://localhost:8080/"
    },
    "id": "SfdSpdl784TL",
    "outputId": "e42773ce-05ba-45ce-a419-52cf010ed847"
   },
   "outputs": [
    {
     "name": "stdout",
     "output_type": "stream",
     "text": [
      "1/1 [==============================] - 0s 79ms/step\n",
      "Computed representations: [[-2.9230226e-02 -4.7407057e-02  2.2606660e-02  1.0103084e-02\n",
      "   2.9501431e-03 -4.6536267e-02  2.5976110e-02 -3.7794016e-02\n",
      "   4.4813763e-02  3.3072893e-02 -4.0295411e-02  2.7855206e-02\n",
      "  -1.2080893e-03  1.6354982e-02 -4.1209985e-02  2.5193226e-02\n",
      "   2.2053126e-02 -9.2621893e-04  2.5041763e-02  4.6579268e-02\n",
      "  -2.0399535e-02  3.1951789e-02 -1.6342305e-02 -2.7934229e-02\n",
      "  -3.0946661e-02  1.9952450e-02 -9.5707066e-03 -2.3289716e-02\n",
      "  -1.3773989e-02 -4.5054182e-03  4.1814335e-03 -4.6160724e-02\n",
      "  -2.3128927e-02 -3.2665752e-02  4.1474629e-02 -4.3498874e-02\n",
      "   3.8852919e-02 -1.9758059e-02  4.7733080e-02 -8.4118135e-03\n",
      "   1.5131485e-02  4.5296792e-02 -3.3617951e-02  4.6024289e-02\n",
      "  -3.5803009e-02  4.5428287e-02  4.9531329e-02  1.0164451e-02\n",
      "   4.5777250e-02  3.3685837e-02  3.0546639e-02 -4.3318629e-02\n",
      "  -2.2270307e-03 -8.1417672e-03  4.9524691e-02  3.6463860e-02\n",
      "   3.2982659e-02 -3.9024223e-02 -3.9633237e-02  4.2580906e-02\n",
      "   4.3280497e-03 -2.8862273e-02 -4.1390419e-02  2.7327981e-02]\n",
      " [-3.3707395e-03  2.3990098e-02  2.6255082e-02 -3.9356388e-02\n",
      "  -1.0974295e-03  2.9823568e-02 -2.5482250e-02  1.9807927e-03\n",
      "   5.1496141e-03 -2.4617314e-02 -6.5466277e-03 -8.4526837e-06\n",
      "   4.4980261e-02  1.6316328e-02 -1.5891682e-02 -1.1551965e-02\n",
      "   2.3997296e-02 -4.7221471e-02  4.1104544e-02 -4.5860633e-03\n",
      "   3.6996875e-02  1.9332770e-02 -1.3333153e-02  3.2575615e-03\n",
      "  -3.4158695e-02 -4.3146312e-02  1.6599286e-02  1.9892979e-02\n",
      "   8.9455359e-03  3.0650530e-02 -3.8176488e-02  7.7111609e-03\n",
      "  -3.2044902e-02  4.7728274e-02  3.9786790e-02  3.6210325e-02\n",
      "   3.2915425e-02 -1.4764071e-03  3.2029878e-02 -4.5805622e-02\n",
      "  -8.8382587e-03  4.0243268e-03  1.2232982e-02  1.3147678e-02\n",
      "   6.3478947e-05  1.5821662e-02 -4.0627755e-02  4.5241524e-02\n",
      "  -4.3360319e-02 -2.2721922e-02  2.8970215e-02 -1.4810085e-02\n",
      "   2.8062835e-03  3.4457032e-02  3.3072043e-02  6.4364076e-03\n",
      "   4.9285922e-02 -4.4317733e-02 -4.8150420e-03  8.4167607e-03\n",
      "   4.5776639e-02 -3.5007514e-02  1.6204026e-02  4.0048089e-02]]\n"
     ]
    },
    {
     "name": "stderr",
     "output_type": "stream",
     "text": [
      "2023-10-28 16:54:03.142845: I tensorflow/core/framework/local_rendezvous.cc:421] Local rendezvous recv item cancelled. Key hash: 9209440773478416177\n",
      "2023-10-28 16:54:03.142909: I tensorflow/core/framework/local_rendezvous.cc:421] Local rendezvous recv item cancelled. Key hash: 17071570812926990502\n"
     ]
    }
   ],
   "source": [
    "cus_model = CustomerModel(customer_model, customer_postal_code)\n",
    "result = cus_model.predict(train.map(lambda x:{'customer_id': x['customer_id'], 'postal_code': x['postal_code']}).batch(2).take(1).as_numpy_iterator())\n",
    "print(f\"Computed representations: {result}\")"
   ]
  },
  {
   "cell_type": "code",
   "execution_count": 183,
   "metadata": {
    "colab": {
     "base_uri": "https://localhost:8080/"
    },
    "id": "atTmuzzlMdtt",
    "outputId": "3d54b47f-ce74-4d79-b19f-7e2ccaa9a3da"
   },
   "outputs": [
    {
     "name": "stdout",
     "output_type": "stream",
     "text": [
      "1/1 [==============================] - 0s 83ms/step\n",
      "Computed representations: [[-0.04932239 -0.00554194  0.0097758  -0.04227427 -0.03740822  0.035476\n",
      "  -0.02660975 -0.02698498 -0.02261945 -0.0479384   0.04392023 -0.03645116\n",
      "   0.0447383   0.02398094  0.04003687 -0.01344709 -0.0003892   0.03450021\n",
      "  -0.00163323  0.02711442  0.0347724  -0.00858748 -0.00101597  0.00041706\n",
      "   0.01922674 -0.03225617  0.03370135 -0.02884432 -0.02716791  0.04245004\n",
      "  -0.03047761  0.0418885  -0.04689301 -0.01202943  0.00862228  0.03216324\n",
      "  -0.01812803  0.02805069  0.0239356  -0.01879107  0.01218547  0.04527893\n",
      "  -0.00835783 -0.0163364  -0.03082787 -0.00798173  0.01657363  0.04806644\n",
      "   0.03089077  0.03764597  0.04852272  0.0480516  -0.03868947 -0.03421472\n",
      "   0.00923457  0.01202055 -0.02547543 -0.01344123  0.00899    -0.03201952\n",
      "  -0.03558545 -0.00438095  0.0261238   0.03221149 -0.01598186  0.00189037\n",
      "   0.04495383 -0.00028386  0.04367014 -0.02503189 -0.00088694 -0.01454159\n",
      "   0.00662593 -0.0259274  -0.01507684 -0.00020577 -0.0234944   0.02216207\n",
      "  -0.02081572  0.01538681  0.01950643 -0.01380416  0.03072761 -0.03911542\n",
      "  -0.02930917 -0.00481915 -0.02900065 -0.02490515 -0.01424808  0.04816622\n",
      "   0.02263272  0.04963228 -0.02410864  0.02315004  0.03375096  0.00974845\n",
      "   0.00941111  0.00799989  0.02369704  0.01740075  0.00076203  0.04980678\n",
      "   0.04258752  0.02103769 -0.04314796 -0.04044906  0.02436301  0.02921626\n",
      "   0.02286867 -0.02617328  0.00139303 -0.03906031  0.01613742  0.01547117\n",
      "  -0.0096756  -0.03106909  0.02813964 -0.02417099 -0.02343991 -0.03158716\n",
      "   0.00561471  0.00397884  0.03846865  0.00240859 -0.0360173   0.03262855\n",
      "   0.02388224 -0.02924123]\n",
      " [-0.02737961 -0.03082401  0.02746657  0.02740775 -0.02576965 -0.04143659\n",
      "  -0.00878966 -0.00623048  0.0170818  -0.03327789 -0.00116141  0.01066292\n",
      "  -0.02008796 -0.03511119 -0.00334692 -0.00926175  0.00081098  0.01630678\n",
      "  -0.03673625 -0.03856901 -0.03033888  0.04967641  0.03651092 -0.04464081\n",
      "  -0.0318986   0.02367293  0.01560993  0.02339703  0.00472031  0.02938808\n",
      "  -0.03487058  0.01392044 -0.03768461  0.02058455 -0.03749707 -0.04394983\n",
      "   0.04093396 -0.03298724  0.02939135  0.03287499 -0.02906994  0.01162057\n",
      "  -0.01636298 -0.02388058  0.01605591 -0.03560867  0.01953477  0.01034316\n",
      "   0.03509202  0.0476267   0.04491739 -0.00241872  0.02955418  0.01354394\n",
      "   0.00389571 -0.01519308 -0.03187916 -0.03410504  0.03915358 -0.0184154\n",
      "  -0.04221872  0.02647997 -0.01876056  0.01002524 -0.01598186  0.00189037\n",
      "   0.04495383 -0.00028386  0.04367014 -0.02503189 -0.00088694 -0.01454159\n",
      "   0.00662593 -0.0259274  -0.01507684 -0.00020577 -0.0234944   0.02216207\n",
      "  -0.02081572  0.01538681  0.01950643 -0.01380416  0.03072761 -0.03911542\n",
      "  -0.02930917 -0.00481915 -0.02900065 -0.02490515 -0.01424808  0.04816622\n",
      "   0.02263272  0.04963228 -0.02410864  0.02315004  0.03375096  0.00974845\n",
      "   0.00941111  0.00799989  0.02369704  0.01740075  0.00076203  0.04980678\n",
      "   0.04258752  0.02103769 -0.04314796 -0.04044906  0.02436301  0.02921626\n",
      "   0.02286867 -0.02617328  0.00139303 -0.03906031  0.01613742  0.01547117\n",
      "  -0.0096756  -0.03106909  0.02813964 -0.02417099 -0.02343991 -0.03158716\n",
      "   0.00561471  0.00397884  0.03846865  0.00240859 -0.0360173   0.03262855\n",
      "   0.02388224 -0.02924123]]\n"
     ]
    },
    {
     "name": "stderr",
     "output_type": "stream",
     "text": [
      "2023-10-28 16:54:15.815640: I tensorflow/core/framework/local_rendezvous.cc:421] Local rendezvous recv item cancelled. Key hash: 14381376272857983699\n",
      "2023-10-28 16:54:15.815706: I tensorflow/core/framework/local_rendezvous.cc:421] Local rendezvous recv item cancelled. Key hash: 14509443298838281313\n",
      "2023-10-28 16:54:15.815732: I tensorflow/core/framework/local_rendezvous.cc:421] Local rendezvous recv item cancelled. Key hash: 4973267201423381505\n",
      "2023-10-28 16:54:15.815749: I tensorflow/core/framework/local_rendezvous.cc:421] Local rendezvous recv item cancelled. Key hash: 5276869222262990729\n",
      "2023-10-28 16:54:15.815767: I tensorflow/core/framework/local_rendezvous.cc:421] Local rendezvous recv item cancelled. Key hash: 5683344778410076232\n",
      "2023-10-28 16:54:15.815789: I tensorflow/core/framework/local_rendezvous.cc:421] Local rendezvous recv item cancelled. Key hash: 14507250806045515716\n",
      "2023-10-28 16:54:15.815808: I tensorflow/core/framework/local_rendezvous.cc:421] Local rendezvous recv item cancelled. Key hash: 2194499402143631236\n"
     ]
    }
   ],
   "source": [
    "prod_model = ProductModel(product_model, product_name_model, product_group_model, product_type_model)\n",
    "result = prod_model.predict(train.map(lambda x:{'article_id': x['article_id'], 'prod_name':x['prod_name'], 'product_group_name':x['product_group_name'], 'product_type_name':x['product_type_name']}).batch(2).take(1).as_numpy_iterator())\n",
    "print(f\"Computed representations: {result}\")"
   ]
  },
  {
   "cell_type": "code",
   "execution_count": 173,
   "metadata": {
    "id": "ZvkZ8qt4B-ak"
   },
   "outputs": [],
   "source": [
    "#Generating embeddings from article ids to be used by evaluation layer to calculate the similarity score\n",
    "articles = pd.read_csv('../../data/processed/articles_filled_priced.csv')[['article_id', 'prod_name']]#.sample(sample_size, random_state=1)\n",
    "article_ids = articles.astype(str).map(lambda x: x.encode('utf-8'))\n",
    "article_embeddings = prod_model(article_ids)\n",
    "candidates_dataset = tf.data.Dataset.from_tensor_slices(article_embeddings)"
   ]
  },
  {
   "cell_type": "code",
   "execution_count": 174,
   "metadata": {
    "id": "fXECLqZ3SQWD"
   },
   "outputs": [],
   "source": [
    "class QueryModel(tf.keras.Model):\n",
    "  \"\"\"Model for encoding user queries (customers).\"\"\"\n",
    "\n",
    "  def __init__(self, layer_sizes, customer_model, customer_postal_code):\n",
    "    \"\"\"Model for encoding user queries (customers).\n",
    "\n",
    "    Args:\n",
    "      layer_sizes:\n",
    "        A list of integers where the i-th entry represents the number of units\n",
    "        the i-th layer contains.\n",
    "    \"\"\"\n",
    "    super().__init__()\n",
    "\n",
    "    # We first use the user model for generating embeddings.\n",
    "    self.embedding_model = CustomerModel(customer_model, customer_postal_code)\n",
    "\n",
    "    # Then construct the layers.\n",
    "    self.dense_layers = tf.keras.Sequential()\n",
    "\n",
    "    # Use the ReLU activation for all but the last layer.\n",
    "    for layer_size in layer_sizes[:-1]:\n",
    "      self.dense_layers.add(tf.keras.layers.Dense(layer_size, activation=\"relu\"))\n",
    "\n",
    "    # No activation for the last layer.\n",
    "    for layer_size in layer_sizes[-1:]:\n",
    "      self.dense_layers.add(tf.keras.layers.Dense(layer_size))\n",
    "\n",
    "  def call(self, inputs):\n",
    "    feature_embedding = self.embedding_model(inputs)\n",
    "    return self.dense_layers(feature_embedding)"
   ]
  },
  {
   "cell_type": "code",
   "execution_count": 175,
   "metadata": {
    "id": "ponX9mcASe3J"
   },
   "outputs": [],
   "source": [
    "class CandidateModel(tf.keras.Model):\n",
    "  \"\"\"Model for encoding products.\"\"\"\n",
    "\n",
    "  def __init__(self, layer_sizes, product_model, product_name_model, product_group_model, product_type_model):\n",
    "    \"\"\"Model for encoding products.\n",
    "\n",
    "    Args:\n",
    "      layer_sizes:\n",
    "        A list of integers where the i-th entry represents the number of units\n",
    "        the i-th layer contains.\n",
    "    \"\"\"\n",
    "    super().__init__()\n",
    "\n",
    "    self.embedding_model = ProductModel(product_model, product_name_model, product_group_model, product_type_model)\n",
    "\n",
    "    # Then construct the layers.\n",
    "    self.dense_layers = tf.keras.Sequential()\n",
    "\n",
    "    # Use the ReLU activation for all but the last layer.\n",
    "    for layer_size in layer_sizes[:-1]:\n",
    "      self.dense_layers.add(tf.keras.layers.Dense(layer_size, activation=\"relu\"))\n",
    "\n",
    "    # No activation for the last layer.\n",
    "    for layer_size in layer_sizes[-1:]:\n",
    "      self.dense_layers.add(tf.keras.layers.Dense(layer_size))\n",
    "\n",
    "  def call(self, inputs):\n",
    "    feature_embedding = self.embedding_model(inputs)\n",
    "    return self.dense_layers(feature_embedding)"
   ]
  },
  {
   "cell_type": "code",
   "execution_count": 193,
   "metadata": {
    "id": "b3eYB9PkSuFl"
   },
   "outputs": [],
   "source": [
    "class ProductlensModel(tfrs.models.Model):\n",
    "\n",
    "    def __init__(self, layer_sizes, product_model, customer_model, customer_postal_code, product_name_model, product_group_model, product_type_model):\n",
    "        super().__init__()\n",
    "        self.query_model = QueryModel(layer_sizes, customer_model, customer_postal_code)\n",
    "        self.candidate_model = CandidateModel(layer_sizes, product_model, product_name_model, product_group_model, product_type_model)\n",
    "        self.task = tfrs.tasks.Retrieval(\n",
    "            metrics=tfrs.metrics.FactorizedTopK(\n",
    "                candidates=train.batch(128).map(self.candidate_model),\n",
    "            ),\n",
    "        )\n",
    "\n",
    "    def compute_loss(self, features, training=False):\n",
    "        # We only pass the user id and timestamp features into the query model. This\n",
    "        # is to ensure that the training inputs would have the same keys as the\n",
    "        # query inputs. Otherwise the discrepancy in input structure would cause an\n",
    "        # error when loading the query model after saving it.\n",
    "        query_embeddings = self.query_model({\n",
    "            \"customer_id\": features[\"customer_id\"],\n",
    "            \"postal_code\": features[\"postal_code\"]\n",
    "        })\n",
    "        product_embeddings = self.candidate_model({\n",
    "            'article_id':features[\"article_id\"], \n",
    "            \"prod_name\":features[\"prod_name\"],\n",
    "            'product_group_name':features['product_group_name'], \n",
    "            'product_type_name':features['product_type_name']\n",
    "        })\n",
    "\n",
    "        return self.task(\n",
    "            query_embeddings, product_embeddings, compute_metrics=not training)\n",
    "\n",
    "\n",
    "    def call(self, inputs, training=False):\n",
    "        # Extract different inputs\n",
    "        customer_id = inputs['customer_id']\n",
    "        postal_code = inputs['postal_code']\n",
    "        article_id = inputs['article_id']\n",
    "        prod_name = inputs['prod_name']\n",
    "        product_group_name = inputs['product_group_name']\n",
    "        product_type_name = inputs['product_type_name']\n",
    "\n",
    "        # Compute query and candidate embeddings\n",
    "        query_embeddings = self.query_model({\n",
    "            \"customer_id\": customer_id,\n",
    "            \"postal_code\": postal_code,\n",
    "        })\n",
    "        product_embeddings = self.candidate_model({\n",
    "            'article_id': article_id,\n",
    "            'prod_name': prod_name,\n",
    "            'product_group_name': product_group_name,\n",
    "            'product_type_name': product_type_name,\n",
    "        })\n",
    "\n",
    "        # (You might need to add additional logic here, depending on your specific use case)\n",
    "\n",
    "        return query_embeddings, product_embeddings"
   ]
  },
  {
   "cell_type": "code",
   "execution_count": 232,
   "metadata": {
    "id": "zevzX5p8ULu2"
   },
   "outputs": [],
   "source": [
    "num_epochs = 1\n",
    "learning_rate = 0.001\n",
    "batch_size=128"
   ]
  },
  {
   "cell_type": "code",
   "execution_count": 233,
   "metadata": {
    "id": "W4bh9WTSaxEw"
   },
   "outputs": [],
   "source": [
    "cached_train = train.batch(batch_size).cache()\n",
    "cached_test = test.batch(batch_size).cache()"
   ]
  },
  {
   "cell_type": "code",
   "execution_count": 234,
   "metadata": {
    "id": "zGYHR0aFUTWs"
   },
   "outputs": [],
   "source": [
    "model = ProductlensModel([128,64,32], product_model=product_model, customer_model=customer_model, customer_postal_code=customer_postal_code, product_name_model=product_name_model, product_group_model=product_group_model, product_type_model=product_type_model)\n",
    "model.compile(optimizer=tf.keras.optimizers.Adagrad(learning_rate))"
   ]
  },
  {
   "cell_type": "code",
   "execution_count": 229,
   "metadata": {},
   "outputs": [
    {
     "name": "stderr",
     "output_type": "stream",
     "text": [
      "2023-10-28 17:15:35.382971: W tensorflow/core/kernels/data/cache_dataset_ops.cc:854] The calling iterator did not fully read the dataset being cached. In order to avoid unexpected truncation of the dataset, the partially cached contents of the dataset  will be discarded. This can happen if you have an input pipeline similar to `dataset.cache().take(k).repeat()`. You should use `dataset.take(k).cache().repeat()` instead.\n"
     ]
    },
    {
     "data": {
      "text/plain": [
       "(<tf.Tensor: shape=(128, 32), dtype=float32, numpy=\n",
       " array([[ 0.0245174 ,  0.03292342,  0.02845723, ..., -0.00230326,\n",
       "         -0.05297849, -0.05727484],\n",
       "        [-0.02250495, -0.04904301, -0.01298611, ...,  0.0128459 ,\n",
       "         -0.12953466,  0.00859541],\n",
       "        [-0.00806028,  0.04020363, -0.02803747, ...,  0.02295982,\n",
       "         -0.07822144, -0.03084722],\n",
       "        ...,\n",
       "        [ 0.01989274,  0.00837284, -0.00828524, ...,  0.00248457,\n",
       "         -0.01894611,  0.00043546],\n",
       "        [ 0.00468841,  0.02643885,  0.01049398, ...,  0.01359197,\n",
       "         -0.00958424, -0.01350108],\n",
       "        [-0.02349425,  0.01075432, -0.03159231, ...,  0.03635402,\n",
       "         -0.05501918, -0.00261772]], dtype=float32)>,\n",
       " <tf.Tensor: shape=(128, 32), dtype=float32, numpy=\n",
       " array([[-0.04177791,  0.00132753, -0.02987937, ..., -0.01257239,\n",
       "          0.00306093,  0.05912175],\n",
       "        [-0.04212455,  0.0253659 , -0.0036051 , ...,  0.08195554,\n",
       "          0.05458586, -0.01644351],\n",
       "        [-0.11145473,  0.03343907,  0.01572179, ...,  0.00589723,\n",
       "         -0.00526724,  0.00557145],\n",
       "        ...,\n",
       "        [-0.0015865 ,  0.06599285,  0.01888597, ...,  0.0997232 ,\n",
       "         -0.02340106,  0.0167862 ],\n",
       "        [ 0.03893925,  0.01844103,  0.02511518, ...,  0.07222229,\n",
       "          0.00553894, -0.00580596],\n",
       "        [-0.01862864, -0.00258398,  0.04335083, ...,  0.03268222,\n",
       "         -0.02653443,  0.12359682]], dtype=float32)>)"
      ]
     },
     "execution_count": 229,
     "metadata": {},
     "output_type": "execute_result"
    }
   ],
   "source": [
    "example_batch = next(iter(cached_train))\n",
    "model(example_batch)"
   ]
  },
  {
   "cell_type": "code",
   "execution_count": 230,
   "metadata": {},
   "outputs": [
    {
     "name": "stdout",
     "output_type": "stream",
     "text": [
      "Model: \"productlens_model_22\"\n",
      "_________________________________________________________________\n",
      " Layer (type)                Output Shape              Param #   \n",
      "=================================================================\n",
      " query_model_22 (QueryModel  multiple                  23143136  \n",
      " )                                                               \n",
      "                                                                 \n",
      " candidate_model_22 (Candid  multiple                  6786464   \n",
      " ateModel)                                                       \n",
      "                                                                 \n",
      " retrieval_20 (Retrieval)    multiple                  0 (unused)\n",
      "                                                                 \n",
      "=================================================================\n",
      "Total params: 29929601 (114.17 MB)\n",
      "Trainable params: 29929600 (114.17 MB)\n",
      "Non-trainable params: 1 (4.00 Byte)\n",
      "_________________________________________________________________\n"
     ]
    }
   ],
   "source": [
    "model.summary()"
   ]
  },
  {
   "cell_type": "code",
   "execution_count": 235,
   "metadata": {
    "colab": {
     "base_uri": "https://localhost:8080/",
     "height": 613
    },
    "id": "yHC-mMeiUC-F",
    "outputId": "be63355e-9edc-4926-dbae-42bf7e41bca2",
    "scrolled": true
   },
   "outputs": [
    {
     "name": "stdout",
     "output_type": "stream",
     "text": [
      "9833/9833 [==============================] - 167s 17ms/step - factorized_top_k/top_1_categorical_accuracy: 0.0000e+00 - factorized_top_k/top_5_categorical_accuracy: 0.0000e+00 - factorized_top_k/top_10_categorical_accuracy: 0.0000e+00 - factorized_top_k/top_50_categorical_accuracy: 0.0000e+00 - factorized_top_k/top_100_categorical_accuracy: 0.0000e+00 - loss: 501.0054 - regularization_loss: 0.0000e+00 - total_loss: 501.0054\n"
     ]
    }
   ],
   "source": [
    "three_layer_history = model.fit(\n",
    "    cached_train,\n",
    "    epochs=num_epochs,\n",
    "    verbose=1)\n"
   ]
  },
  {
   "cell_type": "code",
   "execution_count": null,
   "metadata": {
    "scrolled": false
   },
   "outputs": [],
   "source": [
    "model.evaluate(cached_test, return_dict=True)"
   ]
  },
  {
   "cell_type": "code",
   "execution_count": null,
   "metadata": {
    "id": "F72ymxq5mpbw"
   },
   "outputs": [],
   "source": []
  },
  {
   "cell_type": "code",
   "execution_count": null,
   "metadata": {},
   "outputs": [],
   "source": []
  }
 ],
 "metadata": {
  "colab": {
   "collapsed_sections": [
    "ehfeCFTL5vNp",
    "4v-02z1NsVUF"
   ],
   "provenance": []
  },
  "kernelspec": {
   "display_name": "Tensorflow",
   "language": "python",
   "name": "tf"
  },
  "language_info": {
   "codemirror_mode": {
    "name": "ipython",
    "version": 3
   },
   "file_extension": ".py",
   "mimetype": "text/x-python",
   "name": "python",
   "nbconvert_exporter": "python",
   "pygments_lexer": "ipython3",
   "version": "3.10.4"
  }
 },
 "nbformat": 4,
 "nbformat_minor": 1
}
