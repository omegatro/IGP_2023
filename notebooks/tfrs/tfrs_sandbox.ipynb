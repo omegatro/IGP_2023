{
 "cells": [
  {
   "cell_type": "markdown",
   "metadata": {
    "id": "2PCr_mq73Jcl"
   },
   "source": [
    "# Trying to adapt solution from [TFRS](https://www.tensorflow.org/recommenders/examples/basic_retrieval) tutorial for H&M data."
   ]
  },
  {
   "cell_type": "code",
   "execution_count": 1,
   "metadata": {
    "id": "Ymlm3PE2iM8v"
   },
   "outputs": [
    {
     "name": "stderr",
     "output_type": "stream",
     "text": [
      "2023-10-27 18:28:28.274945: E tensorflow/compiler/xla/stream_executor/cuda/cuda_dnn.cc:9342] Unable to register cuDNN factory: Attempting to register factory for plugin cuDNN when one has already been registered\n",
      "2023-10-27 18:28:28.275005: E tensorflow/compiler/xla/stream_executor/cuda/cuda_fft.cc:609] Unable to register cuFFT factory: Attempting to register factory for plugin cuFFT when one has already been registered\n",
      "2023-10-27 18:28:28.280282: E tensorflow/compiler/xla/stream_executor/cuda/cuda_blas.cc:1518] Unable to register cuBLAS factory: Attempting to register factory for plugin cuBLAS when one has already been registered\n",
      "2023-10-27 18:28:28.712114: I tensorflow/core/platform/cpu_feature_guard.cc:182] This TensorFlow binary is optimized to use available CPU instructions in performance-critical operations.\n",
      "To enable the following instructions: AVX2 FMA, in other operations, rebuild TensorFlow with the appropriate compiler flags.\n"
     ]
    }
   ],
   "source": [
    "import os\n",
    "import pprint\n",
    "import tempfile\n",
    "import datetime\n",
    "import pandas as pd\n",
    "import numpy as np\n",
    "import tensorflow as tf\n",
    "import tensorflow_recommenders as tfrs\n",
    "\n",
    "from typing import Dict, Text\n",
    "from sklearn.model_selection import train_test_split"
   ]
  },
  {
   "cell_type": "markdown",
   "metadata": {
    "id": "JEbIeMX3dl9T"
   },
   "source": [
    "# Short EDA on customer & article metadata"
   ]
  },
  {
   "cell_type": "code",
   "execution_count": 2,
   "metadata": {
    "id": "ngtULI4EZpiV"
   },
   "outputs": [],
   "source": [
    "#article data\n",
    "art_df = pd.read_csv('../../data/processed/articles_filled_priced.csv')"
   ]
  },
  {
   "cell_type": "code",
   "execution_count": 3,
   "metadata": {
    "id": "gECz7o0gZppN"
   },
   "outputs": [],
   "source": [
    "#customer data\n",
    "cus_df = pd.read_csv('../../data/processed/customers_filled.csv')"
   ]
  },
  {
   "cell_type": "markdown",
   "metadata": {
    "id": "_VJpIadL3aU6"
   },
   "source": [
    "- H&M transaction data were subsampled using [custom function](https://github.com/omegatro/IGP_2023/blob/main/modules/preprocessing.py to 5% of the original records (seed = 4312).\n",
    "- The subsampled data were transformed to represent number of transactions for individual customer-product combinations (number of times each product was bought by each customer). The following code was used:\n",
    "```\n",
    "df = df.groupby(['customer_id', 'article_id']).count()\n",
    "df = df[['customer_id', 'article_id','t_dat']].reset_index()\n",
    "df.rename(columns={'t_dat':'t_count'}, inplace = True)\n",
    "df.to_csv('0_05_4312_cus_art_grp_count.csv', header=True, index=False)\n",
    "```\n",
    "- The resulting file was uploaded to google drive to work with from colab."
   ]
  },
  {
   "cell_type": "code",
   "execution_count": 4,
   "metadata": {
    "id": "XJRYWX4VeEQx"
   },
   "outputs": [],
   "source": [
    "#In this iteration, only ids are used as attributes for simplicity\n",
    "counts = pd.read_csv('../../data/processed/0_05_4312_cus_art_grp_count.csv')[['customer_id', 'article_id']].sample(250_000)"
   ]
  },
  {
   "cell_type": "code",
   "execution_count": 5,
   "metadata": {
    "id": "yTaEu3TLuxdI"
   },
   "outputs": [],
   "source": [
    "#Adding product features\n",
    "counts = counts.merge(art_df, left_on='article_id', right_on='article_id', how='left')"
   ]
  },
  {
   "cell_type": "code",
   "execution_count": 6,
   "metadata": {
    "colab": {
     "base_uri": "https://localhost:8080/"
    },
    "id": "Jtfp8WMkxK_u",
    "outputId": "841cbb08-94a7-4f17-a3b4-9c480d5164a6"
   },
   "outputs": [
    {
     "data": {
      "text/plain": [
       "Index(['customer_id', 'article_id', 'product_code', 'prod_name',\n",
       "       'product_type_no', 'product_type_name', 'product_group_name',\n",
       "       'graphical_appearance_no', 'graphical_appearance_name',\n",
       "       'colour_group_code', 'colour_group_name', 'perceived_colour_value_id',\n",
       "       'perceived_colour_value_name', 'perceived_colour_master_id',\n",
       "       'perceived_colour_master_name', 'department_no', 'department_name',\n",
       "       'index_code', 'index_name', 'index_group_no', 'index_group_name',\n",
       "       'section_no', 'section_name', 'garment_group_no', 'garment_group_name',\n",
       "       'detail_desc', 'avg_price'],\n",
       "      dtype='object')"
      ]
     },
     "execution_count": 6,
     "metadata": {},
     "output_type": "execute_result"
    }
   ],
   "source": [
    "counts.columns"
   ]
  },
  {
   "cell_type": "code",
   "execution_count": 7,
   "metadata": {
    "id": "FG7NW642viZd"
   },
   "outputs": [],
   "source": [
    "#Adding customer features\n",
    "counts = counts.merge(cus_df, left_on='customer_id', right_on='customer_id', how='left')"
   ]
  },
  {
   "cell_type": "code",
   "execution_count": 20,
   "metadata": {
    "id": "2c3fhTKKuv99"
   },
   "outputs": [],
   "source": [
    "#Generating training and test subsets\n",
    "train, test = train_test_split(counts, test_size=0.2)\n",
    "#Getting unique user ids (required to transform those into embeddings by the model)\n",
    "unq_cids = counts.customer_id.unique()"
   ]
  },
  {
   "cell_type": "code",
   "execution_count": 9,
   "metadata": {
    "id": "bYlpH7CYgHce"
   },
   "outputs": [],
   "source": [
    "#Getting product ids (required to transform those into embeddings by the model)\n",
    "articles = pd.read_csv('../../data/processed/articles_filled_priced.csv')[['article_id']]#.sample(sample_size, random_state=1)\n",
    "unq_articles = articles.article_id.unique().astype(str)\n",
    "article_ids = articles['article_id'].astype(str).map(lambda x: x.encode('utf-8'))"
   ]
  },
  {
   "cell_type": "code",
   "execution_count": 10,
   "metadata": {
    "colab": {
     "base_uri": "https://localhost:8080/"
    },
    "id": "4VxPoBPN2qxT",
    "outputId": "3e8a1033-ffcf-40ed-977f-6c22788ec44a"
   },
   "outputs": [
    {
     "name": "stdout",
     "output_type": "stream",
     "text": [
      "0    b'108775015'\n",
      "1    b'108775044'\n",
      "2    b'108775051'\n",
      "3    b'110065001'\n",
      "4    b'110065002'\n",
      "Name: article_id, dtype: object\n"
     ]
    }
   ],
   "source": [
    "print(article_ids[:5])"
   ]
  },
  {
   "cell_type": "code",
   "execution_count": 11,
   "metadata": {
    "colab": {
     "base_uri": "https://localhost:8080/"
    },
    "id": "-ovw4JPw2-d6",
    "outputId": "e2eb28a3-f2bb-4f23-a8b7-825046689fec"
   },
   "outputs": [
    {
     "name": "stdout",
     "output_type": "stream",
     "text": [
      "['108775015' '108775044' '108775051' '110065001' '110065002']\n"
     ]
    }
   ],
   "source": [
    "print(unq_articles[:5])"
   ]
  },
  {
   "cell_type": "code",
   "execution_count": 12,
   "metadata": {
    "colab": {
     "base_uri": "https://localhost:8080/"
    },
    "id": "ektO1J12f-I7",
    "outputId": "f41fd76a-66eb-4234-abf0-a7356ca7b2f8"
   },
   "outputs": [
    {
     "data": {
      "text/plain": [
       "191869"
      ]
     },
     "execution_count": 12,
     "metadata": {},
     "output_type": "execute_result"
    }
   ],
   "source": [
    "len(unq_cids)"
   ]
  },
  {
   "cell_type": "code",
   "execution_count": 13,
   "metadata": {
    "colab": {
     "base_uri": "https://localhost:8080/"
    },
    "id": "IAnpi6sieLoK",
    "outputId": "e0f5b012-77d5-4b87-a94d-cb95d288b8a4"
   },
   "outputs": [
    {
     "data": {
      "text/plain": [
       "105542"
      ]
     },
     "execution_count": 13,
     "metadata": {},
     "output_type": "execute_result"
    }
   ],
   "source": [
    "len(unq_articles)"
   ]
  },
  {
   "cell_type": "markdown",
   "metadata": {
    "id": "JRgf4c-c5cBU"
   },
   "source": [
    "# Converting from pandas df to tensorflow datasets for compatibility"
   ]
  },
  {
   "cell_type": "code",
   "execution_count": 20,
   "metadata": {
    "id": "0CaTGLR7_eg-"
   },
   "outputs": [],
   "source": [
    "train['customer_id'] = train.customer_id.astype(str)\n",
    "train['article_id'] = train.article_id.astype(str)\n",
    "train = train.to_dict(orient='list')\n",
    "train = tf.data.Dataset.from_tensor_slices(train)"
   ]
  },
  {
   "cell_type": "code",
   "execution_count": 22,
   "metadata": {
    "id": "g1efdOWsp-1s"
   },
   "outputs": [],
   "source": [
    "test['customer_id'] = test.customer_id.astype(str)\n",
    "test['article_id'] = test.article_id.astype(str)\n",
    "test = test.to_dict(orient='list')\n",
    "test = tf.data.Dataset.from_tensor_slices(test)"
   ]
  },
  {
   "cell_type": "code",
   "execution_count": 23,
   "metadata": {
    "colab": {
     "base_uri": "https://localhost:8080/"
    },
    "id": "YaUwDqS9AruK",
    "outputId": "5e18018e-0f9c-4a39-fd7f-f24dedf63508"
   },
   "outputs": [
    {
     "name": "stdout",
     "output_type": "stream",
     "text": [
      "{'article_id': b'651724003',\n",
      " 'customer_id': b'dccadcde4cec8a6ca4a4c018bf5a02c36ad9e35fba8e28c00114adc057a1'\n",
      "                b'938c'}\n"
     ]
    }
   ],
   "source": [
    "for x in train.take(1).as_numpy_iterator():\n",
    "  pprint.pprint(x)"
   ]
  },
  {
   "cell_type": "code",
   "execution_count": 24,
   "metadata": {
    "colab": {
     "base_uri": "https://localhost:8080/"
    },
    "id": "TiEvoHALAszE",
    "outputId": "98716477-b5e7-4704-9e1e-c4f0a780f52d"
   },
   "outputs": [
    {
     "name": "stdout",
     "output_type": "stream",
     "text": [
      "{'article_id': b'647355002',\n",
      " 'customer_id': b'2920ade22c670d0ad69447ca93bd80dd6ee4854d98fa6cff9dc07afe12fe'\n",
      "                b'ea73'}\n"
     ]
    }
   ],
   "source": [
    "for x in test.take(1).as_numpy_iterator():\n",
    "  pprint.pprint(x)"
   ]
  },
  {
   "cell_type": "markdown",
   "metadata": {
    "id": "FlEDHka-dsyD"
   },
   "source": [
    "# TFRS-based modeling experiments"
   ]
  },
  {
   "cell_type": "markdown",
   "metadata": {
    "id": "ZfKyt08f5lDa"
   },
   "source": [
    "# Adapting the model"
   ]
  },
  {
   "cell_type": "code",
   "execution_count": 25,
   "metadata": {
    "id": "98pAJXkeiGcV"
   },
   "outputs": [],
   "source": [
    "embedding_dimension = 64"
   ]
  },
  {
   "cell_type": "markdown",
   "metadata": {
    "id": "ehfeCFTL5vNp"
   },
   "source": [
    "# Converting features into embedding vectors\n"
   ]
  },
  {
   "cell_type": "code",
   "execution_count": 26,
   "metadata": {
    "id": "enbBaXAQie2a"
   },
   "outputs": [],
   "source": [
    "customer_model = tf.keras.Sequential([\n",
    "  tf.keras.layers.StringLookup(\n",
    "      vocabulary=unq_cids, mask_token=None),\n",
    "  # We add an additional embedding to account for unknown tokens.\\\n",
    "  tf.keras.layers.Embedding(len(unq_cids) + 1, embedding_dimension)\n",
    "])"
   ]
  },
  {
   "cell_type": "code",
   "execution_count": 27,
   "metadata": {
    "id": "HFuA2xCNikAk"
   },
   "outputs": [],
   "source": [
    "product_model = tf.keras.Sequential([\n",
    "  tf.keras.layers.StringLookup(\n",
    "      vocabulary=unq_articles, mask_token=None),\n",
    "  tf.keras.layers.Embedding(len(unq_articles) + 1, embedding_dimension)\n",
    "])"
   ]
  },
  {
   "cell_type": "code",
   "execution_count": 28,
   "metadata": {
    "id": "boyD6iSfkpei"
   },
   "outputs": [],
   "source": [
    "#Generating embeddings from article ids to be used by evaluation layer to calculate the similarity score\n",
    "article_embeddings = product_model(article_ids)\n",
    "candidates_dataset = tf.data.Dataset.from_tensor_slices(article_embeddings)"
   ]
  },
  {
   "cell_type": "code",
   "execution_count": 29,
   "metadata": {
    "id": "uYCABy7oi18c"
   },
   "outputs": [],
   "source": [
    "metrics = tfrs.metrics.FactorizedTopK(\n",
    "    candidates=candidates_dataset.batch(128)  # Batch the candidates for efficiency\n",
    ")"
   ]
  },
  {
   "cell_type": "code",
   "execution_count": 30,
   "metadata": {
    "id": "0Yu1R-pHi39t"
   },
   "outputs": [],
   "source": [
    "task = tfrs.tasks.Retrieval(\n",
    "  metrics=metrics\n",
    ")"
   ]
  },
  {
   "cell_type": "code",
   "execution_count": 31,
   "metadata": {
    "id": "FeuJRqnDlBDN"
   },
   "outputs": [],
   "source": [
    "class ProductlensModel(tfrs.Model):\n",
    "\n",
    "  def __init__(self, customer_model, product_model):\n",
    "    super().__init__()\n",
    "    self.product_model: tf.keras.Model = product_model\n",
    "    self.customer_model: tf.keras.Model = customer_model\n",
    "    self.task: tf.keras.layers.Layer = task\n",
    "\n",
    "  def compute_loss(self, features: Dict[Text, tf.Tensor], training=False) -> tf.Tensor:\n",
    "    # We pick out the user features and pass them into the user model.\n",
    "    customer_embeddings = self.customer_model(features[\"customer_id\"])\n",
    "    # And pick out the product features and pass them into the product model,\n",
    "    # getting embeddings back.\n",
    "    positive_product_embeddings = self.product_model(features[\"article_id\"])\n",
    "\n",
    "    # The task computes the loss and the metrics.\n",
    "    return self.task(customer_embeddings, positive_product_embeddings, compute_metrics=not training)"
   ]
  },
  {
   "cell_type": "code",
   "execution_count": null,
   "metadata": {
    "id": "hAsaHOPgowLi"
   },
   "outputs": [],
   "source": [
    "class NoBaseClassProductlensModel(tf.keras.Model):\n",
    "\n",
    "  def __init__(self, customer_model, product_model):\n",
    "    super().__init__()\n",
    "    self.product_model: tf.keras.Model = product_model\n",
    "    self.customer_model: tf.keras.Model = customer_model\n",
    "    self.task: tf.keras.layers.Layer = task\n",
    "\n",
    "  def train_step(self, features: Dict[Text, tf.Tensor]) -> tf.Tensor:\n",
    "\n",
    "    # Set up a gradient tape to record gradients.\n",
    "    with tf.GradientTape() as tape:\n",
    "\n",
    "      # Loss computation.\n",
    "      customer_embeddings = self.customer_model(features[\"customer_id\"])\n",
    "      positive_product_embeddings = self.product_model(features[\"article_id\"])\n",
    "      loss = self.task(customer_embeddings, positive_product_embeddings)\n",
    "\n",
    "      # Handle regularization losses as well.\n",
    "      regularization_loss = sum(self.losses)\n",
    "\n",
    "      total_loss = loss + regularization_loss\n",
    "\n",
    "    gradients = tape.gradient(total_loss, self.trainable_variables)\n",
    "    self.optimizer.apply_gradients(zip(gradients, self.trainable_variables))\n",
    "\n",
    "    metrics = {metric.name: metric.result() for metric in self.metrics}\n",
    "    metrics[\"loss\"] = loss\n",
    "    metrics[\"regularization_loss\"] = regularization_loss\n",
    "    metrics[\"total_loss\"] = total_loss\n",
    "\n",
    "    return metrics\n",
    "\n",
    "  def test_step(self, features: Dict[Text, tf.Tensor]) -> tf.Tensor:\n",
    "\n",
    "    # Loss computation.\n",
    "    customer_embeddings = self.customer_model(features[\"customer_id\"])\n",
    "    positive_product_embeddings = self.product_model(features[\"article_id\"])\n",
    "    loss = self.task(customer_embeddings, positive_product_embeddings)\n",
    "\n",
    "    # Handle regularization losses as well.\n",
    "    regularization_loss = sum(self.losses)\n",
    "\n",
    "    total_loss = loss + regularization_loss\n",
    "\n",
    "    metrics = {metric.name: metric.result() for metric in self.metrics}\n",
    "    metrics[\"loss\"] = loss\n",
    "    metrics[\"regularization_loss\"] = regularization_loss\n",
    "    metrics[\"total_loss\"] = total_loss\n",
    "\n",
    "    return metrics"
   ]
  },
  {
   "cell_type": "code",
   "execution_count": 32,
   "metadata": {
    "id": "C4VFEegBKatZ"
   },
   "outputs": [],
   "source": [
    "#Hyperparameters\n",
    "alpha = 25\n",
    "batch_size = 256\n",
    "epochs = 1"
   ]
  },
  {
   "cell_type": "code",
   "execution_count": 33,
   "metadata": {
    "id": "jtxPK85KpuCG"
   },
   "outputs": [],
   "source": [
    "model = ProductlensModel(customer_model, product_model)\n",
    "model.compile(optimizer=tf.keras.optimizers.Adagrad(learning_rate=alpha))"
   ]
  },
  {
   "cell_type": "code",
   "execution_count": 34,
   "metadata": {
    "id": "7X81FD08FHtb"
   },
   "outputs": [],
   "source": [
    "cached_train = train.batch(batch_size).cache()\n",
    "cached_test = test.batch(batch_size).cache()"
   ]
  },
  {
   "cell_type": "code",
   "execution_count": 35,
   "metadata": {
    "colab": {
     "base_uri": "https://localhost:8080/",
     "height": 374
    },
    "id": "ZDTnTMw0p2ot",
    "outputId": "14106b85-69b5-4ef1-b406-e4246e8f03c8"
   },
   "outputs": [
    {
     "name": "stderr",
     "output_type": "stream",
     "text": [
      "2023-10-27 17:14:57.070422: I tensorflow/compiler/xla/service/service.cc:168] XLA service 0x7f7c0881d6a0 initialized for platform CUDA (this does not guarantee that XLA will be used). Devices:\n",
      "2023-10-27 17:14:57.070481: I tensorflow/compiler/xla/service/service.cc:176]   StreamExecutor device (0): NVIDIA GeForce GTX 1660, Compute Capability 7.5\n",
      "2023-10-27 17:14:57.141631: I tensorflow/compiler/mlir/tensorflow/utils/dump_mlir_util.cc:269] disabling MLIR crash reproducer, set env var `MLIR_CRASH_REPRODUCER_DIRECTORY` to enable.\n",
      "2023-10-27 17:14:57.664155: I tensorflow/compiler/xla/stream_executor/cuda/cuda_dnn.cc:442] Loaded cuDNN version 8700\n",
      "2023-10-27 17:14:57.980266: I tensorflow/tsl/platform/default/subprocess.cc:304] Start cannot spawn child process: No such file or directory\n"
     ]
    },
    {
     "name": "stdout",
     "output_type": "stream",
     "text": [
      "\r",
      "  1/782 [..............................] - ETA: 1:07:02 - factorized_top_k/top_1_categorical_accuracy: 0.0000e+00 - factorized_top_k/top_5_categorical_accuracy: 0.0000e+00 - factorized_top_k/top_10_categorical_accuracy: 0.0000e+00 - factorized_top_k/top_50_categorical_accuracy: 0.0000e+00 - factorized_top_k/top_100_categorical_accuracy: 0.0000e+00 - loss: 1419.5621 - regularization_loss: 0.0000e+00 - total_loss: 1419.5621"
     ]
    },
    {
     "name": "stderr",
     "output_type": "stream",
     "text": [
      "2023-10-27 17:14:58.212368: I ./tensorflow/compiler/jit/device_compiler.h:186] Compiled cluster using XLA!  This line is logged at most once for the lifetime of the process.\n"
     ]
    },
    {
     "name": "stdout",
     "output_type": "stream",
     "text": [
      "782/782 [==============================] - 14s 12ms/step - factorized_top_k/top_1_categorical_accuracy: 0.0000e+00 - factorized_top_k/top_5_categorical_accuracy: 0.0000e+00 - factorized_top_k/top_10_categorical_accuracy: 0.0000e+00 - factorized_top_k/top_50_categorical_accuracy: 0.0000e+00 - factorized_top_k/top_100_categorical_accuracy: 0.0000e+00 - loss: 727129.4247 - regularization_loss: 0.0000e+00 - total_loss: 727129.4247\n"
     ]
    },
    {
     "data": {
      "text/plain": [
       "<keras.src.callbacks.History at 0x7f7d85cf40d0>"
      ]
     },
     "execution_count": 35,
     "metadata": {},
     "output_type": "execute_result"
    }
   ],
   "source": [
    "model.fit(cached_train, epochs=epochs)"
   ]
  },
  {
   "cell_type": "code",
   "execution_count": 36,
   "metadata": {
    "id": "kGtKjjiuGJFy"
   },
   "outputs": [
    {
     "name": "stdout",
     "output_type": "stream",
     "text": [
      "196/196 [==============================] - 240s 1s/step - factorized_top_k/top_1_categorical_accuracy: 0.4539 - factorized_top_k/top_5_categorical_accuracy: 0.4543 - factorized_top_k/top_10_categorical_accuracy: 0.4545 - factorized_top_k/top_50_categorical_accuracy: 0.4551 - factorized_top_k/top_100_categorical_accuracy: 0.4553 - loss: 1301809.2741 - regularization_loss: 0.0000e+00 - total_loss: 1301809.2741\n"
     ]
    },
    {
     "data": {
      "text/plain": [
       "{'factorized_top_k/top_1_categorical_accuracy': 0.4538800120353699,\n",
       " 'factorized_top_k/top_5_categorical_accuracy': 0.45427998900413513,\n",
       " 'factorized_top_k/top_10_categorical_accuracy': 0.45451998710632324,\n",
       " 'factorized_top_k/top_50_categorical_accuracy': 0.45513999462127686,\n",
       " 'factorized_top_k/top_100_categorical_accuracy': 0.4553399980068207,\n",
       " 'loss': 358053.0625,\n",
       " 'regularization_loss': 0,\n",
       " 'total_loss': 358053.0625}"
      ]
     },
     "execution_count": 36,
     "metadata": {},
     "output_type": "execute_result"
    }
   ],
   "source": [
    "model.evaluate(cached_test, return_dict=True)"
   ]
  },
  {
   "cell_type": "code",
   "execution_count": 37,
   "metadata": {},
   "outputs": [
    {
     "data": {
      "text/plain": [
       "<tensorflow_recommenders.layers.factorized_top_k.BruteForce at 0x7f7d86294f40>"
      ]
     },
     "execution_count": 37,
     "metadata": {},
     "output_type": "execute_result"
    }
   ],
   "source": [
    "# If 'test' is a dataset of dictionaries that include 'article_id'\n",
    "candidates = test.map(lambda x: (x['article_id'], model.product_model(x['article_id'])))\n",
    "\n",
    "index = tfrs.layers.factorized_top_k.BruteForce(model.customer_model)\n",
    "index.index_from_dataset(candidates.batch(100))"
   ]
  },
  {
   "cell_type": "code",
   "execution_count": 38,
   "metadata": {},
   "outputs": [
    {
     "name": "stdout",
     "output_type": "stream",
     "text": [
      "Recommendations for customer abc: ['854384005', '854384005', '854384005', '357792011', '775482001', '335037001', '823063002', '823063002', '682771001', '682771001']\n"
     ]
    }
   ],
   "source": [
    "# Get recommendations for a specific customer\n",
    "customer_id = 'abc'\n",
    "_, titles = index(tf.constant([customer_id]))\n",
    "print(f\"Recommendations for customer {customer_id}: {titles[0].numpy().astype(str).tolist()}\")"
   ]
  },
  {
   "cell_type": "markdown",
   "metadata": {
    "id": "4v-02z1NsVUF"
   },
   "source": [
    "# Ranking model"
   ]
  },
  {
   "cell_type": "code",
   "execution_count": 15,
   "metadata": {
    "id": "gHKfl5ZTv_Vn"
   },
   "outputs": [],
   "source": [
    "#In this iteration, only ids are used as attributes for simplicity\n",
    "counts = pd.read_csv('../../data/processed/0_05_4312_cus_art_grp_count.csv')[['customer_id', 'article_id','t_count']]\n",
    "#Generating training and test subsets\n",
    "train, test = train_test_split(counts, test_size=0.2)\n",
    "#Getting unique user ids (required to transform those into embeddings by the model)\n",
    "unq_cids = counts.customer_id.unique()"
   ]
  },
  {
   "cell_type": "code",
   "execution_count": 18,
   "metadata": {
    "id": "GpUrdEz8wBde"
   },
   "outputs": [],
   "source": [
    "#Getting product ids (required to transform those into embeddings by the model)\n",
    "articles = pd.read_csv('../../data/processed/articles_filled_priced.csv')[['article_id']]\n",
    "unq_articles = articles.article_id.unique().astype(str)\n",
    "article_ids = articles['article_id'].astype(str).map(lambda x: x.encode('utf-8'))"
   ]
  },
  {
   "cell_type": "code",
   "execution_count": 21,
   "metadata": {
    "id": "3Uxt735MwEYW"
   },
   "outputs": [],
   "source": [
    "train['customer_id'] = train.customer_id.astype(str)\n",
    "train['article_id'] = train.article_id.astype(str)\n",
    "train = train.to_dict(orient='list')\n",
    "train = tf.data.Dataset.from_tensor_slices(train)"
   ]
  },
  {
   "cell_type": "code",
   "execution_count": 22,
   "metadata": {
    "id": "MuwDyB4IzIBR"
   },
   "outputs": [
    {
     "name": "stdout",
     "output_type": "stream",
     "text": [
      "{'article_id': b'714790003',\n",
      " 'customer_id': b'39bc5e71c3609f8e37bd24099d7793dabbd9fdd73261e443f0a929e79b7e'\n",
      "                b'658e',\n",
      " 't_count': 1}\n"
     ]
    }
   ],
   "source": [
    "for x in train.take(1).as_numpy_iterator():\n",
    "  pprint.pprint(x)"
   ]
  },
  {
   "cell_type": "code",
   "execution_count": 23,
   "metadata": {
    "id": "Z_U1KncGwIgU"
   },
   "outputs": [],
   "source": [
    "test['customer_id'] = test.customer_id.astype(str)\n",
    "test['article_id'] = test.article_id.astype(str)\n",
    "test = test.to_dict(orient='list')\n",
    "test = tf.data.Dataset.from_tensor_slices(test)"
   ]
  },
  {
   "cell_type": "code",
   "execution_count": 24,
   "metadata": {
    "id": "O78Z6qUXzJk5"
   },
   "outputs": [
    {
     "name": "stdout",
     "output_type": "stream",
     "text": [
      "{'article_id': b'768759002',\n",
      " 'customer_id': b'99b8cd105ee382f5c0bdaf672696522a0564eec294e94b11ac8b8d7bd2d1'\n",
      "                b'3366',\n",
      " 't_count': 1}\n"
     ]
    }
   ],
   "source": [
    "for x in test.take(1).as_numpy_iterator():\n",
    "  pprint.pprint(x)"
   ]
  },
  {
   "cell_type": "code",
   "execution_count": 25,
   "metadata": {
    "id": "TkdSnaNAsUTD"
   },
   "outputs": [],
   "source": [
    "class RankingModel(tf.keras.Model):\n",
    "\n",
    "  def __init__(self):\n",
    "    super().__init__()\n",
    "    embedding_dimension = 32\n",
    "\n",
    "    # Compute embeddings for users.\n",
    "    self.customer_embeddings = tf.keras.Sequential([\n",
    "      tf.keras.layers.StringLookup(\n",
    "        vocabulary=unq_cids , mask_token=None),\n",
    "      tf.keras.layers.Embedding(len(unq_cids) + 1, embedding_dimension)\n",
    "    ])\n",
    "\n",
    "    # Compute embeddings for product.\n",
    "    self.product_embeddings = tf.keras.Sequential([\n",
    "      tf.keras.layers.StringLookup(\n",
    "        vocabulary=unq_articles, mask_token=None),\n",
    "      tf.keras.layers.Embedding(len(unq_articles) + 1, embedding_dimension)\n",
    "    ])\n",
    "\n",
    "    # Compute predictions.\n",
    "    self.ratings = tf.keras.Sequential([\n",
    "      # Learn multiple dense layers.\n",
    "      tf.keras.layers.Dense(256, activation=\"relu\"),\n",
    "      tf.keras.layers.Dense(64, activation=\"relu\"),\n",
    "      # Make rating predictions in the final layer.\n",
    "      tf.keras.layers.Dense(1)\n",
    "  ])\n",
    "\n",
    "  def call(self, inputs):\n",
    "\n",
    "    cus_id, art_id = inputs\n",
    "\n",
    "    cus_embedding = self.customer_embeddings(cus_id)\n",
    "    art_embedding = self.product_embeddings(art_id)\n",
    "\n",
    "    return self.ratings(tf.concat([cus_embedding, art_embedding], axis=1))"
   ]
  },
  {
   "cell_type": "code",
   "execution_count": 26,
   "metadata": {
    "id": "yxXMZWEisb39"
   },
   "outputs": [],
   "source": [
    "task = tfrs.tasks.Ranking(\n",
    "  loss = tf.keras.losses.MeanSquaredError(),\n",
    "  metrics=[tf.keras.metrics.RootMeanSquaredError()]\n",
    ")"
   ]
  },
  {
   "cell_type": "code",
   "execution_count": 27,
   "metadata": {
    "id": "OW9dIF4isf04"
   },
   "outputs": [],
   "source": [
    "class ProductlensModel(tfrs.models.Model):\n",
    "\n",
    "  def __init__(self):\n",
    "    super().__init__()\n",
    "    self.ranking_model: tf.keras.Model = RankingModel()\n",
    "    self.task: tf.keras.layers.Layer = tfrs.tasks.Ranking(\n",
    "      loss = tf.keras.losses.MeanSquaredError(),\n",
    "      metrics=[tf.keras.metrics.RootMeanSquaredError()]\n",
    "    )\n",
    "\n",
    "  def call(self, features: Dict[str, tf.Tensor]) -> tf.Tensor:\n",
    "    return self.ranking_model(\n",
    "        (features[\"customer_id\"], features[\"article_id\"]))\n",
    "\n",
    "  def compute_loss(self, features: Dict[Text, tf.Tensor], training=False) -> tf.Tensor:\n",
    "    labels = features.pop(\"t_count\")\n",
    "\n",
    "    rating_predictions = self(features)\n",
    "\n",
    "    # The task computes the loss and the metrics.\n",
    "    return self.task(labels=labels, predictions=rating_predictions)"
   ]
  },
  {
   "cell_type": "code",
   "execution_count": 43,
   "metadata": {
    "id": "ffI3fDVUtezf"
   },
   "outputs": [],
   "source": [
    "#Hyperparameters\n",
    "alpha = 0.001\n",
    "batch_size = 128\n",
    "epochs = 5"
   ]
  },
  {
   "cell_type": "code",
   "execution_count": 44,
   "metadata": {
    "id": "y6Zalto4siWA"
   },
   "outputs": [],
   "source": [
    "model = ProductlensModel()\n",
    "model.compile(optimizer=tf.keras.optimizers.Adagrad(learning_rate=alpha))"
   ]
  },
  {
   "cell_type": "code",
   "execution_count": 45,
   "metadata": {
    "id": "GGhKTMoxsqRI"
   },
   "outputs": [],
   "source": [
    "cached_train = train.batch(batch_size).cache()\n",
    "cached_test = test.batch(batch_size).cache()"
   ]
  },
  {
   "cell_type": "code",
   "execution_count": null,
   "metadata": {
    "id": "kvfz7Tocsssq"
   },
   "outputs": [
    {
     "name": "stdout",
     "output_type": "stream",
     "text": [
      "Epoch 1/5\n",
      "4102/9833 [===========>..................] - ETA: 45s - root_mean_squared_error: 0.2422 - loss: 0.0587 - regularization_loss: 0.0000e+00 - total_loss: 0.0587"
     ]
    }
   ],
   "source": [
    "model.fit(cached_train, epochs=epochs)"
   ]
  },
  {
   "cell_type": "code",
   "execution_count": 32,
   "metadata": {
    "id": "YP9EZOmssuQv"
   },
   "outputs": [
    {
     "name": "stdout",
     "output_type": "stream",
     "text": [
      "2459/2459 [==============================] - 11s 4ms/step - root_mean_squared_error: 0.1122 - loss: 0.0126 - regularization_loss: 0.0000e+00 - total_loss: 0.0126\n"
     ]
    },
    {
     "data": {
      "text/plain": [
       "{'root_mean_squared_error': 0.11222855001688004,\n",
       " 'loss': 2.9352251658565365e-05,\n",
       " 'regularization_loss': 0,\n",
       " 'total_loss': 2.9352251658565365e-05}"
      ]
     },
     "execution_count": 32,
     "metadata": {},
     "output_type": "execute_result"
    }
   ],
   "source": [
    "model.evaluate(cached_test, return_dict=True)"
   ]
  },
  {
   "cell_type": "code",
   "execution_count": 33,
   "metadata": {
    "id": "D168ZPoFyutK"
   },
   "outputs": [],
   "source": [
    "test_counts = {}\n",
    "sample = counts.sample(1000)\n",
    "test_product_ids = zip(sample['customer_id'],sample['article_id'], sample['t_count'])\n",
    "for pid, aid, t_count in test_product_ids:\n",
    "  test_counts[pid] = (model({\n",
    "      \"customer_id\": np.array(['73f7d8cca33b8236879d92a6188f691410a82763dc8bb65b8829568c07f8d9a7']),\n",
    "      \"article_id\": np.array([pid])\n",
    "\n",
    "  }).numpy()[0,0], t_count)"
   ]
  },
  {
   "cell_type": "code",
   "execution_count": 34,
   "metadata": {
    "id": "aAZCnggmzuoG"
   },
   "outputs": [
    {
     "name": "stdout",
     "output_type": "stream",
     "text": [
      "t_counts:\n",
      "834a961effec223096b1dde1ae488f173af3f6d85b0d9123b3d0017549aa289f: (1.0046736, 2)\n",
      "9ee1d750132abb253fc8767b7e195befa5431628274712e208bce5ab5becf27a: (1.0046736, 2)\n",
      "3bb0c14530e99a29bf8bc431e159e37ae4bcc70b282ee470e6d4118d80fe5687: (1.0046736, 2)\n",
      "65cb62c794232651e2ac711faa11c2b4e3d41d5f3b59b50bee3ffde1d5776644: (1.0046736, 2)\n",
      "ec2b77deb3e424c703326af0452162d9a44a5a593676be656d99a1b021d55785: (1.0046736, 2)\n",
      "5c74f5d8682b182ead8b246746927fd78cb4335f306d0e63761c403dcaa4586b: (1.0046736, 2)\n",
      "5f3005e5c329357ef45ea12191abb39c388d6f04052ce7f410ed2ba3e19f9670: (1.0046736, 2)\n",
      "8e545f85ba659e44e41231802da53deec93e01ed61c41beb5db393d91dca1c65: (1.0046736, 2)\n",
      "b327d23897ea1f0aff088a11d20c904b96598e757b40d049a4a882b03f7ee60a: (1.0046736, 2)\n",
      "dd63b4a61b4bc1a91d88e4552fd9648c1747fdd827fb2ae765040459aabae493: (1.0046736, 2)\n",
      "5f8ccf30a8ad0b124a7f78560b9f7cba4470a55003263f20881dacb6cc34b889: (1.0046736, 2)\n",
      "93b849f5b290350dfd85d75d80a7dea4758ec9bf784117765f2dec423c8fa515: (1.0046736, 2)\n",
      "4f71521d25f4fbcca69ef917953ac6367d7dc0627881eed292482eadd00e67c9: (1.0046736, 2)\n",
      "8dcb1b337ee4a537b916fde127d5408c2262c7160cd9f6ed847da4f9748141d7: (1.0046736, 2)\n",
      "52e96381456ad4a2ec28b9dc1aeb535448eb502c78db0fbc1cb9fd0a08f9448d: (1.0046736, 2)\n",
      "2029b774b2fb60a6591461930dfeb31267c495b65f7c9f12e2f7469fb8161d82: (1.0046736, 2)\n",
      "784d6f1309db07cf529a3c82b9f2bfad9eb23cbbc230e6302d2897434383c4de: (1.0046736, 1)\n",
      "bcb2f165335aff98eadbc11d9afaf479e3d03004031c24e852f6022de4cf2e1e: (1.0046736, 1)\n",
      "6786e3f6ef0e971393ce671ee9d527e842f6caf69bfcbf8df7a21c78d074d066: (1.0046736, 1)\n",
      "890451d89faac6dbad7ec347cd7b76d11f12e8006181cff6919069a9df4c845f: (1.0046736, 1)\n",
      "2c560eb536d7b73a7d1f7142173ef71abec311f9a4df53fc16fc43c57d272ce6: (1.0046736, 1)\n",
      "28dac1348ed8950ea8f87971aebcbc69f81c50ed7fe7d3c6482e84d70447817b: (1.0046736, 1)\n",
      "d90376b947283231bfcf338d63588baa7a9694e1d63fbb1b545100e91417dc4e: (1.0046736, 1)\n",
      "562e348f268c9abcf8baddb8cd99f103bafb65eae51c4f343afeacdf0a9b4ee3: (1.0046736, 1)\n",
      "c2b2ba8bb9cfe4f51a7296c564a7b13fdb42f5e95d390d901d3d9e667ada276e: (1.0046736, 1)\n",
      "b9742991086933c98cb5ecf231f2b7015f552fb12048b9ebe4b64b7b2bc7ca45: (1.0046736, 1)\n",
      "060f6788945a567539e6499aee4ffe74a2967eff775598d452f919a4ccf7b28c: (1.0046736, 1)\n",
      "26a32284597abc01aa51fd51d826a01fea1c3aa1498a4f37b0bf1d597a807802: (1.0046736, 1)\n",
      "4a886f5fc93db2433f46fe8985599463c194e774eb12bad9fa6dc659e416a5d0: (1.0046736, 1)\n",
      "5853a1bf4c349e6cb5f08bae5f251e5d7710b4bdc6f59067abf36125a1b775c3: (1.0046736, 1)\n",
      "99558ea556df842544e15da4a1952773966ad5830c024e8b48c30e13567b48e8: (1.0046736, 1)\n",
      "f22cced57a0cb5ff068660a2b38514a0c2185ab8e7f8ca01199b0cf036523519: (1.0046736, 1)\n",
      "f3f6f92f711447562a71a9105b040332e664dd836b176e480ed50143abd0b8f3: (1.0046736, 1)\n",
      "5d88ec2aab67d48fc908142784a913554152d802ad5bf6e33c381c06d82235e5: (1.0046736, 1)\n",
      "52def6a5eee28438e16f98ccee206a5176064809ca7d1e0c116e3a21c8738077: (1.0046736, 1)\n",
      "fe07864dfd73f428b85fa7c64c4e9d138e52ecd94da255ab26ff374e2055bab4: (1.0046736, 1)\n",
      "b2a0d4052b56d9648f45be24e66b3943d73e36fc87f2f8bfcf3d4de0f3fe5fdc: (1.0046736, 1)\n",
      "7bdd818b6a8bce0ba229b90cb7dc2fc475bb77af6b2bb72ce4d07d5450b7ee50: (1.0046736, 1)\n",
      "a345a0e834e8e0f3252cec142309b9c7a881494e874e39e53695400d2b80fe88: (1.0046736, 1)\n",
      "fdf21a8005d44bba5a2fb388299f649fc295ca70398a6207d7b4267701ace149: (1.0046736, 1)\n",
      "f26c209f0ad6e80890b41c23185d2efd6e36df666ed43f07aecafdb617a6170f: (1.0046736, 1)\n",
      "c71239404b4dca8763557a3f641ef3261a87b2668a09cd485159eadb62c2beea: (1.0046736, 1)\n",
      "4486a04fa1daf6f8df8c55be9d8874ac07cbcf1136c6ff7cee6e8dbbaefce4b8: (1.0046736, 1)\n",
      "52ac01d33b72d029d6e48b341c5db983a155539431c9e5bc6d563b9e30e26a8f: (1.0046736, 1)\n",
      "799f222b3b1d4f5d4e53997df016f35a0bacf768daace4800a08a932fbb85900: (1.0046736, 1)\n",
      "790efc165bcdaf6af0caa1b92baaab62e0654e86533519e970d975bcf863f40c: (1.0046736, 1)\n",
      "115d87c205014be7bbbfa7f27b744097b819b48dd8d5fa6a2f5015d4bfe5fd4f: (1.0046736, 1)\n",
      "b2e8ec07a54567a71651d79e177ffb6755d978378c1b11c16eed2060d144e38d: (1.0046736, 1)\n",
      "e28a26e6e0dd5c879139b94006fe63f12762412ea6162aff3e49a1f428579659: (1.0046736, 1)\n",
      "aa5020b775276872e3b9e1f2713f325396849a7aa866eb23498c5939c3e662b0: (1.0046736, 1)\n",
      "5690817d5e1236faa1073961d690f1d30cd85edf5baf13e42951c3e36909a66d: (1.0046736, 1)\n",
      "40a8894789dfe608d03f9bd6d631f9c609a312abc1e3d21af1194c3e1a29d37b: (1.0046736, 1)\n",
      "5af44fc1cf04a87284392c048e711480cfbe9bab7cbdf4a017b50d6a5626650b: (1.0046736, 1)\n",
      "4598ff088a39db74ace45e6e9f18634da247d621e60876d4670f3f3ddb65e793: (1.0046736, 1)\n",
      "6cf9ba0bd94b45391e876568578f64862c6246c16fccece5a682c50bb2e445e4: (1.0046736, 1)\n",
      "c1115402cd85aae26bd7c8f285f0e072dafbd414b2fde1d0be0e92d5e6ef711b: (1.0046736, 1)\n",
      "0bf76a130132e8b2d90d0e0faf365f4642b90dc8bea3425d57b75ce63316b8f1: (1.0046736, 1)\n",
      "b462c92ecc8b90c93da08565ed73cded42fc3b0f3b70b157688ffaebfcf132f5: (1.0046736, 1)\n",
      "2b2c1f4412600367a787b1b0dfafd3a5f7d5ee2f10150277f14d0bd1320ca6a1: (1.0046736, 1)\n",
      "ebee8731dbc22b49534d93bf8c8f6c51f30e7ab1d178310dc4fab51469715b5b: (1.0046736, 1)\n",
      "dcdd0e0033cbb479f53e5a380cbc1d2c4259255d4ab6b6e5e6812cc3f0fa22f7: (1.0046736, 1)\n",
      "c4e954f9fda9e4c0386b23a5ca6ae684807df5110fa43f53d68dd13f4cb6f713: (1.0046736, 1)\n",
      "1276bb6d7b1b86798c661050bb644b8063378053e6c9af5a8d2771f5e80ff41b: (1.0046736, 1)\n",
      "eae2605162445f711b4e6e088f401822b0540f19ec7d4b76b36bc3185ce9a0a8: (1.0046736, 1)\n",
      "f20d33553ad76ce4a30a49941f1becc8e5ad54879523074e6d91eb94d04b1091: (1.0046736, 1)\n",
      "75e91fb78551c82288e3398ce3b93d4723152096d53ad37a024fa4995282b707: (1.0046736, 1)\n",
      "95ed104b4525b436420919834a6784ea444ee7c557b5dde1511a842a861c6edf: (1.0046736, 1)\n",
      "1ddbb466c027720e5e70a2d65ed33af51fd69e871583a2f373f0948b9e8ece47: (1.0046736, 1)\n",
      "f30449ff4f80fc7743d1d72c6f2f1188d35dc3417ecf527337fb3a0d57c357b0: (1.0046736, 1)\n",
      "23497afe1788f3f485426f0d364a86679456fa9c192515efe936f852a5e303f7: (1.0046736, 1)\n",
      "3c67483afc01b2afd43a5e33a60c430e992b3f4edccdef543d2fff788915af09: (1.0046736, 1)\n",
      "b87babd0928504d742691d7e648e4491d105c67424f8cd7ca2c63fc97ad82159: (1.0046736, 1)\n",
      "1b0a6c419d1c4084f666f11d58a4b58fa68993ec460894c18b88ab2d3af4a586: (1.0046736, 1)\n",
      "b3594c26ecfbc8eee712fe8a8a0c4c3d6079be0d765d2cf5cd92ac25af24661e: (1.0046736, 1)\n",
      "d63a86c68b351ecba43c8cd3d4904cd7b1cdaf5e1e334194f184c6b22b98651d: (1.0046736, 1)\n",
      "a970b8bad129d98087694281c34146328cd028f02d7b6eae56a21e2ff6adc27a: (1.0046736, 1)\n",
      "78293a7e421fb32889a09a0ca838625562c5408eb3ec08b5fc24abb522119b16: (1.0046736, 1)\n",
      "94c10ee5e6ef678a3f840c45e06b2f23ddc9fd81957979d956534b3eacd751af: (1.0046736, 1)\n",
      "5aecc6f1c059debd08b9fdf3abe6a9ba976b02070668566368032ec1a8bfdf0d: (1.0046736, 1)\n",
      "78bdd522eb47257f63a58317d2d98e437911cf34042111142df04b9ac4f23136: (1.0046736, 1)\n",
      "7b619f9bd3eca5aa48325972493bab44342a3a1614900e7b1f1c80ca710f11e7: (1.0046736, 1)\n",
      "57f9230ec776e416e718aabec3f6d487e3725df793e4e34072aec3e3091e0b67: (1.0046736, 1)\n",
      "d9c681a3e9e73913bc257f8aa59191ca09aebe78499652e59b922a0bc7762977: (1.0046736, 1)\n",
      "3ba33bcbecaaf8fe9796dbe2f0c9e2bed15f34fe857f75f08d0bd0fa03d9b5b3: (1.0046736, 1)\n",
      "11dfcba173141194ae4909a302bc9b53765b2ba89646bff02dcd0bae1064ac5f: (1.0046736, 1)\n",
      "5cdeeaa6539633637256068cbd19477b07a8836e180ef8c4f9b01caaada150cb: (1.0046736, 1)\n",
      "02f39a99cdfd8e2304b4223357b7ffe45af42044300a15d0f2b4804e5d1eed11: (1.0046736, 1)\n",
      "68f40125ab0a3e66f5d641b44c4c08f8e7fab75ff7ecf5975e91e1cd2bf6ab6a: (1.0046736, 1)\n",
      "fa46cb15843ee2a747ae6d073a36455fbe892e1fea39a0a527ba3923eea63dc9: (1.0046736, 1)\n",
      "89a72f5ba6d5c564eb303b3c0652b4183fab69f017b006435ab039bc82256658: (1.0046736, 1)\n",
      "41b2e001932c9aabb5987550ff24db62623947cff7421320af05cec505f65d60: (1.0046736, 1)\n",
      "753c233f7eadaa6ca1a260ef8faac1192603b9cd98810b6de960326f6bab44e7: (1.0046736, 1)\n",
      "7f11fb35bd9fc8401310f43ce30e417ec06cefc67db73be233bf4973f4f0055b: (1.0046736, 1)\n",
      "9a75d6d8f117fe77cb6010158a2025eb5788dc0d788fb23670fdd385c25349d3: (1.0046736, 1)\n",
      "679eeb49c3e9560b260905ecc62c1fbf00111cbe95ef561f629abee9f5b020a8: (1.0046736, 1)\n",
      "44c378959e14fedac999b34cf5d0940250766b4dcaaa550064b38090432627e3: (1.0046736, 1)\n",
      "967b4c49c16dfcd0f9d9cb0e2a2661e9fc348d51f57f5d86c2af8067f29eba96: (1.0046736, 1)\n",
      "5b0e70934deb79e283a3f20aa40edd7062b788e1d55b71aeaf4f03943cc47862: (1.0046736, 1)\n",
      "e892a4ae12ffe9bb33818f955587ad31da8c853f0ef8d75e8663827cfebec1c6: (1.0046736, 1)\n",
      "443f169dd7d0788b77d6df5bed14112c1aa8346401152e09d83a12a2d448837f: (1.0046736, 1)\n",
      "984f5e2d2e69ee5f5e676ee69a2dac9c96fc3e11528929a4e46bd1baaa3a99fa: (1.0046736, 1)\n",
      "18a4a3aa3e8acae0c517265a3f345f9a02ab223648525dec5c535d6de69e9d05: (1.0046736, 1)\n",
      "89ccc918c038af184b9c5b96653d008f6a6e900bed71e78003d0636ff51376d2: (1.0046736, 1)\n",
      "ae4e3666f71742be6fb03eb04e276fda96367a77878dd850243cf9f8b66eb537: (1.0046736, 1)\n",
      "3e4f7d0e5c9d6e3f59e6544dd2805224a6bb7cf287555f6de18cf62ea58fda78: (1.0046736, 1)\n",
      "32f0b6b1f2422cf9dce8baec8dd28c8aa265a484a1e7c83c1de01f920aa95e1f: (1.0046736, 1)\n",
      "1ddb57f99c3f697c808df7c617c2db35b0b8b761c984b0fb8ce702f4cc4c0dc7: (1.0046736, 1)\n",
      "e42dbb3a95dbe431655be9c6a4b80c7bcabf08d86463dfe0b1969a5d3c173d25: (1.0046736, 1)\n",
      "420f7a24b8d13d8424f1595c1dfc3b9695ded28eb566bf75ef70d6fd63f0fb83: (1.0046736, 1)\n",
      "ed17979bb7b43ddc6bc476d37121481add9349fe71e5a8a110bb2881ade5bacc: (1.0046736, 1)\n",
      "dd0dace17d7f29a940f5ea5b485bf951e8b1429c98c7106576b7ce8a00a9667b: (1.0046736, 1)\n",
      "649abc57ee9f88c87fade7385995eb7b32a8abc2a016a4922a443c00513285c4: (1.0046736, 1)\n",
      "266ccae7b6587cc5593d8f67b08acbd16fbf5907913071b2a09918bd736dbcbd: (1.0046736, 1)\n",
      "a3d1fadf9c7cd09db009eb53cb8abb882a35637abebbdc145806f388326bc2fd: (1.0046736, 1)\n",
      "1f1dff8bf383de4fc2dcd8a92acb44645f9657239672d90e442b0162f6a8d9b4: (1.0046736, 1)\n",
      "2c6f3d89344576f540f8e97015a625fca3b62de1794962e7293d7749c70f22f1: (1.0046736, 1)\n",
      "14b560cb02a917382270b99acafd0471ab12ae576c4bd7c71ec5b1988d620c99: (1.0046736, 1)\n",
      "a2440fd02e34cbb5b443b9c540b18888fcee10670d5243aff9834e0c7f8b685c: (1.0046736, 1)\n",
      "3246867b1d8402da75e5c60f532067a5e07e69e52ec07ea8fc1f38f1c03d6451: (1.0046736, 1)\n",
      "c38b78b3baac801b0fb547e7d00ea6b2a15067fba6ec19fc01d1a3dd425990b1: (1.0046736, 1)\n",
      "28c2d57f380a3e2fc958920ba331e588db6984a70e6fefcfee2cfd12027a5507: (1.0046736, 1)\n",
      "02528a3baf7d7414c37b3fa03e0a01ca5d388194c8776950c781c055a9f969e4: (1.0046736, 1)\n",
      "31d80806ffe8fe12eb621ee1254f1a152649835ead2a6769f18870aadd3aec89: (1.0046736, 1)\n",
      "7711bec9a00758d1fe83b0a087f98ba279c71726efab41b52035827ff58a1239: (1.0046736, 1)\n",
      "6fc6d28295ed919e8063f42b6b07a31c79b6cdd960453eefcd01907c2f148c89: (1.0046736, 1)\n",
      "e17fd0d65e8f71314b2d933e509b405c921381f21ac462a68d74923feef126b9: (1.0046736, 1)\n",
      "a23b69eb5aa0ef4f887b5ae0b3fe258f71ac7121fdf9967eca0ae47a994a1a2c: (1.0046736, 1)\n",
      "56c86b2efbd2a37fc0c55c1bf8f57a232205c4b4d69236a5b897143d0f01ce8a: (1.0046736, 1)\n",
      "700669ec6298f70a4ba25f5823d013de70c278a45a0d5ce315d56ab0cf38957e: (1.0046736, 1)\n",
      "a0f5c8fb0af8c14da43da1af16dcd3996deb3427395ce072f41e6177a3966486: (1.0046736, 1)\n",
      "38ccf571c08f754a346bbf62a36dfa51b235134b6a82b8fb0314e43dd1089159: (1.0046736, 1)\n",
      "27f3077f9406a8f059e92bcb6df38f80e3b7c0ac4439ec72ff43944f5969b3fc: (1.0046736, 1)\n",
      "bd02c78b33a63dc0851899dee8a71bba46aa561f3d1f9c3192234b5c20cc2213: (1.0046736, 1)\n",
      "6410b4b53c8cf2f90f220934058ed7dbac7a24504fa9f0649d0cb69f1a3ce675: (1.0046736, 1)\n",
      "7aec1f00ece1eb6e485b2248aefc8e2477d34b040549967f61d1f31be4848684: (1.0046736, 1)\n",
      "d0570be465751851a495afa4df8898fbda0f301b8deeb5c56295b20f2edecc05: (1.0046736, 1)\n",
      "f3ae693e7e109e4ca6c5dbdc8d819b79c1df650ffaaebf4d0efdee8e3c300a3c: (1.0046736, 1)\n",
      "9f42498fdf02dd0bbc8a868a052795a2764aab7199415607d8a2fbcd41565334: (1.0046736, 1)\n",
      "27b1a886c5fdc75641d6123fe5fbc4a9742d2c3efa4d254b92a507d4f9bec01f: (1.0046736, 1)\n",
      "2c9763d2a3092e5561013ba6fbce185fbd46ec18d1c5548c96053f1b0d021280: (1.0046736, 1)\n",
      "1c426a12d3d19028d32d88daf6cd5a01e0a36e079f9ea1e9c910db196b005fcf: (1.0046736, 1)\n",
      "9f86945a5be19870b15102f241d5933b3c49e15c3c3f1bfd2c136c8aa9770132: (1.0046736, 1)\n",
      "e2da33ac9dd1c6f618dacd7e8dc2f3676f49188fe011ee624ca7bd74db624277: (1.0046736, 1)\n",
      "dcdd6eb064051bb33d5807ab749e1f2d40c5e91c3ad56da97548f7d0cbc2a79b: (1.0046736, 1)\n",
      "fb4e273652e2c89a30c90738a1bc2a655208160b7146febc18fe881d8f820d65: (1.0046736, 1)\n",
      "7fce835e79847aed1d13f647e3215bbbe7e63fdc7d9f863c489766f5ab21f2b8: (1.0046736, 1)\n",
      "a7c338c38531447607eba1595bcc7f7175ee93cf550295ce4acd0f09c4c2597d: (1.0046736, 1)\n",
      "ce9d7981fa3d61dd84348fbf199a0d8652c7e938244565aabfcb896c8000f2d5: (1.0046736, 1)\n",
      "829884e45d19098476808fd23ed4a6e8f836d8baa26908007934fcf15b100a15: (1.0046736, 1)\n",
      "1019963e810c13d3685151080cc07146a44cc0242f6c2ea740aeffecfeb43a43: (1.0046736, 1)\n",
      "ec69096272eabdacfc3be3e2c442ce2a84f53cc818fa8bdc22805d030c7a7c92: (1.0046736, 1)\n",
      "ac4279a59856503b7c8dee254feb16a411cc69ca6e6da00620722a6c245ce3b2: (1.0046736, 1)\n",
      "1dc7acb70cd83484514405f11682f4a312f3d67c04b1a7b3476e715acbe63b86: (1.0046736, 1)\n",
      "f0998b191b80ae0ef20f7c9cd23d941ad3d012e4669bd8a0cd38b3e00c49ba6b: (1.0046736, 1)\n",
      "ebc25f9b8f3fd97770a864b813bf04127ae7c5735ab0faa191eabd9e283d2329: (1.0046736, 1)\n",
      "04a9eb567a036bd17e3346b32e8498205990a0fed6c1f9b737a48c2e34cd0711: (1.0046736, 1)\n",
      "e6b8756c7e7ee67390baca7e3b779a5ef6034af59a636114b686258821a9da3c: (1.0046736, 1)\n",
      "b7ce90e59d1fa467b9fd35c0c2f7ac4b4d341556877f45c3996b52e532fcceef: (1.0046736, 1)\n",
      "e809119617049c24e8d25782e647b2233547621c5f7b937f78c2fb481139089f: (1.0046736, 1)\n",
      "25ecd18bee9bce22d6358608a73274c8f782c04bbc5e82a291419de8ca29068f: (1.0046736, 1)\n",
      "5d0ecf79bd237c9a16f401722d4c9d0eb8bec116dff89d3e757c3f2dcd8238a3: (1.0046736, 1)\n",
      "2940b10faa9680cf3f40b9e5eb264dbea29c87876715d11952eaf8d933af1df7: (1.0046736, 1)\n",
      "cfba1b58230a31dcfed580078ff932bfefef5fbc637a3e0a1733f413ebe65452: (1.0046736, 1)\n",
      "a99456522ec160600a9e7eaff2090d960d93deeb3fe01fc3399bfc074cd36cf5: (1.0046736, 1)\n",
      "6ada86da88d9e7de8822d4e6f4b8a2a8b80c9b6f6fc47ec1c0897aed6f814ac8: (1.0046736, 1)\n",
      "105f137725e55ddb66ead5ea04349482157e1e7fd66234a0f3e98ba8892d39a3: (1.0046736, 1)\n",
      "350d6252bb5975e50829ec3d9377524627d7fc130c2d2f4a4658bef0763b6775: (1.0046736, 1)\n",
      "3bebacd8ec82e42786efe5c5c049858e6d7b7fe2e1a61bf40d72f89bff687d95: (1.0046736, 1)\n",
      "2c850c2ce8c451b403278ee239aae12db1bac8a6e77f7bb3aa20b747bdb39824: (1.0046736, 1)\n",
      "9d32ec741b47768b769c2188879db321e91c411655c77150736df6326cb03418: (1.0046736, 1)\n",
      "9a9282c6ccef4ca8eb0d6a63576d3faf4e2d97243f88b4333365657ef943fb87: (1.0046736, 1)\n",
      "7a07acf61e2b66d170ee993808211de9acd57a19811d795789104130c24ca2ac: (1.0046736, 1)\n",
      "3d4576cd3718e1182e1828aa37a5532eb5a41b0e5f78a4cce7fe88a19953feb9: (1.0046736, 1)\n",
      "c8e294812882cac6573dd4883809ba27deca7140c34b9ff3270afed5262e2c2d: (1.0046736, 1)\n",
      "66ad5a6acc27911238b4f5f35ec710f21667bed32f230b82fd24a2ea5e3b9a2f: (1.0046736, 1)\n",
      "8f119656ddc6728fbadb7dca0e1de60d7ca8ad46484628fd0b4b59f2552e4b02: (1.0046736, 1)\n",
      "e111d60ec6ef197ecf1defae37d5dcaa8c565180b95bdb343030d705be092e8d: (1.0046736, 1)\n",
      "5052308f5c99295e74f54f8195838b482b19ef35685299b5ce8ab8c4ee447b44: (1.0046736, 1)\n",
      "66d97fdcdc2b738676da5e2b4f03084881adf1d6cc5c1a1a063cfe91d344294a: (1.0046736, 1)\n",
      "645359db99eba7321b5ca80b89d5968d35c72f3859af13c246958d6a18682423: (1.0046736, 1)\n",
      "16b918a097ae16a9aefe2c80e7780f6807b9aa76921a981b3f2493bcc2561f6c: (1.0046736, 1)\n",
      "49e5c3bb71d9710ad99c1092f7efe5997d276cf273ef723032390960387f9945: (1.0046736, 1)\n",
      "1a08dcbdcaed083f535347ac379008b3cac81e48086ef441d108fcda4737fd42: (1.0046736, 1)\n",
      "79d340d159748508129c9f725ef94123af830ae54d51de339036600ed2423ab7: (1.0046736, 1)\n",
      "f1af3278425f61f36c4f8cf7952afa8e189c5e95e7af218928e7b4e33f503117: (1.0046736, 1)\n",
      "cea3683352f5075dd2ba26ed7b0187de61e083085ff0f5b95108970c4ee15f00: (1.0046736, 1)\n",
      "031087414c01a0524b5c9d121b98ef5a93f240db16392302bda5bb1e5e7bfb4d: (1.0046736, 1)\n",
      "fcab545e35c843a606204a994ad1648e5c284be248f3699ce752deca8c3274c0: (1.0046736, 1)\n",
      "d0af35b1c3af2883125b8e136be3b527d682c9c01e6eaaefcebccbfc1c35f3b3: (1.0046736, 1)\n",
      "45bc8077c11e34fcdaa87e1e8f92614b3b2739216b54f024be84bf133aabe5d4: (1.0046736, 1)\n",
      "1102a811f1978ca96fc083376aa28d248a9ee322f930919ecaace874ece62601: (1.0046736, 1)\n",
      "6949faa5de449229d497ba378337372cc8521d36309599bb46583b9be63bc1f7: (1.0046736, 1)\n",
      "77e51df67fca5482cfbb84b025d553488c2668826f98a56096a904f69be9cd93: (1.0046736, 1)\n",
      "dbbe518bb933f4bb72c086c1f13073d31fc735e05d5f1bff062ef5e2efe451a1: (1.0046736, 1)\n",
      "e6bdef78f5ae53b8f419848792a31456e2db9b5133a2d057542500d24cc5ebea: (1.0046736, 1)\n",
      "66ee03a83186805075fc6b146572e6f82c6ac0b5ff167228af3f5657fdfbb980: (1.0046736, 1)\n",
      "63c789477869ede1aa6bcca34b5c60a07dca7f72f7704ab9ca22acedd6fdbe40: (1.0046736, 1)\n",
      "ff9a35337e229f06a9b906471c6dba48976a038f66e26b4f9d3c4ae37234b176: (1.0046736, 1)\n",
      "c201fd1f776ea4b690aa7dd1d0cb4e79d9e2b39dd9d6d9e378a9c43ffed27110: (1.0046736, 1)\n",
      "8b7d45780a8e00a30ec23888f0c8cd98ea7dad56bdf8be3e083b1210c31f4586: (1.0046736, 1)\n",
      "79f9cdd7ba160e7b26f3eb9256949a2dedc0fd51e744cc8b8aa59da091d483ca: (1.0046736, 1)\n",
      "134768e842bf5922fceed9dd63a08a386582db90c9601a886a922922d61d7f82: (1.0046736, 1)\n",
      "776ddc2b2331eb9e190ab4dd43f878a3e3553e80eefe384bcb0fa0dfcabb324c: (1.0046736, 1)\n",
      "6acac81a199f10757c37e2c66c1cb77c80a687e06919cd1264c43d6df34fe168: (1.0046736, 1)\n",
      "794b33610343a89ff150dfde3068c430a8e99c6518dcfc4190b5fc7679b067dd: (1.0046736, 1)\n",
      "52382ab9b62c0de2cbed2044992b58de238e54bb6f463f99ae4586bfdcdef22c: (1.0046736, 1)\n",
      "4bc130f8809ed40b5b29866dcfbd86738ffc7470629ac48d8f3ae26132d7be37: (1.0046736, 1)\n",
      "d89b47b2f4b341f9c577a3bbdf7515d6bf490bee1f9b71d13c5516c9d5c5007c: (1.0046736, 1)\n",
      "195f82c9c9a4398341a08a2727823e63edc53bde85b737d033af157c622442b7: (1.0046736, 1)\n",
      "34162b0ec5a93fe2be2d06a714be5e51c8316b7bcef35351995490d3ccfb662e: (1.0046736, 1)\n",
      "cf0454b692b9be7a650045578f6a1b7190642cb5fc1ec3365364fa6bb8e12d55: (1.0046736, 1)\n",
      "234c378fbf401e24e26a177eafa4dcb60c85778b9444d4b84ce7f6df973991e9: (1.0046736, 1)\n",
      "fdb02d8c59606f23142ad96cdbe277e58bc8674f1d6f0a9e7a440375fd97dc6b: (1.0046736, 1)\n",
      "3f96088a3fa657dc87404104c1e8025add85bb5e1e7ac1f977c7760f0cb4ca43: (1.0046736, 1)\n",
      "89bf9061a8696d7deea5937101af1a0b74cce4720e3e3bdca3752ef3edf3317d: (1.0046736, 1)\n",
      "131b65828008a0fe775df41a269f0e30ac201ca03c8d567f599da802a08536e9: (1.0046736, 1)\n",
      "17e3ca55de02f85fc16a47e92636d406196a1d50ca092f35a495e98f70cd6e39: (1.0046736, 1)\n",
      "a01e72ad9be374ecbe7aacc28b1068afa7f46a311d14ed0203094387540248b5: (1.0046736, 1)\n",
      "84e3cc62ad1eba1bf440673d9a0c3a7e1ed45e2c5676454bb108df04d5357f1b: (1.0046736, 1)\n",
      "f9a7337de98e356dd269685d95f451d526e4649d80c8e1a550c0500ce8911ad2: (1.0046736, 1)\n",
      "6f45e0aa23104ba6f39985ff67024797f8732fe89e54b62251b64f5f4e1fe115: (1.0046736, 1)\n",
      "9a6493b5424778c225f9104f6a6c58ddff6e4a4952c025bde6f8fd71ef0e775b: (1.0046736, 1)\n",
      "8e4c940cd649d6b48bd8c3c2395dd858873badadf3f39dbc3b34ef7e827efe9a: (1.0046736, 1)\n",
      "9fa449a256200376d1fced2e86445d6fa1cff9f3797cc3f70244ef0f386d889f: (1.0046736, 1)\n",
      "c5a1eef53c973b7bd6fe586a5e566b66b1a1b29190a0e19690fc1ca6741465b5: (1.0046736, 1)\n",
      "c0489c3a4362382531d4d0d870f858042fb192ed1c5c1f8850b74b3a0b6a2aa9: (1.0046736, 1)\n",
      "6f6b65a3481fca100c881bb67384617799e9df9feb21060b41a8094b7622364e: (1.0046736, 1)\n",
      "e9eaf2e7f508c16277d923c422960c4d5f102f435019dd99cfda141139e75804: (1.0046736, 1)\n",
      "edbb6b823e1d73b3b4b0c5514202973d00322c4798b4d12ccc5bb8208da314f4: (1.0046736, 1)\n",
      "944bae43df905b5fef8848cec05dba86d67b35d4477f059fa7788c1de481442a: (1.0046736, 1)\n",
      "b5f3038cf2529e4193553dd2c6bf1a42785721f1ae2e319b260ffbb6ac10f9fc: (1.0046736, 1)\n",
      "d5a44473ca0da18461e6cab35c10c2657514d9e0f77933ae501ee6d4e0f0aff9: (1.0046736, 1)\n",
      "e4ab288b041772caca0cc9afa66a1891195bbbcee31ed079d3f1943a1e35a84b: (1.0046736, 1)\n",
      "bfb1503e4011bfed4c37813bfa8ee8ff6aa77e34f6f28412cd39a7a8085cde6f: (1.0046736, 1)\n",
      "9b3183a017cbaf6c88b263cb71dcffe10cc3f2a70513dbcd38c0946e2bd3c181: (1.0046736, 1)\n",
      "3206ea26dc2859d92cb236ea6c3c361bb08037cd2cefb37f7868fea609fd42de: (1.0046736, 1)\n",
      "789ceeab5c1649726fdee0e235f9273ab3c02ab94877e4f0af66514997125d33: (1.0046736, 1)\n",
      "c79f8c10d279daded12c56d32b44cdc8e95cbeec72327919b87fca22ae447945: (1.0046736, 1)\n",
      "a851f882d85c07074784047d42c6113bdbe095032ebd550fbc53310e67b3efdd: (1.0046736, 1)\n",
      "e8e644628599f5d743dbe7488958d91d23a4b094961d2c9bd903af096df3c21e: (1.0046736, 1)\n",
      "4a1a8dedd0fea82d3d8494f44644c58a720922bf71eb320d9020546ffc810c44: (1.0046736, 1)\n",
      "0ff07e77aa424bf828d9505129443911bb675e8f2a8d853c0c2ff2158f5b9f77: (1.0046736, 1)\n",
      "e42435fb30d5f9bf03aa43bdada5e0886cf8544082f14e1bc9253eff88aa19f5: (1.0046736, 1)\n",
      "40ea4728d98096e5db1176ea463aab6d2b56d174773a1d558784e86ff64a969a: (1.0046736, 1)\n",
      "50a328ca719e16f65ce76e5bdcb78c8f68e4845b0ae02af4bccdd87f37ecdf85: (1.0046736, 1)\n",
      "5cec0b9dc1c12e3e1987fe80ecb825927a6c8ff71a4488a8de372006c1a350a8: (1.0046736, 1)\n",
      "69231fc3ae9b7808e476bc7e827ca80c906dce9cff6161ee406c2b0da83cc017: (1.0046736, 1)\n",
      "79ae0b712c62a9df12744420b25ea4b6e5f3d91ce91fb630dc141d2091fa36f6: (1.0046736, 1)\n",
      "2b3389273f280a8bc070cc4164de72fd6fb052e99ef4adbecffb71f7ded36df0: (1.0046736, 1)\n",
      "fa00b05d2c73f884a975165ed367f2297eea2ac022534283b5f9d0e8695b65b3: (1.0046736, 1)\n",
      "f77fd0d5962193f84cbbcf4762a0563edf3f3b2994d24d5d41b2c93aee593dd3: (1.0046736, 1)\n",
      "36b3f80c19d0391fa5b276c157be3aabe0e0c1e37ecff30e3481a85060ef4435: (1.0046736, 1)\n",
      "514c692a9a0c5d6fe09886fff4339d02a3ac76f9eaca702c3978f3b358fbbb31: (1.0046736, 1)\n",
      "f2c2860db2e186aef5700896e613cc4a80e91042319426b357ce60ee188c0954: (1.0046736, 1)\n",
      "ac2afb859661e480a39cc8e03c4cf49acd37cf9381a833604125d7166be30d47: (1.0046736, 1)\n",
      "eb5f2ce6e48615a9839ebb2fa2268c663219fe5cc1dc46d553c90110df5848eb: (1.0046736, 1)\n",
      "7fb135bf481a4115f1e64804ea8d5806457a36b1999df58663b0dd90805c1f2b: (1.0046736, 1)\n",
      "4d14a38afa9cb28e908084cc9464b68794137c34dc70606f762d4df0322eac3d: (1.0046736, 1)\n",
      "444ff7f55a0ca4c802f688a1df7f0bbc116cbdce7089b7ad78072ffc7f37a0e7: (1.0046736, 1)\n",
      "dc6ce178b17da3a4f5265fe86c98f0152584e7bdf13454163973ff7a51054d7b: (1.0046736, 1)\n",
      "e42a3bfe5e3d18a76ef86b31c0bd0c2818f03644b9be649278575fdaf5682d61: (1.0046736, 1)\n",
      "d47b402dfc88fa8aa84967d1d5d1b3a55bd4b6b736f0f2f25d4ac21214522212: (1.0046736, 1)\n",
      "597ecd6e5f2d7b887c2be6ada4a932b9fa799f23c9ef64110ba2f5791151f4ae: (1.0046736, 1)\n",
      "9bc8b9cc99e2a45486432d46771bbb827c3f6a60e1ec4fde712c92d21923c1e3: (1.0046736, 1)\n",
      "ef0a92e1a4263d402b1fcbc00bebcbc40d8a4d097108cd603288d518e0d7919c: (1.0046736, 1)\n",
      "952b34efbf665e09279870f6c3406af45dd6fd036b2b42186951dfaffd2f4619: (1.0046736, 1)\n",
      "6d14c7c929c2ccc7acf6063f16ce1af325da07dbac2c34eb7fadc60b9ad9fbd6: (1.0046736, 1)\n",
      "0c8b28e33cc70395e94d04cf27be6a8985201f3d12124615289bf8d756c90209: (1.0046736, 1)\n",
      "5b93aed0348e5e1a19a5d6c8066f72765764ff60123c20cb94a6323a3001aff4: (1.0046736, 1)\n",
      "cb390118e45bd1dff633c900ba0bdf64f17d99718d19eb0115e0124e2bf9fed8: (1.0046736, 1)\n",
      "0355f32c15480fe328361e1e9684a5a1aa22c1ffa806f5e2d9f6b099e01ac41d: (1.0046736, 1)\n",
      "a60bb210449f36d7035fa651aad2fc9dfe8aa25f76a3996fbfbf45613db03a8b: (1.0046736, 1)\n",
      "5b0e74ef452bc22cc81425e1c84d9cc07bcbe05ae6b6d1126c8b2b133ee2c4ac: (1.0046736, 1)\n",
      "83b7aa2320cb21fb649e5b476aa536f54447cf51882040eda21b1c1f9d8d59a9: (1.0046736, 1)\n",
      "166ae5df8be373f38a2b17ec75854db797de0d372e3cfb3da624d442043505f6: (1.0046736, 1)\n",
      "7cf2f8cce972eb081893464daba9c9fe7c107647a2ee4af12a9bba2e9050c9f6: (1.0046736, 1)\n",
      "fdeb40be0835f1eaa105b1329d2ac558dd705e0a373cb1006a562bc8a6554afe: (1.0046736, 1)\n",
      "735211ca90dd7b0edd31c138f294b15348c89a9a673de25fc2546489f37872ad: (1.0046736, 1)\n",
      "a250cf4ff2a7896598a0fab03861799ef33ef5a2e3d13c7131d11870e5477f1b: (1.0046736, 1)\n",
      "7b8651b626bbb62822244920b58d51dcc501d7389c0cb6845c1747b787739652: (1.0046736, 1)\n",
      "5e334ce142c4805c90937fa9712293816df00d1a511968cfdabcc61852adbf9e: (1.0046736, 1)\n",
      "50bd5889d619ccdeb02105cc0eb52972ed6684bbd3a0b2217fcab0d8ac27b35e: (1.0046736, 1)\n",
      "788f45cad52de25b9ee094dbf5d566d4350c1ad1d7d69ea58779d081b09de0bb: (1.0046736, 1)\n",
      "1719a6c7b33e0a90d5bf5b63ac15153174b4ca779c34c5dbf7c204422e6c512e: (1.0046736, 1)\n",
      "fad8e5696929729cff4ec1cbafa4bc8791e81d799cdba01cd4ac3d8fbf30c99d: (1.0046736, 1)\n",
      "5e98336c119393dc16d66e7fdb78f7b3a4eecd2306dd4e7efa2aee30b1ea2041: (1.0046736, 1)\n",
      "2dd6cc418b23aaca6c2bc3a082ae7b7714f6501fcd9104ad352a0fc9cfb14020: (1.0046736, 1)\n",
      "b0bbcaf68d9bb3db09420540a430f68a7113842adf6ff8a978b8813438a9a9d6: (1.0046736, 1)\n",
      "6e55c2524a987fca1dd85bd8e40086728e89ae940596eb85ded1983a5fb0a43f: (1.0046736, 1)\n",
      "46a8dd7ea64324d70ed66aa00e711a00b4cd6b71d94938ef3359dfcb2c2de3a3: (1.0046736, 1)\n",
      "b52e2cf967e714b2d91080280eeff1aa1957f3be837cdc3cb2c784969f2c0b77: (1.0046736, 1)\n",
      "32ba1489459af841a6b0492d3631a814546539d131e85f0cf4187eae02ce260a: (1.0046736, 1)\n",
      "769c37e06aedb696824a7d90d9bfe918eb6a8502c9819d259d33ed4fe0bebf07: (1.0046736, 1)\n",
      "bd9699debb0232494226a413b1594ad125f31a490673040b186a9064b73a651c: (1.0046736, 1)\n",
      "a0acb6fdad78521bb0c7c4151fdbb41217aab99d567740401abd2f98311fcda1: (1.0046736, 1)\n",
      "eee2a4a76fb170bea66273cce07e568e4efc39da1a2159cd0ff274b86f6b8b24: (1.0046736, 1)\n",
      "3dffd148b4b5caf672a429c796314f61483271eb94d2e1b280a6b468fcbf78d2: (1.0046736, 1)\n",
      "c1603930bece58c23719422a79f48f30078b746cc9a6ca249772dbf1e2d5040e: (1.0046736, 1)\n",
      "9bbb5f429a0a0edf5e2efaeedb5d4300da78006559a95189c409f680f40cc1cd: (1.0046736, 1)\n",
      "d8bf0428d77456e450ba69d5a818abee3064174247694c37bb9348e25ed407fc: (1.0046736, 1)\n",
      "5ab2ce876a907604d99017c0fc2fa8353fe83e6606b80ca4ebea24a09e564151: (1.0046736, 1)\n",
      "ea993692d07313b5b2d53cf8d0d5c86688f10a95b4d586840befceae7244379a: (1.0046736, 1)\n",
      "265450fad23254228c36a302e5adc4b7ad251c9b623bff736933170872498bea: (1.0046736, 1)\n",
      "7971dc6cf1496868c7217a1a93d29cc5fc65e99d913e354d04ea405cd415cff1: (1.0046736, 1)\n",
      "9104d4c5859dc142094cf9d7e13e5eb5f890755bcf0ad71a3a13748ae17528e5: (1.0046736, 1)\n",
      "7e390020476777c76316dd4c97ed3acf2693de5e48ca6efe9c53c77cc6ca8397: (1.0046736, 1)\n",
      "3ea5eef3dd4641ab214dba7debb1479d79a740cd5b924a46ff0b26fb87245550: (1.0046736, 1)\n",
      "21784a4258a81760ac007822160d95ee6b81280e58f9286cc27e91ae1d7918e0: (1.0046736, 1)\n",
      "dfa8ddf658a2edc77f0c569be77b67690a2ad95f79b73572414d83d8a81ac687: (1.0046736, 1)\n",
      "9867d1f20fb5e3c2eb5ea75d799fd5405a62e3457c32243a13f67d2a0e127c1c: (1.0046736, 1)\n",
      "1036edf5a1657011d1bf45edb6ccc7706a83b09017056fa9654033b6c7164d4b: (1.0046736, 1)\n",
      "e2ef4f9bfaee8d71cb57a416f43936d94caba487a24da360de9d1ad5e509fddf: (1.0046736, 1)\n",
      "f4576ad1978736ccfdb8ca9a19af3f1fb9f6fc7471ddfdfb0955e270a0b36963: (1.0046736, 1)\n",
      "986da52e881d29f8b9fce30084c76465ac605b556db58274875fd0312fa615b5: (1.0046736, 1)\n",
      "0c5f11b7b181489b139ee5cc0d7b6b24d47f47da43b9c34976768863651fe3de: (1.0046736, 1)\n",
      "d65bc187be846a6307989d9301899ad78137188ca5645652f1f49c8eea887af8: (1.0046736, 1)\n",
      "af5974854caa42f2102c4c6c2a448801430b1f91d424b6a5027a0b4b7f7677ef: (1.0046736, 1)\n",
      "0f3f4bb4c85656f53672c45d4c33a4bb9e19f2f7e988ed8f35708f97414b6923: (1.0046736, 1)\n",
      "bdacfdaa9b5df240a002adab1759c73d7faed6811a3f65b25f3cd31f0d5f78dd: (1.0046736, 1)\n",
      "eb6ad75b648f5a819023e4efb65143f83243dc75a9aca74b1a573de2e845081a: (1.0046736, 1)\n",
      "0c73ae7497ad340149e0e95fa2e449eb35620bc61ab6f7cb4f26f1172aeb29f5: (1.0046736, 1)\n",
      "4a81be1c1c33292eff401dd439f21007789b7f542eee25baef7e5a6f5867f1f8: (1.0046736, 1)\n",
      "6ba7b25ddbcf1c783746163b1ea290c899ff74b47ec158d373cfd9c98e1d1e2f: (1.0046736, 1)\n",
      "8ec4b5bef76416b538dae838f4755a84199700b7ef9a70be4dfa58d155c0c739: (1.0046736, 1)\n",
      "4c07449cf94e16a5c848e1c7e12a61b66c56713093a182c550971ae2ea5c3cac: (1.0046736, 1)\n",
      "39937639f609ee1561d9e2763584b5416b25ca49ebb5c28a8c460ca9cf7162d3: (1.0046736, 1)\n",
      "8b3c699a1ecb900d84c87a5395e33cf0396cec6cfe67c3e5223e4ad60eab3099: (1.0046736, 1)\n",
      "6347291c7d0c3b232c5bd193388589875fb2e478e16872c9cfc45d65fc98856d: (1.0046736, 1)\n",
      "6abaa05af4ab4d0f50c704f461f16380b753a377e64d8938c21118e1ee2071d3: (1.0046736, 1)\n",
      "10a6da80f2acfd95aeafbd8fb53d51540992b7f94f801e5597e6b5bc0f1178f1: (1.0046736, 1)\n",
      "60edd99c258484840559b497cd602d6bf2f2be72af5614455042187e7708cbb4: (1.0046736, 1)\n",
      "5c695fe164fda3d7f17f6361204bf16b220b792baed9098372dfd8b766f8056f: (1.0046736, 1)\n",
      "b37373bef128214b9a304ff4a5d009f4c7e960843d238044b7ecfd1cb7819d2f: (1.0046736, 1)\n",
      "eab3aa98298f786795e2e65b201a08135b8124fbbc3018f446fa4552b1bb52fd: (1.0046736, 1)\n",
      "0a9bc4fe1b4796255cd2b200cd300924819996e9447b1b02c2ba2da70236402b: (1.0046736, 1)\n",
      "09cb5756746f7d98219bbf6a040a79352cb7fe4556104893e3febf1ba7091865: (1.0046736, 1)\n",
      "422080286d096263bc982ef75272c29c13ce97e288bdf1f6c877d590467a8765: (1.0046736, 1)\n",
      "522234080b52c74df8d694e686d5c627cb27b016f287020fad59e23c6383bf5f: (1.0046736, 1)\n",
      "3df0275befa2d8baa540ada67517c70f870fde470f4a527a5324484c80b4109d: (1.0046736, 1)\n",
      "4fdf48a42eecd16abcb8423299198eb4953abc9b791acd7ef48b4c1e62743929: (1.0046736, 1)\n",
      "cc3a0643eb852d1553d0b87b2a4d9a496cf3f55158efcf4580bc3fdf63e614df: (1.0046736, 1)\n",
      "5adf44ca36fc2ca7e2f1c5d0dbb9627353b569b9775bc633c932e9c883dae2fb: (1.0046736, 1)\n",
      "5ce49ccd887fb92889d6a99cd3970ed03c4c6de067eb987cd55a05a59f00d700: (1.0046736, 1)\n",
      "52e4bc3b5fc0f44af42d1668ecfdce50dd8201c9325011b9bd622ac19e82d566: (1.0046736, 1)\n",
      "062b42fbf39daf85a80bc3c771ba8f43223df19a9aed858611d709492a722c04: (1.0046736, 1)\n",
      "abcb0fe69c11888552d75ec56188f9be52ac6064ce4a76dd9c2584fe321d2a5c: (1.0046736, 1)\n",
      "44ae4ff0e38935eccbdc0722aeab1032e05525bb45c1ebfee5dd599b0b9c05f1: (1.0046736, 1)\n",
      "7b81f406eb0a7761aea9c43334f4ed29eadcc779dd38f74d6b8ace47128bbeaa: (1.0046736, 1)\n",
      "8330faaf0c54a20f4c82bf07c9872969b52b3c6149eb5d7b77ecf66fe618d62f: (1.0046736, 1)\n",
      "b20e35a93ad1a0d51a17611634ec92d95b515dfdc11476092d4fb82ebc11ea72: (1.0046736, 1)\n",
      "7c5617226bfb49cc60dd83bd15656f2d2de3748cd8251694a8b5a97a7a831b34: (1.0046736, 1)\n",
      "16fb2b3f84f05cc4b7208067c5c12f862ef541dc6116be3440a0f0de4a884d10: (1.0046736, 1)\n",
      "23142e85f39addbb97478a6e0c3de20103e86371c714747b81ce44c54aced5d9: (1.0046736, 1)\n",
      "f3c9c91dbe5357c06749dc929f60fc1744d85684f2e8ecabc1087d53cb6cfa8a: (1.0046736, 1)\n",
      "18add82099d54b183143f9936ef98b43d691fdbb5920d81e81d8253ae9005099: (1.0046736, 1)\n",
      "99fa3839af2d76094c74f75180719ef45a5ed0d254cd977337a8e5643c550018: (1.0046736, 1)\n",
      "a19063a8b939cef6c776081352f5e1d9c5c098bafd7b5b2fa18537ec9171ef81: (1.0046736, 1)\n",
      "e3bff102b84dbc40b8deaab5a840c4f8db1ff3eb932cc355dfc9977add8db934: (1.0046736, 1)\n",
      "ec625a99e2a19c47ac7f523214a89bdc6d20b5a930d859d01c63d032fb2339c9: (1.0046736, 1)\n",
      "73d08611c972d4b0ffbb7096feb17afa17e6aa5da8c519463e2b89195b2e8e6e: (1.0046736, 1)\n",
      "471e8fd0e698b34cbfa1b4b01f6bc1621848b950ee1c3137c22137020df233de: (1.0046736, 1)\n",
      "3c91b27cd3baeb04d9beb760c22e7822b16dfd1561dcda87d985b255663dde72: (1.0046736, 1)\n",
      "0288148dd1147bc9cd6bc2c6b8d31a0437d4fd1d54b4d3cde68a2ca836335c3f: (1.0046736, 1)\n",
      "e8c671fbd4359d589b1c2d95b5a44ee7bdf6d8653c2f079f1bd14783703ad0fd: (1.0046736, 1)\n",
      "0a34c36c235cdff9f1011a5ff8fd0ad78ae6334dc470308f0ac6e249d3a1b63c: (1.0046736, 1)\n",
      "be4490d4901ebda5a727e266d6a624a964c4da2809c14cee1a730a8b2c208d10: (1.0046736, 1)\n",
      "6966928cd0a37be0a6edfa73d2564defd832cfb0af9dcfc3d28bf67105e96568: (1.0046736, 1)\n",
      "5c41015aac3c5e0da23a343dbe38bd8f9f8cf1c022fcf923efc11dfad81fcc11: (1.0046736, 1)\n",
      "88b112a3743dc985f749d460a107a55369ccc695bb86756e57e0541137601122: (1.0046736, 1)\n",
      "9c7ae4418a53d12c842f5d406c4d35d3075366497b800d6e948b13098d699958: (1.0046736, 1)\n",
      "54c99017fe0415af92b9edd743dbfbb16da6a39a9cef29f0f09ade7076ce0da6: (1.0046736, 1)\n",
      "e3b159128bc7a57cfb7e7ac8b097ac9f3ba9a48b163226595ec6939d427e50d3: (1.0046736, 1)\n",
      "d4732d916f23391366aac90e4843ab87a461512df3baafe49eec856d27c7b37d: (1.0046736, 1)\n",
      "835c106272f6b2357ef805a41f7a2311ca72b2774c148caebc6671e9ab5f2731: (1.0046736, 1)\n",
      "9d37e49cacae47f460d3f89849f17ceab330d9dc256334e5c27ec47509c3a041: (1.0046736, 1)\n",
      "885d482b209368a74539c2817c5bb254852f5af51033ecd32734551b63b6c177: (1.0046736, 1)\n",
      "f868d85cebe8c6a47c772ecfccfb49b0209bb3ed195f7947ac3278e40ffc44b3: (1.0046736, 1)\n",
      "b54fc7d0cb66bcbe7a89950c9350350110c397e31552aa8ef1143bf441bf88fa: (1.0046736, 1)\n",
      "ecffeea282d664b9ae7d1519b4bc6c2af9ddbc6db89f32ac342e9969b6830e54: (1.0046736, 1)\n",
      "a957281dc9a1fb11e944487ead5cb7e18aa71a84678717319fa8849bec624c7b: (1.0046736, 1)\n",
      "d75c7f31df677ce80e1e7074d20fd9b3b182e2f232061fa6f29665fd6bad2b7a: (1.0046736, 1)\n",
      "a25d7afb54439f2ab44f97d5121412ad243636304dca38065860678d34809360: (1.0046736, 1)\n",
      "189f619c106f120b310da95addd9b2983c77b6311d072bfcaa458b5e31615dc4: (1.0046736, 1)\n",
      "7108a735ee1db03cecd0da02acea33581e02b1b50254614c3a7283fac79f66d4: (1.0046736, 1)\n",
      "30d5be17aaa75f18895068e3450ddd2528c81af4b87dffbf9d2a61a318fa78bb: (1.0046736, 1)\n",
      "9b73768676cd4630dd51233a949008e79c769f00522735165d0901277469d750: (1.0046736, 1)\n",
      "43992cc6f803948b1286062808c6294aa1091ba19db554d3664b8e87ef733264: (1.0046736, 1)\n",
      "2a27e4f65c307dd1ee19beecf16e634218584cb4f7312aae02dec985514e1788: (1.0046736, 1)\n",
      "b0a1acf18c879a65d1dd34ed9401aa3e206401bc4a2d52b2c25c718691f69f78: (1.0046736, 1)\n",
      "728ce889581e198fb0cbe2f6b1981d73094ae31eae1df232650ba1343ce7b270: (1.0046736, 1)\n",
      "0bd20eba10bc52fb17d85339522d470a43d5202fe31abe4676ad587fa064c13e: (1.0046736, 1)\n",
      "eb468091aef302687ae9f7387383f0bde0c29cd46e04edf7a2da61ea25c77569: (1.0046736, 1)\n",
      "95498d90728879aab15d369fe19802e7904ce5e29c0d54412b0d238390d0cbcd: (1.0046736, 1)\n",
      "7fe0ae52644336c22bcda7b909409192edb718c0e8a9f8432acfae10c4f6b7ca: (1.0046736, 1)\n",
      "d27d36f2782131b7554740cc35b74312e12705a47e8407445709d157afa12e4d: (1.0046736, 1)\n",
      "223d67980a9c571a2aed499c3adc1a1b5f897ced6d6b897f4823baafad14147d: (1.0046736, 1)\n",
      "0bb6c58b0f3aa86a25fa32e1b295add6cdfff1ee30b9c250dcc553e971712697: (1.0046736, 1)\n",
      "2a6a472319ddcbc32be7242609911128d8a28eacdb219b816972c2dc438d671e: (1.0046736, 1)\n",
      "c6a50fd6acbbf528daef337af6311cf2c1b5c3616513e82ff939618cbd09bba3: (1.0046736, 1)\n",
      "ab938ecdacf849217c55e69b2b99f9b8d4312fae334d9b92d285639587bbe3a5: (1.0046736, 1)\n",
      "c5281b93e7d59565b7a73a2ae26a0a59de1e366af78ad8aa6e58bd7cf1613a31: (1.0046736, 1)\n",
      "8212819b2910867eab0bae4948c9ab45e86a7fdfa754293347b3b4c01dd1cc5c: (1.0046736, 1)\n",
      "37a2e8a284027b2534f1c7981f9c7c0044f7cfbce3eba88da789b5d992451ed1: (1.0046736, 1)\n",
      "4fb45d22c1db121edfe736742c168dbaf9e5f043a65f23f8fec80923b2fb389b: (1.0046736, 1)\n",
      "6700c571a29e3ca0d3c2e8b35542fafcdbe0171e804e3c5217310811a64ddf30: (1.0046736, 1)\n",
      "08eebd0dd11c73cdc4fb9eb410551a37a3a712236970a618cadfe682c697bca7: (1.0046736, 1)\n",
      "04bf98ea5252aeb34428332939c81aa9e6fdf61303ba00f5d60a261dff7e6a64: (1.0046736, 1)\n",
      "dba0aa618db01fa004cbda5ff9b3b7dfecf1dc867cc37427d911769151e94195: (1.0046736, 1)\n",
      "e21a5a0581113a78a014331da8c77b8701aba642128b63e6c5ac019a6baaed03: (1.0046736, 1)\n",
      "9d4de504a0fdf98af1682a21bb56c453e03f142ea8defdec2b3a7f7da6ee9838: (1.0046736, 1)\n",
      "eea11b151f59cabdb67398c6a6912260b35f8b5dbc14e6f20b2425934ea91ead: (1.0046736, 1)\n",
      "92582af21ad29114e1889ccba4ff44c1d46eed952ce02f5901f523b111a27cde: (1.0046736, 1)\n",
      "7d0fe63d60859f548d3e2b9c65e6db746476cd06ed62d387e64d3f8b012e3d77: (1.0046736, 1)\n",
      "03c83fe3207bc41118ec9c1973b4f8cb61d8da3f533dfdaec305a3e59d885c49: (1.0046736, 1)\n",
      "fc1adcd9a6c0313d6752d96f818d53e3022f318f03b28feb9ede4bdd71e99cb1: (1.0046736, 1)\n",
      "996aa3b851bb016ad60ae263d11a1cdbf7e71aae19765897a4cfe0379cb68516: (1.0046736, 1)\n",
      "b410437660ddd3d576c985e077f34d0319376ef90b4454afdd4f154059b57125: (1.0046736, 1)\n",
      "3b30aa7c68f7e3cea37b41e610ace9c226fc842f6f93dc8ce029ce4d09d0e245: (1.0046736, 1)\n",
      "5f9294ba976400dcc0213e9d47aecfa6d5274accf385d07c9ea41e002928fa64: (1.0046736, 1)\n",
      "9245bc7234ae4f7e71890215223c029be641d6b7196f69574b646dcb444d32f6: (1.0046736, 1)\n",
      "fb6d0c1fac52a190c5519238ea0a75004c7976ba9f83c0ae781e8b5e059f6ab1: (1.0046736, 1)\n",
      "19d4e91c60aba1f7887af102225272bac14739f7732f4fe2db4b8afbb2849e32: (1.0046736, 1)\n",
      "ff04d247ec9dd074ce449ff84923b0fadbce176f6694487ef36c8e8ca8fca912: (1.0046736, 1)\n",
      "67698ba9425d43970127ffb8198ec9047c3a44677d403facd2e57d35adf0ac07: (1.0046736, 1)\n",
      "0519d476ca117bb62fd16971860c343723d9211ab1bf4e90b02cb45c0ee016d6: (1.0046736, 1)\n",
      "919c268d121321d88ed01308b5c57dec111edcd8b20e0af3a666777055451c68: (1.0046736, 1)\n",
      "abfd07d3a1e6129514823a6c68cc560c00849361a13ff0472c92217b540025bb: (1.0046736, 1)\n",
      "ccdb7513aea5703be184410f17070f3674cfd9a0cd73f364f736f52a3b7a4653: (1.0046736, 1)\n",
      "82c0820dbe0f63824b424bb908dd3cd6ceecdd1bbce23a4546ae33dba6c9b8a1: (1.0046736, 1)\n",
      "c99020eeb8000f48d48482ba1f8b801995259057e077c619aee5964476227403: (1.0046736, 1)\n",
      "caf08913933dcb04a2d0a4eda7953dd52e19343f520ace3737950b8e1311ddb6: (1.0046736, 1)\n",
      "326c88c0a8d0eb80425fe50594fb4cda5b3f328a7b8acfbfbe889661b920465c: (1.0046736, 1)\n",
      "e761aa0dadcd8310fd613b881c91760846581e3193da160d7592cb60d535fb6a: (1.0046736, 1)\n",
      "21bb2d8854d9dab45cef16720b1d48855c9ad43467749ab8b6bd38310614a57d: (1.0046736, 1)\n",
      "4110d5a6a8d508a8c8d2f0d5d37046589a033a0a42049880b86001a8940605fb: (1.0046736, 1)\n",
      "f348ed533b5f324b02cdb744f7ff171850e1755ffa6333eba428dc8803bdcc02: (1.0046736, 1)\n",
      "ed7ef7d042e05fd7b494c737a3184147d4fdc3ee88623ff9bd89fab2b5a8d7fd: (1.0046736, 1)\n",
      "21a390e07d4ce5084433e1311d07d95879e8760eb5d1c6e1b933d721476bd07a: (1.0046736, 1)\n",
      "8664807cd77aa7e4e68a7cc7fd33858f6242fd4953825c385ef8f35146156ef7: (1.0046736, 1)\n",
      "20927f2eb26f4993ec91b2b20ed53108d052b93dc8dff4dd9ac02d378ddea710: (1.0046736, 1)\n",
      "ca6d596ebd49e529bb232de44a3eb54bc83ea1f1ebdb3acd5142485b5a5256a5: (1.0046736, 1)\n",
      "3d71cb05628e0cefbf06cbc7eec92ef9cdb5f8a06eb9b6b9ed80fd6bdf2a8c2e: (1.0046736, 1)\n",
      "12a40bdb4ae9c713cd6f4b56b93c3344f64c7d56d1ce59f305cabdab9f957405: (1.0046736, 1)\n",
      "feaa91622c7ab0de3ccc573e0d4618cb62462a9adbefb85342a7c94e12f7a442: (1.0046736, 1)\n",
      "1293e436070a902bfe1acec0a1842e15e186b2366f54f1334fdf3b0a3fd28771: (1.0046736, 1)\n",
      "18f1e5560d114c7c684ae8934cf989ecf41342d99810b49329abebd35e781c9a: (1.0046736, 1)\n",
      "71d8717c9685d6a19e28fcaa5a89db7936f4a8d6469ef28f45e6b76a3f080b09: (1.0046736, 1)\n",
      "2f02505217dcfc11814ce0926d2055322208c9af7f9ccc4d2f31769aa5225162: (1.0046736, 1)\n",
      "927a295a03a2ff771c525e62a1f16404576827967ae5aead42a8222bc7773e6d: (1.0046736, 1)\n",
      "ccb5b4f668fc30c791af7d49e9844d0a8adc06bfdfc0095e8e63df4da125f331: (1.0046736, 1)\n",
      "e939258f0cefdd9fa812adf809f45fa75c64937d19b2512d69a86f26439b7251: (1.0046736, 1)\n",
      "a0da9b4b7e92089ddae84624ad4be1c715f7a1edf8b46b9c7c0212ff4765a0a4: (1.0046736, 1)\n",
      "b83e8554e301fe6e7c54e3561520121c67675e88728d05a98739cac8895fa4ee: (1.0046736, 1)\n",
      "82fcff3a73220ac5a7f262a6c110d325ab4018c4a6f0f725959a43d1ade57908: (1.0046736, 1)\n",
      "5d9cdd96f7e35b114611f5e3389ce67af4e00e76a46aab92531578d675b0a39d: (1.0046736, 1)\n",
      "aef98873e9777ee75ed51ad3ef538c95c0c7e7275c794f1fb7e486378fa877e3: (1.0046736, 1)\n",
      "88256809dd2b9b0780802a457f87f67353405a79285b80fcf2ed71a360bb662f: (1.0046736, 1)\n",
      "31219dd3668cda281cc5c898d7a7fcbff7eaa8fa32d5f3ab01de3b13eb999c40: (1.0046736, 1)\n",
      "45b1e79c2fc5b0c206f05b5228006cf6f58ecc07dad8a4bf4d0c702199fd8161: (1.0046736, 1)\n",
      "b11f498f33b7e134ad9679f5fb16dc0e96c3dae2df66a3c095ea35b9de999d26: (1.0046736, 1)\n",
      "f6879e9d447d18653ecf032a5077f98b260bee9e6538aea24bc0cffbbfcf6b37: (1.0046736, 1)\n",
      "10c71f20cac562c966ad8a087ac883d183948bcfd344440df4bab90866a4e5ad: (1.0046736, 1)\n",
      "e7c86f501dccf11b922c236da28025fa3a7475a063cfa91cf4266ac1d664d08f: (1.0046736, 1)\n",
      "774e59e74d6b5fa7db0cac773386cdc5fc4a21d4cfec251a189603bfba096d74: (1.0046736, 1)\n",
      "52a2837e9ed967ee7a3ea73bc507fc5160d0aaae7205a149c4543e1d9171da9b: (1.0046736, 1)\n",
      "f66f4c3efbb244746b44e7af2383a67b654bfd1e0a87454dbe0b577867bd1bf8: (1.0046736, 1)\n",
      "c59a382d895bace9300dd26f09feef43fdfbcc20198a600f46156808e4a4dc13: (1.0046736, 1)\n",
      "4ee7c3a239c087091a9237f34403f565685c2cdb30c412f6ddc52e6bc9f43dad: (1.0046736, 1)\n",
      "229ce55f8eb3acf29ac4f88ea2b87b1ad5288f98fa555b40e39febe39e923f06: (1.0046736, 1)\n",
      "4125b272a56679726ad894e7d1b9e9b956ab99448ba6d6e3bfdb7bdd34a7f9a0: (1.0046736, 1)\n",
      "f6806a2a799c8458727f694f8e1230fe7f5d9907238cc881164556887e609634: (1.0046736, 1)\n",
      "cba5bf620e6a6fc5200ada44b4cebfbcc28a091dd9e719e98f5b1ff867daf378: (1.0046736, 1)\n",
      "91d7292294c75e64735b87a5abe7c24dced5e2520184c4958172584a4758f483: (1.0046736, 1)\n",
      "f1b5b0bd56da98b7789ca1d60114d7f2872d9bda801d14225b1f7362cb14e1e8: (1.0046736, 1)\n",
      "3c5ff005da5d641ef0ecb26bb3dff486196c2152e81c1eecc289a7c6dd02846c: (1.0046736, 1)\n",
      "db9a3f078d4851e51ac22756b760faea99478b29b6dc816c8c06011695120561: (1.0046736, 1)\n",
      "19a89c3631333a5cedb15e7ab961483975cda46b492f0af19c24e2c2a06f7ebe: (1.0046736, 1)\n",
      "c4835f73351ad7f7162a7222941b0c70e6c4713764ed6f830add18665a472924: (1.0046736, 1)\n",
      "01cc25373ad73ea0e2e174153bed7647bf3bdd94a9297928ab795e99dc646b83: (1.0046736, 1)\n",
      "6da15d4c7e1f1ef76a436840ab38743556648ff800dc4555e585e56588494384: (1.0046736, 1)\n",
      "b8a0d23d5bd16e3fa4b5bc11a3123a0c4b8b4cc9d154f3a68b24919ba21bb599: (1.0046736, 1)\n",
      "ea5dde9e11a3aeb5f4f01460f7664dd6977f3062416c5ef9b4bc1a8169ae0529: (1.0046736, 1)\n",
      "374f507a73d87030e065ba7602f49173f07d5f9f1d4b0e404046ee57c910c27d: (1.0046736, 1)\n",
      "1d27ad61e078f5fa54268205a4f6a5d3019f10d8333714654f9c07dd4536388f: (1.0046736, 1)\n",
      "8290f766678091f25f60366999e1378b9b798273b8c715c20e1bc2898c354497: (1.0046736, 1)\n",
      "417a49209b588f8cb866bab10ccd340fceeb4677918ba4ea5223838700f453f4: (1.0046736, 1)\n",
      "f866db16b019d94c18c472b7267343f682713fda69b07516bf8581c9b2edf111: (1.0046736, 1)\n",
      "14abfb81ffc7fa9ddf6b4c3da3c206ffaf409f14ff031651d9e2172c0a7e68f7: (1.0046736, 1)\n",
      "ceefdf35048aabc1afef79005604b7d8d858d331aea1218305d6b1c78cdb727e: (1.0046736, 1)\n",
      "dd3975ca52ab10a5e7d6dca36ab37eb6d1d455b2342d8806e90cbd30921ac15e: (1.0046736, 1)\n",
      "78026b8da4da70defc200f79de971d7f6df962191efb3ebb1b98516a0b733b43: (1.0046736, 1)\n",
      "2e369edc8d6575d9f48f98e5607bc371f870bfff2288744b661974e6423899bd: (1.0046736, 1)\n",
      "1de2b9cf170fa8b01a5b15c6b49d945f8fd2fae8e8b2a8ca1ed5c2972a32afd5: (1.0046736, 1)\n",
      "00a6fad4949c433a0d27ed4ef44510aecc463399647006f0bda4a0c37b5f15c4: (1.0046736, 1)\n",
      "9598b52c8d2bbd3cd3e2bd29547ea718a5b8b1ef62ee16c9582f44636450ef7c: (1.0046736, 1)\n",
      "b722ce55580225af3300d95f55c9ce476d6302a7e57e4d4a99b4deb00b2f7c5d: (1.0046736, 1)\n",
      "4f6289ce73a899c85ba118ecd5e0d0a0afc43e0554ccb64e5b0693d3b8a2da55: (1.0046736, 1)\n",
      "7debbb9eca7737651ee3459fae91b73ded0a1885e3668748428cdb9281fdc4fa: (1.0046736, 1)\n",
      "58a3c5c8144ec10b239f22bab25c4a47836cb862265a274a1c658c23ef563dc0: (1.0046736, 1)\n",
      "d01a5738d01e37b2f4c9056ed1bb04e28b27f7704cc9296f2dec0986f328df9b: (1.0046736, 1)\n",
      "c0dac7e16a878e5e5bb05b1f0af57d5010ef68881b94c89eb0b86e1f2aaefc8e: (1.0046736, 1)\n",
      "aba8ede9ee5e53ee0f3eaf9d93293b06576c06db838951d3988311cdf1df0322: (1.0046736, 1)\n",
      "84975b00a683bdad14b52197fe3cdb4d4dcea80d3ade9b99c0b25ca17d8e711a: (1.0046736, 1)\n",
      "4b1ceb85ba4d193c2745aa75598cc7d9a7bb355e059176c65a02f050e77f204e: (1.0046736, 1)\n",
      "578e081a287fb8566bb6ebdf957a51424d913d586e343e0392831b141a8a0c37: (1.0046736, 1)\n",
      "2337f22be8f3b52ad6a23a622304d4d919ed5b0719b7990a6adcce688603519e: (1.0046736, 1)\n",
      "ab3a0e2bf536a0be7f3083a5fccfea2758180ba0eb1b53cc962a046ce1cc11e9: (1.0046736, 1)\n",
      "e50d828486535e164aa0347868a4b30243525f36f19b38b68183423f269b7769: (1.0046736, 1)\n",
      "4f3c7fbd44578291f5f706bf083b65c6d25dd420d8a56f4338eb04346aa7688c: (1.0046736, 1)\n",
      "12cac0cae7232ecc4e1e9f26f126e0b851d73498b0d39781a50ee683f42ec492: (1.0046736, 1)\n",
      "d12d0282570406645a323db75387d928d30bb5ccbce8f5ae7a550294c80b7bd6: (1.0046736, 1)\n",
      "c150397321ef7a6c9101b7335b3632aee6e5c08e7b3043870303ce8b3e2348ea: (1.0046736, 1)\n",
      "b09996fd7204a8b2c08fe0058d3072ea428a5e071bc9fce6d62342c20a1364c8: (1.0046736, 1)\n",
      "e67b1678388cb49d731a5554dd0a37ead978076f68a0bca36c6fa8bb86b0726c: (1.0046736, 1)\n",
      "eb164dc9a0f7fb6071aa3040548237c2681acff28d34b8fc9cc81389033fb5fa: (1.0046736, 1)\n",
      "afd6aa6d1cb2eca66efaddca5b57d0009134f9357eb43e0d45276d5ce04cf6d0: (1.0046736, 1)\n",
      "0118b61745900bb7e9a2f4991676e411f85a005feb63c3353593e1e8835a09f4: (1.0046736, 1)\n",
      "7fa27fadc52dff24cfe55f3f3fab559e337117ee54fa824047fb98e28726a767: (1.0046736, 1)\n",
      "46ed2a2b414072aaf85c0f263347dbd883dafbdec1484271157659cd8fd68c1c: (1.0046736, 1)\n",
      "b4188e2c754de5eb7bbab3db58cf13e40b5aededc540ece06a0c4f2b49d5d6d1: (1.0046736, 1)\n",
      "07e1b2084d1b2c4471377e31b1e0f081899d625109dda2756ed3f023773fd906: (1.0046736, 1)\n",
      "037a968fbd9391ef0ff865c3969319ed98d01e94aa031d58ee033f0732a57dbb: (1.0046736, 1)\n",
      "a0c2190928c4115e74d7d36ad0b0e11756ac89e42f2e13089a2398a6450a5165: (1.0046736, 1)\n",
      "8e12623ab856bd38fb0f406c06cdc6b308e1f2c6943f510757d19071ab5f99c3: (1.0046736, 1)\n",
      "fd674e6c7276220f113206267d872fc2a419f548224680f63b1e3ae96107a8c1: (1.0046736, 1)\n",
      "5f3c1bc80b07176ee4aaf7ae1c57e96e3333b9780845d5b9d6994fed799fe678: (1.0046736, 1)\n",
      "f3c7cf905e0be6ab465184c84bb7a1c435656c9e2fec391f0ddaaf71f94c84f5: (1.0046736, 1)\n",
      "edda65b1d21263f4249f4d40b6cc4588da87f89c9bebf6bab333b0d511e7ed2e: (1.0046736, 1)\n",
      "dbd951ff39a42928fad44d160dfcd30fee4806cd87ff6ccfc7af45838a653327: (1.0046736, 1)\n",
      "4d75a6eacad30456a367b69efff6bdbd6d2770fff719251853001481708057b8: (1.0046736, 1)\n",
      "be6233850a8a3b99254c8a568bba4d6e98f8b4dd7923ccd10f6acb3ebe10ac66: (1.0046736, 1)\n",
      "562bb018c08c74969d08de5f05d674a4e62846e7ada5d31e9ab51296414f63c9: (1.0046736, 1)\n",
      "5c2490562a0a119d09212dfe7ce4708dc283521df9c96208d8e29bdb9c61c6d7: (1.0046736, 1)\n",
      "9b1cfb62ee6528a28aaa7721b036ce579c6d2e12e0432b06de1d12dd21620fc6: (1.0046736, 1)\n",
      "1745d24bc8a64b89ee573170a7b928c8dce77c02835f123dc4fa7f6bfab998d1: (1.0046736, 1)\n",
      "03d54cbe4a4555e8581d7bb32c11c6104c46d415c4c5d48a893b0f47570b5f82: (1.0046736, 1)\n",
      "c0106f65e2df7d8aaa2ab3ab6653f4d91a821943c16cc8502d68e8b3659ac3f7: (1.0046736, 1)\n",
      "5d72e0cecb4dcfba0437b8f09a0e884fe719677d2cc481d84062bf57e0a676fc: (1.0046736, 1)\n",
      "e59af9a08512b9f910ecc70e1eb45099be0c5d60999eb532d09b6b4ae8dd7e83: (1.0046736, 1)\n",
      "5d5771ac11a19198d0b7aee507764ff45be2ce1f6496ef21bab4952fbc614aa8: (1.0046736, 1)\n",
      "8d348452090c3228f200040afa1f0976ccd2d43d954c6d120959933b49744fa7: (1.0046736, 1)\n",
      "43a8dd0da52c6ae354c0a6c76c22d8a5d8eb8046efda441a7e1f75be544b3ebe: (1.0046736, 1)\n",
      "cd04ec2726dd58a8c753e0d6423e57716fd9ebcf2f14ed6012e7e5bea016b4d6: (1.0046736, 1)\n",
      "5cd0255d812a1284792bb575ca6a2553cdac27960feac1452d8332391eb78bd3: (1.0046736, 1)\n",
      "159d35363664d8a1dfd28f1e04d12c0bb3e5778b4ad60f8e26865b8831dcf76d: (1.0046736, 1)\n",
      "c170f93c19b292906004bc8d325e31223507d69db5f1c47c4a6233ab636f6cc1: (1.0046736, 1)\n",
      "5afd476f474f16abe61dc3d5b3a4a68e57ce3a86e8aa3e8208ba2c17879bbca7: (1.0046736, 1)\n",
      "c28d76605f8022c20d2aca944bce149640b4f2e78c853f924d41801e7c1463d3: (1.0046736, 1)\n",
      "1569f6936094bfc450e57bf37138a7834d7c210bbcc3b996d003357c62f84e92: (1.0046736, 1)\n",
      "bd96f7bbb71aa78aa0e15ac5f4572813f66e769daf23dcc20f3c8f4b79ddcbaa: (1.0046736, 1)\n",
      "c1cf0b01267bf2917c2aade36ed13a8fdb6b75ead98c291c9ae474e65073e864: (1.0046736, 1)\n",
      "c7b38e0e9b901997a675e4fc07cecd07423858ca1841f5c21b9b3029680ab3c0: (1.0046736, 1)\n",
      "6988ebc96eaf060b9552154264c5c9bce9d2c1879a175ee9a6135dc15459d3ab: (1.0046736, 1)\n",
      "db22202e9de3390a2ad5367b5f537cc3c159b8502cf835cbc93758ffadb7e3b8: (1.0046736, 1)\n",
      "b60aea2caf7b37fcade77d2ed85a169995af90de3ad7966a0ac8552c3cb18b11: (1.0046736, 1)\n",
      "7c2deec3bfcbf55af3ebd3499f2d561ac63cd31728a92495493272b7283d7cb5: (1.0046736, 1)\n",
      "51016aac6b723e58d071803ceb8a35a31ac6611e07e164e9f891adee0025ad57: (1.0046736, 1)\n",
      "1aa179f1e60112b83321e14438d7d342ab02de59a201a99eb76834d05da9e18e: (1.0046736, 1)\n",
      "8ce1f48cd6be6cb7a0407802e936d8f06b5178a11c31b624226f802cd43cabd8: (1.0046736, 1)\n",
      "483f9a9c2976e125feec8771a6cea6ac17059dec36866ae7363034df2312a49c: (1.0046736, 1)\n",
      "12e0171e6552813e4c6b667ed62d8db670da00919983c1574c1ef38789bf9ef3: (1.0046736, 1)\n",
      "6912726d97704a4532a9e3e910acddcfa0f6f058bb7f0a1f7e551bfb1e8da40e: (1.0046736, 1)\n",
      "acc214e5977f41383da9cfe97af24baa77d6d7f9a39c7ac62bc17f98614dbbdc: (1.0046736, 1)\n",
      "17bb479459077b289c2eaa0d6495e34d2c72c5daac7edd146e1dc674f01619a0: (1.0046736, 1)\n",
      "8350ade937ede7ec3aedd4860a15d73235a01e978fd810f08eff7bd603218dec: (1.0046736, 1)\n",
      "2607bdda8f83cc250668ce854b22649869fc33bc9e47bfcee034892fea986d7e: (1.0046736, 1)\n",
      "4b902d9a4d73fa726227d17ba7223620ba8562191e6601512a70c8a23884289e: (1.0046736, 1)\n",
      "30d422b17c18964fed0e363780873f7cefce12206e2f32787b22c86ad8dbc7d9: (1.0046736, 1)\n",
      "6486c1572316c6f2d20705de7be41fbb60f269f142421ae8dbbfb028b68c9329: (1.0046736, 1)\n",
      "8865bc449569279fbd78852538af9c71ed6433b3a6a294aac70c3c5aa6ad5546: (1.0046736, 1)\n",
      "7c1b9416f9a25ae34ee114856d27de4804fba9ddb98162e0a03c4b9d98f12d33: (1.0046736, 1)\n",
      "f29b0deaea0162cb4778c569e287aa051bc2c418e4f19fc560a88fde49ba707e: (1.0046736, 1)\n",
      "ebc4f6d434ef09373a7af8f17327e1336649c35b8b0deb8be076b348b0b06ba8: (1.0046736, 1)\n",
      "1a8ff5bca9a06d93488b597eaba364f4d96d936a3c96b6c6d696a5445b7dbec0: (1.0046736, 1)\n",
      "a496fd6085e3edf754ac1a2fee99abb5a28e3d802154438ee3acbf8b19243edb: (1.0046736, 1)\n",
      "a659a701137b3df1541c564824f0b8a2c230493187c631b2ed7a47a301875935: (1.0046736, 1)\n",
      "53d5c831129d9908b60d3f939b610eca7abe50d5af204c0c3ed3f5a1ab63c826: (1.0046736, 1)\n",
      "0a40b1bce66c2dc61331e64bf20e3eec008d9eb517184941a22125ce170b7a88: (1.0046736, 1)\n",
      "96e0c84f5799a164a9a43d4eb02fa768c8f1d89176a2d6e789ee6e1d5f245616: (1.0046736, 1)\n",
      "5fca3430e6388c4c19dcb2b7a97929f2cf8b82cc776f558290cc90398024532f: (1.0046736, 1)\n",
      "24eaa643c4ca22ee820392ce53586ce5ec9dbcd872c6224d63710bb1eb66b09c: (1.0046736, 1)\n",
      "fdd9d091da750a36b4548a2e56d974517f8d9f85fd2622a19330cb922618753b: (1.0046736, 1)\n",
      "64d38564063ac407d2d2b43d3acfad4ec4d3ab455e624caf46bb3625a01fb092: (1.0046736, 1)\n",
      "ed4fe90833c56946e111e112e85ec12f1ec60f298f12375a9e6a291e84988257: (1.0046736, 1)\n",
      "79f6803bc1a6c18bc867cde23f413307490e24e44ad2ff974ee242cf77f0c351: (1.0046736, 1)\n",
      "d26e01e35f411475c404a225ca687690149d97d69a4add277c3d26b72657178c: (1.0046736, 1)\n",
      "a61d317c8088f01917dbdbd03d88a5df11ca3103cde80edb444af3575d34eb4e: (1.0046736, 1)\n",
      "b19f379ae647b0c30e2d4cc70b65ec55c6df714b09c067fb18b43d60cc5cf4a9: (1.0046736, 1)\n",
      "604c290ad113fa2cf80730ec15f1196c66e4c65741bf13a6c65e28bd3156b4bc: (1.0046736, 1)\n",
      "9ecf832c45485910708bfbd9af6e2964a75ff58f421f6593e4d6ada4e46410c7: (1.0046736, 1)\n",
      "eab74214cf7a33b8125eddc38d9d452a3552095e75e3d60abdd2ac894186df3b: (1.0046736, 1)\n",
      "82ce0055d4050e0515c509e992b0a3648408a52e142da834143f49ed2de93173: (1.0046736, 1)\n",
      "640d09b9d9b9d15b951b863835a21a1452acac9d3349d6f62c8a6dc849be2c93: (1.0046736, 1)\n",
      "c18c86e46ba4408d2ac8ecb97381ba87a262195de09c4af49eace30dbd235bc8: (1.0046736, 1)\n",
      "b67264a70625a2499f5652dc7bbcd2ed996470d14df2434a62f6258344198288: (1.0046736, 1)\n",
      "a94f366f3b18ddb410bf7ef07c6dee0059cf3484e09a869e0e1d977dc276af94: (1.0046736, 1)\n",
      "c74a2c616547286e8335ba295d3019f47e091b99121285bacce862407f9df2b8: (1.0046736, 1)\n",
      "a762e25b2420201c763cd105ad497cec44899be3e6c965ef53564e0561584524: (1.0046736, 1)\n",
      "8027eb1c5f33e8e8d1679c81393091e77d63f8d85cdb553f17a66839fada5470: (1.0046736, 1)\n",
      "af2d31f070ed5cc3fb1e4681cf70463fc4402d3ca776e3f15e392e5ec96f52a7: (1.0046736, 1)\n",
      "a293ca8877dac0aaca0d140162d070cb5df4ad6e48a26ab328840101dd5127f7: (1.0046736, 1)\n",
      "da3dea01b55cccf2799f1915c6d5e9a5e0e3977832ebeaa45869dffd49c83db4: (1.0046736, 1)\n",
      "5ab2ed7dc58ac837f7e21a4177f7c44f7b887fc67286ad600cd0e2c2ddf1edd9: (1.0046736, 1)\n",
      "e7f4290500516da3ba356027b9652a8cb40f7652802d4a00a6d452460d2fa115: (1.0046736, 1)\n",
      "3ed05507e6183c183deb9e6b5cb15f6069692f8712846409993fc382b9c456ac: (1.0046736, 1)\n",
      "3cd957f63f44aebe91c72356bc05a1e9bfd37d7a5d4bb0fa136807127430cda1: (1.0046736, 1)\n",
      "7a96017e6b7a78bd9f488e3c325f40f35f15cc813369e413b63102674f70a41e: (1.0046736, 1)\n",
      "180811500c6a52b40507b365abea367fab697b3993c204bb94c54204ae7e4747: (1.0046736, 1)\n",
      "e3e1b571f233963cb0df083c670143ef9529b6d836fdf6d2e88e67d1071e83ff: (1.0046736, 1)\n",
      "c4eefd5ebaef8bd29f32bf0f2754af061a6d607e5bc546fb24aa9bad715ecc4b: (1.0046736, 1)\n",
      "e75369e3ef79fb6b62a1e8664aceb7e2eafd05c4e4c6d6798c3c0276638dd6ac: (1.0046736, 1)\n",
      "c2ccebeba9edc0ab61d0bc00252010601603ca22712b9aeedd3a28090e06d7e8: (1.0046736, 1)\n",
      "0b465bdcdb1d41f681297260ed716661d0ca255f5a31c587f1492b6e2271c26d: (1.0046736, 1)\n",
      "fe8b4995d8faeeb42956f4002d7974fd448370640b13b432dd52a05cb35cb0d0: (1.0046736, 1)\n",
      "cd3a6a7005302369ddd71f71cf751fdbb97c6e5350bd19403325ba33dfb2ac45: (1.0046736, 1)\n",
      "84f90ebd5c5065b776e60f99f057aa9399a3323cd2237dcb5ee20adca663525d: (1.0046736, 1)\n",
      "5a396fbb0cf00c335c4de7010deb0366e862dfeb911350dbba58736642d2248a: (1.0046736, 1)\n",
      "dc6099b8260936ab33ec876dcb62f4a0eba3c25435a192cd521378af236fe46d: (1.0046736, 1)\n",
      "4e5992993c3a2f87f3d165357f77416e476d57be5651679f95397859a4ddf035: (1.0046736, 1)\n",
      "330b8f08750547f763ed6a9e755e3aad14685799c69be706d2510a123e7e3427: (1.0046736, 1)\n",
      "fbfa17bba332b728ddb1aa0987e16845124dce4d8d58e7bf954ba9a5d0ad0185: (1.0046736, 1)\n",
      "a7244c4424ebcbfc3f3ed18a8dbe94d7995e52095b998635263765b7393b8b92: (1.0046736, 1)\n",
      "fcb31c90a39298f7de6a41ad2837507d4675c7ceaa4e42e901207abf07b41780: (1.0046736, 1)\n",
      "26fa7d1d5e43df00831fae588630a367cd6efe7127fb69bc3632335ea59490a5: (1.0046736, 1)\n",
      "51d546ebf5c94ac9f13b62a2235a9b68353697c47ca3cc77220b1a7a1c3650f2: (1.0046736, 1)\n",
      "c9ac63bbbad0d32f360a7fd2af1c639bbdf1f9ca0070ea53289391046bd1e960: (1.0046736, 1)\n",
      "dc70af6e104646268244550502f70098d5295ad2ec730ea379ac4a77287e09cd: (1.0046736, 1)\n",
      "a24fe783f9e53f89b649c113736a048ad1d03d664048a4618217f656734e9ddd: (1.0046736, 1)\n",
      "b489e8ce231533aca9059210c2fdde6c5c41bc33cee4dd87cacb4fb20b438ef3: (1.0046736, 1)\n",
      "e010ff3e6140b70f495f39b86278a6a2c131766b129b24c66274712566dc1755: (1.0046736, 1)\n",
      "ab48ce8237390838fdab5e2054177749a91d809f37193a816c3f951b58b3bde4: (1.0046736, 1)\n",
      "f176919700dbac62ba5260c8b97459e5b7acdc5e96234fe630874f1ae7e4afcf: (1.0046736, 1)\n",
      "7a58e8535c906ff5d501ad7c4f46b1635d134dfb768c0762b1865c5cc00a716f: (1.0046736, 1)\n",
      "99db1520e038917d57092d0e11fb9cf11443bfdf297bd0ea250ad0a4a2afcd20: (1.0046736, 1)\n",
      "f94bbce8353b8348cc938d5acc4e4c1e2eecb95fbe307dcde4c43a7b3cbad7a2: (1.0046736, 1)\n",
      "f4ee9c6fe9d71f134b0725b885e4d3ee576ce4f3b075a0543d4411966edba3f5: (1.0046736, 1)\n",
      "5a5e86739b8422c8d76ed3f42c6492f6ab0962cb6932b5c507bfb5561d5812f2: (1.0046736, 1)\n",
      "bf509c9686e79b1c2d68f515f72710871e476b864b01138ad9adae18a5765ad4: (1.0046736, 1)\n",
      "510f8699ec19170f0308e77136192072bc4e91c8c80631db3f7562aa1af98e2b: (1.0046736, 1)\n",
      "a288a7b4ab84fb7611b2a27e71cec243d39b014c392703d823386236c7747ee4: (1.0046736, 1)\n",
      "d2de7859a90a014f400d42a45b0c58c08b3c499cbb4ea6305e67a8cead9af2b0: (1.0046736, 1)\n",
      "fc7ee784e7b909d1ecb1cbbdfee2aed34162b5a2817ede3e3fe827f4cf950806: (1.0046736, 1)\n",
      "881d1a1089489a40a29263773af0ee10a55a5f0f4603825af4735d2a308eb3dc: (1.0046736, 1)\n",
      "e67c844321e09aa1a8f0c04bcc4da21a17b85468ee72a4d428295bcf3342a0d5: (1.0046736, 1)\n",
      "17721706efff87aa3af3ccd90ef78585f6d27c5455438eb5b2cc198eca3024be: (1.0046736, 1)\n",
      "00ce2da7f87dbcc49a3c988ae138d54bc058307290fb44e7caa2f3a664775965: (1.0046736, 1)\n",
      "92718547389a1a7608e142b30b9226a50c8763af3eb772ff082538e5501d0a26: (1.0046736, 1)\n",
      "911933292d50d368fae9aecee201127b9c0bd2b270e8b6aa395a8bbea0401bc6: (1.0046736, 1)\n",
      "254e4c9ddc07b36bee536c659f4ffec0cb00120b258ad078ffa42ccb66145f23: (1.0046736, 1)\n",
      "10ccba7285244c9bbfef2c74d4634fdf9f70114091f772cbea4346b2378b5474: (1.0046736, 1)\n",
      "dd86d71bee9a576a629d5fd9f67b2b278a4f8af89307a00287b3d28586871a88: (1.0046736, 1)\n",
      "799bbc6c2ff02737d06dbb1c271604ad3367f94794f362fb8b998ef97917a5e7: (1.0046736, 1)\n",
      "09a4a93e36af454c4304a624b95537ed3da9bd0596f1a5fab934111cfb6b0505: (1.0046736, 1)\n",
      "a000e48f597257c2bd8df0947a491985b9bbf98759f316b58073e60faa7814ba: (1.0046736, 1)\n",
      "e695fe02b4ae0c42afb173a9989fad3e72271a86824ce8e1174d2759ec6acfd2: (1.0046736, 1)\n",
      "37918a53259c4916754acacceb59d5efcc10e67ef37390d6552500be67302c88: (1.0046736, 1)\n",
      "d4813769fdeae5bf99e26708a19a2a6b4c495688f47c06cf420af6ae43c43400: (1.0046736, 1)\n",
      "727802c391c7fed26b84931853f3f5c26fc3989ddf658a2307acdde2d556feec: (1.0046736, 1)\n",
      "e5d937a7b09e531a7ed32422ae2f1528d4e017ba10a7b1fafb4b9375f1d35ac0: (1.0046736, 1)\n",
      "a9c1da9d445138ea1395364c79acf4f29e4aeafab9ccb24f9c016473b1a5c761: (1.0046736, 1)\n",
      "f18c48daff8a81c9dc4a638f74e13473d0d2e74c0ea155fb1ff069115237e902: (1.0046736, 1)\n",
      "057c2ba4fbca3b34eaca059799afa96b26e17034b83510b9ab16af90513d4ff5: (1.0046736, 1)\n",
      "52db9ec3a152843239c9e62521ff8e00af2cc843fa087ce6ca867659113e3fbc: (1.0046736, 1)\n",
      "7562d47b735af0410d066d5f7cc6968de102e3195f488e77ebd13eafb1f0c9a0: (1.0046736, 1)\n",
      "deaf787cbea82cbea37855458d6278393407bf1e9481dfd4a53bda05ebe64265: (1.0046736, 1)\n",
      "7ee69558470a510da021057de6a8451765c814a6631befda8671a28dd64cf2c4: (1.0046736, 1)\n",
      "78031982892b31c1fae1e45e79daa6b427b3753153135ae2307fa36e22454a56: (1.0046736, 1)\n",
      "9254439827da1cf37b55c8b7088a4f3b1e95259dc467b80fd0cdd040d5f1eb5f: (1.0046736, 1)\n",
      "3cc610a67151e8c74f0ac64c9dcdda3e15f3c57478634b423f787f1c1c475f9c: (1.0046736, 1)\n",
      "174a55b9ebc4a031a854bc7b1207374472ba85be11a679b4ad4f3cd3ed1eaa68: (1.0046736, 1)\n",
      "df8636676a34c5e9f072698dbc48dbe6d9adaf7a130c8bb3f929b3de28f1bded: (1.0046736, 1)\n",
      "0cdab7ae08a3b1b21ae137d0654be823b5b50f57ffcdb3d56c74ee010e555ee9: (1.0046736, 1)\n",
      "f4086c59eb39b8120cc0fe4f9a66439de6a315039dc61c2ef0c859f2602bb460: (1.0046736, 1)\n",
      "a4abeddfbefd8f1bd8427e44b004d3d6671ec812f13a6a586516e5d5920a00d2: (1.0046736, 1)\n",
      "a3f260afa42ff3cf1f40aa820e5b4247727f4841b1e99eba510308a86cff7249: (1.0046736, 1)\n",
      "9c251d14441af98d29f49b71f6808e84bdffd224dddd32d8c59caa865990d148: (1.0046736, 1)\n",
      "1bcc89875c0d869406dbe9a031667763ab4d7e4d99a3939d66a1b9a9a94d1935: (1.0046736, 1)\n",
      "5c87c63e949bffa8031c94b9cbc3111141efa41a76280270441e77da07960aef: (1.0046736, 1)\n",
      "d36f2dbd31594cc2bc2dac35e04563c4786a84ec02dfee94cfdbce7d8efc9a37: (1.0046736, 1)\n",
      "609b537b45918626c9e91bd19bc5748a3f28a104337f8d479a7cf3a5e2845498: (1.0046736, 1)\n",
      "078523ac4bc0f0afa4b6953ab4125ae3ee0e85c5d1213d3793b4ed1a2cd7ed99: (1.0046736, 1)\n",
      "3501772938f7f2a514698325c5474cd707a53c8cd5be4e041ace9b9b43a29287: (1.0046736, 1)\n",
      "20db6daca5cfa7c23ce1fbb8143e3694da602db679eddbdf8ced6ec9bc6cba40: (1.0046736, 1)\n",
      "ff38ff081b17e1e06a6bf2c27b56cb8678164237221246658b0f1e6310a2a0af: (1.0046736, 1)\n",
      "4c8918eb6e3656eb355bb1a1c251013bda9ad8d4c7f9ebaae5db223d666537c2: (1.0046736, 1)\n",
      "677656d3263328d45d64551e09976c95d055d8b3720df8de56ca981a27d33a2c: (1.0046736, 1)\n",
      "3d04e4505e631fbe48da5a8a854510c39f5824949d577b7311b15bd9ae9fbc30: (1.0046736, 1)\n",
      "d9930d86d640b5b3d586fa1b693c173f11a9067497dcfadda908d830180401cd: (1.0046736, 1)\n",
      "6b5d7675e59a4bf868ccb48a4b36ad99c64442ff9fc9e2361ec9465c54ee0e15: (1.0046736, 1)\n",
      "2cbd5b5ccdf78b48c314597f877a02df4e22bcdaec53fa96907cb1ccc98b194d: (1.0046736, 1)\n",
      "35825e7d028df2bda889e744ea530475b6a2ae6e06ccb15f7fd2ac6ff8c8ff56: (1.0046736, 1)\n",
      "04a38bb2b86db7568bd2dc6309ecd78c226c79378fb3ca15f29fdd9fdb48c85d: (1.0046736, 1)\n",
      "b811d566e1b49e8ce4208a3f89a6b00591322128bba840314b5ead75522f0415: (1.0046736, 1)\n",
      "16a10f8fbe24a68ac772d898abbca328688ce70023d207aab5c152c42dcf4843: (1.0046736, 1)\n",
      "3b69d3128a18612ad03913342cfd47fc3670aa0a96964b39efab0dd13afc9d90: (1.0046736, 1)\n",
      "41a17ae74879eec2525c672d514aaace66231aa3d710e7cc3c1b079c14ce637d: (1.0046736, 1)\n",
      "c6138fadb5525004330ef0eb0dbaedb1ade3faddb886cf7dad947410596a45a0: (1.0046736, 1)\n",
      "3db39b9aabe03f3462cfd0ee5c07820effccc4e3e5a6fbd1b0f7fe018b650388: (1.0046736, 1)\n",
      "b405c5bcb949867c973690032fa13e9f3e24162d21a4bd4578d1fcc304de9d41: (1.0046736, 1)\n",
      "0672d098665a738603ecf2950bcf97556f23432a94c86d868077e87126c84838: (1.0046736, 1)\n",
      "841debe23f0814c72889f2d06860a0c03b0ba83bdcb8acc0b77a3ceb95f875d6: (1.0046736, 1)\n",
      "af09bca23fd852f9739f808f23c1373d049948e0d8d2aac9ff176bfc61a953f8: (1.0046736, 1)\n",
      "f07ed4c5f8f5bebc802f07778495074f6b19e01530aca11e8be0110792e68931: (1.0046736, 1)\n",
      "8038ba0e42dbb2ee5cd817ae1a6df58889c8ac8091c92ce2c430c5bfc573eafa: (1.0046736, 1)\n",
      "32d43674b808cfe667a3e1ec9d4276bd119a9d13fcd9db783e149021f5a0c3b7: (1.0046736, 1)\n",
      "3c4a947180825640fc819703b8493b189fce576d5cd7e24b5734828dc9ccc84b: (1.0046736, 1)\n",
      "5575383e5d38932c7b800a12db5147cacc40194490db3b5a0d54f2efb1a8e11d: (1.0046736, 1)\n",
      "348c94fc21ff65702c1609fdc3ea29dfd24ec984b2d8736b04584f8f09cac1ce: (1.0046736, 1)\n",
      "a36d0a6a00f755cc6ff1f4f6d5ac4fdb203a8f075899439b8e800534fb5b75b2: (1.0046736, 1)\n",
      "f721d018ef3ac34ed761fb45669a9250fa2d60e9f3dcbe30a6dc1128b56a6c6a: (1.0046736, 1)\n",
      "c7f477609e753bb225b2c1ab8705cdf4f7b0346a6bb0d855561f758ad18ede33: (1.0046736, 1)\n",
      "fe5b1399fd67d46d6bf3188df426d5ca86f240ac4af922253a08658e365973ba: (1.0046736, 1)\n",
      "68077de803c63c85b5cd8fadf248923145687e0c7f586131995282b15f00d8cd: (1.0046736, 1)\n",
      "36f708000b888159aebf40256d2380233274a6084c355d98038d82ffff24a09f: (1.0046736, 1)\n",
      "ca1cf013aab9b933cde0bbaa4a24407651fa47621615d0da8001b54ee1a47626: (1.0046736, 1)\n",
      "2063c742e3f06055270e17ec7ca662c1d21f97584160e5640b0442d06c917199: (1.0046736, 1)\n",
      "cfed04043c50129a4ff0fdca4476710935c28a2d19ab77d24c020351833e488b: (1.0046736, 1)\n",
      "94c3b795c7703fa04008ec0991886a5592a80380308c1f690ab9826f8d1116b5: (1.0046736, 1)\n",
      "0a8cff9335deeb971e8fee52ba1c026570b28f7a28c394ff2da796d66a750a48: (1.0046736, 1)\n",
      "ead647c271c03f90aaa402ed56f9a6ebe2d918add7ef562bc11ab31c7abcdd6e: (1.0046736, 1)\n",
      "8e9088df8460a58e4b4486110b344880284522ecde9680aaac53cc75d3406b1c: (1.0046736, 1)\n",
      "7ace72989d9cd0dc0ae251e5864d0691961a98e6afd6edbcce36ae3cd5d786f4: (1.0046736, 1)\n",
      "8f45d3d0ffb5599c96fb1d14a2afbfc198b30fe6e99e54b32412b46d7989d9a9: (1.0046736, 1)\n",
      "cfc6082f1e8108b67fdc5464994dd451eabb6b0f8085d3645683da034fcd0409: (1.0046736, 1)\n",
      "7ba1ed7867357efc8bef683eb90bcb055c88728ca7069675c0ad1fe444e555ba: (1.0046736, 1)\n",
      "0355b2abbeed159a7a7d54f9fd95e9c8b1bccfacf56d7b58b7c2f8297c7a7107: (1.0046736, 1)\n",
      "b6e33fee10b0dbbb3f32c52a3c49f93fa71e8c7105efd55f3b61175a5c634391: (1.0046736, 1)\n",
      "57a978691f2e4b86288b8bf1874ba7125fee4337c380cacb09aa39bb16521b95: (1.0046736, 1)\n",
      "5204aa1240ebdc9ae55099fa951d82797dd4b147f6d234253aa6944baab3d31c: (1.0046736, 1)\n",
      "14060b8b7bd380ed291ffafb0661662882b063805dddc24179b55ffc05cffb91: (1.0046736, 1)\n",
      "b6621a6b98b414d6e415be7c12df73164834597831acd0bf8d2565d39326fa2c: (1.0046736, 1)\n",
      "a7abf8583f399435a11b088ade793a845aabb77416d7ed04379e655add7d40e2: (1.0046736, 1)\n",
      "71eb9cac4591ace0c61085006f44343deb4d4ebf0b333afc53e2004dbf773e7a: (1.0046736, 1)\n",
      "b5278b797b0edccc090aebababefe4124126136a5b9be4319737700d8a924936: (1.0046736, 1)\n",
      "86e159bf3d4b48325328eaf1f2bad06b4362c8f65dcf3c161c72167c0b7adc1f: (1.0046736, 1)\n",
      "b747262051d17ff281f8793a7b83d975c6483d716c6dd4ff5ab19e80fa5e51f2: (1.0046736, 1)\n",
      "4ee58b0348db76f5662b1b345fd791b7a7c5ab4490884cded783848faf4ca2c8: (1.0046736, 1)\n",
      "a03ea5c8bd926c2bae47a97bb6d268b64764d31d79579a4b94dd97ee389ff659: (1.0046736, 1)\n",
      "ca1f97483f2fd52ebe6bc160c4d7fb163fa78505216c7ef75b3e161153bed3fb: (1.0046736, 1)\n",
      "97f3bd0692dec3d805306688c3de71ae6559612947b422dc5aa55afd155b78c1: (1.0046736, 1)\n",
      "bd1727a7961e23bfb36492e3e908b3633ef0616257e10a0a9ae1e7500126fa68: (1.0046736, 1)\n",
      "23fe7cf2427895c89b1a1c521a57dbcb323b422da1fe6a9ef7bba63f81013b23: (1.0046736, 1)\n",
      "b02fc93905e152c5a7e8b36235691f5d3231dc4f296ed6f3532a3446fef8ab02: (1.0046736, 1)\n",
      "aa61e06ec0719543a3b03465434f56d5dd3dc41373022251cfd50089ed59e045: (1.0046736, 1)\n",
      "d075700cafae8fff4cbb8c92281a98119bddd6db740bc751fb796bd8793167ce: (1.0046736, 1)\n",
      "6384806dd0ba2fcdef3cc6cde5e9bbb45950bfeb283d3f1879c49b03c5a61dd3: (1.0046736, 1)\n",
      "ecc4b61567b8dcd0d8044a23eee9535d014932b5a268ce0f1cd8275e92e30515: (1.0046736, 1)\n",
      "f3521cb5dd37871ee5b75195355f00308121a29b8c8e5793af799d5605435397: (1.0046736, 1)\n",
      "9fe9b39ce2965fdca4314f3a93be72e1e4ec7cb825978583970d746ab9516810: (1.0046736, 1)\n",
      "0e22c3a58e9ff60f0d45c00d592394c4e32ce6690dc45cc4350d918194f11381: (1.0046736, 1)\n",
      "b08ac4a8a39f43364a423afb0c2abfa859f4143a752316785f698971c2a52e1a: (1.0046736, 1)\n",
      "7e858a79ca4af5515db231b483dc2e3d891cfc971e1b9f4f6b9ca6edd1ae8ee6: (1.0046736, 1)\n",
      "c42288bed80d826386759de0ff57d9691bfdc6143065e9e442c37387c662a13f: (1.0046736, 1)\n",
      "97165fac48ef4f192439e18245f028a8c539b71f27312a21dba0b31f438aefad: (1.0046736, 1)\n",
      "fb898a6d31db121dbe0f3920c36054a73c17c19c57c26b42646bacc046c9a0fb: (1.0046736, 1)\n",
      "2b644575337914c31ec34ecf177328924883a70c4a2aa86fa6eb4d56616cf0cc: (1.0046736, 1)\n",
      "bb26731bd7da87f220fdfdaf5de9e8d49c8268738283962591aca233ea2bdf4a: (1.0046736, 1)\n",
      "c71d10cbf28784492d225f7e1e60692581e65ce27b102395de6acd3179681ccd: (1.0046736, 1)\n",
      "5d15066097c4b0d94cba490b85c58ee24d08907bba728e575a282e77155980b1: (1.0046736, 1)\n",
      "a1ab0d5baf9ca042c5ddce363eadbb9ab474d452b5eefa43116167c7814a046d: (1.0046736, 1)\n",
      "c6f5e87a7146c47568b7409694dd44d9183968b5a0b973c52c94f0672fcaa1d3: (1.0046736, 1)\n",
      "ba09b0d58c64a7dbf08ce8ce80ad4aefdf3fad5eafda0393bcb1cc306527c52b: (1.0046736, 1)\n",
      "a26f7d11b7c585207b3ca1acc2f305d385b795a7a9d21d9e6e437991e3239f7c: (1.0046736, 1)\n",
      "df12a58dc7a3005bf5ad9f5b890f01a2db09e5904398d0ce26e0121ededf3d43: (1.0046736, 1)\n",
      "d236a024b4ec60f2b9647f3d726a200557fa31e6bc27f9133e6f6225723baa3e: (1.0046736, 1)\n",
      "08b21e76363232cedae79e8c6cdc8d510e0ad77867b7b9f05e5471f7e13bddcb: (1.0046736, 1)\n",
      "6eb38f0b2686b2c6f5f33ae617cdb19827ccf2112ff6dc53ca99e49ebdfab13a: (1.0046736, 1)\n",
      "07f0544ef1dca4f4511959e3fcc0756d847b9519035e16579f113a00ee2717b9: (1.0046736, 1)\n",
      "1cd42e8ad13b169215cc585b58a73eb54e39b487c3638dff10db2abeb4daa6f9: (1.0046736, 1)\n",
      "9a4c429062ec1497da04645ddd786187ff7b1daf7f5eb0828ce3b4637d27d84e: (1.0046736, 1)\n",
      "c45d13a586f9c8a7eaa1b943769febb111cf5201639eaeae6f0226becf76bf62: (1.0046736, 1)\n",
      "b88d54315ef69a944e980cf50ad685ae0ef98db7067c2cd952f30ceb47d03caf: (1.0046736, 1)\n",
      "9aa491cb208be3dacd21dc0ecc62d511098bde9b7024cd7872364ab9f1be7f63: (1.0046736, 1)\n",
      "db39a631a2241b62c3518b643c020acb9ccc9c0c31c375620b851d989e1801cd: (1.0046736, 1)\n",
      "34264d9f0d399cf6a25e1c26de51fa028be6485cb6dbcf804c0afbc62c8c46e3: (1.0046736, 1)\n",
      "d729f57f7717d9cdbda9813e81ddb7c863885e0bb65cae9755c02199a7e3e6b4: (1.0046736, 1)\n",
      "e4646c413a38bafeb4d9eed9d05494330b8f3ab6a9f5ba0a437e04f4fa9868ca: (1.0046736, 1)\n",
      "51d59fe479fff39981b99c163a5bd6da11065495bd984450f5aa3279ecf78c95: (1.0046736, 1)\n",
      "37d1c4e88ddb05537e0cf7144f927c5b289726f1f445a7fcba0794f7e71c57dc: (1.0046736, 1)\n",
      "649ed9f42e90f7cda9b5cb8cea84abfeea05031e8031e60f18221c2b4551e4ca: (1.0046736, 1)\n",
      "72fe6059ab3310f8edc2ba4f17327b9abb10dd53b2e08b4b534de5f6b73b4e3e: (1.0046736, 1)\n",
      "763cbb4827327e36c0e8612415d6db17b58b5f67bd213afdef84de47e80d09fe: (1.0046736, 1)\n",
      "fb9b61cad4806068406dcfded8d45415dffb4f4a09746316a2aa3dc08a985b2c: (1.0046736, 1)\n",
      "7c5bc480123a796b19bd59d2cf9c653c511e4a547ec17dbedeffa48bb159b436: (1.0046736, 1)\n",
      "86e93b3e40c001e5391024e6c3198224446825546659eb432b159aaba079beb0: (1.0046736, 1)\n",
      "c0e9eb71a83e3262dcaa3a43bd01a405542ad8657bc63fcaa622e1abc8b5cb71: (1.0046736, 1)\n",
      "94e2a25f4c2b37abfd1204c8ddb621a0fdfbaf68e881140ace49c98438342f30: (1.0046736, 1)\n",
      "03172532bec9cefc2979381aa2b2905c8088be7f5918a4742e3c2f313607cb2a: (1.0046736, 1)\n",
      "7bdb0fb062c6313da1237c14f831b93999d02188f366fd638b0c83a2e449f04b: (1.0046736, 1)\n",
      "5ff9add17636f04f6b46c4bc20eca0b394776661a9e92fc25f19d8e5c066b9bc: (1.0046736, 1)\n",
      "70ea1f66eaadca7017fe2f02db9aaf2399384d624942fc3feb43b042acdd930d: (1.0046736, 1)\n",
      "111ae0a7d93adb9b74b4bfee140fa91737db19f4037e16e2303a5596ab691d70: (1.0046736, 1)\n",
      "36f47c91054e5919da51fd1fc46f232ccd500ff4d725d9bde10d9928ca74e90c: (1.0046736, 1)\n",
      "bb1c58efdf3e398b88e634bc42a8be0882ec4f993ac4b1b2a028782ab0dac431: (1.0046736, 1)\n",
      "edeaa73c1eafb97ae1a15037734ec04b108c02f254662b47273bbd29836d2854: (1.0046736, 1)\n",
      "2a2df5d59504692f09bb2f27f59d69bce92e084126dea4e4e4f1c36122dc9842: (1.0046736, 1)\n",
      "5e3e9c66efb3bdaf30ecf9d7d4cade7da20a7a7b2a3836758d61738863453158: (1.0046736, 1)\n",
      "fed309add8958df2219833ed6da3a8804a21fd2bafbe4dc5e4530ce39d4975fe: (1.0046736, 1)\n",
      "fced8d340fad1b08c1a66a78999dbcf30a7eb82957e39ce5b6340d51743b42d0: (1.0046736, 1)\n",
      "73679e622ba9cca6e4585708a67ce15615c357aa2187377ba0a1ac1323e98bee: (1.0046736, 1)\n",
      "3f1ac700353f470a4e6b14a7c7855e7af90c555bbc5fe2c9dace816d8aaa892b: (1.0046736, 1)\n",
      "51adb4e52f43853f6c469c7f6c3758b4934efe48909521c9dad6466031ece4cd: (1.0046736, 1)\n",
      "4193f96fd9cdaa5b036d2c618883c027978b89e8cfdebde70bdca2a8359d28ab: (1.0046736, 1)\n",
      "b4570b626f767d67c499f04a18b986d2a20336fe92bfdd583e119979961571d2: (1.0046736, 1)\n",
      "85d7b4443f37c54fdc4f277d3d6a2155bf8c085181cdac835b1fc93161490c44: (1.0046736, 1)\n",
      "e37e095ad881606041673eb60e2822cb85c32ebfe003e3056f10ae94e6faa512: (1.0046736, 1)\n",
      "4b48617fe347123e3543e213ba187aeda8c43936a8db04053c18296c66fbb235: (1.0046736, 1)\n",
      "89674cd3042a06124e496045dd9263dd59412f52f267900d9dc33deb21efee88: (1.0046736, 1)\n",
      "bd447fb4606b1f6497c1f67ebe95a73f7ac1a3e48d571090e17b2cfdfe4ea106: (1.0046736, 1)\n",
      "29be5be9a203808b84e1d58484ae22710e8ede0d0e23c8badae4e116aa1bcb8a: (1.0046736, 1)\n",
      "cf70f94c14d528aba438cc8d249da63f323d303b1e0627d3e2f2a265116eac7b: (1.0046736, 1)\n",
      "0691fa72a61fc666578992bd00c34896a5ca865bdee0e132f1ce0db8567dd6e1: (1.0046736, 1)\n",
      "4aa3c3e15b32e7e9e988cda9f2b3c77d6c59f67ffacf0b61203c78b7e2cde5a5: (1.0046736, 1)\n",
      "1ce508ef78ab775412ca1d8a83db029bcad789940a964590f89d8e3b22c9c99c: (1.0046736, 1)\n",
      "81f7ca986ed227e7d1e95eb3fc87ad1d622da0af3265290301bf5ad1622ab92f: (1.0046736, 1)\n",
      "2d88f59259d91a8406258652de411815c014e31ced4c4f57d900bef43c300244: (1.0046736, 1)\n",
      "9d16fed7c73dd2a59b5a604dabc030467ca7888c7c5dfbee0649905d9380b2c7: (1.0046736, 1)\n",
      "5ae0d19f0a4d9e2d6c6b76f08298a04b76eddf04bbe0539841a1b62191da78dc: (1.0046736, 1)\n",
      "5cac45527f9ac02cb687f438c2ed76b434d04ded23f9db9043da2df9b5efab94: (1.0046736, 1)\n",
      "5a5d952137a5d09a3461e2b1877cb7b15b2dbcd5c908f38bf7a281d626610792: (1.0046736, 1)\n",
      "4e3361a73d053a2aa84e175851c78415a0d3366302a859f27358dbfad6e42c84: (1.0046736, 1)\n",
      "1264a9d2f2fc7c713cf65a5e14db8293ad1fe5808bc16f31e861a9cb06853101: (1.0046736, 1)\n",
      "c5129e13481894d1ed3c12f2d86d0811899fbed8df439ad141ff0bbfae553fa5: (1.0046736, 1)\n",
      "06ddf9c03fe21df32ee02d859ee27a71e2d6b6b544d1d228f93b8927a965da69: (1.0046736, 1)\n",
      "cc047bc4b1f0d22490a4a8974acc8c43786f20084e6957bc87bd4c5cfe51336c: (1.0046736, 1)\n",
      "f19d034e8cabe9499f9e41af9328f406ba31e1ce0f86f64e7ace06eef27ef510: (1.0046736, 1)\n",
      "8ff268db485ea0a1d07bcfd4267f7f2b1e8c43a90158c69398851742e8efa17a: (1.0046736, 1)\n",
      "82cbff8d1cb98cf1c80ec21ac4598556aab983a4550dab0f20502aab5cf25892: (1.0046736, 1)\n",
      "e006c8a0ad690719e6876b82f30671130ea523cf338753443d5ad57af3b3ed8e: (1.0046736, 1)\n",
      "cd675a9cde8313136565832fef2caf5a4deea628f723d76251b3e3bcf7e9b5f8: (1.0046736, 1)\n",
      "4a6e6a3019b3a4039533dcdf8536e974d543a46b5dcbdaca75d46f53e8016845: (1.0046736, 1)\n",
      "a6f93445433eb910d0c62b78d49f30a0223837175ca72efe15d5e2d51d5429fc: (1.0046736, 1)\n",
      "f73c4343eeb96cbe61c3ec48188a8e653d1f1da5795e1ac1da6006d70b709d22: (1.0046736, 1)\n",
      "681b5d17432d2d57a7cbfb95103dea1e5b257c6a15c9cb04ce277c82e512d2c3: (1.0046736, 1)\n",
      "76c0c252194f492069f82cf0aa6716254ecf22d12f0f460386357e7e2144a33b: (1.0046736, 1)\n",
      "f6f2d440fea86fa9b5d513cf6c2150b53f2fbbef1071adb378ef2b8eb222478a: (1.0046736, 1)\n",
      "8dd63d6302f7817b5e287e70f4b52504be84a6029f8bd0659d04b07b5d30d474: (1.0046736, 1)\n",
      "694ce2ed17ff9afd19d3cccfddcbd1aaf31d2526b8e5ae0bba06972000e1b54e: (1.0046736, 1)\n",
      "d00f6d327e904689914a1cd8e462b325df8ba8517eccd107af8da449936ad17c: (1.0046736, 1)\n",
      "c48b821f77f153c950eb50c399d1d26d83051cfacd2c33a96f91e8c2ed40b64f: (1.0046736, 1)\n",
      "ff6245022bb917b4fa09e809b23f4aa620db8dc5c214d2bf85ce84aa26359904: (1.0046736, 1)\n",
      "f4294b17035dbed4a3c2312a4dcffc9dab2ddb2ab84c65de5737556975648938: (1.0046736, 1)\n",
      "a21768216e32188730903f74c4c7160830ac70df9a24cece58faeea1caa400fa: (1.0046736, 1)\n",
      "bc78f5aae91d820d02361f33cb900039b20bee266829d1b06c32afeec40b187d: (1.0046736, 1)\n",
      "58f4bc8393dcb680552098471f281aac4cb84fca12c5b5b50af62d10c2d489ae: (1.0046736, 1)\n",
      "5da22e5fc8f619f64982431934410d75d991cafa181587d1893898189219bc41: (1.0046736, 1)\n",
      "f4b94e9e91f9c0e7823ae6343e53c3137c81a5819d2e4928d4f42992ffea4e78: (1.0046736, 1)\n",
      "e017629bca0f6b9117f461dcd859bb7cfae74046ba1f7175ac442484365ccda4: (1.0046736, 1)\n",
      "48212cf3226030ddb302012ad3935ee558add16797bd94d0b349593217b7fb3c: (1.0046736, 1)\n",
      "008a6b7388efbfe21ef8f84cede01f5a3c8ffd22d1435ed83e3018ebcb37dde6: (1.0046736, 1)\n",
      "6b588b43b43585227bdb6ffa024edefc01c02ba8599d84daeddeb1fc462c3d3f: (1.0046736, 1)\n",
      "20ea42c447558a6e201b6209d7413a6d090a93e5841e2a7526a49408bd08f4f9: (1.0046736, 1)\n",
      "a275b8792d3d0e7500bb681edcce125053a1e12dab88b281525292c16584df8d: (1.0046736, 1)\n",
      "ad3090d52d11671ffb43bfaa85e3620eff669e8c92c9114ba7755876254cbba8: (1.0046736, 1)\n",
      "97bd13363ba03810fe13df872fdb71d9c7a2b2fd44d1198dca4baca9b1e06524: (1.0046736, 1)\n",
      "0cbf57ddb86f5d9d1153000b99eb7ed43d316bdb779a65ae7eea102ee8177371: (1.0046736, 1)\n",
      "122cdee476eab9432c44a0c4dffdbca2384dfd3f0268b90c796b41c1733859ea: (1.0046736, 1)\n",
      "970fc38ef649f05eaba392a1694cebd7db2e9642dd1f85d6ae8f351f95c954ec: (1.0046736, 1)\n",
      "6ab59927c2434317b20a1c35d7f052b70fbdf306b34da5d1923ed86370df585d: (1.0046736, 1)\n",
      "bb82e6d184b21b5034ea6c29f2171d89da39358aca2c5e468ee1701bc3d5fe76: (1.0046736, 1)\n",
      "cbaa47a5e031e1a68fe646ba1e57ea43694fed7fbdd8d48e95467971780d5c8f: (1.0046736, 1)\n",
      "0413dcb8a9dfd9866d6973cb39f8a301292319bf628f9ecd0653db9ae588a446: (1.0046736, 1)\n",
      "051f29620010f8da3242393d0eecfc06264314e31b2ffef1789948a4eb1ddc80: (1.0046736, 1)\n",
      "b6de12e96c3bb654aedb9defc592b610bbf5e0a92a7b18cccd028b6e39a05440: (1.0046736, 1)\n",
      "905d50ee33f3eb8993667d2d7f71e7bd0a058ecde0b3581827c23cc3e8971dc4: (1.0046736, 1)\n",
      "cf55c695de9325631558d335292e37d88990f56d23cda6258eb34d94a8b479b1: (1.0046736, 1)\n",
      "16aedd2b926b3b0368b4f56f3b01adf44d9e27286fd95c5be72226e044744f2a: (1.0046736, 1)\n",
      "e7bc54885962f43290dfb59d3123a2bd7c991afd2d26837c0ed156e27f4ab5e0: (1.0046736, 1)\n",
      "e684f12fc97194cdb10677d53558db993f2b9d9423cef43f47b0df21beeca56e: (1.0046736, 1)\n",
      "404025aac2cb815f4e4fa0d4ac4cc8945f3c29cff33dbefc057719cdef8222c1: (1.0046736, 1)\n",
      "1b84dbffa0079df3e25c8ef641bda7f08732969d5466d01913c36d25505f19a4: (1.0046736, 1)\n",
      "56d63e764daa219ec91e22b860fa9454401505fbb6db00cf5c64e7e28f8708d0: (1.0046736, 1)\n",
      "c356b892f634958c9c23de5c5db74dbed6ef80d1950deee05f027b802a99e06c: (1.0046736, 1)\n",
      "72519738479ee18f3c583a2103c01fab06c84f4444dcad4e82c78c1fe8e31ebd: (1.0046736, 1)\n",
      "61d07faa44d7f0455d48e743c5913935535b0e12acf5933caf0af5fe3c28da4c: (1.0046736, 1)\n",
      "15d0072a2aa8b230852bb1d9b752578f07beaa6cec0bb236a626aaa6b7172a8c: (1.0046736, 1)\n",
      "31364e56addc9091efc665a42d8c9579fab7369e4d47e4971006184ed8675dc0: (1.0046736, 1)\n",
      "627dfeaa05f42c9fbaea5aa8807e99f1d29ec93c4fbe2ea89b681c6ec9a8944e: (1.0046736, 1)\n",
      "fef395784b1cbc27962e186a7ab7601026d1b88e38d0183ed68d318f5b22cae1: (1.0046736, 1)\n",
      "74b7b1d999dbf74aa8c50dc9fb82a1e8a262ffdc039c115944b54d70bc225f7c: (1.0046736, 1)\n",
      "649554fed7b5a0ead05944dac9af449cb7940306900e236c4f6107231f2fa3ae: (1.0046736, 1)\n",
      "ad60de6cde91343f582d6771c2d44659a5728aa0e1805a0db714f1ee1ae1367c: (1.0046736, 1)\n",
      "7e68b46e9a010e25e25a9f7258c5949a850a2e03972fedc0f558a6472a10a527: (1.0046736, 1)\n",
      "30a4bc0a1adc65aad772b5da043b9877560dacc6ac5c7e98acaa1779d86663c4: (1.0046736, 1)\n",
      "2502ed586a8c55fe80a811c3653d1cf88d7708ea0105b83f05482075b77610a6: (1.0046736, 1)\n",
      "c4df980b4fa01b347305ebe0def3f7e8c729b2aeb33dd48b3ea8383ba3cc4f66: (1.0046736, 1)\n",
      "b17ae77d19e08e7a28a594828437c724184849efba793238a64b9cc6b78aea72: (1.0046736, 1)\n",
      "1577155d24b558e8e207de6758f35e72c1a7615b8383bc56718c72f06ebfccec: (1.0046736, 1)\n",
      "2300ba080dda56569ffe7647028f9f893d112d61b835c5aee524f34e58d49837: (1.0046736, 1)\n",
      "fde3ac7ed2c1270585a3bbd47e20c3a812eb0ec9f07a88364afbe2704ad4d37c: (1.0046736, 1)\n",
      "4c80f1a33ed7ff8a633d87398a4e36f00ea5954a35d13241a1f10b6a397a4f1b: (1.0046736, 1)\n",
      "a783a19862f2d005f571b5f6bbb17016c26c102da07dfd8c9f32ec1f163bf7ea: (1.0046736, 1)\n",
      "a1adff484a89ffbc125bd82da07f0fbc7811823340b5263fcd2cca47de0f9878: (1.0046736, 1)\n",
      "72f9466baa4b685679f8d1e8353c9d0d9c3c5036b1aec425873d8425c13989af: (1.0046736, 1)\n",
      "1cfc5a469f8f46ffaa366756546ce4f1db8449669478c14183d7c0282c83bb67: (1.0046736, 1)\n",
      "ae10b882d8100a1d6be5e4831698c109d8cfbfa24b9bb036b12186cfe2632400: (1.0046736, 1)\n",
      "2fb99a066b55c1506697decb460265232e4b3424de7a0d113cf8d293a3af0c3e: (1.0046736, 1)\n",
      "f5bfdc6ddc4b7b4719c1db7ce0cd95ed855db0ac8ba2b7fd8799e0eca53002e5: (1.0046736, 1)\n",
      "f339b2dc5c7718132773f5bf07850e6a22af0ab755a27ae3b44337442a66bc93: (1.0046736, 1)\n",
      "a981ae5fcf8f0081a21b7311b8ee2e4f4be28ac289ab647ed89532d3b6fdf6ca: (1.0046736, 1)\n",
      "24267fb406d4ecf1d412e9f11177008c2fa1eb6ddaff603fd317304fb95b9048: (1.0046736, 1)\n",
      "f30e2bed1a14665fdf7fc7887a1b2c4ea701f7bdd68f3ac16e47a8797048d689: (1.0046736, 1)\n",
      "931e418ab168b96655a4b22d6cd6c7639c4367b9c7838b76d775807261a96a2f: (1.0046736, 1)\n",
      "cd9102bfefcbf186f4aacc5ecbc2b1d91195435ac5d4d9b44562d2d3171921e4: (1.0046736, 1)\n",
      "7f0ac4394297dc4a885d3b9277ba526cbbfbf7fb7cae465b256ed8e55b864f03: (1.0046736, 1)\n",
      "c7a732021b324b0a1749dd6459957ae7be6a6a198ca249c0963a6e25d126172f: (1.0046736, 1)\n",
      "081bafbcad87e561e2cd59cf48feeee2503d98e32b78045fc91f0b78c5fb1db0: (1.0046736, 1)\n",
      "060ffafac2e9ea2181cb792300750af1da2d1f7a4b18762b9abac7eec1843a90: (1.0046736, 1)\n",
      "cabe38b489fdf0e7f084f10fdb512350ff97c498255f90edf5e21ef60163ceff: (1.0046736, 1)\n",
      "6b8dbc296d97262c1ab72cd557b6cf11f23cdfe5d93a444e37f10842be178b3b: (1.0046736, 1)\n",
      "c2408d311e31a6cdc07ef882640c48bdc61793dc9125261f3df8907ccd16dce1: (1.0046736, 1)\n",
      "db580dfc62d2da65f279b7c6bf5b9a80e4766758c01ff35ab1d41be8e735c3ba: (1.0046736, 1)\n",
      "18181f3764ab070656cb62f862bbd963ab6022f5ed880a0996d4f0c5158fb1b5: (1.0046736, 1)\n",
      "bc9f6a6659b72cb69e552c8b1db003d16d11de450554940a79598d13c433d2c9: (1.0046736, 1)\n",
      "974cfc3c1162bbb54a713db93d30b2e4de4c034fc8ee21c6b7f094b6d33e09f5: (1.0046736, 1)\n",
      "4531d55e6a18e2dbf6808d1acf4d8846fb95623703d84aa9cc0269b1a9c34624: (1.0046736, 1)\n",
      "205aecb0e82ff1efda063e3b16e22612a0c518619f59426fe12caa154d44bea8: (1.0046736, 1)\n",
      "58505bdc42cba38c3d6d7784925b4c43dba23015ced433c51625af38b7ae594c: (1.0046736, 1)\n",
      "4995ff548b14c0c09a7c857a4bc794c4639a91efcdbe1328808f339604455351: (1.0046736, 1)\n",
      "1cc52abcb76590afbbfdb29adc8b43da24e378c41ead683449a608407a6a2188: (1.0046736, 1)\n",
      "5d705e49aa4794e5f64ffa09f9277f02c862f3fde3473b54e2ab63423cad8803: (1.0046736, 1)\n",
      "251998c84e57a8fccb54d37e15b65e512e6f314bff3485d94beffafd5184376d: (1.0046736, 1)\n",
      "ab9199fab2d103fc2e6ceb42b6da2b38b112151d47555eac2441779116bfdb7b: (1.0046736, 1)\n",
      "a17ebaf56628be1550815d41d6d30a60cad8fde4385c9ea45ff107102fe57c5e: (1.0046736, 1)\n",
      "ffdd8c951d744966f5aa8a3df64e5ee83086f630d5e1835f4f610e3c4e460f8a: (1.0046736, 1)\n",
      "aaa9d47d8e54c02241cd8b56b276f7977fffb8874a05d300e9b6ee3ed764e90d: (1.0046736, 1)\n",
      "21a78ac292e158cfa37b0643ed55fabcef04ffe69d021362b2c7ec38bd1bd89c: (1.0046736, 1)\n",
      "6c2e8a60004693e9d254e961b5116b790f79cfbffb1c7c7558eab74597aff8b9: (1.0046736, 1)\n",
      "a6c7f2f90694946b037120946717890e4a0f4f6b09c18e511ed0fe2d61c949c4: (1.0046736, 1)\n",
      "e27dbc90605bd53543145a7e160b2b86cbc325155487d72fd47fc3b400721475: (1.0046736, 1)\n",
      "a00c8617f21a7e5f97439699e969147425f892fad7303139761dbe7bb27875a7: (1.0046736, 1)\n",
      "a0a10455e50250cf783beea63a14f79f06d9cecd06902e1b84d04c6b44a0c853: (1.0046736, 1)\n",
      "d1b1e0d18e60e3b6351fb4b33e4887ec2f4b9f1eeb9620c67dc391e83f60b136: (1.0046736, 1)\n",
      "cc2f19e6d9c79798f2a2e0c760fd5c41f96d6f5acdb9a29d597289181645b8b6: (1.0046736, 1)\n",
      "b05e605bcb3453997c7dbe92d0f3ae7ac1964a80262c08fe35d5d617dc0b3e56: (1.0046736, 1)\n",
      "c1c25b07ecaf37c312434f3fceb1245c36ff610385bd625f777d06aa8abe2e67: (1.0046736, 1)\n",
      "56f533ba3f82bb8891eb5aa0033359d6bf01e7a9019875ffa572bb2865e48403: (1.0046736, 1)\n",
      "3037836d24232751e11259be8f9d76fbd0efe6a17af469c45fb3f862a4ce88ab: (1.0046736, 1)\n",
      "9f8afe77a208976026726e375c3c447678fb3b9cf6f575b7df62159b1dcc8f85: (1.0046736, 1)\n",
      "fe103c4f4e1ca57e1c2b1784df812b14aaf29fe96ab3478f6025b9982a767247: (1.0046736, 1)\n",
      "859aaea1ac45122e95797eb874d99cdd077d961a65ae00d245f233851fb7d8ca: (1.0046736, 1)\n",
      "8801eac41d19f2f9d118b13ffc4148513a42f5cee7144f589c38176a41217919: (1.0046736, 1)\n",
      "f0e510dbece4f032df5246929b5b889ac3aab4f68928e2aee23f846b5ca8b4eb: (1.0046736, 1)\n",
      "d113c1af4f4c9cedf06c256c0e8ed2de86407497f79cdfd89f898c77785a5450: (1.0046736, 1)\n",
      "5b628553383592633737780b68bc39b608bdce3537a5de68ce84e91acc499f27: (1.0046736, 1)\n",
      "5314631688a8b905f85ab3bf0b158fd9a325678b759c4201647cc980cbb5c6c2: (1.0046736, 1)\n",
      "366f8084581745ea281849d09dd9f5974c55432692353956d3e633294e7b10ff: (1.0046736, 1)\n",
      "bc538a1121975493e2804e25ec8274070ff4f859f2033feac1496b6db5490087: (1.0046736, 1)\n",
      "4ffe41b2546a675640f7b4eb9a496e7951bd20774f8a755f53454a6d12af590e: (1.0046736, 1)\n",
      "2eec77edab5d53c146d7f14e7a4f57e31abaa3faa8359478e34413d5fe278b30: (1.0046736, 1)\n",
      "30a7daf3f40639db0ed2761dd66ef7ef7b9a94f8542f093e13f7f571b4260bb3: (1.0046736, 1)\n",
      "9deb7ee5592de406c15d7e79b1e9f322391f7e2f2d43844ff6d2c7d05c87156b: (1.0046736, 1)\n",
      "b16e23427774835555c9444567b6dddd3ca54ef3c4665a835fb5b6a708fbeb1e: (1.0046736, 1)\n",
      "85dafb87772dfe43e4608b081d1a5693bfcc7cdb38d14084914ee357d377de86: (1.0046736, 1)\n",
      "4b3396c99e4f69c7bc97f95e64333c9894dab2e7203bc342da81fcf4709c794b: (1.0046736, 1)\n",
      "c05eaabe5c66f0b0016ea4bf33410f4149c72ea2ce87369b766c7a3dd173ed3e: (1.0046736, 1)\n",
      "2414b5f86a1742ebbadc781561ddfac6ca0177a9ef08f1a5fe6eb4dc1dc6fe81: (1.0046736, 1)\n",
      "699609f78d8c3b76c6457a9306c2a3299994807c2cf14457043da5b844e66e23: (1.0046736, 1)\n",
      "1dc6c9995854595f61d11d46ca7571e524ca09182b2ded36cf2573dac24cf2e9: (1.0046736, 1)\n",
      "512d5de8fa6fd87ca56c635749da32c5e789e829c1c1ec7970b199ca5b1b7b2f: (1.0046736, 1)\n",
      "23775f76dc8d4d5cc0710d9bfb731a3d37d43393b1a021c29bed125a9d78780d: (1.0046736, 1)\n",
      "d436d1d73828461c7834df4d9a3837d2b9752535743328cd156906d3e4ac94c4: (1.0046736, 1)\n",
      "82904d549fcf10570edfec00f5ef7e1f4bb3b25327a4d09b824ebb75d4790876: (1.0046736, 1)\n",
      "77dd508380c1ca2ca7f991e733451d458151609e798fb197eb995500cd149316: (1.0046736, 1)\n",
      "1b3a14a44ef16a2aa09ba73e73d5f21e88498ee15eacdd2be133522f7e1e13af: (1.0046736, 1)\n",
      "cb4fb655eeba1eec3e45c403164357ac0691475efb417ac3cd05ea0546281ae1: (1.0046736, 1)\n",
      "3aed7de1fe900687e4cc8c9b6efa9360119c3121d4c7d5ba6ba11cf44a3bdb5d: (1.0046736, 1)\n",
      "9c9db9f287359fd3660066c29044d2a89c6632d3483952e344aecaa53f985b16: (1.0046736, 1)\n",
      "8fb0f698782361ea8c97ba5cd99b78251ba9cadb49a10e2622d05cd24f0f4fc7: (1.0046736, 1)\n",
      "d97f3de17691a531fd4c5391a724e3a72f58aa06dd6bc454f60c87c75b00b93b: (1.0046736, 1)\n",
      "cf0bfa0acf719500d4ce619c448968ae139b27e2bbef941ace3e082aec5ae339: (1.0046736, 1)\n",
      "abd03434c10eeb3895403ea7d5d5baba59ec78cbabcda1cd884d57315c0560fe: (1.0046736, 1)\n",
      "a1452d03d274a5deb2fac5e629cb1cda94eb25f1dcd1319bef8f7923d98c30af: (1.0046736, 1)\n",
      "03f073420884af462633225a3f1a0d1231c7cd1083d88af5e29959549d3b8331: (1.0046736, 1)\n",
      "071cc48f6d6bfbf287d7a7b12cbb9a07b76d778e3189c8609caf03c19a3815e8: (1.0046736, 1)\n",
      "c97db8411320bca93acb161eebb0ed08c0908d14893947c692807a2ef929696a: (1.0046736, 1)\n",
      "1dab4de15d7e25b7ad3abb3f9a1e431ec93401241039d56d0bf2fb7a4b3013ea: (1.0046736, 1)\n",
      "3528f3a2734813a4f43f62dacc7ed67523b08b7095cb659978cba0f1187e80d4: (1.0046736, 1)\n",
      "fa04d8e83c404f2f47fced531ddf361d17c74a08ff1aa61474229311bb7b0bbd: (1.0046736, 1)\n",
      "9d62d351e61cf39938799f26c75c423a1c5bf7dba72c238a26595aac7470c25d: (1.0046736, 1)\n",
      "6b1c65306260cd37a193de98db2123c27aa33be3282618cb0baf15b6d61f11aa: (1.0046736, 1)\n",
      "afd8ee263b8d30a2dd2489aa5f226f27aeecbfd11b04958fb85010b40a1457b5: (1.0046736, 1)\n",
      "5ba066a7a88bfd1be059fb6a30f84a30789e7f314a408fe2288ec4f35eb34fe7: (1.0046736, 1)\n",
      "331ed0a08f9004efbb6308f0bb55fbd82e4a388654578b3ac51f1a2fb00ec08c: (1.0046736, 1)\n",
      "39faa8a11942fbb5b90d2ff8538278519c4a83ec24b64d6df78cd22217e8df7e: (1.0046736, 1)\n",
      "ade707822407d068611df6babcc20c354f6d4eabf1b6073384280d48d9ba9178: (1.0046736, 1)\n",
      "0b25b05b3e9806f0bc4479e5106a2453b37e1abe8b2c455b72822f7b03794ba1: (1.0046736, 1)\n",
      "74dc02646a95151027b48953c984997476907d5f84446281bae0438d6d9a534d: (1.0046736, 1)\n",
      "55743a5b2c755422aa27502d8c602e6aba554a02a58655afbe6c78370a0e259f: (1.0046736, 1)\n",
      "b7d8859db7e608c902e1746ef3fc8def2e2bc19325b7bbd413e961c938ed83ce: (1.0046736, 1)\n",
      "57b48583775e44f91904f0b68c64b5a9047cd67814bff720d75e849a5d29a265: (1.0046736, 1)\n",
      "9058674121a4bbcf658f18e1d9974d9bc64fa56696c379b8e6223fe9feef83c2: (1.0046736, 1)\n",
      "e55b83517c780f98293a6b8ba786d404e41660354cf0f5e08904acff584e2572: (1.0046736, 1)\n",
      "30ceae356fbd0dac1c23dacdf8939fa5114d546e7b75e377ba915e414cf03823: (1.0046736, 1)\n",
      "6baebfd25bbf28c13b04be186e05616f321e4cfc80b48d0636663df3b73ce592: (1.0046736, 1)\n",
      "681eccbdd8c7070421ae3f7ea728723355fc4502a10dc872d04cc824c57968d3: (1.0046736, 1)\n",
      "409f1d5f154f39e5ef5de50615e5ebea3d44ff90d939c9b62b9ae680fcf9307f: (1.0046736, 1)\n",
      "822eadb3356a1bf91be194e8d0f019dbdfec93c563c3c9a1f99f4639376146f8: (1.0046736, 1)\n",
      "96452eb98d63ce2fc326588c2dbb40f82ca32be9fcb576763ec319c04dbd8b23: (1.0046736, 1)\n",
      "9ad1a81428e35854b1e826dba12708211abca89713df452c8b2bc9c95c8b90da: (1.0046736, 1)\n"
     ]
    }
   ],
   "source": [
    "print(\"t_counts:\")\n",
    "for title, score in sorted(test_counts.items(), key=lambda x: x[1], reverse=True):\n",
    "  print(f\"{title}: {score}\")"
   ]
  },
  {
   "cell_type": "markdown",
   "metadata": {
    "id": "SAnZvVwg7aX7"
   },
   "source": [
    "# Including Features"
   ]
  },
  {
   "cell_type": "code",
   "execution_count": null,
   "metadata": {
    "id": "kqmZxQXKAJcn"
   },
   "outputs": [],
   "source": [
    "embedding_dimension = 32\n",
    "unq_cids = counts.customer_id.unique()\n",
    "unq_articles = articles.article_id.unique().astype(str)\n",
    "unq_prod_names = pd.read_csv('../data/articles.csv').prod_name.unique().astype(str)"
   ]
  },
  {
   "cell_type": "code",
   "execution_count": null,
   "metadata": {
    "id": "-dQNzrI3Bbm-"
   },
   "outputs": [],
   "source": [
    "customer_model = tf.keras.Sequential([\n",
    "  tf.keras.layers.StringLookup(\n",
    "      vocabulary=unq_cids, mask_token=None),\n",
    "  # We add an additional embedding to account for unknown tokens.\\\n",
    "  tf.keras.layers.Embedding(len(unq_cids) + 1, embedding_dimension)\n",
    "])"
   ]
  },
  {
   "cell_type": "code",
   "execution_count": null,
   "metadata": {
    "id": "3JskwmV6BcW1"
   },
   "outputs": [],
   "source": [
    "product_model = tf.keras.Sequential([\n",
    "  tf.keras.layers.StringLookup(\n",
    "      vocabulary=unq_articles, mask_token=None),\n",
    "  tf.keras.layers.Embedding(len(unq_cids) + 1, embedding_dimension)\n",
    "])"
   ]
  },
  {
   "cell_type": "code",
   "execution_count": null,
   "metadata": {
    "id": "7EscbBe3NtWc"
   },
   "outputs": [],
   "source": [
    "product_name_model = tf.keras.Sequential([\n",
    "  tf.keras.layers.StringLookup(\n",
    "      vocabulary=unq_prod_names, mask_token=None),\n",
    "  tf.keras.layers.Embedding(len(unq_articles) + 1, embedding_dimension)\n",
    "])"
   ]
  },
  {
   "cell_type": "code",
   "execution_count": null,
   "metadata": {
    "id": "ypV_OtWrCK9y"
   },
   "outputs": [],
   "source": [
    "class CustomerModel(tf.keras.Model):\n",
    "\n",
    "  def __init__(self, customer_model):\n",
    "    super().__init__()\n",
    "\n",
    "    self.customer_embedding = customer_model\n",
    "\n",
    "  def call(self, inputs):\n",
    "    # Take the input dictionary, pass it through each input layer,\n",
    "    # and concatenate the result.\n",
    "    return self.customer_embedding(inputs['customer_id'])\n"
   ]
  },
  {
   "cell_type": "code",
   "execution_count": null,
   "metadata": {
    "id": "j8XJ1a8qMYys"
   },
   "outputs": [],
   "source": [
    "class ProductModel(tf.keras.Model):\n",
    "\n",
    "  def __init__(self, product_model):\n",
    "    super().__init__()\n",
    "\n",
    "    self.product_embedding = product_model\n",
    "    self.prod_name_embedding = product_name_model\n",
    "\n",
    "  def call(self, inputs):\n",
    "    # Take the input dictionary, pass it through each input layer,\n",
    "    # and concatenate the result.\n",
    "    return tf.concat([self.product_embedding(inputs['article_id']), self.prod_name_embedding(inputs['prod_name'])], axis = 1)"
   ]
  },
  {
   "cell_type": "code",
   "execution_count": null,
   "metadata": {
    "colab": {
     "base_uri": "https://localhost:8080/"
    },
    "id": "lc7QQDSsIxY4",
    "outputId": "a21079c6-6d33-4e84-d145-b9b7e23fe005"
   },
   "outputs": [],
   "source": [
    "for t in train.map(lambda x: {'cid':x['customer_id'], 'FN':x['FN']}).batch(1).take(1):\n",
    "  print(t)"
   ]
  },
  {
   "cell_type": "code",
   "execution_count": null,
   "metadata": {
    "colab": {
     "base_uri": "https://localhost:8080/"
    },
    "id": "SfdSpdl784TL",
    "outputId": "e42773ce-05ba-45ce-a419-52cf010ed847"
   },
   "outputs": [],
   "source": [
    "cus_model = CustomerModel(customer_model)\n",
    "result = cus_model.predict(train.map(lambda x:{'customer_id': x['customer_id']}).batch(1).take(1).as_numpy_iterator())\n",
    "print(f\"Computed representations: {result}\")"
   ]
  },
  {
   "cell_type": "code",
   "execution_count": null,
   "metadata": {
    "colab": {
     "base_uri": "https://localhost:8080/"
    },
    "id": "atTmuzzlMdtt",
    "outputId": "3d54b47f-ce74-4d79-b19f-7e2ccaa9a3da"
   },
   "outputs": [],
   "source": [
    "prod_model = ProductModel(product_model)\n",
    "result = prod_model.predict(train.map(lambda x:{'article_id': x['article_id'], 'prod_name':x['prod_name']}).batch(1).take(1).as_numpy_iterator())\n",
    "print(f\"Computed representations: {result}\")"
   ]
  },
  {
   "cell_type": "code",
   "execution_count": null,
   "metadata": {
    "id": "ZvkZ8qt4B-ak"
   },
   "outputs": [],
   "source": [
    "#Generating embeddings from article ids to be used by evaluation layer to calculate the similarity score\n",
    "articles = pd.read_csv('../data/articles.csv')[['article_id', 'prod_name']]#.sample(sample_size, random_state=1)\n",
    "article_ids = articles.astype(str).map(lambda x: x.encode('utf-8'))\n",
    "article_embeddings = prod_model(article_ids)\n",
    "candidates_dataset = tf.data.Dataset.from_tensor_slices(article_embeddings)"
   ]
  },
  {
   "cell_type": "code",
   "execution_count": null,
   "metadata": {
    "id": "fXECLqZ3SQWD"
   },
   "outputs": [],
   "source": [
    "class QueryModel(tf.keras.Model):\n",
    "  \"\"\"Model for encoding user queries (customers).\"\"\"\n",
    "\n",
    "  def __init__(self, layer_sizes, customer_model):\n",
    "    \"\"\"Model for encoding user queries (customers).\n",
    "\n",
    "    Args:\n",
    "      layer_sizes:\n",
    "        A list of integers where the i-th entry represents the number of units\n",
    "        the i-th layer contains.\n",
    "    \"\"\"\n",
    "    super().__init__()\n",
    "\n",
    "    # We first use the user model for generating embeddings.\n",
    "    self.embedding_model = CustomerModel(customer_model)\n",
    "\n",
    "    # Then construct the layers.\n",
    "    self.dense_layers = tf.keras.Sequential()\n",
    "\n",
    "    # Use the ReLU activation for all but the last layer.\n",
    "    for layer_size in layer_sizes[:-1]:\n",
    "      self.dense_layers.add(tf.keras.layers.Dense(layer_size, activation=\"relu\"))\n",
    "\n",
    "    # No activation for the last layer.\n",
    "    for layer_size in layer_sizes[-1:]:\n",
    "      self.dense_layers.add(tf.keras.layers.Dense(layer_size))\n",
    "\n",
    "  def call(self, inputs):\n",
    "    feature_embedding = self.embedding_model(inputs)\n",
    "    return self.dense_layers(feature_embedding)"
   ]
  },
  {
   "cell_type": "code",
   "execution_count": null,
   "metadata": {
    "id": "ponX9mcASe3J"
   },
   "outputs": [],
   "source": [
    "class CandidateModel(tf.keras.Model):\n",
    "  \"\"\"Model for encoding products.\"\"\"\n",
    "\n",
    "  def __init__(self, layer_sizes, product_model):\n",
    "    \"\"\"Model for encoding products.\n",
    "\n",
    "    Args:\n",
    "      layer_sizes:\n",
    "        A list of integers where the i-th entry represents the number of units\n",
    "        the i-th layer contains.\n",
    "    \"\"\"\n",
    "    super().__init__()\n",
    "\n",
    "    self.embedding_model = ProductModel(product_model)\n",
    "\n",
    "    # Then construct the layers.\n",
    "    self.dense_layers = tf.keras.Sequential()\n",
    "\n",
    "    # Use the ReLU activation for all but the last layer.\n",
    "    for layer_size in layer_sizes[:-1]:\n",
    "      self.dense_layers.add(tf.keras.layers.Dense(layer_size, activation=\"relu\"))\n",
    "\n",
    "    # No activation for the last layer.\n",
    "    for layer_size in layer_sizes[-1:]:\n",
    "      self.dense_layers.add(tf.keras.layers.Dense(layer_size))\n",
    "\n",
    "  def call(self, inputs):\n",
    "    feature_embedding = self.embedding_model(inputs)\n",
    "    return self.dense_layers(feature_embedding)"
   ]
  },
  {
   "cell_type": "code",
   "execution_count": null,
   "metadata": {
    "id": "b3eYB9PkSuFl"
   },
   "outputs": [],
   "source": [
    "class ProductlensModel(tfrs.models.Model):\n",
    "\n",
    "  def __init__(self, layer_sizes, product_model, customer_model):\n",
    "    super().__init__()\n",
    "    self.query_model = QueryModel(layer_sizes, customer_model)\n",
    "    self.candidate_model = CandidateModel(layer_sizes, product_model)\n",
    "    self.task = tfrs.tasks.Retrieval(\n",
    "        metrics=tfrs.metrics.FactorizedTopK(\n",
    "            candidates=train.batch(128).map(self.candidate_model),\n",
    "        ),\n",
    "    )\n",
    "\n",
    "  def compute_loss(self, features, training=False):\n",
    "    # We only pass the user id and timestamp features into the query model. This\n",
    "    # is to ensure that the training inputs would have the same keys as the\n",
    "    # query inputs. Otherwise the discrepancy in input structure would cause an\n",
    "    # error when loading the query model after saving it.\n",
    "    query_embeddings = self.query_model({\n",
    "        \"customer_id\": features[\"customer_id\"]\n",
    "    })\n",
    "    product_embeddings = self.candidate_model({'article_id':features[\"article_id\"], \"prod_name\":features[\"prod_name\"]})\n",
    "\n",
    "    return self.task(\n",
    "        query_embeddings, product_embeddings, compute_metrics=not training)"
   ]
  },
  {
   "cell_type": "code",
   "execution_count": null,
   "metadata": {
    "id": "zevzX5p8ULu2"
   },
   "outputs": [],
   "source": [
    "num_epochs = 100\n",
    "learning_rate = 0.5\n",
    "batch_size=1024"
   ]
  },
  {
   "cell_type": "code",
   "execution_count": null,
   "metadata": {
    "id": "W4bh9WTSaxEw"
   },
   "outputs": [],
   "source": [
    "cached_train = train.batch(batch_size).cache()\n",
    "cached_test = test.batch(batch_size).cache()"
   ]
  },
  {
   "cell_type": "code",
   "execution_count": null,
   "metadata": {
    "id": "zGYHR0aFUTWs"
   },
   "outputs": [],
   "source": [
    "model = ProductlensModel([128, 64, 32], product_model=product_model, customer_model=customer_model)\n",
    "model.compile(optimizer=tf.keras.optimizers.Adagrad(learning_rate))"
   ]
  },
  {
   "cell_type": "code",
   "execution_count": null,
   "metadata": {
    "colab": {
     "base_uri": "https://localhost:8080/",
     "height": 613
    },
    "id": "yHC-mMeiUC-F",
    "outputId": "be63355e-9edc-4926-dbae-42bf7e41bca2"
   },
   "outputs": [],
   "source": [
    "three_layer_history = model.fit(\n",
    "    cached_train,\n",
    "    epochs=num_epochs,\n",
    "    verbose=1)\n"
   ]
  },
  {
   "cell_type": "code",
   "execution_count": null,
   "metadata": {},
   "outputs": [],
   "source": [
    "model.evaluate(cached_test, return_dict=True)"
   ]
  },
  {
   "cell_type": "code",
   "execution_count": null,
   "metadata": {
    "id": "F72ymxq5mpbw"
   },
   "outputs": [],
   "source": []
  },
  {
   "cell_type": "code",
   "execution_count": null,
   "metadata": {},
   "outputs": [],
   "source": []
  }
 ],
 "metadata": {
  "colab": {
   "collapsed_sections": [
    "ehfeCFTL5vNp",
    "4v-02z1NsVUF"
   ],
   "provenance": []
  },
  "kernelspec": {
   "display_name": "tf",
   "language": "python",
   "name": "tf"
  },
  "language_info": {
   "codemirror_mode": {
    "name": "ipython",
    "version": 3
   },
   "file_extension": ".py",
   "mimetype": "text/x-python",
   "name": "python",
   "nbconvert_exporter": "python",
   "pygments_lexer": "ipython3",
   "version": "3.10.4"
  }
 },
 "nbformat": 4,
 "nbformat_minor": 1
}
